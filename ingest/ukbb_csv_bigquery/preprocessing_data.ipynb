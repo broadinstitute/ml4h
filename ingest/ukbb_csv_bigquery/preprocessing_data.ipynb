{
 "cells": [
  {
   "attachments": {},
   "cell_type": "markdown",
   "id": "b23f2033",
   "metadata": {},
   "source": [
    "### formatting censor.tsv file\n"
   ]
  },
  {
   "cell_type": "code",
   "execution_count": null,
   "id": "a919d076",
   "metadata": {},
   "outputs": [],
   "source": [
    "import pandas as pd\n",
    "import numpy as np"
   ]
  },
  {
   "cell_type": "code",
   "execution_count": null,
   "id": "6345bdca",
   "metadata": {},
   "outputs": [],
   "source": [
    "\n",
    "LOCAL_DATA_FOLDER = \"\"#this is the same path that is being referred in do_all.sh file#/mnt/disks/ana-disk/ukbiobank_project/ukbb7089_2023_07_25/\n",
    "df_censor = pd.read_csv(LOCAL_DATA_FOLDER+\"censor.tsv.gz\",sep = \"\\t\", compression = \"gzip\")\n",
    "df_censor.columns"
   ]
  },
  {
   "cell_type": "code",
   "execution_count": null,
   "id": "b6798467",
   "metadata": {},
   "outputs": [],
   "source": [
    "# typecast the datetime columns\n",
    "df_censor['birthdate'] = pd.to_datetime(df_censor['birthdate'],errors='coerce').dt.strftime('%Y-%m-%d')\n",
    "df_censor['enroll_date'] = pd.to_datetime(df_censor['enroll_date'],errors='coerce').dt.strftime('%Y-%m-%d')\n",
    "df_censor['death_date'] = pd.to_datetime(df_censor['death_date'],errors='coerce').dt.strftime('%Y-%m-%d')\n",
    "df_censor['death_censor_date'] = pd.to_datetime(df_censor['death_censor_date'],errors='coerce').dt.strftime('%Y-%m-%d')\n",
    "df_censor['phenotype_censor_date'] = pd.to_datetime(df_censor['phenotype_censor_date'],errors='coerce').dt.strftime('%Y-%m-%d')\n",
    "df_censor['lost_to_followup_date'] = pd.to_datetime(df_censor['lost_to_followup_date'],errors='coerce').dt.strftime('%Y-%m-%d')\n",
    "df_censor['computed_date'] = pd.to_datetime(df_censor['computed_date'],errors='coerce').dt.strftime('%Y-%m-%d')\n",
    "# "
   ]
  },
  {
   "cell_type": "code",
   "execution_count": null,
   "id": "5a535454",
   "metadata": {},
   "outputs": [],
   "source": [
    "df_censor.replace(np.nan, \"NA\", inplace = True)"
   ]
  },
  {
   "cell_type": "code",
   "execution_count": null,
   "id": "4679ab9e",
   "metadata": {},
   "outputs": [],
   "source": [
    "df_censor.to_csv(LOCAL_DATA_FOLDER+\"censor.tsv\",sep = \"\\t\", index = False)"
   ]
  },
  {
   "cell_type": "code",
   "execution_count": null,
   "id": "c0ecc875",
   "metadata": {},
   "outputs": [],
   "source": [
    "#run below command to gzip the file before uploading censor data\n",
    "#PS: Please comment all other file upload steps except censor upload and re-run do_all.sh\n",
    "#gzip \"/mnt/disks/ana-disk/ukbiobank_project/ukbb7089_2023_07_25/censor.tsv\""
   ]
  }
 ],
 "metadata": {
  "kernelspec": {
   "display_name": "Python 3 (ipykernel)",
   "language": "python",
   "name": "python3"
  },
  "language_info": {
   "codemirror_mode": {
    "name": "ipython",
    "version": 3
   },
   "file_extension": ".py",
   "mimetype": "text/x-python",
   "name": "python",
   "nbconvert_exporter": "python",
   "pygments_lexer": "ipython3",
   "version": "3.8.10"
  }
 },
 "nbformat": 4,
 "nbformat_minor": 5
}
