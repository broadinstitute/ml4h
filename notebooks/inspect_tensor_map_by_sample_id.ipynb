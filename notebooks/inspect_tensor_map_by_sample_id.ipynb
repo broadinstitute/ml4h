{
 "cells": [
  {
   "cell_type": "code",
   "execution_count": null,
   "metadata": {},
   "outputs": [],
   "source": [
    "import os\n",
    "import h5py\n",
    "import numpy as np\n",
    "from typing import List, Dict, Callable\n",
    "from collections import defaultdict\n",
    "\n",
    "from ml4h.arguments import _get_tmap\n",
    "from ml4h.TensorMap import TensorMap"
   ]
  },
  {
   "cell_type": "code",
   "execution_count": null,
   "metadata": {},
   "outputs": [],
   "source": [
    "def tmaps_by_sample_id(tensor_folder: str, sample_id: str, tmaps: List[TensorMap]):\n",
    "    path = os.path.join(tensor_folder, sample_id + '.hd5')\n",
    "    result_dict = defaultdict(lambda: None)\n",
    "    if os.path.isfile(path):\n",
    "            with h5py.File(path, 'r') as hd5:\n",
    "                for tmap in tmaps:\n",
    "                    try:\n",
    "                        result_dict[tmap] = tmap.tensor_from_file(tmap, hd5)\n",
    "                    except (IndexError, KeyError, ValueError, OSError, RuntimeError):\n",
    "                        continue\n",
    "    return result_dict\n",
    "\n",
    "\n",
    "def tmaps_with_properties(tensor_folder: str, tmap_properties: Dict[TensorMap, Callable[[np.ndarray], bool]], search_size=100):\n",
    "    all_ids = [file.strip('.hd5') for file in sorted(os.listdir(tensor_folder))[:search_size]]\n",
    "    results = map(lambda sample_id: tmaps_by_sample_id(tensor_folder, sample_id, tmap_properties.keys()), all_ids)\n",
    "    return {\n",
    "        sample_id: result\n",
    "        for sample_id, result in zip(all_ids, results)\n",
    "        if all(\n",
    "            result[tmap] is not None and tmap_properties[tmap](result[tmap])\n",
    "            for tmap in tmap_properties.keys()\n",
    "        )\n",
    "    }\n",
    "\n",
    "\n",
    "def tmaps_with_properties_from_keys(tensor_folder: str, tmap_properties: Dict[str, Callable[[np.ndarray], bool]], search_size=100):\n",
    "    return tmaps_with_properties(\n",
    "        tensor_folder,\n",
    "        {_get_tmap(key): prop for key, prop in tmap_properties.items()},\n",
    "        search_size,\n",
    "    )"
   ]
  },
  {
   "cell_type": "markdown",
   "metadata": {},
   "source": [
    "# Examples"
   ]
  },
  {
   "cell_type": "code",
   "execution_count": null,
   "metadata": {},
   "outputs": [],
   "source": [
    "tmaps_by_sample_id('/mnt/disks/ecg-bike-tensors/2019-10-10/', '1003126', [_get_tmap('ecg-bike-resting-hr')])"
   ]
  },
  {
   "cell_type": "code",
   "execution_count": null,
   "metadata": {},
   "outputs": [],
   "source": [
    "tmaps_with_properties(\n",
    "    '/mnt/disks/ecg-bike-tensors/2019-10-10/', \n",
    "    {\n",
    "        _get_tmap('ecg-bike-resting-hr'): lambda x: x < -2\n",
    "    }\n",
    ")"
   ]
  },
  {
   "cell_type": "code",
   "execution_count": null,
   "metadata": {},
   "outputs": [],
   "source": [
    "tmaps_with_properties_from_keys(\n",
    "    '/mnt/disks/ecg-bike-tensors/2019-10-10/', \n",
    "    {\n",
    "        'ecg-bike-resting-hr': lambda x: x < -2\n",
    "    }\n",
    ")"
   ]
  },
  {
   "cell_type": "code",
   "execution_count": null,
   "metadata": {},
   "outputs": [],
   "source": []
  }
 ],
 "metadata": {
  "kernelspec": {
   "display_name": "Python 3",
   "language": "python",
   "name": "python3"
  },
  "language_info": {
   "codemirror_mode": {
    "name": "ipython",
    "version": 3
   },
   "file_extension": ".py",
   "mimetype": "text/x-python",
   "name": "python",
   "nbconvert_exporter": "python",
   "pygments_lexer": "ipython3",
   "version": "3.6.8"
  }
 },
 "nbformat": 4,
 "nbformat_minor": 2
}
