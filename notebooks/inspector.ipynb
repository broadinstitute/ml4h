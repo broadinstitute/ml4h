{
 "cells": [
  {
   "cell_type": "code",
   "execution_count": null,
   "metadata": {},
   "outputs": [],
   "source": [
    "import os\n",
    "import sys\n",
    "import argparse\n",
    "import numpy as np\n",
    "from collections import Counter\n",
    "\n",
    "# Keras imports\n",
    "from tensorflow.keras.models import Model\n",
    "from keras.optimizers import Adam\n",
    "from keras.utils.vis_utils import model_to_dot\n",
    "from keras.layers import Input, Dense, Dropout, AlphaDropout, BatchNormalization, Activation\n",
    "\n",
    "# IPython imports\n",
    "from IPython.display import Image\n",
    "\n",
    "# ML4CVD Imports\n",
    "from ml4cvd.arguments import parse_args\n",
    "from ml4cvd.recipes import train_multimodal_multitask"
   ]
  },
  {
   "cell_type": "code",
   "execution_count": null,
   "metadata": {},
   "outputs": [],
   "source": [
    "sys.argv = ['train', \n",
    "            '--tensors', '/mnt/disks/data/generated/tensors/test/2019-03-21/', \n",
    "            '--input_tensors', 'cine_segmented_sax_inlinevf', \n",
    "            '--output_tensors','cine_segmented_sax_inlinevf_segmented',\n",
    "            '--batch_size', '4', \n",
    "            '--epochs', '1', \n",
    "            '--training_steps', '10',\n",
    "            '--inspect_model',\n",
    "            '--id', 'slice_segmenter']\n",
    "args = parse_args()\n",
    "train_multimodal_multitask(args)"
   ]
  },
  {
   "cell_type": "code",
   "execution_count": null,
   "metadata": {},
   "outputs": [],
   "source": [
    "Image('./recipes_output/slice_segmenter/architecture_graph_slice_segmenter.png')"
   ]
  },
  {
   "cell_type": "code",
   "execution_count": null,
   "metadata": {},
   "outputs": [],
   "source": [
    "sys.argv = ['train', \n",
    "            '--tensors', '/mnt/disks/data/generated/tensors/test/2019-03-21/', \n",
    "            '--input_tensors', 'ecg_rest', \n",
    "            '--output_tensors', 'ecg_rhythm', \n",
    "            '--batch_size', '4', \n",
    "            '--epochs', '1', \n",
    "            '--training_steps', '1',\n",
    "            '--dense_blocks', '32', '24', '16',\n",
    "            '--inspect_model',\n",
    "            '--id', 'ecg_diagnoser']\n",
    "args = parse_args()\n",
    "train_multimodal_multitask(args)"
   ]
  },
  {
   "cell_type": "code",
   "execution_count": null,
   "metadata": {},
   "outputs": [],
   "source": [
    "Image('./recipes_output/ecg_diagnoser/architecture_graph_ecg_diagnoser.png')"
   ]
  },
  {
   "cell_type": "code",
   "execution_count": null,
   "metadata": {},
   "outputs": [],
   "source": [
    "sys.argv = ['train', \n",
    "            '--tensors', '/mnt/disks/data/generated/tensors/test/2019-03-21/', \n",
    "            '--input_tensors', 'categorical-phenotypes-965', 'cine_segmented_sax_inlinevf',\n",
    "            '--output_tensors', 'cine_segmented_sax_inlinevf_segmented','end_systole_volumep',\n",
    "            'end_diastole_volumep', 'ejection_fractionp', 'coronary_artery_disease', 'stroke',\n",
    "            '--inspect_model',\n",
    "            '--batch_size', '4', \n",
    "            '--epochs', '1', \n",
    "            '--training_steps', '10',\n",
    "            '--id', 'big_multi']\n",
    "args = parse_args()\n",
    "model = train_multimodal_multitask(args)"
   ]
  },
  {
   "cell_type": "code",
   "execution_count": null,
   "metadata": {},
   "outputs": [],
   "source": [
    "Image('./recipes_output/big_multi/architecture_graph_big_multi.png')"
   ]
  },
  {
   "cell_type": "code",
   "execution_count": null,
   "metadata": {},
   "outputs": [],
   "source": []
  }
 ],
 "metadata": {
  "kernelspec": {
   "display_name": "Python 3",
   "language": "python",
   "name": "python3"
  },
  "language_info": {
   "codemirror_mode": {
    "name": "ipython",
    "version": 3
   },
   "file_extension": ".py",
   "mimetype": "text/x-python",
   "name": "python",
   "nbconvert_exporter": "python",
   "pygments_lexer": "ipython3",
   "version": "3.6.9"
  }
 },
 "nbformat": 4,
 "nbformat_minor": 2
}
