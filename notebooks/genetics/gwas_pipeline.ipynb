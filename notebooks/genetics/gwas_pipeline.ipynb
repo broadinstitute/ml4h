{
 "cells": [
  {
   "cell_type": "code",
   "execution_count": null,
   "metadata": {},
   "outputs": [],
   "source": [
    "import pandas as pd\n",
    "import numpy as np\n",
    "import matplotlib.pyplot as plt\n",
    "import seaborn as sns\n",
    "import scipy.stats as ss\n",
    "from google.cloud import storage\n",
    "from io import BytesIO"
   ]
  },
  {
   "cell_type": "markdown",
   "metadata": {},
   "source": [
    "# Phenotype preparation and QC"
   ]
  },
  {
   "cell_type": "code",
   "execution_count": null,
   "metadata": {},
   "outputs": [],
   "source": [
    "# Read phenotype from google bucket\n",
    "# Note: phenotype files can be generated from infer, infer_hidden and explore recipes with the flag \n",
    "# '--tsv_style genetics'\n",
    "client = storage.Client()\n",
    "bucket = client.get_bucket('ml4h')\n",
    "blob = storage.blob.Blob(\"pdiachil/genetics/phenotype_hrr.tsv\", bucket)\n",
    "content = blob.download_as_string()\n",
    "phenotype = pd.read_csv(BytesIO(content), sep='\\t').dropna()"
   ]
  },
  {
   "cell_type": "code",
   "execution_count": null,
   "metadata": {},
   "outputs": [],
   "source": [
    "phenotype"
   ]
  },
  {
   "cell_type": "code",
   "execution_count": null,
   "metadata": {},
   "outputs": [],
   "source": [
    "f, ax = plt.subplots(1, 3)\n",
    "f.set_size_inches(16, 5)\n",
    "sns.distplot(phenotype['hrr'], ax=ax[0])\n",
    "ax[0].set_xlim([-5, 80])\n",
    "ax[0].set_xlabel('hrr')\n",
    "ax[1].plot(phenotype['hrr'], phenotype['rbint'], 'o')\n",
    "ax[0].set_xlim([-5, 80])\n",
    "ax[1].set_xlabel('hrr')\n",
    "ax[1].set_ylabel('RBINT')\n",
    "sns.distplot(phenotype['rbint'], ax=ax[2])\n",
    "ax[2].set_xlabel('RBINT')\n",
    "plt.tight_layout()"
   ]
  },
  {
   "cell_type": "markdown",
   "metadata": {},
   "source": [
    "# Covariate tables"
   ]
  },
  {
   "cell_type": "code",
   "execution_count": null,
   "metadata": {},
   "outputs": [],
   "source": [
    "# Read covariate table from google bucket\n",
    "# Note: covariate files can be generated via explore recipe by passing the flag \n",
    "# '--tsv_style genetics'\n",
    "blob = storage.blob.Blob(\"pdiachil/genetics/covariate_table_fixed.csv\", bucket)\n",
    "content = blob.download_as_string()\n",
    "covariates = pd.read_csv(BytesIO(content), sep='\\t').dropna()"
   ]
  },
  {
   "cell_type": "code",
   "execution_count": null,
   "metadata": {},
   "outputs": [],
   "source": [
    "covariates"
   ]
  },
  {
   "cell_type": "code",
   "execution_count": null,
   "metadata": {},
   "outputs": [],
   "source": [
    "# Prepare exclude file with individuals without phenotype\n",
    "cov_set = set(covariates['FID'])\n",
    "pheno_set = set(phenotype['FID'])\n",
    "remove_list = list(cov_set - pheno_set)\n",
    "remove_df = pd.DataFrame()\n",
    "remove_df['FID'] = remove_list\n",
    "remove_df['IID'] = remove_list\n",
    "remove_df.to_csv(f'remove_nopheno.tsv', header=None, index=False, sep='\\t')"
   ]
  },
  {
   "cell_type": "markdown",
   "metadata": {},
   "source": [
    "# Run GWAS\n",
    "Files are ready to be used by genetic association software such as Plink and BOLT"
   ]
  },
  {
   "cell_type": "markdown",
   "metadata": {},
   "source": [
    "# Manhattan plot"
   ]
  },
  {
   "cell_type": "code",
   "execution_count": null,
   "metadata": {},
   "outputs": [],
   "source": [
    "gwases = ['bolt_results_hrr']\n",
    "labels = ['HRR']\n",
    "gwas_dic = {}\n",
    "for gwas, label in zip(gwases, labels):\n",
    "    blob = storage.blob.Blob(f\"pdiachil/genetics/{gwas}/bolt_output\", bucket)\n",
    "    content = blob.download_as_string()\n",
    "    df = pd.read_csv(BytesIO(content), sep='\\t',\n",
    "                     index_col=False\n",
    "                    )\n",
    "    df = df.loc[df['SNP'].drop_duplicates().index]\n",
    "    gwas_dic[gwas] = {}\n",
    "    gwas_dic[gwas]['df'] = df\n",
    "    gwas_dic[gwas]['label'] = label"
   ]
  },
  {
   "cell_type": "code",
   "execution_count": null,
   "metadata": {},
   "outputs": [],
   "source": [
    "def plot_gwas(df_bolt, fig, ax):\n",
    "    df = df_bolt.sort_values(by=['CHR', 'BP'])\n",
    "    df['LOGP'] = -np.log10(df['P_BOLT_LMM'])\n",
    "    df.CHR = df.CHR.astype('category')\n",
    "    df['ind'] = range(len(df))\n",
    "    df_grouped = df.groupby(('CHR'))\n",
    "       \n",
    "    colors = ['black','silver']\n",
    "    x_labels = []\n",
    "    x_labels_pos = []\n",
    "\n",
    "    for num, (name, group) in enumerate(df_grouped):\n",
    "        group.plot(kind='scatter', x='ind', y='LOGP',color=colors[num % len(colors)], ax=ax, s=5)\n",
    "        x_labels.append(name)\n",
    "        x_labels_pos.append((group['ind'].iloc[-1] - (group['ind'].iloc[-1] - group['ind'].iloc[0])/2))   \n",
    "        \n",
    "    ax.plot([0.0, group['ind'].iloc[-1]], [7.3, 7.3])\n",
    "    \n",
    "    ax.set_xticks(x_labels_pos)\n",
    "    ax.set_xticklabels(x_labels)\n",
    "    ax.set_xlim([0, len(df)])\n",
    "    ax.set_ylim([1, 20])\n",
    "    ax.set_xlabel('Chromosome')\n",
    "    ax.set_ylabel('$-\\log_{10}(p-value)$')"
   ]
  },
  {
   "cell_type": "code",
   "execution_count": null,
   "metadata": {},
   "outputs": [],
   "source": [
    "gwas_dic['bolt_results_hrr']['df']"
   ]
  },
  {
   "cell_type": "code",
   "execution_count": null,
   "metadata": {},
   "outputs": [],
   "source": [
    "for gwas in gwas_dic:\n",
    "    f, ax = plt.subplots()\n",
    "    f.set_size_inches(22, 6)\n",
    "    plot_gwas(gwas_dic[gwas]['df'], f, ax)\n",
    "    f.savefig(f'manhattan_{gwas}.png', dpi=300)"
   ]
  }
 ],
 "metadata": {
  "kernelspec": {
   "display_name": "Python 3",
   "language": "python",
   "name": "python3"
  },
  "language_info": {
   "codemirror_mode": {
    "name": "ipython",
    "version": 3
   },
   "file_extension": ".py",
   "mimetype": "text/x-python",
   "name": "python",
   "nbconvert_exporter": "python",
   "pygments_lexer": "ipython3",
   "version": "3.6.9"
  }
 },
 "nbformat": 4,
 "nbformat_minor": 4
}
