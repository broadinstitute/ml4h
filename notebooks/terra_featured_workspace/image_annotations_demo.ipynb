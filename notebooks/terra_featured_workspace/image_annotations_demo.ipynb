{
 "cells": [
  {
   "cell_type": "markdown",
   "metadata": {},
   "source": [
    "# Image annotations for a batch of patients\n",
    "\n",
    "In this notebook, for a batch of patients we view and annotate MRI images by drawing polygons on the images.\n",
    "\n",
    "<div class=\"alert alert-block alert-info\">\n",
    "\n",
    "<p>Machine learning engineers work <b>iteratively</b> with domain experts, such as <b>cardiologists</b>, to understand how well the model is performing, and to enumerate the situations in which it needs <b>improvement</b>.  In some cases cardiologists provide direct input to the model in the form of annotated images:\n",
    "<blockquote><b>Deep learning enables genetic analysis of the human thoracic aorta</b><br>\n",
    "James P. Pirruccello, et. al. bioRxiv 2020.05.12.091934; doi: <ahref=\"https://doi.org/10.1101/2020.05.12.091934\">https://doi.org/10.1101/2020.05.12.091934</a></blockquote></p>\n",
    "\n",
    "</div>"
   ]
  },
  {
   "cell_type": "markdown",
   "metadata": {},
   "source": [
    "# Setup\n",
    "\n",
    "<div class=\"alert alert-block alert-warning\">\n",
    "    This notebook assumes you have already run notebook <kbd>ml4h_setup.ipynb</kbd>.\n",
    "</div>"
   ]
  },
  {
   "cell_type": "code",
   "execution_count": null,
   "metadata": {},
   "outputs": [],
   "source": [
    "from ml4h.visualization_tools.batch_image_annotations import BatchImageAnnotator\n",
    "import pandas as pd\n",
    "import tensorflow as tf"
   ]
  },
  {
   "cell_type": "code",
   "execution_count": null,
   "metadata": {
    "code_folding": []
   },
   "outputs": [],
   "source": [
    "%%javascript\n",
    "// Display cell outputs to full height (no vertical scroll bar)\n",
    "IPython.OutputArea.auto_scroll_threshold = 9999;"
   ]
  },
  {
   "cell_type": "code",
   "execution_count": null,
   "metadata": {},
   "outputs": [],
   "source": [
    "pd.set_option('display.max_colwidth', -1)"
   ]
  },
  {
   "cell_type": "markdown",
   "metadata": {},
   "source": [
    "# Annotate MRIs\n",
    "\n",
    "<div class=\"alert alert-block alert-info\">\n",
    "\n",
    "<p>Using the widget below, <b>pretend to be a cardiologist</b> annotating images for a batch of patients.</p>\n",
    "\n",
    "<p>Specifically, examine each <b>MRI</b> and draw a polygon around the left ventricle.</p>\n",
    "\n",
    "</div>"
   ]
  },
  {
   "cell_type": "markdown",
   "metadata": {},
   "source": [
    "## Define the batch of patients to annotate"
   ]
  },
  {
   "cell_type": "code",
   "execution_count": null,
   "metadata": {},
   "outputs": [],
   "source": [
    "# In general, we would read in a CSV file but for this demo we define the batch right here.\n",
    "patients_df = pd.DataFrame(\n",
    "  columns=BatchImageAnnotator.EXPECTED_COLUMN_NAMES,\n",
    "    data=[\n",
    "        ['fake_1', 'cine_lax_3ch_192', 25,  'gs://fc-500bd872-4a53-45c9-87d3-39656bd83f85/data/fake_hd5s/'],\n",
    "        ['fake_1', 'cine_lax_4ch_192', 25,  'gs://fc-500bd872-4a53-45c9-87d3-39656bd83f85/data/fake_hd5s/'],\n",
    "        ['fake_2', 'cine_lax_3ch_192', 25,  'gs://fc-500bd872-4a53-45c9-87d3-39656bd83f85/data/fake_hd5s/'],\n",
    "        ['fake_2', 'cine_lax_4ch_192', 25,  'gs://fc-500bd872-4a53-45c9-87d3-39656bd83f85/data/fake_hd5s/'],\n",
    "    ])\n",
    "\n",
    "patients_df.shape"
   ]
  },
  {
   "cell_type": "code",
   "execution_count": null,
   "metadata": {},
   "outputs": [],
   "source": [
    "patients_df.head(n = 10)"
   ]
  },
  {
   "cell_type": "markdown",
   "metadata": {},
   "source": [
    "## Annotate the batch! "
   ]
  },
  {
   "cell_type": "code",
   "execution_count": null,
   "metadata": {},
   "outputs": [],
   "source": [
    "annotator = BatchImageAnnotator(samples=patients_df,\n",
    "                                zoom=2.0,\n",
    "                                annotation_categories=['region_of_interest'])\n",
    "annotator.annotate_images()"
   ]
  },
  {
   "cell_type": "markdown",
   "metadata": {},
   "source": [
    "## View the stored annotations\n",
    "\n",
    "You can see in the output below that the bounding box annotations (the polygons) are stored as a set of ordered tuples containing the coordinates of each point in the polygon. The coordinates are relative to the dimensions of the image, stored as a TensorMap.\n",
    "\n",
    "For the purposes of this demo we are storing and displaying only those annotations created within this session. The ml4h toolkit includes functionaltiy to also persist these annotations to durable storage."
   ]
  },
  {
   "cell_type": "code",
   "execution_count": null,
   "metadata": {},
   "outputs": [],
   "source": [
    "annotator.view_recent_submissions(count=10)"
   ]
  },
  {
   "cell_type": "markdown",
   "metadata": {},
   "source": [
    "# Provenance"
   ]
  },
  {
   "cell_type": "code",
   "execution_count": null,
   "metadata": {},
   "outputs": [],
   "source": [
    "import datetime\n",
    "print(datetime.datetime.now())"
   ]
  },
  {
   "cell_type": "code",
   "execution_count": null,
   "metadata": {},
   "outputs": [],
   "source": [
    "%%bash\n",
    "pip3 freeze"
   ]
  },
  {
   "cell_type": "markdown",
   "metadata": {},
   "source": [
    "Questions about these particular notebooks? Join the discussion https://github.com/broadinstitute/ml4h/discussions."
   ]
  }
 ],
 "metadata": {
  "environment": {
   "kernel": "python3",
   "name": "r-cpu.4-1.m95",
   "type": "gcloud",
   "uri": "gcr.io/deeplearning-platform-release/r-cpu.4-1:m95"
  },
  "kernelspec": {
   "display_name": "Python 3",
   "language": "python",
   "name": "python3"
  },
  "language_info": {
   "codemirror_mode": {
    "name": "ipython",
    "version": 3
   },
   "file_extension": ".py",
   "mimetype": "text/x-python",
   "name": "python",
   "nbconvert_exporter": "python",
   "pygments_lexer": "ipython3",
   "version": "3.7.12"
  },
  "toc": {
   "base_numbering": 1,
   "nav_menu": {},
   "number_sections": true,
   "sideBar": true,
   "skip_h1_title": false,
   "title_cell": "Table of Contents",
   "title_sidebar": "Contents",
   "toc_cell": false,
   "toc_position": {
    "height": "calc(100% - 180px)",
    "left": "10px",
    "top": "150px",
    "width": "199px"
   },
   "toc_section_display": true,
   "toc_window_display": true
  }
 },
 "nbformat": 4,
 "nbformat_minor": 4
}
