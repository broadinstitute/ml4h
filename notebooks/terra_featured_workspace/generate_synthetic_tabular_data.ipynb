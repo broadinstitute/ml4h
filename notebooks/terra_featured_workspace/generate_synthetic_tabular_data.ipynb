{
 "cells": [
  {
   "cell_type": "markdown",
   "metadata": {},
   "source": [
    "# Generate synthetic data for the ml4h featured workspace\n",
    "\n",
    "This notebook is a companion to the ml4h Terra featured workspace, but it is not included in that workspace because it contains the *answers* to the *quiz*. It is checked into GitHub so that people can see how this static data was generated, and also offer improvements!"
   ]
  },
  {
   "cell_type": "markdown",
   "metadata": {},
   "source": [
    "# Setup "
   ]
  },
  {
   "cell_type": "code",
   "execution_count": null,
   "metadata": {},
   "outputs": [],
   "source": [
    "lapply(c('hrbrthemes', 'sn'),\n",
    "       function(pkg) { if(! pkg %in% installed.packages()) { install.packages(pkg)} } )"
   ]
  },
  {
   "cell_type": "code",
   "execution_count": null,
   "metadata": {},
   "outputs": [],
   "source": [
    "library(bigrquery)\n",
    "library(hrbrthemes)\n",
    "library(sn)\n",
    "library(tidyverse)"
   ]
  },
  {
   "cell_type": "code",
   "execution_count": null,
   "metadata": {},
   "outputs": [],
   "source": [
    "BILLING_PROJECT_ID <- Sys.getenv('GOOGLE_PROJECT')\n",
    "\n",
    "theme_set(theme_ipsum(base_size = 16) + theme(axis.title.x = element_text(size = 16),\n",
    "                                              axis.text.x = element_text(size = 14),\n",
    "                                              axis.title.y = element_text(size = 16),\n",
    "                                              axis.text.y = element_text(size = 14)))\n",
    "options(repr.plot.width = 14, repr.plot.height = 10)"
   ]
  },
  {
   "cell_type": "markdown",
   "metadata": {},
   "source": [
    "# Generate synthetic data "
   ]
  },
  {
   "cell_type": "code",
   "execution_count": null,
   "metadata": {},
   "outputs": [],
   "source": [
    "set.seed(2)"
   ]
  },
  {
   "cell_type": "code",
   "execution_count": null,
   "metadata": {
    "tags": [
     "parameters"
    ]
   },
   "outputs": [],
   "source": [
    "# This cell is tagged `parameters` for parameterized notebook execution with papermill.\n",
    "NUM_SAMPLES_TO_GENERATE <- 20000\n",
    "MIN_AGE <- 40\n",
    "MAX_AGE <- 80\n",
    "ECG_EXERCISE_PROGRAM_SD_MIN_RISK <- 1.0\n",
    "ECG_EXERCISE_PROGRAM_SD_SMALL_RISK <- 3.0\n",
    "ECG_EXERCISE_PROGRAM_SD_HIGHER_RISK <- 10.0"
   ]
  },
  {
   "cell_type": "code",
   "execution_count": null,
   "metadata": {},
   "outputs": [],
   "source": [
    "generated_data <- tibble(\n",
    "    sample_num = seq(1, NUM_SAMPLES_TO_GENERATE),\n",
    "    # Randomly assign fake samples to a percentile. We'll anchor on this for other measures.\n",
    "    percentile = as.integer(runif(n = NUM_SAMPLES_TO_GENERATE, min = 0, max = 100)),\n",
    "    # Assign roughly half of the samples to each sex_at_birth.\n",
    "    # https://biobank.ndph.ox.ac.uk/showcase/field.cgi?id=31\n",
    "    sex_at_birth = sample(x = c('male', 'female'),\n",
    "                          size = NUM_SAMPLES_TO_GENERATE,\n",
    "                          replace = TRUE,\n",
    "                          prob = c(0.47, 0.53)),\n",
    "    # Uniformly distribute samples across the age range.\n",
    "    age = as.integer(runif(n = NUM_SAMPLES_TO_GENERATE,\n",
    "                           min = MIN_AGE,\n",
    "                           max = MAX_AGE + 1)),\n",
    "    # Normally distribute BMI http://biobank.ndph.ox.ac.uk/showcase/field.cgi?id=21001\n",
    "    bmi_norm_female = rnorm(n = NUM_SAMPLES_TO_GENERATE, mean = 27.03082, sd = 5.207417),\n",
    "    bmi_norm_male = rnorm(n = NUM_SAMPLES_TO_GENERATE, mean = 27.82755, sd = 4.263545),\n",
    "    # Use proportions from http://biobank.ndph.ox.ac.uk/showcase/field.cgi?id=6024\n",
    "    ecg_exercise_program = sample(\n",
    "        x = c('Minimal risk, cycle at 50% of max work load',\n",
    "              'Small risk, cycle at 35% of max work load',\n",
    "              'Medium risk, cycle at constant level',\n",
    "              'High risk, take measurement at rest only'\n",
    "              # Remove this category to simplify the story.\n",
    "              #'ECG not to be performed'\n",
    "             ),\n",
    "        size = NUM_SAMPLES_TO_GENERATE,\n",
    "        replace = TRUE,\n",
    "        prob = c(73554, 11439, 2874, 10173) / 98040 ),\n",
    "    # Exponentially and uniformly distribute Proton density visceral adipose fraction\n",
    "    # http://biobank.ndph.ox.ac.uk/showcase/field.cgi?id=22402\n",
    "    pdff_exp = rexp(n=NUM_SAMPLES_TO_GENERATE, rate = 1),\n",
    "    pdff_unif = runif(n = NUM_SAMPLES_TO_GENERATE, min = 0, max = 20),\n",
    "    # Normally distribute QT interval http://biobank.ndph.ox.ac.uk/showcase/field.cgi?id=22331\n",
    "    qt_interval_actual = rnorm(n = NUM_SAMPLES_TO_GENERATE,\n",
    "                               mean = 418.036,\n",
    "                               sd = 32.4123),\n",
    "    # Skew-normal distribute P axis http://biobank.ndph.ox.ac.uk/showcase/field.cgi?id=22335\n",
    "    p_axis_actual = rsn(n = NUM_SAMPLES_TO_GENERATE, dp = cp2dp(c(49.6788, 23.3791, -0.8), 'SN')),\n",
    ") %>%\n",
    "mutate (\n",
    "    sample_id = str_glue('fake_{sample_num}'),\n",
    "    # Mix the two distributions based on gender.\n",
    "    bmi_norm = ifelse(sex_at_birth == 'female', bmi_norm_female, bmi_norm_male),\n",
    "    # Mix the two distributions to add a long tail to pdff.\n",
    "    pdff_actual = ifelse(percentile <= 18, pdff_unif, pdff_exp)\n",
    ") %>%\n",
    "rowwise() %>% # We need 'rowwise' to get the single age per person for the probability in the bmi_skew.\n",
    "mutate(\n",
    "    # Skew BMI a bit lower for younger samples and higher for older samples.\n",
    "    bmi_skew = runif(n = 1, min = 1.0, max = 3.0) * sample(x = c(1, -1), size = 1, prob = c(age/MAX_AGE, 1 - age/MAX_AGE)),\n",
    "    bmi = bmi_norm + bmi_skew,\n",
    "    # Shift extreme values back towards the mean.\n",
    "    bmi = ifelse(bmi < 14, bmi + 5, bmi),\n",
    "    # Add some jitter to the prediction, more jitter for lower effort bike ECGs.\n",
    "    qt_interval_prediction = qt_interval_actual + case_when(\n",
    "        ecg_exercise_program == 'Minimal risk, cycle at 50% of max work load' ~ rnorm(n = 1, mean = 0, sd = ECG_EXERCISE_PROGRAM_SD_MIN_RISK),\n",
    "        ecg_exercise_program == 'Small risk, cycle at 35% of max work load' ~ rnorm(n = 1, mean = 0, sd = ECG_EXERCISE_PROGRAM_SD_SMALL_RISK),\n",
    "        TRUE ~ rnorm(n = 1, mean = 0, sd = ECG_EXERCISE_PROGRAM_SD_HIGHER_RISK)),\n",
    "    # Add some jitter to the prediction, more jitter for larger BMI.\n",
    "    p_axis_prediction = p_axis_actual + case_when(\n",
    "        percentile <= 10 ~ rnorm(n = 1, mean = 0, sd = 3.0),\n",
    "        percentile >= 90 ~ rnorm(n = 1, mean = 0, sd = 1.0),\n",
    "        bmi > 30 ~ rnorm(n = 1, mean = 0, sd = 3.0),\n",
    "        TRUE ~ rnorm(n = 1, mean = 0, sd = 1.0)),\n",
    "    # Add some jitter to the prediction, more jitter for both people over weight,\n",
    "    # very little jitter for those underweight.\n",
    "    pdff_prediction = pdff_actual + case_when(\n",
    "        bmi > 30 ~ rsn(n = 1, dp = cp2dp(c(2.5, 2.0, 0.8), 'SN')),\n",
    "        bmi < 18.5 ~ rsn(n = 1, dp = cp2dp(c(0, 0.4, -0.8), 'SN')),\n",
    "        TRUE ~ rsn(n = 1, dp = cp2dp(c(0.0, 1.0, 0.0), 'SN')),\n",
    "    ),\n",
    "    # Add all the deltas for comparison to BMI and ecg_exercise.\n",
    "    qt_interval_delta = qt_interval_actual - qt_interval_prediction,\n",
    "    p_axis_delta = p_axis_actual - p_axis_prediction,\n",
    "    pdff_delta = pdff_actual - pdff_prediction,\n",
    ")"
   ]
  },
  {
   "cell_type": "code",
   "execution_count": null,
   "metadata": {},
   "outputs": [],
   "source": [
    "head(generated_data)"
   ]
  },
  {
   "cell_type": "markdown",
   "metadata": {},
   "source": [
    "# Compare to reported distributions "
   ]
  },
  {
   "cell_type": "markdown",
   "metadata": {},
   "source": [
    "## sex at birth"
   ]
  },
  {
   "cell_type": "markdown",
   "metadata": {},
   "source": [
    "http://biobank.ndph.ox.ac.uk/showcase/field.cgi?id=31\n",
    "![image](http://biobank.ndph.ox.ac.uk/showcase/showcase/graphs/c31.png)"
   ]
  },
  {
   "cell_type": "code",
   "execution_count": null,
   "metadata": {},
   "outputs": [],
   "source": [
    "qplot(as_factor(generated_data$sex_at_birth)) + coord_flip()"
   ]
  },
  {
   "cell_type": "code",
   "execution_count": null,
   "metadata": {},
   "outputs": [],
   "source": [
    "ggplot(generated_data, aes(x = sex_at_birth, y = bmi)) + geom_boxplot()"
   ]
  },
  {
   "cell_type": "markdown",
   "metadata": {},
   "source": [
    "## BMI"
   ]
  },
  {
   "cell_type": "markdown",
   "metadata": {},
   "source": [
    "http://biobank.ndph.ox.ac.uk/showcase/field.cgi?id=21001\n",
    "![image](http://biobank.ndph.ox.ac.uk/showcase/showcase/graphs/c21001.png)"
   ]
  },
  {
   "cell_type": "code",
   "execution_count": null,
   "metadata": {},
   "outputs": [],
   "source": [
    "qplot(generated_data$bmi)"
   ]
  },
  {
   "cell_type": "markdown",
   "metadata": {},
   "source": [
    "## age"
   ]
  },
  {
   "cell_type": "markdown",
   "metadata": {},
   "source": [
    "http://biobank.ndph.ox.ac.uk/showcase/field.cgi?id=21003\n",
    "![image](http://biobank.ndph.ox.ac.uk/showcase/showcase/graphs/c21003.png)"
   ]
  },
  {
   "cell_type": "code",
   "execution_count": null,
   "metadata": {},
   "outputs": [],
   "source": [
    "qplot(generated_data$age, bins = max(generated_data$age) - min(generated_data$age) + 1)"
   ]
  },
  {
   "cell_type": "markdown",
   "metadata": {},
   "source": [
    "### Age vs. BMI"
   ]
  },
  {
   "cell_type": "markdown",
   "metadata": {},
   "source": [
    "BMI increases for a particular person over time, but from the real data, we see that across the population there does not appear to be a correlation between BMI and age.\n",
    "\n",
    "For now, I left in the skew to a higher BMI with age, but it can be taken out."
   ]
  },
  {
   "cell_type": "code",
   "execution_count": null,
   "metadata": {},
   "outputs": [],
   "source": [
    "qplot(data = generated_data, x = age, y = bmi_norm) + geom_smooth()"
   ]
  },
  {
   "cell_type": "code",
   "execution_count": null,
   "metadata": {},
   "outputs": [],
   "source": [
    "qplot(data = generated_data, x = age, y = bmi_skew) + geom_smooth()"
   ]
  },
  {
   "cell_type": "code",
   "execution_count": null,
   "metadata": {},
   "outputs": [],
   "source": [
    "qplot(data = generated_data, x = age, y = bmi) + geom_smooth()"
   ]
  },
  {
   "cell_type": "code",
   "execution_count": null,
   "metadata": {},
   "outputs": [],
   "source": [
    "cor(generated_data$age,\n",
    "    generated_data$bmi,\n",
    "    use = 'pairwise.complete.obs',\n",
    "    method = 'spearman')"
   ]
  },
  {
   "cell_type": "markdown",
   "metadata": {},
   "source": [
    "## Bike speed"
   ]
  },
  {
   "cell_type": "markdown",
   "metadata": {},
   "source": [
    "http://biobank.ndph.ox.ac.uk/showcase/field.cgi?id=5985\n",
    "![image](http://biobank.ndph.ox.ac.uk/showcase/showcase/graphs/c5985.png)"
   ]
  },
  {
   "cell_type": "markdown",
   "metadata": {},
   "source": [
    "## Program category for ECG during exercise"
   ]
  },
  {
   "cell_type": "markdown",
   "metadata": {},
   "source": [
    "http://biobank.ndph.ox.ac.uk/showcase/field.cgi?id=6024\n",
    "![image](http://biobank.ndph.ox.ac.uk/showcase/showcase/graphs/c6024.png)"
   ]
  },
  {
   "cell_type": "code",
   "execution_count": null,
   "metadata": {},
   "outputs": [],
   "source": [
    "qplot(fct_relevel(generated_data$ecg_exercise_program,\n",
    "                  'ECG not to be performed',\n",
    "                  'High risk, take measurement at rest only',\n",
    "                  'Medium risk, cycle at constant level',\n",
    "                  'Small risk, cycle at 35% of max work load',\n",
    "                  'Minimal risk, cycle at 50% of max work load')\n",
    "     ) + coord_flip()"
   ]
  },
  {
   "cell_type": "markdown",
   "metadata": {},
   "source": [
    "## P axis "
   ]
  },
  {
   "cell_type": "markdown",
   "metadata": {},
   "source": [
    "http://biobank.ndph.ox.ac.uk/showcase/field.cgi?id=22335\n",
    "![image](http://biobank.ndph.ox.ac.uk/showcase/showcase/graphs/c22335.png)"
   ]
  },
  {
   "cell_type": "code",
   "execution_count": null,
   "metadata": {},
   "outputs": [],
   "source": [
    "qplot(generated_data$p_axis_actual)"
   ]
  },
  {
   "cell_type": "code",
   "execution_count": null,
   "metadata": {},
   "outputs": [],
   "source": [
    "qplot(generated_data$p_axis_prediction)"
   ]
  },
  {
   "cell_type": "code",
   "execution_count": null,
   "metadata": {},
   "outputs": [],
   "source": [
    "cor(generated_data$p_axis_actual, generated_data$p_axis_prediction)"
   ]
  },
  {
   "cell_type": "code",
   "execution_count": null,
   "metadata": {},
   "outputs": [],
   "source": [
    "qplot(generated_data$p_axis_actual, generated_data$p_axis_prediction) +\n",
    "    geom_abline(intercept = 0, color = 'red')"
   ]
  },
  {
   "cell_type": "markdown",
   "metadata": {},
   "source": [
    "### P axis delta vs. BMI"
   ]
  },
  {
   "cell_type": "code",
   "execution_count": null,
   "metadata": {},
   "outputs": [],
   "source": [
    "qplot(generated_data$bmi, generated_data$p_axis_delta) + geom_hline(yintercept = 0, color = 'red')"
   ]
  },
  {
   "cell_type": "markdown",
   "metadata": {},
   "source": [
    "## QT interval "
   ]
  },
  {
   "cell_type": "markdown",
   "metadata": {},
   "source": [
    "http://biobank.ndph.ox.ac.uk/showcase/field.cgi?id=22331\n",
    "![image](http://biobank.ndph.ox.ac.uk/showcase/showcase/graphs/c22331.png)"
   ]
  },
  {
   "cell_type": "code",
   "execution_count": null,
   "metadata": {},
   "outputs": [],
   "source": [
    "qplot(generated_data$qt_interval_actual)"
   ]
  },
  {
   "cell_type": "code",
   "execution_count": null,
   "metadata": {},
   "outputs": [],
   "source": [
    "qplot(generated_data$qt_interval_prediction)"
   ]
  },
  {
   "cell_type": "code",
   "execution_count": null,
   "metadata": {},
   "outputs": [],
   "source": [
    "cor(generated_data$qt_interval_actual, generated_data$qt_interval_prediction)"
   ]
  },
  {
   "cell_type": "code",
   "execution_count": null,
   "metadata": {},
   "outputs": [],
   "source": [
    "qplot(generated_data$qt_interval_actual, generated_data$qt_interval_prediction) +\n",
    "    geom_abline(intercept = 0, color = 'red')"
   ]
  },
  {
   "cell_type": "markdown",
   "metadata": {},
   "source": [
    "### QT interval delta vs. BMI "
   ]
  },
  {
   "cell_type": "code",
   "execution_count": null,
   "metadata": {},
   "outputs": [],
   "source": [
    "qplot(generated_data$bmi, generated_data$qt_interval_delta) + geom_hline(yintercept = 0, color = 'red')"
   ]
  },
  {
   "cell_type": "markdown",
   "metadata": {},
   "source": [
    "### QT interval delta vs. ECG program category"
   ]
  },
  {
   "cell_type": "code",
   "execution_count": null,
   "metadata": {},
   "outputs": [],
   "source": [
    "generated_data %>%\n",
    "  mutate(\n",
    "    ecg_exercise_program = parse_factor(ecg_exercise_program,\n",
    "                                        levels = c('ECG not to be performed',\n",
    "                                                   'High risk, take measurement at rest only',\n",
    "                                                   'Medium risk, cycle at constant level',\n",
    "                                                   'Small risk, cycle at 35% of max work load',\n",
    "                                                   'Minimal risk, cycle at 50% of max work load'))\n",
    ") %>%\n",
    "  ggplot(aes(x = qt_interval_actual, y = qt_interval_prediction, color = ecg_exercise_program)) +\n",
    "    geom_point(alpha = 0.5) +\n",
    "    geom_abline(intercept = 0, color = 'black')"
   ]
  },
  {
   "cell_type": "code",
   "execution_count": null,
   "metadata": {},
   "outputs": [],
   "source": [
    "options(repr.plot.height = 14)\n",
    "\n",
    "generated_data %>%\n",
    "  mutate(\n",
    "    ecg_exercise_program = parse_factor(ecg_exercise_program,\n",
    "                                        levels = c('ECG not to be performed',\n",
    "                                                   'High risk, take measurement at rest only',\n",
    "                                                   'Medium risk, cycle at constant level',\n",
    "                                                   'Small risk, cycle at 35% of max work load',\n",
    "                                                   'Minimal risk, cycle at 50% of max work load'))\n",
    ") %>%\n",
    "ggplot(aes(x = qt_interval_actual, y = qt_interval_prediction, color = ecg_exercise_program)) +\n",
    "    geom_point() +\n",
    "    geom_abline(intercept = 0, color = 'black') +\n",
    "    facet_grid(rows = vars(ecg_exercise_program))"
   ]
  },
  {
   "cell_type": "markdown",
   "metadata": {},
   "source": [
    "## Proton density visceral adipose fraction"
   ]
  },
  {
   "cell_type": "markdown",
   "metadata": {},
   "source": [
    "http://biobank.ndph.ox.ac.uk/showcase/field.cgi?id=22402\n",
    "![image](http://biobank.ndph.ox.ac.uk/showcase/showcase/graphs/c22402.png)"
   ]
  },
  {
   "cell_type": "code",
   "execution_count": null,
   "metadata": {},
   "outputs": [],
   "source": [
    "options(repr.plot.height = 10)\n",
    "\n",
    "qplot(generated_data$pdff_actual)"
   ]
  },
  {
   "cell_type": "code",
   "execution_count": null,
   "metadata": {},
   "outputs": [],
   "source": [
    "qplot(generated_data$pdff_prediction)"
   ]
  },
  {
   "cell_type": "code",
   "execution_count": null,
   "metadata": {},
   "outputs": [],
   "source": [
    "cor(generated_data$pdff_actual, generated_data$pdff_prediction)"
   ]
  },
  {
   "cell_type": "code",
   "execution_count": null,
   "metadata": {},
   "outputs": [],
   "source": [
    "qplot(generated_data$pdff_actual, generated_data$pdff_prediction) +\n",
    "    geom_abline(intercept = 0, color = 'red')"
   ]
  },
  {
   "cell_type": "markdown",
   "metadata": {},
   "source": [
    "### pdff delta vs. BMI "
   ]
  },
  {
   "cell_type": "code",
   "execution_count": null,
   "metadata": {},
   "outputs": [],
   "source": [
    "qplot(generated_data$bmi, generated_data$pdff_delta) + geom_hline(yintercept = 0, color = 'red')"
   ]
  },
  {
   "cell_type": "markdown",
   "metadata": {},
   "source": [
    "# Compare other variables that we might expect to be correlated\n",
    "\n",
    "TODO: Are there any other variables we might expect to be correlated? e.g., Should any of the actual prediction values be more strongly correlated with BMI?"
   ]
  },
  {
   "cell_type": "markdown",
   "metadata": {},
   "source": [
    "# Create CSV export"
   ]
  },
  {
   "cell_type": "code",
   "execution_count": null,
   "metadata": {},
   "outputs": [],
   "source": [
    "colnames(generated_data)"
   ]
  },
  {
   "cell_type": "code",
   "execution_count": null,
   "metadata": {},
   "outputs": [],
   "source": [
    "subset_for_export <- generated_data %>%\n",
    "    # Grab a subset of the columns, renaming a few.\n",
    "    select(sample_id,\n",
    "           age,\n",
    "           bmi,\n",
    "           sex_at_birth,\n",
    "           ecg_exercise_program,\n",
    "           qt_interval_actual,\n",
    "           qt_interval_prediction,\n",
    "           p_axis_actual,\n",
    "           p_axis_prediction,\n",
    "           proton_density_fat_actual = pdff_actual,\n",
    "           proton_density_fat_prediction = pdff_prediction\n",
    "          )\n",
    "\n",
    "# Take a look at the samples we want to modify.\n",
    "subset_for_export %>% filter(sample_id %in% c('fake_1', 'fake_2'))"
   ]
  },
  {
   "cell_type": "markdown",
   "metadata": {},
   "source": [
    "## Inject our manual values.\n",
    "\n",
    "These are intended to convey the story being told within the other notebooks in the Terra workspace."
   ]
  },
  {
   "cell_type": "code",
   "execution_count": null,
   "metadata": {},
   "outputs": [],
   "source": [
    "final_export <- subset_for_export %>%\n",
    "    mutate(\n",
    "        age = case_when(\n",
    "            sample_id == 'fake_1' ~ as.integer(70),\n",
    "            sample_id == 'fake_2' ~ as.integer(74),\n",
    "            TRUE ~ age  # Keep the same value for everyone else.\n",
    "        ),\n",
    "        bmi = case_when(\n",
    "            sample_id == 'fake_1' ~ 38.1,\n",
    "            sample_id == 'fake_2' ~ 24.7,\n",
    "            TRUE ~ bmi  # Keep the same value for everyone else.\n",
    "        ),\n",
    "        sex_at_birth = case_when(\n",
    "            sample_id == 'fake_1' ~ 'male',\n",
    "            sample_id == 'fake_2' ~ 'male',\n",
    "            TRUE ~ sex_at_birth  # Keep the same value for everyone else.\n",
    "        ),\n",
    "        ecg_exercise_program = case_when(\n",
    "            sample_id == 'fake_1' ~ 'Small risk, cycle at 35% of max work load',\n",
    "            sample_id == 'fake_2' ~ 'High risk, take measurement at rest only',\n",
    "            TRUE ~ ecg_exercise_program  # Keep the same value for everyone else.\n",
    "        ),\n",
    "        qt_interval_actual = case_when(\n",
    "            sample_id == 'fake_1' ~ 374.1,\n",
    "            sample_id == 'fake_2' ~ 428.7,\n",
    "            TRUE ~ qt_interval_actual  # Keep the same value for everyone else.\n",
    "        ),\n",
    "        qt_interval_prediction = case_when(\n",
    "            sample_id == 'fake_1' ~ 373.8,\n",
    "            sample_id == 'fake_2' ~ 304.2,\n",
    "            TRUE ~ qt_interval_prediction  # Keep the same value for everyone else.\n",
    "        ),\n",
    "        p_axis_actual = case_when(\n",
    "            sample_id == 'fake_1' ~ 8.1,\n",
    "            sample_id == 'fake_2' ~ 87.0,\n",
    "            TRUE ~ p_axis_actual  # Keep the same value for everyone else.\n",
    "        ),\n",
    "        p_axis_prediction = case_when(\n",
    "            sample_id == 'fake_1' ~ 10.8,\n",
    "            sample_id == 'fake_2' ~ 87.3,\n",
    "            TRUE ~ p_axis_prediction  # Keep the same value for everyone else.\n",
    "        ),\n",
    "        proton_density_fat_actual = case_when(\n",
    "            sample_id == 'fake_1' ~ 15.4,\n",
    "            sample_id == 'fake_2' ~ 0.69,\n",
    "            TRUE ~ proton_density_fat_actual  # Keep the same value for everyone else.\n",
    "        ),\n",
    "        proton_density_fat_prediction = case_when(\n",
    "            sample_id == 'fake_1' ~ 12.0,\n",
    "            sample_id == 'fake_2' ~ 0.72,\n",
    "            TRUE ~ proton_density_fat_prediction  # Keep the same value for everyone else.\n",
    "        ),\n",
    "        # Recompute all the deltas.\n",
    "        qt_interval_delta = qt_interval_actual - qt_interval_prediction,\n",
    "        p_axis_delta = p_axis_actual - p_axis_prediction,\n",
    "        proton_density_fat_delta = proton_density_fat_actual - proton_density_fat_prediction,\n",
    "    )"
   ]
  },
  {
   "cell_type": "code",
   "execution_count": null,
   "metadata": {},
   "outputs": [],
   "source": [
    "final_export %>% filter(sample_id %in% c('fake_1', 'fake_2'))"
   ]
  },
  {
   "cell_type": "code",
   "execution_count": null,
   "metadata": {},
   "outputs": [],
   "source": [
    "final_export_file = 'synthetic_pheno_and_results.csv'\n",
    "write_csv(final_export, path = final_export_file)"
   ]
  }
 ],
 "metadata": {
  "environment": {
   "name": "r-cpu.3-6.m56",
   "type": "gcloud",
   "uri": "gcr.io/deeplearning-platform-release/r-cpu.3-6:m56"
  },
  "kernelspec": {
   "display_name": "R",
   "language": "R",
   "name": "ir"
  },
  "language_info": {
   "codemirror_mode": "r",
   "file_extension": ".r",
   "mimetype": "text/x-r-source",
   "name": "R",
   "pygments_lexer": "r"
  },
  "toc": {
   "base_numbering": 1,
   "nav_menu": {},
   "number_sections": true,
   "sideBar": true,
   "skip_h1_title": false,
   "title_cell": "Table of Contents",
   "title_sidebar": "Contents",
   "toc_cell": false,
   "toc_position": {
    "height": "calc(100% - 180px)",
    "left": "10px",
    "top": "150px",
    "width": "236.438px"
   },
   "toc_section_display": true,
   "toc_window_display": true
  }
 },
 "nbformat": 4,
 "nbformat_minor": 4
}
