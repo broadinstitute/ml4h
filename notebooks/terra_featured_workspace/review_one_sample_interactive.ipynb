{
 "cells": [
  {
   "cell_type": "markdown",
   "metadata": {},
   "source": [
    "# Quality Control (QC) of Clinical Machine Learning Models\n",
    "\n",
    "In this notebook, we take a closer look at the model inputs and outputs for a single patient across several different data modalities such as resting and exercise ECGs, and abdominal and brain MRIs.\n",
    "\n",
    "<div class=\"alert alert-block alert-info\">\n",
    "\n",
    "<p>Machine learning engineers work <b>iteratively</b> with domain experts, such as <b>cardiologists</b>, to understand how well the model is performing, and to enumerate the situations in which it needs <b>improvement</b>.</p>\n",
    "\n",
    "</div>"
   ]
  },
  {
   "cell_type": "markdown",
   "metadata": {},
   "source": [
    "# Setup\n",
    "\n",
    "<div class=\"alert alert-block alert-warning\">\n",
    "    This notebook assumes you have already run notebook <kbd>ml4h_setup.ipynb</kbd>.\n",
    "</div>"
   ]
  },
  {
   "cell_type": "code",
   "execution_count": null,
   "metadata": {},
   "outputs": [],
   "source": [
    "import ml4h.visualization_tools.annotations as annotations\n",
    "import ml4h.visualization_tools.hd5_mri_plots as hd5_mri_plots\n",
    "import ml4h.visualization_tools.ecg_interactive_plots as ecg_interactive_plots\n",
    "import ml4h.visualization_tools.ecg_static_plots as ecg_static_plots\n",
    "import pandas as pd\n",
    "import tensorflow as tf\n",
    "\n",
    "%matplotlib inline"
   ]
  },
  {
   "cell_type": "code",
   "execution_count": null,
   "metadata": {
    "code_folding": []
   },
   "outputs": [],
   "source": [
    "%%javascript\n",
    "// Display cell outputs to full height (no vertical scroll bar)\n",
    "IPython.OutputArea.auto_scroll_threshold = 9999;"
   ]
  },
  {
   "cell_type": "code",
   "execution_count": null,
   "metadata": {},
   "outputs": [],
   "source": [
    "MODEL_RESULTS_FILE = 'gs://fc-500bd872-4a53-45c9-87d3-39656bd83f85/data/synthetic_pheno_and_results.csv'"
   ]
  },
  {
   "cell_type": "code",
   "execution_count": null,
   "metadata": {},
   "outputs": [],
   "source": [
    "patient_info = pd.read_csv(tf.io.gfile.GFile(MODEL_RESULTS_FILE))\n",
    "\n",
    "patient_info.shape"
   ]
  },
  {
   "cell_type": "markdown",
   "metadata": {},
   "source": [
    "# Review the data for one patient\n",
    "\n",
    "<div class=\"alert alert-block alert-info\">\n",
    "\n",
    "<p>Using the visualizations and widget below, <b>pretend to be a cardiologist</b> examining the data for a single patient along with its model results to provide feedback in the form of <b>annotations</b> to the machine learning engineers.</p>\n",
    "\n",
    "<p>Specifically, examine the <b>MRIs and ECGs</b> and annotate the charateristics within the MRI/ECG that would improve the model.</p>\n",
    "\n",
    "</div>"
   ]
  },
  {
   "cell_type": "markdown",
   "metadata": {},
   "source": [
    "## Indicate which patient to review"
   ]
  },
  {
   "cell_type": "markdown",
   "metadata": {},
   "source": [
    "<div class=\"alert alert-block alert-info\">\n",
    "<b>Tip:</b> Although this notebook, as currently presented, displays data for a single patient at a time, you can also use it to <b>view data for multiple patients</b>. Simply copy and paste the cell(s) showing the modality of data you want to view for multiple patients simultaneously and change the id of the patient to be reviewed.\n",
    "</div>"
   ]
  },
  {
   "cell_type": "code",
   "execution_count": null,
   "metadata": {},
   "outputs": [],
   "source": [
    "#---[ EDIT THIS VARIABLE VALUE IF YOU LIKE, another patient with all data types is 'fake_2' ]---\n",
    "PATIENT_TO_REVIEW = 'fake_1'"
   ]
  },
  {
   "cell_type": "markdown",
   "metadata": {},
   "source": [
    "## Phenotypes and results - review and annotate"
   ]
  },
  {
   "cell_type": "code",
   "execution_count": null,
   "metadata": {},
   "outputs": [],
   "source": [
    "patient_info.loc[patient_info.sample_id == str(PATIENT_TO_REVIEW),].T"
   ]
  },
  {
   "cell_type": "markdown",
   "metadata": {},
   "source": [
    "Run the following cell, then select the relevant key on which you wish to comment, and enter your comment in the text box. Click the button to submit your annotation."
   ]
  },
  {
   "cell_type": "code",
   "execution_count": null,
   "metadata": {},
   "outputs": [],
   "source": [
    "annotations.display_annotation_collector(sample_info=patient_info, sample_id=PATIENT_TO_REVIEW)"
   ]
  },
  {
   "cell_type": "markdown",
   "metadata": {},
   "source": [
    "## Resting ECG - review and annotate"
   ]
  },
  {
   "cell_type": "markdown",
   "metadata": {},
   "source": [
    "### Static visualization of the resting ECG"
   ]
  },
  {
   "cell_type": "code",
   "execution_count": null,
   "metadata": {},
   "outputs": [],
   "source": [
    "ecg_static_plots.display_resting_ecg(sample_id=PATIENT_TO_REVIEW)"
   ]
  },
  {
   "cell_type": "code",
   "execution_count": null,
   "metadata": {},
   "outputs": [],
   "source": [
    "annotations.display_annotation_collector(sample_info=patient_info, sample_id=PATIENT_TO_REVIEW,\n",
    "                                         custom_annotation_key='resting ECG, static plot')"
   ]
  },
  {
   "cell_type": "markdown",
   "metadata": {},
   "source": [
    "### Interactive visualization of resting ECG "
   ]
  },
  {
   "cell_type": "markdown",
   "metadata": {},
   "source": [
    "<div class=\"alert alert-block alert-info\">\n",
    "<b>Tip:</b> Copy, paste, and run the plot cell how ever many times you like to view several leads simultaneously.\n",
    "</div>"
   ]
  },
  {
   "cell_type": "code",
   "execution_count": null,
   "metadata": {},
   "outputs": [],
   "source": [
    "ecg_interactive_plots.resting_ecg_interactive_plot(sample_id=PATIENT_TO_REVIEW)"
   ]
  },
  {
   "cell_type": "code",
   "execution_count": null,
   "metadata": {},
   "outputs": [],
   "source": [
    "annotations.display_annotation_collector(sample_info=patient_info, sample_id=PATIENT_TO_REVIEW,\n",
    "                                         custom_annotation_key='resting ECG, interactive  plot')"
   ]
  },
  {
   "cell_type": "markdown",
   "metadata": {},
   "source": [
    "## MRI - review and annotate"
   ]
  },
  {
   "cell_type": "markdown",
   "metadata": {},
   "source": [
    "<div class=\"alert alert-block alert-info\">\n",
    "<b>Tip:</b> Click on the image instance slider and then use the left/right arrows to animate the image.\n",
    "</div>"
   ]
  },
  {
   "cell_type": "code",
   "execution_count": null,
   "metadata": {},
   "outputs": [],
   "source": [
    "hd5_mri_plots.choose_mri_tmap(sample_id=PATIENT_TO_REVIEW)"
   ]
  },
  {
   "cell_type": "code",
   "execution_count": null,
   "metadata": {},
   "outputs": [],
   "source": [
    "annotations.display_annotation_collector(sample_info=patient_info, sample_id=PATIENT_TO_REVIEW,\n",
    "                                         custom_annotation_key='MRI tensor')"
   ]
  },
  {
   "cell_type": "markdown",
   "metadata": {},
   "source": [
    "## Exercise ECG - review and annotate"
   ]
  },
  {
   "cell_type": "markdown",
   "metadata": {},
   "source": [
    "<div class=\"alert alert-block alert-info\">\n",
    "<b>Tip:</b> Copy, paste, and run the plot cell how ever many times you like to view several leads simultaneously.\n",
    "</div>"
   ]
  },
  {
   "cell_type": "code",
   "execution_count": null,
   "metadata": {},
   "outputs": [],
   "source": [
    "ecg_interactive_plots.exercise_ecg_interactive_plot(sample_id=PATIENT_TO_REVIEW, time_interval_seconds=8)"
   ]
  },
  {
   "cell_type": "code",
   "execution_count": null,
   "metadata": {},
   "outputs": [],
   "source": [
    "annotations.display_annotation_collector(sample_info=patient_info, sample_id=PATIENT_TO_REVIEW,\n",
    "                                         custom_annotation_key='exercise ECG, interactive  plot')"
   ]
  },
  {
   "cell_type": "markdown",
   "metadata": {},
   "source": [
    "## View recent annotations\n",
    "\n",
    "For the purposes of this demo we are storing and displaying only those annotations created within this session. The ml4h toolkit includes functionality to also persist these annotations to durable storage."
   ]
  },
  {
   "cell_type": "code",
   "execution_count": null,
   "metadata": {},
   "outputs": [],
   "source": [
    "annotations.DEFAULT_ANNOTATION_STORAGE.view_recent_submissions()"
   ]
  },
  {
   "cell_type": "markdown",
   "metadata": {},
   "source": [
    "# Provenance"
   ]
  },
  {
   "cell_type": "code",
   "execution_count": null,
   "metadata": {},
   "outputs": [],
   "source": [
    "import datetime\n",
    "print(datetime.datetime.now())"
   ]
  },
  {
   "cell_type": "code",
   "execution_count": null,
   "metadata": {},
   "outputs": [],
   "source": [
    "%%bash\n",
    "pip3 freeze"
   ]
  },
  {
   "cell_type": "markdown",
   "metadata": {},
   "source": [
    "Questions about these particular notebooks? Join the discussion https://github.com/broadinstitute/ml4h/discussions."
   ]
  }
 ],
 "metadata": {
  "environment": {
   "kernel": "python3",
   "name": "r-cpu.4-1.m95",
   "type": "gcloud",
   "uri": "gcr.io/deeplearning-platform-release/r-cpu.4-1:m95"
  },
  "kernelspec": {
   "display_name": "Python 3",
   "language": "python",
   "name": "python3"
  },
  "language_info": {
   "codemirror_mode": {
    "name": "ipython",
    "version": 3
   },
   "file_extension": ".py",
   "mimetype": "text/x-python",
   "name": "python",
   "nbconvert_exporter": "python",
   "pygments_lexer": "ipython3",
   "version": "3.7.12"
  },
  "toc": {
   "base_numbering": 1,
   "nav_menu": {},
   "number_sections": true,
   "sideBar": true,
   "skip_h1_title": false,
   "title_cell": "Table of Contents",
   "title_sidebar": "Contents",
   "toc_cell": false,
   "toc_position": {
    "height": "calc(100% - 180px)",
    "left": "10px",
    "top": "150px",
    "width": "199px"
   },
   "toc_section_display": true,
   "toc_window_display": true
  }
 },
 "nbformat": 4,
 "nbformat_minor": 4
}
