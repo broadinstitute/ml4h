{
 "cells": [
  {
   "cell_type": "markdown",
   "metadata": {},
   "source": [
    "# Install the ml4h toolkit for machine learning on clinical data\n",
    "\n",
    "The following commands will install the [ml4h toolkit for machine learning on clinical data](https://github.com/broadinstitute/ml4h) on your Terra [detachable persistent disk](https://support.terra.bio/hc/en-us/articles/360047318551-Detachable-Persistent-Disks-)."
   ]
  },
  {
   "cell_type": "markdown",
   "metadata": {},
   "source": [
    "## Install the ml4h Python package.\n",
    "\n",
    "For more detail, see https://github.com/broadinstitute/ml4h"
   ]
  },
  {
   "cell_type": "code",
   "execution_count": null,
   "metadata": {},
   "outputs": [],
   "source": [
    "%pip install git+https://github.com/broadinstitute/ml4h.git"
   ]
  },
  {
   "cell_type": "markdown",
   "metadata": {},
   "source": [
    "### Work around installation issue with cuda\n",
    "\n",
    "Cuda is already installed at `/usr/local/cuda-11.3/targets/x86_64-linux/lib` but the pip install above causes another copy to be installed in `/home/jupyter/.local/lib/python3.7/site-packages/nvidia/cublas/lib/libcublasLt.so.11` and this yields error `OSError: /home/jupyter/.local/lib/python3.7/site-packages/torch/lib/../../nvidia/cublas/lib/libcublas.so.11: undefined symbol: cublasLtGetStatusString, version libcublasLt.so.11`. Move this second installation of cuda out of the search path."
   ]
  },
  {
   "cell_type": "code",
   "execution_count": null,
   "metadata": {},
   "outputs": [],
   "source": [
    "# Move the nvidia cuda install out of the search path so that the copy in /usr/local is used.\n",
    "!cd ~/.local/lib/python3.7/site-packages/ ; mv nvidia* .."
   ]
  },
  {
   "cell_type": "markdown",
   "metadata": {},
   "source": [
    "## Install the Jupyter extensions for data visualization.\n",
    "\n",
    "For more detail, see https://github.com/vega/ipyvega and https://ipycanvas.readthedocs.io/en/latest/."
   ]
  },
  {
   "cell_type": "code",
   "execution_count": null,
   "metadata": {},
   "outputs": [],
   "source": [
    "%%bash\n",
    "\n",
    "jupyter nbextension install --user  --py vega\n",
    "jupyter nbextension enable --user  --py vega\n",
    "jupyter nbextension install --user  --py ipycanvas\n",
    "jupyter nbextension enable --user  --py ipycanvas"
   ]
  },
  {
   "cell_type": "code",
   "execution_count": null,
   "metadata": {},
   "outputs": [],
   "source": []
  }
 ],
 "metadata": {
  "environment": {
   "kernel": "python3",
   "name": "r-cpu.4-1.m95",
   "type": "gcloud",
   "uri": "gcr.io/deeplearning-platform-release/r-cpu.4-1:m95"
  },
  "kernelspec": {
   "display_name": "Python 3",
   "language": "python",
   "name": "python3"
  },
  "language_info": {
   "codemirror_mode": {
    "name": "ipython",
    "version": 3
   },
   "file_extension": ".py",
   "mimetype": "text/x-python",
   "name": "python",
   "nbconvert_exporter": "python",
   "pygments_lexer": "ipython3",
   "version": "3.7.12"
  },
  "toc": {
   "base_numbering": 1,
   "nav_menu": {},
   "number_sections": true,
   "sideBar": true,
   "skip_h1_title": false,
   "title_cell": "Table of Contents",
   "title_sidebar": "Contents",
   "toc_cell": false,
   "toc_position": {},
   "toc_section_display": true,
   "toc_window_display": true
  }
 },
 "nbformat": 4,
 "nbformat_minor": 4
}
