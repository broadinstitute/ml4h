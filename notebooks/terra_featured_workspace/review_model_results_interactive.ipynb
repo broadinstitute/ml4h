{
 "cells": [
  {
   "cell_type": "markdown",
   "metadata": {},
   "source": [
    "# Interactive Quality Control (QC) of an ECG and MRI Prediction Model\n",
    "\n",
    "In this notebook, we review phenotypes and model results to identify where our model has room for improvement. This is a quality control (QC) step in the development of a model.\n",
    "\n",
    "<div class=\"alert alert-block alert-info\">\n",
    "\n",
    "<p>Machine learning engineers work <b>iteratively</b> with domain experts, such as <b>cardiologists</b>, to understand how well the model is performing, and to enumerate the situations in which it needs <b>improvement</b>.</p>\n",
    "\n",
    "</div>"
   ]
  },
  {
   "cell_type": "markdown",
   "metadata": {},
   "source": [
    "# Setup\n",
    "\n",
    "<div class=\"alert alert-block alert-warning\">\n",
    "    This notebook assumes you have already run notebook <kbd>ml4h_setup.ipynb</kbd>.\n",
    "</div>"
   ]
  },
  {
   "cell_type": "code",
   "execution_count": null,
   "metadata": {},
   "outputs": [],
   "source": [
    "from ml4h.visualization_tools.facets import FacetsOverview, FacetsDive  # Interactive data exploration of tabular data.\n",
    "import pandas as pd\n",
    "import tensorflow as tf"
   ]
  },
  {
   "cell_type": "code",
   "execution_count": null,
   "metadata": {},
   "outputs": [],
   "source": [
    "%%javascript\n",
    "// Display cell outputs to full height (no vertical scroll bar)\n",
    "IPython.OutputArea.auto_scroll_threshold = 9999;"
   ]
  },
  {
   "cell_type": "code",
   "execution_count": null,
   "metadata": {},
   "outputs": [],
   "source": [
    "MODEL_RESULTS_FILE = 'gs://fc-500bd872-4a53-45c9-87d3-39656bd83f85/data/synthetic_pheno_and_results.csv'"
   ]
  },
  {
   "cell_type": "code",
   "execution_count": null,
   "metadata": {},
   "outputs": [],
   "source": [
    "patient_info = pd.read_csv(tf.io.gfile.GFile(MODEL_RESULTS_FILE))\n",
    "\n",
    "patient_info.shape"
   ]
  },
  {
   "cell_type": "markdown",
   "metadata": {},
   "source": [
    "# Look for problems with the model\n",
    "\n",
    "<div class=\"alert alert-block alert-info\">\n",
    "\n",
    "<p>Using Facets Overview and Facets Dive, <b>pretend to be a cardiologist</b> examining a batch of model results to provide feedback to the machine learning engineers. Examine the <b>tabular data</b>. Look for charateristics in common for those patients for which the model is performing poorly.</p>\n",
    "\n",
    "<b>Premise</b>\n",
    "    <ul>\n",
    "        <li>The model takes as input phenotypes, ECGs, and MRIs.</li>\n",
    "        <li>The model emit predictions for:</li>\n",
    "        <ul>\n",
    "            <li><a href='https://en.wikipedia.org/wiki/QT_interval'>QT interval</a></li>\n",
    "            <li><a href='https://en.wikipedia.org/wiki/P_wave_(electrocardiography)'>P axis</a></li>\n",
    "            <li><a href='https://en.wikipedia.org/wiki/MRI_sequence#PD'>Proton density</a> liver adipose tissue fraction</li>\n",
    "        </ul>\n",
    "        <li>BMI is not currently an input to our model.</li>\n",
    "        <li>Exercise effort is not currently an input to our model.</li>\n",
    "    </ul>\n",
    "</div>\n",
    "\n",
    "\n",
    "<div class=\"alert alert-block alert-danger\">\n",
    "\n",
    "<p>NOTE: this is <a href='https://github.com/broadinstitute/ml4h/blob/master/notebooks/terra_featured_workspace/generate_synthetic_tabular_data.ipynb'><b>synthetic data</b></a>, with specific model errors are baked in. Can you find them? The solution is below.</p>\n",
    "</div>"
   ]
  },
  {
   "cell_type": "markdown",
   "metadata": {},
   "source": [
    "## SOLUTION\n",
    "\n",
    "Use the arrow to the left of this section heading to expand this section and see the solution."
   ]
  },
  {
   "cell_type": "markdown",
   "metadata": {},
   "source": [
    "<div class=\"alert alert-block alert-warning\">\n",
    "\n",
    "<b>Observations that could be made:</b>\n",
    "    <ol>\n",
    "        <li>We can see that the model often gets the P axis prediction wrong for higher BMI individuals. Plot <kbd>p_axis_delta</kbd> vs. <kbd>bmi</kbd> using Facets Dive and you will see the skew.</li>\n",
    "        <li>We can see that the model often gets the QT interval prediction wrong when the person did not exercise very hard. There is more error for lower speed bike ECGs because they typically result in a lower average load during the exercise phase. Plot <kbd>qt_interval_prediction</kbd> vs. <kbd>qt_interval_actual</kbd> coloring by <kbd>ecg_exercise_program</kbd> using Facets Dive and you will see the skew.</li>\n",
    "        <li>We can see that the model often gets the liver visceral adipose fraction (proton density fat) prediction wrong for higher BMI individuals. Plot <kbd>proton_density_fat_delta</kbd> vs. <kbd>bmi</kbd> using Facets Dive and you will see the skew.</li>\n",
    "    </ol>\n",
    "\n",
    "<p><b>Outcome:</b> after review of model inputs and predictions, we realize that BMI and ECG exercise program should be added to the model inputs.</p>\n",
    "\n",
    "<p>Remember, this is <a href='https://github.com/broadinstitute/ml/blob/master/notebooks/terra_featured_workspace/generate_synthetic_tabular_data.ipynb'><b>synthetic data</b></a> so some relationships you may expect to see between the variables if this were real data may not be present here.</p>\n",
    "\n",
    "</div>"
   ]
  },
  {
   "cell_type": "markdown",
   "metadata": {},
   "source": [
    "## Visualizing model inputs and outputs\n",
    "\n",
    "Use this Facets Overview visualization to get an overview of the type and distribution of patient information available. For detailed instructions, see [Facets Overview](https://pair-code.github.io/facets/).\n",
    "\n",
    "This [synthetic data](https://github.com/broadinstitute/ml4h/blob/master/notebooks/terra_featured_workspace/generate_synthetic_tabular_data.ipynb) attempts to have a similar distribution to that of the real UK Biobank data:\n",
    "* [Sex](http://biobank.ndph.ox.ac.uk/showcase/field.cgi?id=31)\n",
    "* [Body mass index (BMI)](http://biobank.ndph.ox.ac.uk/showcase/field.cgi?id=21001)\n",
    "* [ECG during exercise program category](http://biobank.ndph.ox.ac.uk/showcase/field.cgi?id=6024)\n",
    "* [P axis](http://biobank.ndph.ox.ac.uk/showcase/field.cgi?id=22335)\n",
    "* [QT interval](http://biobank.ndph.ox.ac.uk/showcase/field.cgi?id=22331)\n",
    "* [Proton density fat fraction](http://biobank.ndph.ox.ac.uk/showcase/field.cgi?id=22402)"
   ]
  },
  {
   "cell_type": "code",
   "execution_count": null,
   "metadata": {},
   "outputs": [],
   "source": [
    "FacetsOverview(patient_info)"
   ]
  },
  {
   "cell_type": "markdown",
   "metadata": {},
   "source": [
    "## Visualizing model behavior\n",
    "\n",
    "Use this Facets Dive visualization to get an overview the distributions of values for *groups* of patients. For detailed instructions, see [Facets Dive](https://pair-code.github.io/facets/). Keep in mind that this [synthetic data](https://github.com/broadinstitute/ml4h/blob/master/notebooks/terra_featured_workspace/generate_synthetic_tabular_data.ipynb) may not exhibit some patterns that one would expect to find in real data.\n",
    "\n",
    "**Tips**:\n",
    "* It might take a few seconds for the visualization to appear.\n",
    "* If the table of contents pane is in the way of the column selector drop down, click on the button to turn the table of contents off.\n",
    "* Zoom in, click on the patient(s) of interest and you'll see a pane on the right hand side with all the data for the patient."
   ]
  },
  {
   "cell_type": "code",
   "execution_count": null,
   "metadata": {},
   "outputs": [],
   "source": [
    "FacetsDive(patient_info)"
   ]
  },
  {
   "cell_type": "markdown",
   "metadata": {},
   "source": [
    "# Provenance"
   ]
  },
  {
   "cell_type": "code",
   "execution_count": null,
   "metadata": {},
   "outputs": [],
   "source": [
    "import datetime\n",
    "print(datetime.datetime.now())"
   ]
  },
  {
   "cell_type": "code",
   "execution_count": null,
   "metadata": {},
   "outputs": [],
   "source": [
    "%%bash\n",
    "pip3 freeze"
   ]
  },
  {
   "cell_type": "markdown",
   "metadata": {},
   "source": [
    "Questions about these particular notebooks? Join the discussion https://github.com/broadinstitute/ml4h/discussions."
   ]
  }
 ],
 "metadata": {
  "environment": {
   "kernel": "python3",
   "name": "r-cpu.4-1.m95",
   "type": "gcloud",
   "uri": "gcr.io/deeplearning-platform-release/r-cpu.4-1:m95"
  },
  "keep_count": false,
  "keep_output": false,
  "kernelspec": {
   "display_name": "Python 3",
   "language": "python",
   "name": "python3"
  },
  "language_info": {
   "codemirror_mode": {
    "name": "ipython",
    "version": 3
   },
   "file_extension": ".py",
   "mimetype": "text/x-python",
   "name": "python",
   "nbconvert_exporter": "python",
   "pygments_lexer": "ipython3",
   "version": "3.7.12"
  },
  "toc": {
   "base_numbering": 1,
   "nav_menu": {},
   "number_sections": true,
   "sideBar": true,
   "skip_h1_title": false,
   "title_cell": "Table of Contents",
   "title_sidebar": "Contents",
   "toc_cell": false,
   "toc_position": {
    "height": "calc(100% - 180px)",
    "left": "10px",
    "top": "150px",
    "width": "233px"
   },
   "toc_section_display": true,
   "toc_window_display": true
  }
 },
 "nbformat": 4,
 "nbformat_minor": 4
}
