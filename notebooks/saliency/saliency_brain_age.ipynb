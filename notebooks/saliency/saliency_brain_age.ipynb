{
 "cells": [
  {
   "cell_type": "code",
   "execution_count": null,
   "metadata": {},
   "outputs": [],
   "source": [
    "import os\n",
    "import sys\n",
    "import math\n",
    "import argparse\n",
    "import numpy as np\n",
    "from collections import Counter\n",
    "\n",
    "# Keras imports\n",
    "from tensorflow.keras.models import Model\n",
    "from keras import backend as K\n",
    "\n",
    "# ml4h Imports\n",
    "from ml4h.arguments import parse_args\n",
    "from ml4h.models import make_multimodal_multitask_model, train_model_from_generators\n",
    "from ml4h.tensor_generators import TensorGenerator, big_batch_from_minibatch_generator, test_train_valid_tensor_generators\n",
    "\n",
    "# IPython imports\n",
    "from IPython.display import Image\n",
    "%matplotlib inline\n",
    "import matplotlib.pyplot as plt\n"
   ]
  },
  {
   "cell_type": "code",
   "execution_count": null,
   "metadata": {},
   "outputs": [],
   "source": [
    "def gradients_from_output(args, model, output_layer, output_index):\n",
    "    K.set_learning_phase(1)\n",
    "    input_tensor = model.input\n",
    "    x = model.get_layer(output_layer).output[:,output_index]\n",
    "    grads = K.gradients(x, input_tensor)[0]\n",
    "    grads /= (K.sqrt(K.mean(K.square(grads))) + 1e-6) # normalization trick: we normalize the gradient\n",
    "    iterate = K.function([input_tensor], [x, grads])\n",
    "    return iterate\n",
    "\n",
    "def saliency_map(input_tensor, model, output_layer, output_index):\n",
    "    get_gradients = gradients_from_output(args, model, output_layer, output_index)\n",
    "    activation, grads = get_gradients([input_tensor])\n",
    "    print('Activation is:', activation, 'gradient shape:', grads.shape)\n",
    "    return grads\n"
   ]
  },
  {
   "cell_type": "code",
   "execution_count": null,
   "metadata": {},
   "outputs": [],
   "source": [
    "sys.argv = ['train', \n",
    "            '--tensors', '/mnt/disks/sax-lax-40k-lvm/2019-11-21/', \n",
    "            '--input_tensors', 't2_flair_brain_30_slices', \n",
    "            '--output_tensors', 'age_2',\n",
    "            '--batch_size', '4',\n",
    "            '--test_steps', '2',\n",
    "            '--model_file', '/home/sam/ml/trained_models/t2_flair_brain_age_converge/t2_flair_brain_age_converge.hd5',\n",
    "            '--id', 'brain_age']\n",
    "\n",
    "args = parse_args()\n",
    "_, _, generate_test = test_train_valid_tensor_generators(**args.__dict__)\n",
    "model = make_multimodal_multitask_model(**args.__dict__)\n",
    "test_data, test_labels, test_paths = big_batch_from_minibatch_generator(generate_test, args.test_steps)"
   ]
  },
  {
   "cell_type": "code",
   "execution_count": null,
   "metadata": {},
   "outputs": [],
   "source": [
    "def plot_brain(brain, cols=3, rows=10):\n",
    "    _, axes = plt.subplots(rows, cols, figsize=(cols*4, rows*4))\n",
    "    vmin = np.min(brain)\n",
    "    vmax = np.max(brain)\n",
    "    for i in range(test_tensor.shape[-1]):\n",
    "        axes[i//cols, i%cols].imshow(brain[:, :, i], cmap='gray', vmin=vmin, vmax=vmax)\n",
    "        axes[i//cols, i%cols].set_yticklabels([])\n",
    "        axes[i//cols, i%cols].set_xticklabels([])    "
   ]
  },
  {
   "cell_type": "code",
   "execution_count": null,
   "metadata": {},
   "outputs": [],
   "source": [
    "test_tensor = test_data['input_t2_flair_brain_30_slices_ukb_brain_mri']\n",
    "print(test_tensor.shape, test_tensor[:1].shape)\n",
    "plot_brain(test_tensor[0])"
   ]
  },
  {
   "cell_type": "code",
   "execution_count": null,
   "metadata": {},
   "outputs": [],
   "source": [
    "grads = saliency_map(test_tensor[:6], model, 'output_21003_Age-when-attended-assessment-centre_2_continuous', 0)\n",
    "plot_brain(grads[0])"
   ]
  },
  {
   "cell_type": "code",
   "execution_count": null,
   "metadata": {},
   "outputs": [],
   "source": [
    "plot_brain(test_tensor[1])"
   ]
  },
  {
   "cell_type": "code",
   "execution_count": null,
   "metadata": {},
   "outputs": [],
   "source": [
    "plot_brain(grads[1])"
   ]
  },
  {
   "cell_type": "code",
   "execution_count": null,
   "metadata": {},
   "outputs": [],
   "source": [
    "plot_brain(np.ma.masked_where(grads[0] < -5, test_tensor[0]))"
   ]
  },
  {
   "cell_type": "code",
   "execution_count": null,
   "metadata": {},
   "outputs": [],
   "source": [
    "plot_brain(np.ma.masked_where(grads[1]) > 3, test_tensor[1]))"
   ]
  },
  {
   "cell_type": "code",
   "execution_count": null,
   "metadata": {},
   "outputs": [],
   "source": [
    "plot_brain(np.ma.masked_where(np.abs(grads[3]) > 5, test_tensor[3]))"
   ]
  },
  {
   "cell_type": "code",
   "execution_count": null,
   "metadata": {},
   "outputs": [],
   "source": [
    "plot_brain(np.ma.masked_where(np.abs(grads[2]) > 5, test_tensor[2]))"
   ]
  },
  {
   "cell_type": "code",
   "execution_count": null,
   "metadata": {},
   "outputs": [],
   "source": [
    "plot_brain(np.ma.masked_where(np.abs(grads[4]) > 5, test_tensor[4]))"
   ]
  },
  {
   "cell_type": "code",
   "execution_count": null,
   "metadata": {},
   "outputs": [],
   "source": [
    "plot_brain(np.ma.masked_where(np.abs(grads[5]) > 3, test_tensor[5]))"
   ]
  },
  {
   "cell_type": "markdown",
   "metadata": {},
   "source": [
    "- do this with hyperintensity\n",
    "- ventricular volumes\n",
    "- volumes\n",
    "- move the window up less stem"
   ]
  }
 ],
 "metadata": {
  "kernelspec": {
   "display_name": "Python 3",
   "language": "python",
   "name": "python3"
  },
  "language_info": {
   "codemirror_mode": {
    "name": "ipython",
    "version": 3
   },
   "file_extension": ".py",
   "mimetype": "text/x-python",
   "name": "python",
   "nbconvert_exporter": "python",
   "pygments_lexer": "ipython3",
   "version": "3.6.8"
  }
 },
 "nbformat": 4,
 "nbformat_minor": 2
}
