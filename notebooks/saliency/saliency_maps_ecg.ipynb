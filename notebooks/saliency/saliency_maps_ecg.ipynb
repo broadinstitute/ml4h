{
 "cells": [
  {
   "cell_type": "code",
   "execution_count": null,
   "metadata": {},
   "outputs": [],
   "source": [
    "import os\n",
    "import sys\n",
    "import math\n",
    "import argparse\n",
    "import numpy as np\n",
    "from collections import Counter\n",
    "\n",
    "# Keras imports\n",
    "from keras.models import Model\n",
    "from keras import backend as K\n",
    "\n",
    "# ML4CVD Imports\n",
    "from ml4cvd.arguments import parse_args\n",
    "from ml4cvd.models import make_multimodal_multitask_model, train_model_from_generators\n",
    "from ml4cvd.tensor_generators import TensorGenerator, big_batch_from_minibatch_generator, test_train_valid_tensor_generators\n",
    "\n",
    "# IPython imports\n",
    "from IPython.display import Image\n",
    "%matplotlib inline\n",
    "import matplotlib.pyplot as plt\n"
   ]
  },
  {
   "cell_type": "code",
   "execution_count": null,
   "metadata": {},
   "outputs": [],
   "source": [
    "def gradients_from_output(args, model, output_layer, output_index):\n",
    "    K.set_learning_phase(1)\n",
    "    input_tensor = model.input\n",
    "    x = model.get_layer(output_layer).output[:,output_index]\n",
    "    grads = K.gradients(x, input_tensor)[0]\n",
    "    grads /= (K.sqrt(K.mean(K.square(grads))) + 1e-6) # normalization trick: we normalize the gradient\n",
    "    iterate = K.function([input_tensor], [x, grads])\n",
    "    return iterate\n",
    "\n",
    "def saliency_map(input_tensor, model, output_layer, output_index):\n",
    "    get_gradients = gradients_from_output(args, model, output_layer, output_index)\n",
    "    activation, grads = get_gradients([input_tensor])\n",
    "    print('Activation is:', activation, 'gradient shape:', grads.shape)\n",
    "    return grads\n"
   ]
  },
  {
   "cell_type": "code",
   "execution_count": null,
   "metadata": {},
   "outputs": [],
   "source": [
    "def plot_ecgs(ecgs, rows=3, cols=4, time_interval=2.5, raw_scale=0.005, hertz=500):\n",
    "    _, axes = plt.subplots(rows, cols, figsize=(18, 16))\n",
    "    for i in range(rows):\n",
    "        for j in range(cols):\n",
    "            start = int(i*time_interval*hertz)\n",
    "            stop = int((i+1)*time_interval*hertz)\n",
    "            axes[i, j].set_xlim(start, stop)\n",
    "            for label in ecgs:\n",
    "                axes[i, j].plot(range(start, stop), ecgs[label][start:stop, j + i*cols] * raw_scale, label=label)  \n",
    "            axes[i, j].legend(loc='lower right')\n",
    "            axes[i, j].set_xlabel('milliseconds')"
   ]
  },
  {
   "cell_type": "code",
   "execution_count": null,
   "metadata": {},
   "outputs": [],
   "source": [
    "sys.argv = ['train', \n",
    "            '--tensors', '/mnt/disks/sax-lax-40k-teacher/2019-11-21/', \n",
    "            '--input_tensors', 'ecg_rest', \n",
    "            '--output_tensors', 'qt-interval',\n",
    "            '--batch_size', '6',\n",
    "            '--epochs', '2',  \n",
    "            '--learning_rate', '0.001',\n",
    "            '--training_steps', '128',\n",
    "            '--validation_steps', '10',\n",
    "            '--test_steps', '1',\n",
    "            '--model_file', '/mnt/ml4cvd/projects/models/ecg_rest_qt_only/ecg_rest_qt_only.hd5',\n",
    "            '--id', 'ecg_rest_qt_only']\n",
    "args = parse_args()\n",
    "model = make_multimodal_multitask_model(**args.__dict__)\n",
    "generate_train, generate_valid, generate_test = test_train_valid_tensor_generators(**args.__dict__)\n",
    "test_data, test_labels, test_paths = big_batch_from_minibatch_generator(generate_test, args.test_steps)\n",
    "test_tensor = test_data['input_strip_ecg_rest']\n",
    "grads_qt = saliency_map(test_tensor, model, 'output_QTInterval_continuous', 0)"
   ]
  },
  {
   "cell_type": "code",
   "execution_count": null,
   "metadata": {},
   "outputs": [],
   "source": [
    "sys.argv = ['train', \n",
    "            '--tensors', '/mnt/disks/sax-lax-40k-teacher/2019-11-21/', \n",
    "            '--input_tensors', 'ecg_rest', \n",
    "            '--output_tensors', 'ventricular-rate',\n",
    "            '--batch_size', '6',\n",
    "            '--epochs', '2',  \n",
    "            '--learning_rate', '0.001',\n",
    "            '--training_steps', '128',\n",
    "            '--validation_steps', '10',\n",
    "            '--test_steps', '1',\n",
    "            '--model_file', '/mnt/ml4cvd/projects/models/ecg_rest_ventricular_rate/ecg_rest_ventricular_rate.hd5',\n",
    "            '--id', 'ecg_rest_ventricular_rate']\n",
    "args = parse_args()\n",
    "model = make_multimodal_multitask_model(**args.__dict__)\n",
    "grads_vr = saliency_map(test_tensor, model, 'output_VentricularRate_continuous', 0)"
   ]
  },
  {
   "cell_type": "code",
   "execution_count": null,
   "metadata": {},
   "outputs": [],
   "source": [
    "ecg_dict = {'raw': test_tensor[1], 'QTInterval': grads_qt[1], 'VentricularRate': grads_vr[1]} \n",
    "plot_ecgs(ecg_dict)"
   ]
  },
  {
   "cell_type": "code",
   "execution_count": null,
   "metadata": {},
   "outputs": [],
   "source": []
  }
 ],
 "metadata": {
  "kernelspec": {
   "display_name": "Python 3",
   "language": "python",
   "name": "python3"
  },
  "language_info": {
   "codemirror_mode": {
    "name": "ipython",
    "version": 3
   },
   "file_extension": ".py",
   "mimetype": "text/x-python",
   "name": "python",
   "nbconvert_exporter": "python",
   "pygments_lexer": "ipython3",
   "version": "3.6.8"
  }
 },
 "nbformat": 4,
 "nbformat_minor": 2
}
