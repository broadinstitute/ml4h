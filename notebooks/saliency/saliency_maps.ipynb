{
 "cells": [
  {
   "cell_type": "code",
   "execution_count": null,
   "metadata": {},
   "outputs": [],
   "source": [
    "import os\n",
    "import sys\n",
    "import math\n",
    "import argparse\n",
    "import numpy as np\n",
    "from collections import Counter\n",
    "\n",
    "# Keras imports\n",
    "from tensorflow.keras.models import Model\n",
    "from keras import backend as K\n",
    "\n",
    "# ML4CVD Imports\n",
    "from ml4cvd.arguments import parse_args\n",
    "from ml4cvd.models import make_multimodal_multitask_model, train_model_from_generators\n",
    "from ml4cvd.tensor_generators import TensorGenerator, big_batch_from_minibatch_generator, test_train_valid_tensor_generators\n",
    "\n",
    "# IPython imports\n",
    "from IPython.display import Image\n",
    "%matplotlib inline\n",
    "import matplotlib.pyplot as plt\n"
   ]
  },
  {
   "cell_type": "code",
   "execution_count": null,
   "metadata": {},
   "outputs": [],
   "source": [
    "def gradients_from_output(args, model, output_layer, output_index):\n",
    "    K.set_learning_phase(1)\n",
    "    input_tensor = model.input\n",
    "    x = model.get_layer(output_layer).output[:,output_index]\n",
    "    grads = K.gradients(x, input_tensor)[0]\n",
    "    grads /= (K.sqrt(K.mean(K.square(grads))) + 1e-6) # normalization trick: we normalize the gradient\n",
    "    iterate = K.function([input_tensor], [x, grads])\n",
    "    return iterate\n",
    "\n",
    "def saliency_map(input_tensor, model, output_layer, output_index):\n",
    "    get_gradients = gradients_from_output(args, model, output_layer, output_index)\n",
    "    activation, grads = get_gradients([input_tensor])\n",
    "    print('Activation is:', activation, 'gradient shape:', grads.shape)\n",
    "    return grads\n"
   ]
  },
  {
   "cell_type": "code",
   "execution_count": null,
   "metadata": {},
   "outputs": [],
   "source": [
    "sys.argv = ['train', \n",
    "            '--tensors', '/mnt/disks/sax-lax-40k-lvm/2019-11-21/', \n",
    "            '--input_tensors', 't2_flair_brain_30_slices', \n",
    "            '--output_tensors', 'age_2',\n",
    "            '--batch_size', '1',\n",
    "            '--epochs', '2',  \n",
    "            '--learning_rate', '0.001',\n",
    "            '--training_steps', '128',\n",
    "            '--validation_steps', '10',\n",
    "            '--test_steps', '1',\n",
    "            '--model_file', '/mnt/ml4cvd/projects/jamesp/data/models/mri_slice_esv.hd5',\n",
    "            '--id', 'mri_slice_esv']\n",
    "\n",
    "args = parse_args()\n",
    "generate_train, generate_valid, generate_test = test_train_valid_tensor_generators(**args.__dict__)\n",
    "model = make_multimodal_multitask_model(**args.__dict__)\n",
    "test_data, test_labels, test_paths = big_batch_from_minibatch_generator(generate_test, args.test_steps)"
   ]
  },
  {
   "cell_type": "code",
   "execution_count": null,
   "metadata": {},
   "outputs": [],
   "source": [
    "test_tensor = test_data['input_mri_slice']\n",
    "print(test_tensor.shape, test_tensor[:1].shape)\n",
    "_, axes = plt.subplots(1, 6, figsize=(18, 14))\n",
    "[axes[i].imshow(test_tensor[i, :, :, 0]) for i in range(6)]"
   ]
  },
  {
   "cell_type": "code",
   "execution_count": null,
   "metadata": {},
   "outputs": [],
   "source": [
    "grads = saliency_map(test_tensor, model, 'output_end_systole_volume_continuous', 0)\n",
    "_, axes = plt.subplots(1, 6, figsize=(18, 14))\n",
    "[axes[i].imshow(grads[i, :, :, 0]) for i in range(6)]"
   ]
  },
  {
   "cell_type": "code",
   "execution_count": null,
   "metadata": {},
   "outputs": [],
   "source": [
    "sys.argv = ['train', \n",
    "            '--tensors', '/mnt/disks/pix-size-tensors/2019-04-29/', \n",
    "            '--input_tensors', 'mri_slice', \n",
    "            '--output_tensors', 'bmi',\n",
    "            '--batch_size', '6',\n",
    "            '--epochs', '2',  \n",
    "            '--learning_rate', '0.001',\n",
    "            '--training_steps', '128',\n",
    "            '--validation_steps', '10',\n",
    "            '--test_steps', '1',\n",
    "            '--model_file', '/mnt/ml4cvd/projects/jamesp/data/models/mri_slice_bmi.hd5',\n",
    "            '--id', 'mri_slice_bmi']\n",
    "\n",
    "args = parse_args()\n",
    "\n",
    "generate_train, generate_valid, generate_test = test_train_valid_tensor_generators(**args.__dict__)\n",
    "model = make_multimodal_multitask_model(**args.__dict__)\n",
    "test_data, test_labels, test_paths = big_batch_from_minibatch_generator(generate_test, args.test_steps)"
   ]
  },
  {
   "cell_type": "code",
   "execution_count": null,
   "metadata": {},
   "outputs": [],
   "source": [
    "test_tensor = test_data['input_mri_slice']\n",
    "print(test_tensor.shape, test_tensor[:1].shape)\n",
    "_, axes = plt.subplots(1, 6, figsize=(18, 14))\n",
    "[axes[i].imshow(test_tensor[i, :, :, 0]) for i in range(6)]"
   ]
  },
  {
   "cell_type": "code",
   "execution_count": null,
   "metadata": {},
   "outputs": [],
   "source": [
    "grads = saliency_map(test_tensor, model, 'output_23104_Body-mass-index-BMI_0_0_continuous', 0)\n",
    "_, axes = plt.subplots(1, 6, figsize=(18, 14))\n",
    "[axes[i].imshow(grads[i, :, :, 0]) for i in range(6)]"
   ]
  },
  {
   "cell_type": "code",
   "execution_count": null,
   "metadata": {},
   "outputs": [],
   "source": [
    "sys.argv = ['train', \n",
    "            '--tensors', '/mnt/disks/pix-size-tensors/2019-04-29/', \n",
    "            '--input_tensors', 'mri_slice', \n",
    "            '--output_tensors', 'genetic_sex',\n",
    "            '--batch_size', '6',\n",
    "            '--epochs', '2',  \n",
    "            '--learning_rate', '0.001',\n",
    "            '--training_steps', '128',\n",
    "            '--validation_steps', '10',\n",
    "            '--test_steps', '1',\n",
    "            '--model_file', '/mnt/ml4cvd/projects/jamesp/data/models/mri_slice_sex.hd5',\n",
    "            '--id', 'mri_slice_sex']\n",
    "\n",
    "args = parse_args()\n",
    "\n",
    "generate_train, generate_valid, generate_test = test_train_valid_tensor_generators(args.tensor_maps_in,  args.tensor_maps_out,  args.tensors, args.batch_size,   args.valid_ratio, args.test_ratio, args.test_modulo, args.balance_csvs)\n",
    "\n",
    "model = make_multimodal_multitask_model(**args.__dict__)\n",
    "\n",
    "test_data, test_labels, test_paths = big_batch_from_minibatch_generator(args.tensor_maps_in, args.tensor_maps_out,\n",
    "                                                                        generate_test, args.test_steps)"
   ]
  },
  {
   "cell_type": "code",
   "execution_count": null,
   "metadata": {},
   "outputs": [],
   "source": [
    "test_tensor = test_data['input_mri_slice']\n",
    "print(test_tensor.shape, test_tensor[:1].shape)\n",
    "_, axes = plt.subplots(1, 6, figsize=(18, 14))\n",
    "[axes[i].imshow(test_tensor[i, :, :, 0]) for i in range(6)]"
   ]
  },
  {
   "cell_type": "code",
   "execution_count": null,
   "metadata": {},
   "outputs": [],
   "source": [
    "grads = saliency_map(test_tensor, model, 'output_genetic_sex_categorical', 0)\n",
    "_, axes = plt.subplots(1, 6, figsize=(18, 14))\n",
    "[axes[i].imshow(grads[i, :, :, 0]) for i in range(6)]"
   ]
  },
  {
   "cell_type": "code",
   "execution_count": null,
   "metadata": {},
   "outputs": [],
   "source": [
    "sys.argv = ['train', \n",
    "            '--tensors', '/mnt/disks/pix-size-tensors/2019-04-29/', \n",
    "            '--input_tensors', 'mri_slice', \n",
    "            '--output_tensors', 'birth_year',\n",
    "            '--batch_size', '6',\n",
    "            '--epochs', '2',  \n",
    "            '--learning_rate', '0.001',\n",
    "            '--training_steps', '128',\n",
    "            '--validation_steps', '10',\n",
    "            '--test_steps', '1',\n",
    "            '--model_file', '/mnt/ml4cvd/projects/jamesp/data/models/mri_slice_age.hd5',\n",
    "            '--id', 'mri_slice_age']\n",
    "\n",
    "args = parse_args()\n",
    "\n",
    "generate_train, generate_valid, generate_test = test_train_valid_tensor_generators(args.tensor_maps_in,  args.tensor_maps_out,  args.tensors, args.batch_size,   args.valid_ratio, args.test_ratio, args.test_modulo, args.balance_csvs)\n",
    "\n",
    "model = make_multimodal_multitask_model(**args.__dict__)\n",
    "\n",
    "test_data, test_labels, test_paths = big_batch_from_minibatch_generator(args.tensor_maps_in, args.tensor_maps_out,\n",
    "                                                                        generate_test, args.test_steps)"
   ]
  },
  {
   "cell_type": "code",
   "execution_count": null,
   "metadata": {},
   "outputs": [],
   "source": [
    "test_tensor = test_data['input_mri_slice']\n",
    "print(test_tensor.shape, test_tensor[:1].shape)\n",
    "_, axes = plt.subplots(1, 6, figsize=(18, 14))\n",
    "[axes[i].imshow(test_tensor[i, :, :, 0]) for i in range(6)]"
   ]
  },
  {
   "cell_type": "code",
   "execution_count": null,
   "metadata": {},
   "outputs": [],
   "source": [
    "grads = saliency_map(test_tensor, model, 'output_22200_Year-of-birth_0_0_continuous', 0)\n",
    "_, axes = plt.subplots(1, 6, figsize=(18, 14))\n",
    "[axes[i].imshow(grads[i, :, :, 0]) for i in range(6)]"
   ]
  },
  {
   "cell_type": "code",
   "execution_count": null,
   "metadata": {},
   "outputs": [],
   "source": [
    "sys.argv = ['train', \n",
    "            '--tensors', '/mnt/disks/pix-size-tensors/2019-04-29/', \n",
    "            '--input_tensors', 'mri_systole_diastole', \n",
    "            '--output_tensors', 'end_systole_volume',\n",
    "            '--batch_size', '6',\n",
    "            '--epochs', '2',  \n",
    "            '--learning_rate', '0.001',\n",
    "            '--training_steps', '128',\n",
    "            '--validation_steps', '10',\n",
    "            '--test_steps', '1',\n",
    "            '--model_file', '/mnt/ml4cvd/projects/jamesp/data/models/mri_systole_diastole_esv.hd5',\n",
    "            '--id', 'mri_systole_diastole_esv']\n",
    "args = parse_args()\n",
    "\n",
    "generate_train, generate_valid, generate_test = test_train_valid_tensor_generators(args.tensor_maps_in,  args.tensor_maps_out,  args.tensors, args.batch_size,   args.valid_ratio, args.test_ratio, args.test_modulo, args.balance_csvs)\n",
    "\n",
    "model = make_multimodal_multitask_model(**args.__dict__)\n",
    "\n",
    "test_data, test_labels, test_paths = big_batch_from_minibatch_generator(args.tensor_maps_in, args.tensor_maps_out,\n",
    "                                                                        generate_test, args.test_steps)\n"
   ]
  },
  {
   "cell_type": "code",
   "execution_count": null,
   "metadata": {},
   "outputs": [],
   "source": [
    "test_tensor = test_data['input_mri_systole_diastole']\n",
    "print(test_tensor.shape, test_tensor[:1].shape)\n",
    "_, axes = plt.subplots(2, 6, figsize=(18, 4), sharex=True)\n",
    "for i in range(6):\n",
    "    axes[0, i].set_title('Diastole')\n",
    "    axes[1, i].set_title('Systole')\n",
    "    axes[0, i].imshow(test_tensor[i, :, :, 0, 0])\n",
    "    axes[1, i].imshow(test_tensor[i, :, :, 1, 0])\n",
    "    "
   ]
  },
  {
   "cell_type": "code",
   "execution_count": null,
   "metadata": {},
   "outputs": [],
   "source": [
    "grads = saliency_map(test_tensor, model, 'output_end_systole_volume_continuous', 0)\n",
    "_, axes = plt.subplots(2, 6, figsize=(18, 4), sharex=True)\n",
    "for i in range(6):\n",
    "    axes[0, i].set_title('Diastole')\n",
    "    axes[1, i].set_title('Systole')\n",
    "    axes[0, i].imshow(grads[i, :, :, 0, 0])\n",
    "    axes[1, i].imshow(grads[i, :, :, 1, 0])\n",
    "    "
   ]
  },
  {
   "cell_type": "code",
   "execution_count": null,
   "metadata": {},
   "outputs": [],
   "source": [
    "sys.argv = ['train', \n",
    "            '--tensors', '/mnt/disks/sax-lax-40k-teacher/2019-11-21/', \n",
    "            '--input_tensors', 'ecg_rest_raw', \n",
    "            '--output_tensors', 'myocardial_mass_noheritable_men_only',\n",
    "            '--batch_size', '6',\n",
    "            '--epochs', '2',  \n",
    "            '--learning_rate', '0.001',\n",
    "            '--training_steps', '128',\n",
    "            '--validation_steps', '10',\n",
    "            '--test_steps', '1',\n",
    "            '--model_file', '/home/sam/ml/trained_models/ecg_rest_raw_unet_myocardial_mass_noheritable/ecg_rest_raw_unet_myocardial_mass_noheritable.hd5',\n",
    "            '--id', 'err_myocardial_mass_noheritable_men_only']\n",
    "args = parse_args()\n",
    "\n",
    "generate_train, generate_valid, generate_test = test_train_valid_tensor_generators(**args.__dict__)\n",
    "model = make_multimodal_multitask_model(**args.__dict__)\n",
    "test_data, test_labels, test_paths = big_batch_from_minibatch_generator(generate_test, args.test_steps)"
   ]
  },
  {
   "cell_type": "code",
   "execution_count": null,
   "metadata": {},
   "outputs": [],
   "source": [
    "test_tensor = test_data['input_ecg_rest_raw_ecg_rest']\n",
    "print(test_tensor.shape, test_tensor[3:4].shape)\n",
    "_, axes = plt.subplots(6, 12, figsize=(18, 64))\n",
    "[axes[i, j].plot(test_tensor[i,:,j].flatten('F')) for i in range(6) for j in range(12)]"
   ]
  },
  {
   "cell_type": "code",
   "execution_count": null,
   "metadata": {},
   "outputs": [],
   "source": [
    "def plot_ecg_array(ecg, rows=3, cols=4, time_interval=2.5, raw_scale=0.005, hertz=500):\n",
    "    _, axes = plt.subplots(rows, cols, figsize=(18, 16))\n",
    "    yy = ecg * raw_scale\n",
    "    print(yy.shape, cols, rows, ecg.shape)\n",
    "    for i in range(rows):\n",
    "        for j in range(cols):\n",
    "            start = int(i*time_interval*hertz)\n",
    "            stop = int((i+1)*time_interval*hertz)\n",
    "            axes[i, j].plot(range(start, stop), yy[start:stop, j + i*cols])\n",
    "            axes[i, j].set_xlim(start, stop)\n",
    "    "
   ]
  },
  {
   "cell_type": "code",
   "execution_count": null,
   "metadata": {},
   "outputs": [],
   "source": [
    "plot_ecg_array(test_tensor[0]) "
   ]
  },
  {
   "cell_type": "code",
   "execution_count": null,
   "metadata": {},
   "outputs": [],
   "source": [
    "sys.argv = ['train', \n",
    "            '--tensors', '/mnt/disks/ecg-rest-37k-tensors/2019-11-04/', \n",
    "            '--input_tensors', 'ecg_rest_1lead', \n",
    "            '--output_tensors', 'ecg_semi_coarse_with_poor',\n",
    "            '--batch_size', '6',\n",
    "            '--epochs', '2',  \n",
    "            '--learning_rate', '0.001',\n",
    "            '--training_steps', '128',\n",
    "            '--validation_steps', '10',\n",
    "            '--test_steps', '1',\n",
    "            '--model_file', '/mnt/ml4cvd/projects/models/ecg_1lead_rhythm_only/ecg_1lead_rhythm_only.hd5',\n",
    "            '--id', 'ecg_1lead_rhythm_only']\n",
    "args = parse_args()\n",
    "\n",
    "generate_train, generate_valid, generate_test = test_train_valid_tensor_generators(**args.__dict__)\n",
    "model = make_multimodal_multitask_model(**args.__dict__)\n",
    "test_data, test_labels, test_paths = big_batch_from_minibatch_generator(generate_test, args.test_steps)"
   ]
  },
  {
   "cell_type": "code",
   "execution_count": null,
   "metadata": {},
   "outputs": [],
   "source": [
    "test_tensor = test_data['input_strip_ecg_rest']\n",
    "print(test_tensor.shape, test_tensor[3:4].shape)\n",
    "_, axes = plt.subplots(6, 1, figsize=(18, 14))\n",
    "[axes[i].plot(test_tensor[i,:,:].flatten('F')) for i in range(6)]"
   ]
  },
  {
   "cell_type": "code",
   "execution_count": null,
   "metadata": {},
   "outputs": [],
   "source": [
    "grads = saliency_map(test_tensor, model, 'output_ecg_semi_coarse_with_poor_categorical', 0)\n",
    "_, axes = plt.subplots(6, 1, figsize=(18, 14))\n",
    "[axes[i].plot(grads[i,:,:].flatten('F')) for i in range(6)]"
   ]
  },
  {
   "cell_type": "code",
   "execution_count": null,
   "metadata": {},
   "outputs": [],
   "source": [
    "grads = saliency_map(test_tensor, model, 'output_ecg_semi_coarse_with_poor_categorical', 3)\n",
    "_, axes = plt.subplots(6, 1, figsize=(18, 14))\n",
    "[axes[i].plot(grads[i,:,:].flatten('F')) for i in range(6)]"
   ]
  },
  {
   "cell_type": "code",
   "execution_count": null,
   "metadata": {},
   "outputs": [],
   "source": [
    "xdir = '/mnt/disks/ecg-rest-37k-tensors/2019-11-04/'\n",
    "paths = [xdir+'1238558.hd5', xdir+'1258475.hd5', xdir+'1286494.hd5', xdir+'1381627.hd5', \n",
    "         xdir+'1487911.hd5', xdir+'1509361.hd5', xdir+'1578315.hd5', xdir+'1616127.hd5', xdir+'1723645.hd5', ]\n",
    "generator = TensorGenerator(8, args.tensor_maps_in, args.tensor_maps_out, paths, None, True)\n",
    "data, labels, hd5s = next(generator)\n",
    "print('predicitons are:', model.predict(data))"
   ]
  },
  {
   "cell_type": "code",
   "execution_count": null,
   "metadata": {},
   "outputs": [],
   "source": [
    "test_tensor = data['input_strip_ecg_rest']\n",
    "_, axes = plt.subplots(8, 1, figsize=(18, 14))\n",
    "[axes[i].plot(test_tensor[i,:,:].flatten('F')) for i in range(8)]"
   ]
  },
  {
   "cell_type": "code",
   "execution_count": null,
   "metadata": {},
   "outputs": [],
   "source": [
    "grads = saliency_map(test_tensor, model, 'output_ecg_semi_coarse_with_poor_categorical', 3)\n",
    "_, axes = plt.subplots(8, 1, figsize=(18, 14))\n",
    "[axes[i].plot(grads[i,:,:].flatten('F')) for i in range(8)]"
   ]
  },
  {
   "cell_type": "code",
   "execution_count": null,
   "metadata": {},
   "outputs": [],
   "source": [
    "grads = saliency_map(test_tensor, model, 'output_ecg_semi_coarse_with_poor_categorical', 0)\n",
    "_, axes = plt.subplots(8, 1, figsize=(18, 14))\n",
    "[axes[i].plot(grads[i,:,:].flatten('F')) for i in range(8)]"
   ]
  },
  {
   "cell_type": "code",
   "execution_count": null,
   "metadata": {},
   "outputs": [],
   "source": [
    "grads = saliency_map(test_tensor[7:8], model, 'output_ecg_semi_coarse_with_poor_categorical', 2)"
   ]
  },
  {
   "cell_type": "code",
   "execution_count": null,
   "metadata": {},
   "outputs": [],
   "source": [
    "grads = saliency_map(test_tensor[7:8], model, 'output_ecg_semi_coarse_with_poor_categorical', 0)"
   ]
  },
  {
   "cell_type": "code",
   "execution_count": null,
   "metadata": {},
   "outputs": [],
   "source": []
  }
 ],
 "metadata": {
  "kernelspec": {
   "display_name": "Python 3",
   "language": "python",
   "name": "python3"
  },
  "language_info": {
   "codemirror_mode": {
    "name": "ipython",
    "version": 3
   },
   "file_extension": ".py",
   "mimetype": "text/x-python",
   "name": "python",
   "nbconvert_exporter": "python",
   "pygments_lexer": "ipython3",
   "version": "3.6.8"
  }
 },
 "nbformat": 4,
 "nbformat_minor": 2
}
