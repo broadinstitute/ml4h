{
 "cells": [
  {
   "cell_type": "code",
   "execution_count": null,
   "metadata": {},
   "outputs": [],
   "source": [
    "import os\n",
    "import sys\n",
    "import math\n",
    "import argparse\n",
    "import numpy as np\n",
    "from collections import Counter\n",
    "\n",
    "# Keras imports\n",
    "from tensorflow.keras.models import Model\n",
    "\n",
    "# ml4h Imports\n",
    "from ml4h.arguments import parse_args\n",
    "from ml4h.hyperparameters import optimize_optimizer, optimize_conv_x, optimize_ecg_rest_architecture\n",
    "\n",
    "%matplotlib inline\n",
    "import matplotlib.pyplot as plt\n",
    "\n",
    "# Paths\n",
    "DATA_DIRECTORY = '/mnt/disks/ecg-rest-38k-tensors/2020-03-14/'"
   ]
  },
  {
   "cell_type": "code",
   "execution_count": null,
   "metadata": {},
   "outputs": [],
   "source": [
    "sys.argv = ['train', \n",
    "            '--tensors', DATA_DIRECTORY, \n",
    "            '--input_tensors', 'ecg_rest', \n",
    "            '--output_tensors', 'ecg_rhythm_poor',\n",
    "            '--batch_size', '32', \n",
    "            '--epochs', '24',  \n",
    "            '--test_steps', '96',\n",
    "            '--max_models', '9',\n",
    "            '--id', 'hyperoptimize_conv_x_ecg_rest_rhythm_w_poor']\n",
    "args = parse_args()\n",
    "optimize_conv_x(args)"
   ]
  },
  {
   "cell_type": "code",
   "execution_count": null,
   "metadata": {},
   "outputs": [],
   "source": [
    "sys.argv = ['train', \n",
    "            '--tensors', DATA_DIRECTORY, \n",
    "            '--input_tensors', 'ecg_rest', \n",
    "            '--output_tensors', 'ventricular-rate',\n",
    "            '--batch_size', '32', \n",
    "            '--epochs', '64',  \n",
    "            '--test_steps', '96',\n",
    "            '--max_models', '7',\n",
    "            '--id', 'hyperoptimize_conv_x_ecg_rest_heart_rate']\n",
    "args = parse_args()\n",
    "optimize_conv_x(args)"
   ]
  },
  {
   "cell_type": "code",
   "execution_count": null,
   "metadata": {},
   "outputs": [],
   "source": [
    "sys.argv = ['train', \n",
    "            '--tensors', DATA_DIRECTORY, \n",
    "            '--input_tensors', 'ecg_rest', \n",
    "            '--output_tensors', 'qrs-duration',\n",
    "            '--batch_size', '32', \n",
    "            '--epochs', '16',  \n",
    "            '--test_steps', '96',\n",
    "            '--max_models', '7',\n",
    "            '--id', 'hyperoptimize_conv_x_ecg_rest_qrs_duration']\n",
    "args = parse_args()\n",
    "optimize_conv_x(args)"
   ]
  },
  {
   "cell_type": "code",
   "execution_count": null,
   "metadata": {},
   "outputs": [],
   "source": [
    "sys.argv = ['train', \n",
    "            '--tensors', DATA_DIRECTORY, \n",
    "            '--input_tensors', 'ecg_rest', \n",
    "            '--output_tensors', 'ventricular-rate',\n",
    "            '--batch_size', '32', \n",
    "            '--epochs', '16',  \n",
    "            '--test_steps', '96',\n",
    "            '--max_models', '7',\n",
    "            '--id', 'hyperoptimize_optimizer_ecg_rest_heart_rate']\n",
    "args = parse_args()\n",
    "optimize_optimizer(args)"
   ]
  },
  {
   "cell_type": "code",
   "execution_count": null,
   "metadata": {},
   "outputs": [],
   "source": []
  }
 ],
 "metadata": {
  "kernelspec": {
   "display_name": "Python 3",
   "language": "python",
   "name": "python3"
  },
  "language_info": {
   "codemirror_mode": {
    "name": "ipython",
    "version": 3
   },
   "file_extension": ".py",
   "mimetype": "text/x-python",
   "name": "python",
   "nbconvert_exporter": "python",
   "pygments_lexer": "ipython3",
   "version": "3.6.9"
  }
 },
 "nbformat": 4,
 "nbformat_minor": 4
}
