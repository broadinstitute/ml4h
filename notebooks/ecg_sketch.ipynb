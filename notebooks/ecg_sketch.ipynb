{
 "cells": [
  {
   "cell_type": "code",
   "execution_count": null,
   "metadata": {},
   "outputs": [],
   "source": [
    "import os\n",
    "import sys\n",
    "import argparse\n",
    "import numpy as np\n",
    "from collections import Counter\n",
    "import xml.etree.ElementTree as et \n",
    "\n",
    "# Keras imports\n",
    "from keras.models import Model\n",
    "from keras.optimizers import Adam\n",
    "from keras.utils.vis_utils import model_to_dot\n",
    "from keras.layers import Input, Dense, Dropout, AlphaDropout, BatchNormalization, Activation\n",
    "\n",
    "# ML4CVD Imports\n",
    "from ml4cvd.plots import plot_ecg\n",
    "from ml4cvd.arguments import parse_args\n",
    "from ml4cvd.tensor_writer_ukbb import write_tensors\n",
    "from ml4cvd.recipes import train_multimodal_multitask\n",
    "\n",
    "# IPython imports\n",
    "from IPython.display import Image"
   ]
  },
  {
   "cell_type": "code",
   "execution_count": null,
   "metadata": {},
   "outputs": [],
   "source": [
    "strip_ekgs = {}\n",
    "ffts = {}\n",
    "xml_file = '/mnt/disks/data/raw/ecgs/5223300_20205_2_0.xml'\n",
    "\n",
    "root = et.parse(xml_file).getroot()\n",
    "for c in root.findall(\"./StripData/WaveformData\"):\n",
    "    strip_ekgs[c.attrib['lead']] = np.array(list(map(float, c.text.strip().split(','))))\n",
    "    ffts[c.attrib['lead']] = np.fft.fft(strip_ekgs[c.attrib['lead']])\n",
    "\n",
    "plot_ecg(strip_ekgs, 'strip')"
   ]
  },
  {
   "cell_type": "code",
   "execution_count": null,
   "metadata": {},
   "outputs": [],
   "source": [
    "Image('./figures/strip_ecg.png')"
   ]
  },
  {
   "cell_type": "code",
   "execution_count": null,
   "metadata": {},
   "outputs": [],
   "source": [
    "for c in root.findall(\"./RestingECGMeasurements\"):\n",
    "    for child in c:\n",
    "        print(child.tag, child.text)\n",
    "        \n",
    "for d in root.findall(\"./Interpretation/Diagnosis/DiagnosisText\"):\n",
    "\tdiagnosis = ''.join(e for e in d.text if e.isalnum() or e == ' ')\n",
    "\tprint(diagnosis)"
   ]
  },
  {
   "cell_type": "code",
   "execution_count": null,
   "metadata": {},
   "outputs": [],
   "source": [
    "xml_file = '/mnt/disks/data/raw/ecgs/4856206_20205_2_0.xml'\n",
    "\n",
    "root = et.parse(xml_file).getroot()\n",
    "for c in root.findall(\"./StripData/WaveformData\"):\n",
    "\tstrip_ekgs[c.attrib['lead']] = np.array(list(map(float, c.text.strip().split(','))))\n",
    "\n",
    "plot_ecg(strip_ekgs, 'strip_bradycardia')"
   ]
  },
  {
   "cell_type": "code",
   "execution_count": null,
   "metadata": {},
   "outputs": [],
   "source": [
    "Image('./figures/strip_bradycardia_ecg.png')"
   ]
  },
  {
   "cell_type": "code",
   "execution_count": null,
   "metadata": {},
   "outputs": [],
   "source": [
    "root = et.parse(xml_file).getroot()\n",
    "for d in root.findall(\"./Interpretation/Diagnosis/DiagnosisText\"):\n",
    "\tdiagnosis = ''.join(e for e in d.text if e.isalnum() or e == ' ')\n",
    "\tprint(diagnosis)"
   ]
  },
  {
   "cell_type": "code",
   "execution_count": null,
   "metadata": {},
   "outputs": [],
   "source": [
    "sys.argv = ['train', \n",
    "            '--tensors', '/mnt/disks/ecg-text2/2019-03-30/', \n",
    "            '--input_tensors', 'ecg_rest', \n",
    "            '--output_tensors', 'ecg_rhythm', 'ecg_normal', 'p-axis', 'p-duration', \n",
    "                'p-offset', 'p-onset', 'pp-interval', 'pq-interval', 'q-offset', 'q-onset', \n",
    "                'qrs-num', 'qrs-duration', 'r-axis', 'ventricular-rate',\n",
    "            '--batch_size', '32', \n",
    "            '--epochs', '1',  \n",
    "            '--learning_rate', '0.0001',\n",
    "            '--model_file', '/mnt/ml4cvd/projects/jamesp/data/models/ecg_regresser.hd5',\n",
    "            '--training_steps', '20',\n",
    "            '--inspect_model',\n",
    "            '--id', 'ecg_regresser']\n",
    "args = parse_args()\n",
    "train_multimodal_multitask(args)"
   ]
  },
  {
   "cell_type": "code",
   "execution_count": null,
   "metadata": {},
   "outputs": [],
   "source": [
    "Image('./recipes_output/ecg_regresser/architecture_graph_ecg_regresser.png')"
   ]
  },
  {
   "cell_type": "code",
   "execution_count": null,
   "metadata": {},
   "outputs": [],
   "source": [
    "Image('./recipes_output/ecg_regresser/per_class_roc_ecg_rhythm.png')"
   ]
  },
  {
   "cell_type": "code",
   "execution_count": null,
   "metadata": {},
   "outputs": [],
   "source": [
    "Image('./recipes_output/ecg_regresser/per_class_roc_ecg_normal.png')"
   ]
  },
  {
   "cell_type": "code",
   "execution_count": null,
   "metadata": {},
   "outputs": [],
   "source": [
    "Image('./recipes_output/ecg_regresser/scatter_PPInterval.png')"
   ]
  },
  {
   "cell_type": "code",
   "execution_count": null,
   "metadata": {},
   "outputs": [],
   "source": [
    "Image('./recipes_output/ecg_regresser/scatter_QRSDuration.png')"
   ]
  }
 ],
 "metadata": {
  "kernelspec": {
   "display_name": "Python 3",
   "language": "python",
   "name": "python3"
  },
  "language_info": {
   "codemirror_mode": {
    "name": "ipython",
    "version": 3
   },
   "file_extension": ".py",
   "mimetype": "text/x-python",
   "name": "python",
   "nbconvert_exporter": "python",
   "pygments_lexer": "ipython3",
   "version": "3.6.8"
  }
 },
 "nbformat": 4,
 "nbformat_minor": 2
}
