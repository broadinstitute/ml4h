{
 "cells": [
  {
   "cell_type": "markdown",
   "metadata": {},
   "source": [
    "# Review model results - Step 2 - Review one sample"
   ]
  },
  {
   "cell_type": "markdown",
   "metadata": {},
   "source": [
    "# Setup\n",
    "\n",
    "<div class=\"alert alert-block alert-warning\">\n",
    "    This notebook assumes\n",
    "    <ul>\n",
    "        <li><b>Terra</b> is running custom Docker image <kbd>gcr.io/uk-biobank-sek-data/ml4cvd_terra:20200601_163801</kbd>.</li>\n",
    "        <li><b>ml4cvd</b> is running custom Docker image <kbd>gcr.io/broad-ml4cvd/deeplearning:tf2-latest-gpu</kbd>.</li>\n",
    "    </ul>\n",
    "</div>"
   ]
  },
  {
   "cell_type": "markdown",
   "metadata": {},
   "source": [
    "<div class=\"alert alert-block alert-info\">\n",
    "Tip: <b>ml4cvd users</b> all the functions that work with ECG or MRI data have an optional <kbd>folder</kbd> parameter. You can direct those methods to read contents of any mounted persistent disk.\n",
    "</div>"
   ]
  },
  {
   "cell_type": "code",
   "execution_count": null,
   "metadata": {},
   "outputs": [],
   "source": [
    "import altair as alt  # Interactive data visualization for plots.\n",
    "import ml4cvd.visualization_tools.annotations as annotations  # Custom methods for editing and submitting data annotations.\n",
    "import ml4cvd.visualization_tools.dicom_interactive_plots as dicom_interactive_plots  # Custom methods to interactively visualize MRIs.\n",
    "import ml4cvd.visualization_tools.dicom_plots as dicom_plots  # Custom methods to visualize cardiac MRIs.\n",
    "import ml4cvd.visualization_tools.raw_ecg as raw_ecg  # Custom methods for reshaping this particular ECG data.\n",
    "import ml4cvd.visualization_tools.static_plots as ecg_plots  # Custom methods for plotting this particular ECG data.\n",
    "import numpy as np\n",
    "import os\n",
    "import pandas as pd\n",
    "from plotnine import *  # Static data visualization. Provides a ggplot-like interface to matplotlib.\n",
    "import re"
   ]
  },
  {
   "cell_type": "code",
   "execution_count": null,
   "metadata": {},
   "outputs": [],
   "source": [
    "%matplotlib inline\n",
    "\n",
    "# Configure for large-data altair plotting.\n",
    "# https://altair-viz.github.io/user_guide/faq.html#why-does-altair-lead-to-such-extremely-large-notebooks\n",
    "alt.data_transformers.disable_max_rows()\n",
    "\n",
    "%load_ext google.cloud.bigquery\n",
    "\n",
    "if 'GOOGLE_PROJECT' in os.environ:\n",
    "  # If this is Terra, enable a few things not enabled by default.\n",
    "  alt.renderers.enable('notebook')"
   ]
  },
  {
   "cell_type": "markdown",
   "metadata": {},
   "source": [
    "# Obtain sample info and model results\n",
    "\n",
    "<div class=\"alert alert-block alert-info\">\n",
    "    If you want to change the SQL below, you can view the available tables:\n",
    "    <ul>\n",
    "        <li><a href=\"https://storage.cloud.google.com/uk-biobank-sek-data-us-east1/ukb21481.html\">phenotype descriptions</a>\n",
    "        <li><a href=\"https://bigquery.cloud.google.com/table/uk-biobank-sek-data:raw_phenotypes.ukb9222_no_empty_strings_20181128\">phenotype values</a>\n",
    "        <li><a href=\"https://bigquery.cloud.google.com/dataset/uk-biobank-sek-data:a_ttl_one_week\">available ML results</a>\n",
    "    </ul>      \n",
    "</div>"
   ]
  },
  {
   "cell_type": "code",
   "execution_count": null,
   "metadata": {},
   "outputs": [],
   "source": [
    "%%bigquery sample_info\n",
    "\n",
    "---[ EDIT THIS QUERY IF YOU LIKE ]---\n",
    "\n",
    "SELECT\n",
    "  sample_id,\n",
    "  CASE u31_0_0\n",
    "    WHEN 0 THEN 'Female'\n",
    "    WHEN 1 THEN 'Male'\n",
    "    ELSE 'Unknown' END AS sex_at_birth,\n",
    "  u34_0_0 AS year_of_birth,\n",
    "  u52_0_0 AS month_of_birth,\n",
    "  u21003_0_0 AS age_at_assessment,\n",
    "  u21002_0_0 AS weight_kg,\n",
    "  u50_0_0 AS height_cm,\n",
    "  u21001_0_0 AS bmi,\n",
    "  CASE u1249_0_0\n",
    "    WHEN 1 THEN 'Smoked on most or all days'\n",
    "    WHEN 2 THEN 'Smoked occasionally'\n",
    "    WHEN 3 THEN 'Just tried once or twice'\n",
    "    WHEN 4 THEN 'I have never smoked'\n",
    "    WHEN -3 THEN 'Prefer not to answer' END AS past_tobacco_smoking,\n",
    "  ecg.* EXCEPT(sample_id)\n",
    "FROM\n",
    "  `uk-biobank-sek-data.raw_phenotypes.ukb9222_no_empty_strings_20181128`\n",
    "INNER JOIN\n",
    "  `uk-biobank-sek-data.ml_results.inference_ecg_rest_age_sex_autoencode_lvmass` AS ecg\n",
    "ON\n",
    "  eid = sample_id"
   ]
  },
  {
   "cell_type": "code",
   "execution_count": null,
   "metadata": {},
   "outputs": [],
   "source": [
    "sample_info.shape"
   ]
  },
  {
   "cell_type": "markdown",
   "metadata": {},
   "source": [
    "To facilitate demos showing sample-level information, add sample information for a few fake samples."
   ]
  },
  {
   "cell_type": "code",
   "execution_count": null,
   "metadata": {},
   "outputs": [],
   "source": [
    "# Add sample information for the fake samples.\n",
    "NUM_FAKE_SAMPLES = 4\n",
    "fake_sample_info = { col: [sample_info[col].median()] * NUM_FAKE_SAMPLES for col in sample_info.select_dtypes(include=np.number).columns }\n",
    "fake_sample_info['sample_id'] = ['fake_' + str(i) for i in range(1, NUM_FAKE_SAMPLES+1)]\n",
    "sample_info = sample_info.append(pd.DataFrame(fake_sample_info), sort=False)\n",
    "sample_info.shape"
   ]
  },
  {
   "cell_type": "code",
   "execution_count": null,
   "metadata": {},
   "outputs": [],
   "source": [
    "# Compute the deltas between actual values and predicted value columns.\n",
    "actual_regexp = re.compile('^(\\w+)_actual$')\n",
    "for actual_col in sample_info.columns:\n",
    "  if actual_col.endswith('_actual'):\n",
    "    prediction_col = actual_regexp.sub(r'\\1_prediction', actual_col)\n",
    "    if prediction_col in sample_info.columns:\n",
    "      delta_col = actual_regexp.sub(r'\\1_delta', actual_col)\n",
    "      print('Adding ' + delta_col)\n",
    "      sample_info[delta_col] = (sample_info[actual_col].astype('float')\n",
    "                                - sample_info[prediction_col].astype('float'))\n",
    "        \n",
    "sample_info.shape"
   ]
  },
  {
   "cell_type": "markdown",
   "metadata": {},
   "source": [
    "# Review one sample"
   ]
  },
  {
   "cell_type": "code",
   "execution_count": null,
   "metadata": {},
   "outputs": [],
   "source": [
    "#---[ EDIT THIS VARIABLE VALUE IF YOU LIKE ]---\n",
    "SAMPLE_TO_REVIEW = 1655349"
   ]
  },
  {
   "cell_type": "code",
   "execution_count": null,
   "metadata": {},
   "outputs": [],
   "source": [
    "tidy_resting_ecg_signal = raw_ecg.reshape_resting_ecg_to_tidy(sample_id=SAMPLE_TO_REVIEW)\n",
    "\n",
    "tidy_resting_ecg_signal.shape"
   ]
  },
  {
   "cell_type": "code",
   "execution_count": null,
   "metadata": {},
   "outputs": [],
   "source": [
    "(exercise_ecg_trend, exercise_ecg_signal) = raw_ecg.reshape_exercise_ecg_to_tidy(sample_id=SAMPLE_TO_REVIEW)\n",
    "\n",
    "print(exercise_ecg_trend.shape)\n",
    "print(exercise_ecg_signal.shape)"
   ]
  },
  {
   "cell_type": "code",
   "execution_count": null,
   "metadata": {},
   "outputs": [],
   "source": [
    "# Limit to our sample_id of interest, handling both string-valued and numeric sample ids.\n",
    "df = sample_info.query('sample_id == @SAMPLE_TO_REVIEW')\n",
    "if 0 == df.shape[0]: df = sample_info.query('sample_id == ' + SAMPLE_TO_REVIEW)\n",
    "# Convert the suffixes to prefixes so that pandas.wide_to_long pivots on the correct portion of the column name.\n",
    "df.columns = df.columns.str.replace(r'(.*)_(actual|delta|prediction)$', r'\\2_value_\\1')\n",
    "# Pivot the prediction columns for a more compact display.\n",
    "df = pd.wide_to_long(df, stubnames=['actual_value', 'prediction_value', 'delta_value'],\n",
    "                     i=df.columns[~df.columns.str.contains(r'(actual|delta|prediction)')].tolist(),\n",
    "                     j='value', sep='_', suffix='.*')\n",
    "df"
   ]
  },
  {
   "cell_type": "markdown",
   "metadata": {},
   "source": [
    "## Retrieve static visualization of the resting ECG"
   ]
  },
  {
   "cell_type": "code",
   "execution_count": null,
   "metadata": {},
   "outputs": [],
   "source": [
    "ecg_plots.display_resting_ecg(sample_id=SAMPLE_TO_REVIEW)"
   ]
  },
  {
   "cell_type": "markdown",
   "metadata": {},
   "source": [
    "## Render alternate static visualization of the resting ECG"
   ]
  },
  {
   "cell_type": "code",
   "execution_count": null,
   "metadata": {},
   "outputs": [],
   "source": [
    "df"
   ]
  },
  {
   "cell_type": "code",
   "execution_count": null,
   "metadata": {},
   "outputs": [],
   "source": [
    "p = (ggplot(tidy_resting_ecg_signal.query(\n",
    "    \"(lead in ['strip_I','strip_II', 'strip_III'] & ts_reference < 2.5) \" +\n",
    "    \"| (lead in ['strip_aVR','strip_aVL', 'strip_aVF'] & ts_reference >= 2.5 & ts_reference < 5)\" +\n",
    "    \"| (lead in ['strip_V1','strip_V2', 'strip_V3'] & ts_reference >= 5 & ts_reference < 7.5)\" +\n",
    "    \"| (lead in ['strip_V4','strip_V5', 'strip_V6'] & ts_reference > 7.5)\"),\n",
    "        aes(x = 'ts_reference', y = 'signal_mV', color = 'filtering')) +\n",
    "     geom_line() +\n",
    "     facet_wrap('~ lead', ncol = 4, nrow = 3, scales = 'free_x') +\n",
    "     scale_x_continuous(name = 'Elapsed time', breaks = ecg_plots.major_breaks_x_resting_ecg, minor_breaks = 5) +\n",
    "     scale_y_continuous(name = 'Signal mV', limits = [-1.5, 1.5], breaks = np.arange(-1.5, 2.0, 0.5), minor_breaks = 5) +\n",
    "     ggtitle('Resting ECG for {}'.format(SAMPLE_TO_REVIEW)) + \n",
    "     theme(axis_text_x = element_text(angle = 50, hjust = 1), legend_position = 'top', figure_size = (18, 12), panel_spacing = .3))\n",
    "\n",
    "p"
   ]
  },
  {
   "cell_type": "markdown",
   "metadata": {},
   "source": [
    "## Resting ECG interactive visualization"
   ]
  },
  {
   "cell_type": "code",
   "execution_count": null,
   "metadata": {},
   "outputs": [],
   "source": [
    "DATA_FILE = 'tidy_ecg.json'\n",
    "tidy_resting_ecg_signal.query(\"filtering in ['raw_mV']\").to_json(DATA_FILE, orient='records')"
   ]
  },
  {
   "cell_type": "code",
   "execution_count": null,
   "metadata": {},
   "outputs": [],
   "source": [
    "# Define the plot components.\n",
    "brush = alt.selection(type='interval', encodings=['x'])\n",
    "\n",
    "lead_dropdown = alt.binding_select(options=list(tidy_resting_ecg_signal.lead.unique()))\n",
    "lead_select = alt.selection_single(fields=['lead'], bind=lead_dropdown, name='Choose just one to view',\n",
    "                                   init={'lead': tidy_resting_ecg_signal.lead.unique()[0]})\n",
    "\n",
    "upper = alt.Chart(DATA_FILE).mark_line().encode(\n",
    "    alt.X('ts_reference:Q', scale=alt.Scale(domain=brush)),\n",
    "    y='signal_mV:Q',\n",
    "    color=alt.Color('lead:N', legend=alt.Legend(orient='top'),\n",
    "                    title='Lead(s) currently displayed')\n",
    ").properties(width=900, height=250, title='Resting ECG for {}'.format(SAMPLE_TO_REVIEW)\n",
    ").add_selection(lead_select\n",
    ").transform_filter(lead_select)\n",
    "\n",
    "lower = upper.properties(height=50, title='Brush over this subplot to select a time interval.'\n",
    ").add_selection(brush\n",
    ").add_selection(lead_select\n",
    ").transform_filter(lead_select)\n",
    "\n",
    "# TODO: Apply a Calculate Transform for alternate signal filtering https://altair-viz.github.io/user_guide/transform.html#calculate-transform"
   ]
  },
  {
   "cell_type": "markdown",
   "metadata": {},
   "source": [
    "<div class=\"alert alert-block alert-info\">\n",
    "<b>Tip:</b> Copy, paste, and run the 'display plot components' cell how ever many times you like to view several leads simultaneously.\n",
    "</div>"
   ]
  },
  {
   "cell_type": "code",
   "execution_count": null,
   "metadata": {},
   "outputs": [],
   "source": [
    "df"
   ]
  },
  {
   "cell_type": "code",
   "execution_count": null,
   "metadata": {},
   "outputs": [],
   "source": [
    "## Display plot components.\n",
    "upper & lower"
   ]
  },
  {
   "cell_type": "markdown",
   "metadata": {},
   "source": [
    "## Exercise ECG interactive visualization"
   ]
  },
  {
   "cell_type": "code",
   "execution_count": null,
   "metadata": {},
   "outputs": [],
   "source": [
    "TREND_DATA_FILE = 'tidy_exercise_ecg_trend.json'\n",
    "SIGNAL_DATA_FILE = 'tidy_exercise_ecg_signal.json'\n",
    "exercise_ecg_trend.to_json(TREND_DATA_FILE, orient='records')\n",
    "exercise_ecg_signal.to_json(SIGNAL_DATA_FILE, orient='records')"
   ]
  },
  {
   "cell_type": "code",
   "execution_count": null,
   "metadata": {},
   "outputs": [],
   "source": [
    "# Define the plot components.\n",
    "brush = alt.selection_single(on='mouseover', nearest=True, fields=['time'], init={'time': 200.0})\n",
    "\n",
    "lead_dropdown = alt.binding_select(options=list(exercise_ecg_signal.lead.unique()))\n",
    "lead_select = alt.selection_single(fields=['lead'], bind=lead_dropdown, name='Choose just one to view',\n",
    "                                   init={'lead': exercise_ecg_signal.lead.unique()[0]})\n",
    "\n",
    "trend = alt.Chart(TREND_DATA_FILE).mark_point(opacity=0.8, filled=True, size=100).encode(\n",
    "    x='time:Q',\n",
    "    color=alt.Color('phasename:N', legend=alt.Legend(orient='top'), title='Phase names'),\n",
    "    tooltip=['artifact:Q', 'grade:Q', 'heartrate:Q', 'load:Q', 'mets:Q', 'pacecount:Q',\n",
    "             'phasename:N', 'phasetime:Q', 'time:Q', 'vecount:Q']\n",
    ").properties(width=900, height=200, title='Click on a point to select a 10 second time interval.'\n",
    ").add_selection(brush)\n",
    "\n",
    "signal = alt.Chart(SIGNAL_DATA_FILE).mark_line().encode(\n",
    "    alt.X('time:Q', axis=alt.Axis(labelAngle=15)),\n",
    "    y='raw_mV:Q',\n",
    "    color=alt.Color('lead:N', legend=alt.Legend(orient='top'), title='Lead names'),\n",
    ").properties(width=900, height=200, title='Exercise ECG signal for {}'.format(SAMPLE_TO_REVIEW)\n",
    ").add_selection(lead_select\n",
    ").transform_filter(lead_select\n",
    ").transform_filter(\n",
    "    # https://github.com/altair-viz/altair/issues/1960\n",
    "    '((toNumber({}.time) - 5.0) < datum.time) && (datum.time < toNumber({}.time) + 5.0)'.format(brush.name, brush.name)\n",
    ")"
   ]
  },
  {
   "cell_type": "code",
   "execution_count": null,
   "metadata": {},
   "outputs": [],
   "source": [
    "df"
   ]
  },
  {
   "cell_type": "code",
   "execution_count": null,
   "metadata": {},
   "outputs": [],
   "source": [
    "## Display plot components.\n",
    "trend.encode(y='heartrate:Q') & trend.encode(y='load:Q') & signal"
   ]
  },
  {
   "cell_type": "markdown",
   "metadata": {},
   "source": [
    "## Cardiac MRI visualization"
   ]
  },
  {
   "cell_type": "code",
   "execution_count": null,
   "metadata": {},
   "outputs": [],
   "source": [
    "df"
   ]
  },
  {
   "cell_type": "code",
   "execution_count": null,
   "metadata": {},
   "outputs": [],
   "source": [
    "dicom_plots.choose_cardiac_mri(sample_id=SAMPLE_TO_REVIEW)"
   ]
  },
  {
   "cell_type": "markdown",
   "metadata": {},
   "source": [
    "## Brain and other MRIs interactive visualization\n",
    "\n",
    "<div class=\"alert alert-block alert-info\">\n",
    "<b>Tip:</b> Click on the image instance slider and then use the left/right arrows to animate the image.\n",
    "</div>"
   ]
  },
  {
   "cell_type": "code",
   "execution_count": null,
   "metadata": {},
   "outputs": [],
   "source": [
    "df"
   ]
  },
  {
   "cell_type": "code",
   "execution_count": null,
   "metadata": {},
   "outputs": [],
   "source": [
    "dicom_interactive_plots.choose_mri(sample_id=SAMPLE_TO_REVIEW)"
   ]
  },
  {
   "cell_type": "markdown",
   "metadata": {},
   "source": [
    "## Annotate the sample\n",
    "\n",
    "Run the following cell, then select the relevant key on which you wish to comment, and enter your comment in the text box. Click the button to submit your annotation."
   ]
  },
  {
   "cell_type": "code",
   "execution_count": null,
   "metadata": {},
   "outputs": [],
   "source": [
    "annotations.display_annotation_collector(sample_info, SAMPLE_TO_REVIEW)"
   ]
  },
  {
   "cell_type": "markdown",
   "metadata": {},
   "source": [
    "Let's take a look at the most recently added annotations."
   ]
  },
  {
   "cell_type": "code",
   "execution_count": null,
   "metadata": {},
   "outputs": [],
   "source": [
    "annotations.view_submissions(count=10)"
   ]
  },
  {
   "cell_type": "markdown",
   "metadata": {},
   "source": [
    "# Provenance"
   ]
  },
  {
   "cell_type": "code",
   "execution_count": null,
   "metadata": {},
   "outputs": [],
   "source": [
    "import datetime\n",
    "print(datetime.datetime.now())"
   ]
  },
  {
   "cell_type": "code",
   "execution_count": null,
   "metadata": {},
   "outputs": [],
   "source": [
    "%%bash\n",
    "pip3 freeze"
   ]
  },
  {
   "cell_type": "markdown",
   "metadata": {},
   "source": [
    "Questions about these particular notebooks? Reach out to Puneet Batra pbatra@broadinstitute.org, Paolo Di Achille pdiachil@broadinstitute.org, and Nicole Deflaux deflaux@verily.com."
   ]
  }
 ],
 "metadata": {
  "kernelspec": {
   "display_name": "Python 3",
   "language": "python",
   "name": "python3"
  },
  "language_info": {
   "codemirror_mode": {
    "name": "ipython",
    "version": 3
   },
   "file_extension": ".py",
   "mimetype": "text/x-python",
   "name": "python",
   "nbconvert_exporter": "python",
   "pygments_lexer": "ipython3",
   "version": "3.7.7"
  },
  "toc": {
   "base_numbering": 1,
   "nav_menu": {},
   "number_sections": true,
   "sideBar": true,
   "skip_h1_title": false,
   "title_cell": "Table of Contents",
   "title_sidebar": "Contents",
   "toc_cell": false,
   "toc_position": {
    "height": "calc(100% - 180px)",
    "left": "10px",
    "top": "150px",
    "width": "233px"
   },
   "toc_section_display": true,
   "toc_window_display": true
  }
 },
 "nbformat": 4,
 "nbformat_minor": 4
}
