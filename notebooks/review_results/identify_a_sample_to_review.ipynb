{
 "cells": [
  {
   "cell_type": "markdown",
   "metadata": {},
   "source": [
    "# Review model results - Step 1 - Identify a sample to review"
   ]
  },
  {
   "cell_type": "markdown",
   "metadata": {},
   "source": [
    "# Setup\n",
    "\n",
    "<div class=\"alert alert-block alert-warning\">\n",
    "    This notebook assumes:\n",
    "    <ul>\n",
    "        <li><b>Terra</b> is running custom Docker image <kbd>gcr.io/uk-biobank-sek-data/ml4cvd_terra:20200226_122553</kbd>.</li>\n",
    "        <li><b>ml4cvd</b> is running custom Docker image <kbd>gcr.io/broad-ml4cvd/deeplearning:tf2-latest-gpu</kbd>.</li>\n",
    "    </ul>\n",
    "</div>\n",
    "\n",
    "<div class=\"alert alert-block alert-danger\">\n",
    "    Problems:\n",
    "    <ul>\n",
    "        <li><b>ml4cvd</b> notebooks do not currently have permission to access data in project <a href='https://console.cloud.google.com/bigquery?project=uk-biobank-sek-data'>uk-biobank-sek-data</a>\n",
    "</li>\n",
    "        <li><b>Terra</b> notebooks with Facets for interactive data exploration are broken in the latest version of chrome. The work-around described in <a href=\"https://github.com/PAIR-code/facets/issues/207\">https://github.com/PAIR-code/facets/issues/207</a> is in place but a bit more work is needed per <a href=\"https://broadworkbench.atlassian.net/browse/IA-1684\">https://broadworkbench.atlassian.net/browse/IA-1684</a>.</li>\n",
    "    </ul>\n",
    "</div>"
   ]
  },
  {
   "cell_type": "code",
   "execution_count": null,
   "metadata": {},
   "outputs": [],
   "source": [
    "# TODO(deflaux): remove this cell after gcr.io/broad-ml4cvd/deeplearning:tf2-latest-gpu has this preinstalled.\n",
    "from ml4cvd.runtime_data_defines import determine_runtime\n",
    "from ml4cvd.runtime_data_defines import Runtime\n",
    "\n",
    "if Runtime.ML4CVD_VM == determine_runtime():\n",
    "    !pip3 install --user facets-overview"
   ]
  },
  {
   "cell_type": "code",
   "execution_count": null,
   "metadata": {},
   "outputs": [],
   "source": [
    "from ml4cvd.visualization_tools.facets import FacetsOverview, FacetsDive  # Interactive data exploration of tabular data.\n",
    "import numpy as np\n",
    "import os\n",
    "import pandas as pd\n",
    "import re"
   ]
  },
  {
   "cell_type": "code",
   "execution_count": null,
   "metadata": {},
   "outputs": [],
   "source": [
    "%load_ext google.cloud.bigquery"
   ]
  },
  {
   "cell_type": "markdown",
   "metadata": {},
   "source": [
    "# Identify a sample to review\n",
    "\n",
    "<div class=\"alert alert-block alert-info\">\n",
    "    If you want to change the SQL below, you can view the available tables:\n",
    "    <ul>\n",
    "        <li><a href=\"https://storage.cloud.google.com/uk-biobank-sek-data-us-east1/ukb21481.html\">phenotype descriptions</a>\n",
    "        <li><a href=\"https://bigquery.cloud.google.com/table/uk-biobank-sek-data:raw_phenotypes.ukb9222_no_empty_strings_20181128\">phenotype values</a>\n",
    "        <li><a href=\"https://bigquery.cloud.google.com/dataset/uk-biobank-sek-data:a_ttl_one_week\">available ML results</a>\n",
    "    </ul>      \n",
    "<div>\n"
   ]
  },
  {
   "cell_type": "code",
   "execution_count": null,
   "metadata": {},
   "outputs": [],
   "source": [
    "%%bigquery sample_info\n",
    "\n",
    "---[ EDIT THIS QUERY IF YOU LIKE ]---\n",
    "\n",
    "SELECT\n",
    "  sample_id,\n",
    "  CASE u31_0_0\n",
    "    WHEN 0 THEN 'Female'\n",
    "    WHEN 1 THEN 'Male'\n",
    "    ELSE 'Unknown' END AS sex_at_birth,\n",
    "  u21003_0_0 AS age_at_assessment,\n",
    "  u21001_0_0 AS bmi,\n",
    "  CASE u1249_0_0\n",
    "    WHEN 1 THEN 'Smoked on most or all days'\n",
    "    WHEN 2 THEN 'Smoked occasionally'\n",
    "    WHEN 3 THEN 'Just tried once or twice'\n",
    "    WHEN 4 THEN 'I have never smoked'\n",
    "    WHEN -3 THEN 'Prefer not to answer' END AS past_tobacco_smoking,\n",
    "  ecg.* EXCEPT(sample_id)\n",
    "FROM\n",
    "  `uk-biobank-sek-data.raw_phenotypes.ukb9222_no_empty_strings_20181128`\n",
    "INNER JOIN\n",
    "  `uk-biobank-sek-data.ml_results.inference_ecg_rest_age_sex_autoencode_lvmass` AS ecg\n",
    "ON\n",
    "  eid = sample_id"
   ]
  },
  {
   "cell_type": "code",
   "execution_count": null,
   "metadata": {},
   "outputs": [],
   "source": [
    "%%bigquery sample_info\n",
    "\n",
    "---[ Demonstrate that this notebook will work once ml4cvd permissions are sorted out. ]---\n",
    "\n",
    "SELECT * FROM `bigquery-public-data.human_genome_variants.1000_genomes_sample_info`"
   ]
  },
  {
   "cell_type": "code",
   "execution_count": null,
   "metadata": {},
   "outputs": [],
   "source": [
    "sample_info.shape"
   ]
  },
  {
   "cell_type": "code",
   "execution_count": null,
   "metadata": {},
   "outputs": [],
   "source": [
    "# Compute the deltas between actual values and predicted value columns.\n",
    "actual_regexp = re.compile('^(\\w+)_actual$')\n",
    "for actual_col in sample_info.columns:\n",
    "  if actual_col.endswith('_actual'):\n",
    "    prediction_col = actual_regexp.sub(r'\\1_prediction', actual_col)\n",
    "    if prediction_col in sample_info.columns:\n",
    "      delta_col = actual_regexp.sub(r'\\1_delta', actual_col)\n",
    "      print('Adding ' + delta_col)\n",
    "      sample_info[delta_col] = (sample_info[actual_col].astype('float')\n",
    "                                - sample_info[prediction_col].astype('float'))\n",
    "        \n",
    "sample_info.shape"
   ]
  },
  {
   "cell_type": "markdown",
   "metadata": {},
   "source": [
    "## Facets Overview\n",
    "\n",
    "Use this visualization to get an overview of the type and distribution of sample information available.\n",
    "\n",
    "For detailed instructions, see [Facets Overview](https://pair-code.github.io/facets/)."
   ]
  },
  {
   "cell_type": "code",
   "execution_count": null,
   "metadata": {},
   "outputs": [],
   "source": [
    "FacetsOverview(sample_info)"
   ]
  },
  {
   "cell_type": "markdown",
   "metadata": {},
   "source": [
    "## Facets Dive\n",
    "\n",
    "Use this visualization to get an overview the distributions of values for *groups* of samples.\n",
    "\n",
    "For detailed instructions, see [Facets Dive](https://pair-code.github.io/facets/).\n",
    "\n",
    "**NOTE**:\n",
    "* It might take a few seconds for the visualization to appear.\n",
    "* If the table of contents pane is in the way of the column selector drop down, click on the button to turn the table of contents off.\n",
    "* Try:\n",
    " * Binning | X-Axis: `sex_at_birth`\n",
    " * Binning | Y-Axis: `bmi`, use the 'count' drop down to increase/decrease the number of categorical bins\n",
    " * Label By: `sample_id`\n",
    " * Color By: `age_at_assesment`\n",
    " * Scatter | X-Axis: `LVM_prediction_sentinel_actual`\n",
    " * Scatter | Y-Axis: `LVM_prediction_sentinel_prediction`\n",
    " \n",
    "Zoom in, click on the sample(s) of interest and you'll see a pane on the right hand side with all the data for the sample **including the sample_id** which you should use for the next step."
   ]
  },
  {
   "cell_type": "code",
   "execution_count": null,
   "metadata": {},
   "outputs": [],
   "source": [
    "FacetsDive(sample_info)"
   ]
  },
  {
   "cell_type": "markdown",
   "metadata": {},
   "source": [
    "# Provenance"
   ]
  },
  {
   "cell_type": "code",
   "execution_count": null,
   "metadata": {},
   "outputs": [],
   "source": [
    "import datetime\n",
    "print(datetime.datetime.now())"
   ]
  },
  {
   "cell_type": "code",
   "execution_count": null,
   "metadata": {},
   "outputs": [],
   "source": [
    "%%bash\n",
    "pip3 freeze"
   ]
  },
  {
   "cell_type": "markdown",
   "metadata": {},
   "source": [
    "Questions about these particular notebooks? Reach out to Puneet Batra pbatra@broadinstitute.org, Paolo Di Achille pdiachil@broadinstitute.org, and Nicole Deflaux deflaux@verily.com."
   ]
  }
 ],
 "metadata": {
  "kernelspec": {
   "display_name": "Python 3",
   "language": "python",
   "name": "python3"
  },
  "language_info": {
   "codemirror_mode": {
    "name": "ipython",
    "version": 3
   },
   "file_extension": ".py",
   "mimetype": "text/x-python",
   "name": "python",
   "nbconvert_exporter": "python",
   "pygments_lexer": "ipython3",
   "version": "3.7.6"
  },
  "toc": {
   "base_numbering": 1,
   "nav_menu": {},
   "number_sections": true,
   "sideBar": true,
   "skip_h1_title": false,
   "title_cell": "Table of Contents",
   "title_sidebar": "Contents",
   "toc_cell": false,
   "toc_position": {
    "height": "calc(100% - 180px)",
    "left": "10px",
    "top": "150px",
    "width": "233px"
   },
   "toc_section_display": true,
   "toc_window_display": true
  }
 },
 "nbformat": 4,
 "nbformat_minor": 4
}
