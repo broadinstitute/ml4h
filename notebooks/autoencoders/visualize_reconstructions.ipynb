{
 "cells": [
  {
   "cell_type": "code",
   "execution_count": null,
   "metadata": {},
   "outputs": [],
   "source": [
    "from ipywidgets import interact, FloatSlider, interactive_output, BoundedIntText, interactive, GridspecLayout, Dropdown, Layout\n",
    "import numpy as np\n",
    "import seaborn as sns\n",
    "\n",
    "import sys\n",
    "import argparse\n",
    "\n",
    "# ml4h Imports\n",
    "from ml4h.arguments import parse_args\n",
    "from sklearn.decomposition import PCA\n",
    "\n",
    "from bokeh.io import push_notebook, show, output_notebook\n",
    "from bokeh.plotting import figure\n",
    "from ml4h.models import make_variational_multimodal_multitask_model, train_model_from_generators\n",
    "from ml4h.tensor_generators import test_train_valid_tensor_generators, big_batch_from_minibatch_generator\n",
    "from ml4h.recipes import train_multimodal_multitask\n",
    "import matplotlib.pyplot as plt\n",
    "from itertools import product\n",
    "%matplotlib inline\n",
    "output_notebook()"
   ]
  },
  {
   "cell_type": "code",
   "execution_count": null,
   "metadata": {},
   "outputs": [],
   "source": [
    "from IPython.core.display import display, HTML\n",
    "display(HTML(\"<style>.container { width:90% !important; }</style>\"))  # WIDER DISPLAY FOR WIDGETS"
   ]
  },
  {
   "cell_type": "code",
   "execution_count": null,
   "metadata": {},
   "outputs": [],
   "source": [
    "sys.argv = [\n",
    "    'train',\n",
    "    '--tensors', '/mnt/disks/ecg-rest-31k/2019-06-10',\n",
    "    '--input_tensors', 'ecg_rest_median',\n",
    "    '--output_tensors', 'ecg_rest_median',\n",
    "    '--training_steps', '150',\n",
    "    '--validation_steps', '30',\n",
    "    '--epochs', '200',\n",
    "    '--batch_size', '32',\n",
    "    '--output_folder', '/home/ndiamant/train_runs/',\n",
    "    '--dense_layers', '32',\n",
    "    '--id', 'vae_ecg_short_for_explore',\n",
    "    '--variational',\n",
    "    '--model_file', '/home/ndiamant/train_runs/vae_ecg_short_for_explore/vae_ecg_short_for_explore.hd5',\n",
    "]\n",
    "args = parse_args()"
   ]
  },
  {
   "cell_type": "code",
   "execution_count": null,
   "metadata": {},
   "outputs": [],
   "source": [
    "m, enc, dec = make_variational_multimodal_multitask_model(**args.__dict__)"
   ]
  },
  {
   "cell_type": "code",
   "execution_count": null,
   "metadata": {},
   "outputs": [],
   "source": [
    "generate_train, generate_valid, generate_test = test_train_valid_tensor_generators(**args.__dict__)"
   ]
  },
  {
   "cell_type": "code",
   "execution_count": null,
   "metadata": {},
   "outputs": [],
   "source": [
    "x_test_in, x_test_out, _ = big_batch_from_minibatch_generator(generate_test, minibatches=64)\n",
    "input_key = list(x_test_in.keys())[0]\n",
    "pred = m.predict(x_test_in)\n",
    "encoded = enc.predict(x_test_in)"
   ]
  },
  {
   "cell_type": "code",
   "execution_count": null,
   "metadata": {},
   "outputs": [],
   "source": [
    "for i in range(6):\n",
    "    plt.figure(figsize=(10, 5))\n",
    "    plt.title(f'Latent dim {i} distribution.')\n",
    "    sns.distplot(encoded[:, i], bins=25)\n",
    "    plt.show()\n",
    "    plt.figure(figsize=(10, 5))\n",
    "    \n",
    "    plt.plot(x_test_in[input_key][i, :, 0], label='og')\n",
    "    plt.plot(pred[i, :, 0], c='k', linestyle='--', label='reconstructed')\n",
    "    plt.legend()\n",
    "    plt.show()"
   ]
  },
  {
   "cell_type": "code",
   "execution_count": null,
   "metadata": {},
   "outputs": [],
   "source": [
    "p = figure(title=\"ECG reconstruction\", plot_height=400, plot_width=1200, y_range=(pred.min(), pred.max()),\n",
    "           background_fill_color='#efefef')\n",
    "x = np.arange(x_test_in[input_key].shape[1])\n",
    "y = pred[0, :, 0]\n",
    "r = p.line(x, y, color=\"#8888cc\", line_width=1.5, alpha=0.8, legend_label='Reconstruction from Slider Values')\n",
    "og_recon = p.line(x, y, color='black', line_width=1, line_dash='dashed', legend_label='Sample Reconstruction')\n",
    "og = p.line(x, y, color='red', line_width=1, line_dash='dotted', legend_label='Original Sample')\n",
    "p.legend.click_policy=\"hide\"\n",
    "ndim = encoded.shape[-1]\n",
    "\n",
    "class Updater:    \n",
    "    def __init__(self):\n",
    "        self.sliders = [\n",
    "            FloatSlider(min=-3, max=3, step=.01, value=encoded[0, i], description=f'latent {i}') \n",
    "            for i in range(ndim)\n",
    "        ]\n",
    "\n",
    "        self.sample_slider = BoundedIntText(min=0, max=len(pred)-1)\n",
    "        self.channel_slider = Dropdown(options=list(range(pred.shape[-1])))\n",
    "        for slider in self.sliders:\n",
    "            slider.observe(self._slider_callback, names='value')\n",
    "        self.prev_sample = 0\n",
    "        self.__name__ = 'update_latent_values'\n",
    "        \n",
    "    def _slider_callback(self, change):\n",
    "        self(sample=self.sample_slider.value, channel=self.channel_slider.value)\n",
    "    \n",
    "    #self = None is gross, but necessary to avoid error in interact\n",
    "    def __call__(self=None, sample=0, channel=0):\n",
    "        if self.prev_sample != sample:\n",
    "            for i, slider in enumerate(self.sliders):\n",
    "                slider.value = encoded[sample, i]\n",
    "            self.prev_sample = sample\n",
    "        z = np.array([[slider.value for slider in self.sliders]])\n",
    "        recon = dec.predict(z)\n",
    "        r.data_source.data['y'] = recon[0, :, channel]\n",
    "        og_recon.data_source.data['y'] = pred[sample, :, channel]\n",
    "        og.data_source.data['y'] = x_test_in[input_key][sample, :, channel]\n",
    "        push_notebook()"
   ]
  },
  {
   "cell_type": "code",
   "execution_count": null,
   "metadata": {},
   "outputs": [],
   "source": [
    "show(p, notebook_handle=True)\n",
    "update = Updater()\n",
    "interact(update, sample=update.sample_slider, channel=update.channel_slider)\n",
    "grid = GridspecLayout(ndim // 4, 4)\n",
    "for k, (i, j) in enumerate(product(range(ndim // 4), range(4))):\n",
    "    grid[i, j] = update.sliders[k]\n",
    "grid"
   ]
  },
  {
   "cell_type": "code",
   "execution_count": null,
   "metadata": {},
   "outputs": [],
   "source": [
    "pca = PCA()\n",
    "pca.fit(encoded)\n",
    "plt.title('Scree plot for latent variables')\n",
    "plt.plot(pca.explained_variance_ratio_)\n",
    "plt.show()"
   ]
  },
  {
   "cell_type": "code",
   "execution_count": null,
   "metadata": {},
   "outputs": [],
   "source": [
    "plt.figure(figsize=(10, 7))\n",
    "sum_variance = pca.explained_variance_ratio_.cumsum()\n",
    "plt.plot(sum_variance)\n",
    "plt.axhline(.9, c='g', linestyle='--', label='90% variance explained')\n",
    "pct_90 = np.where(sum_variance > .9)[0][0]\n",
    "plt.axvline(pct_90, c='r', linestyle='--', label=f'# pcs for 90% variance explained: {pct_90}')\n",
    "plt.legend()\n",
    "plt.show()"
   ]
  },
  {
   "cell_type": "code",
   "execution_count": null,
   "metadata": {},
   "outputs": [],
   "source": []
  }
 ],
 "metadata": {
  "kernelspec": {
   "display_name": "Python 3",
   "language": "python",
   "name": "python3"
  },
  "language_info": {
   "codemirror_mode": {
    "name": "ipython",
    "version": 3
   },
   "file_extension": ".py",
   "mimetype": "text/x-python",
   "name": "python",
   "nbconvert_exporter": "python",
   "pygments_lexer": "ipython3",
   "version": "3.6.8"
  }
 },
 "nbformat": 4,
 "nbformat_minor": 2
}
