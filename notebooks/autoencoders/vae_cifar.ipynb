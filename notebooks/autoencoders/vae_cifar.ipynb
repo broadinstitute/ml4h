{
 "cells": [
  {
   "cell_type": "code",
   "execution_count": null,
   "metadata": {},
   "outputs": [],
   "source": [
    "#vae.py\n",
    "import numpy as np\n",
    "\n",
    "from tensorflow.keras.models import Model\n",
    "from keras import backend as K\n",
    "from tensorflow.keras.regularizers import l1\n",
    "from tensorflow.keras.utils import plot_model\n",
    "from tensorflow.keras.datasets import mnist, cifar10\n",
    "from tensorflow.keras.layers import Lambda, Input, Dense, Flatten, Reshape, Dropout\n",
    "from tensorflow.keras.losses import mse, binary_crossentropy, kullback_leibler_divergence\n",
    "from tensorflow.keras.layers.convolutional import Conv2D, Conv2DTranspose, UpSampling2D, MaxPooling2D\n",
    "\n",
    "%matplotlib inline\n",
    "import matplotlib.pyplot as plt"
   ]
  },
  {
   "cell_type": "code",
   "execution_count": null,
   "metadata": {},
   "outputs": [],
   "source": [
    "# CIFAR dataset\n",
    "(x_train, y_train), (x_test, y_test) = cifar10.load_data()\n",
    "x_train = (x_train.astype('float32')/256.0)\n",
    "x_test = (x_test.astype('float32')/256.0)\n",
    "\n",
    "original_dim = 3072 # x_train.shape[1]\n",
    "print('x shape', x_train.shape, 'y shape', y_train.shape,'x shape', x_test.shape, 'y shape', y_test.shape)\n",
    "\n",
    "# network parameters\n",
    "input_shape = (x_train.shape[1:])\n",
    "dropout_rate = 0.1\n",
    "batch_size = 1024\n",
    "latent_dim = 8\n",
    "epochs = 10"
   ]
  },
  {
   "cell_type": "code",
   "execution_count": null,
   "metadata": {},
   "outputs": [],
   "source": [
    "def sampling(args):\n",
    "    \"\"\"Reparameterization trick by sampling from an isotropic unit Gaussian.\n",
    "    # Arguments\n",
    "        args (tensor): mean and log of variance of Q(z|X)\n",
    "    # Returns\n",
    "        z (tensor): sampled latent vector\n",
    "    \"\"\"\n",
    "    z_mean, z_log_var = args\n",
    "    epsilon = K.random_normal(shape=(K.shape(z_mean)))\n",
    "    return z_mean + K.exp(0.5 * z_log_var) * epsilon"
   ]
  },
  {
   "cell_type": "code",
   "execution_count": null,
   "metadata": {},
   "outputs": [],
   "source": [
    "# VAE model = encoder + decoder\n",
    "# build encoder model\n",
    "inputs = Input(shape=input_shape, name='encoder_input')\n",
    "x = Conv2D(256, 3, strides=2, activation='relu', padding='same')(inputs)\n",
    "x = Dropout(dropout_rate)(x)\n",
    "x = Conv2D(128, 3, strides=2, activation='relu', padding='same')(x)\n",
    "x = Dropout(dropout_rate)(x)\n",
    "x = Conv2D(96, 3, activation='relu', padding='same')(x)\n",
    "x = Dropout(dropout_rate)(x)\n",
    "\n",
    "z_mean = Dense(latent_dim, name='z_mean')(x)\n",
    "z_log_var = Dense(latent_dim, name='z_log_var')(x)\n",
    "\n",
    "# use reparameterization trick to push the sampling out as input\n",
    "# note that \"output_shape\" isn't necessary with the TensorFlow backend\n",
    "z = Lambda(sampling, name='z')([z_mean, z_log_var])\n",
    "\n",
    "# instantiate encoder model\n",
    "encoder = Model(inputs, [z_mean, z_log_var, z], name='encoder')\n",
    "encoder.summary()\n",
    "\n",
    "# build decoder model\n",
    "inner_shape = (8, 8, latent_dim)\n",
    "latent_inputs = Input(shape=inner_shape, name='z_sampling')\n",
    "x = Conv2DTranspose(96, 3, strides=2, activation='relu', padding='same')(latent_inputs)\n",
    "x = Conv2DTranspose(128, 3, strides=2, activation='relu', padding='same')(x)\n",
    "x = Conv2DTranspose(160, 3, activation='relu', padding='same')(x)\n",
    "outputs = Conv2D(3, 1, activation='linear')(x)\n",
    "\n",
    "# instantiate decoder model\n",
    "decoder = Model(latent_inputs, outputs, name='decoder')\n",
    "decoder.summary()"
   ]
  },
  {
   "cell_type": "code",
   "execution_count": null,
   "metadata": {},
   "outputs": [],
   "source": [
    "# instantiate VAE model\n",
    "outputs = decoder(encoder(inputs)[2])\n",
    "vae = Model(inputs, outputs, name='vae_cnn')\n",
    "vae.summary()\n",
    "\n",
    "# Compute VAE loss\n",
    "def vae_loss(y_true, y_pred):\n",
    "    #reconstruction_loss = original_dim*binary_crossentropy(y_true, y_pred)\n",
    "    reconstruction_loss = original_dim*mse(y_true, y_pred)\n",
    "    kl_loss = - 0.5 * K.sum(1 + z_log_var - K.square(z_mean) - K.exp(z_log_var), axis=-1)\n",
    "    vae_loss = K.mean(K.mean(reconstruction_loss) + kl_loss)\n",
    "    return vae_loss\n",
    "vae.compile(optimizer='adam', loss=vae_loss)\n",
    "vae.summary()\n",
    "\n",
    "vae.fit(x_train, x_train, shuffle=True, batch_size=batch_size, epochs=epochs, validation_data=(x_test, x_test))"
   ]
  },
  {
   "cell_type": "code",
   "execution_count": null,
   "metadata": {},
   "outputs": [],
   "source": [
    "x_test_encoded = encoder.predict(x_test, batch_size=batch_size)\n",
    "plt.figure(figsize=(6, 6))\n",
    "plt.scatter(x_test_encoded[2][:, 0, 0, 0], x_test_encoded[2][:, 0, 0, 1], c=y_test[:,0], cmap='jet')\n",
    "plt.colorbar()\n",
    "plt.show()"
   ]
  },
  {
   "cell_type": "code",
   "execution_count": null,
   "metadata": {},
   "outputs": [],
   "source": [
    "n = 20  # how many digits we will display\n",
    "image_shape = (32, 32, 3)\n",
    "plt.figure(figsize=(20, 4))\n",
    "x_test_generated = vae.predict(x_test, batch_size=batch_size)\n",
    "x_test_generated2 = decoder.predict(x_test_encoded[2])\n",
    "for i in range(n):\n",
    "    # display original\n",
    "    ax = plt.subplot(2, n, i + 1)\n",
    "    plt.imshow(x_test[i].reshape(image_shape))\n",
    "    plt.gray()\n",
    "    ax.get_xaxis().set_visible(False)\n",
    "    ax.get_yaxis().set_visible(False)\n",
    "\n",
    "    # display reconstruction\n",
    "    ax = plt.subplot(2, n, i + 1 + n)\n",
    "    plt.imshow(x_test_generated[i].reshape(image_shape))\n",
    "    plt.gray()\n",
    "    ax.get_xaxis().set_visible(False)\n",
    "    ax.get_yaxis().set_visible(False)\n",
    "plt.show()"
   ]
  },
  {
   "cell_type": "code",
   "execution_count": null,
   "metadata": {},
   "outputs": [],
   "source": [
    "# display a 2D manifold of the digits\n",
    "n = 15  # figure with 15x15 digits\n",
    "digit_size = image_shape[0]\n",
    "figure = np.zeros((digit_size * n, digit_size * n, 3))\n",
    "\n",
    "grid_x = np.linspace(-1, 1, n)\n",
    "grid_y = np.linspace(-1, 1, n)\n",
    "corners = np.random.normal(size=(4, 1,) + inner_shape)\n",
    "for i, yi in enumerate(grid_x):\n",
    "    for j, xi in enumerate(grid_y):\n",
    "        z_sample = np.zeros((1,) + inner_shape)\n",
    "        z_sample[0, :, :, 6] = xi\n",
    "        z_sample[0, :, :, 7] = yi\n",
    "        #z_sample = corners[0]*xi*yi + corners[0]*xi*(1-yi) + corners[0]*(1-xi)*yi + corners[0]*(1-xi)*(1-yi)\n",
    "        x_decoded = decoder.predict(z_sample)\n",
    "        digit = x_decoded[0].reshape(image_shape)\n",
    "        figure[i * digit_size: (i + 1) * digit_size, j * digit_size: (j + 1) * digit_size, :] = digit\n",
    "\n",
    "plt.figure(figsize=(10, 10))\n",
    "plt.imshow(figure)\n",
    "plt.show()"
   ]
  },
  {
   "cell_type": "code",
   "execution_count": null,
   "metadata": {},
   "outputs": [],
   "source": [
    "# display a 2D manifold of the digits\n",
    "n = 15  # figure with 15x15 digits\n",
    "figure = np.zeros((digit_size * n, digit_size * n, 3))\n",
    "\n",
    "grid_x = np.linspace(0, 1, n)\n",
    "grid_y = np.linspace(0, 1, n)\n",
    "for i, alpha in enumerate(grid_x):\n",
    "    for j, alpha2 in enumerate(grid_x):\n",
    "        z = (alpha*alpha2*x_test_encoded[2][16])\n",
    "        z += ((1-alpha)*alpha2*x_test_encoded[2][6])\n",
    "        z += (alpha*(1-alpha2)*x_test_encoded[2][13])\n",
    "        z += ((1-alpha)*(1-alpha2)*x_test_encoded[2][9])\n",
    "        z = np.expand_dims(z, axis = 0)\n",
    "        x_decoded = decoder.predict(z)\n",
    "        digit = x_decoded[0].reshape(image_shape)\n",
    "        figure[j * digit_size: (j + 1) * digit_size, i * digit_size: (i + 1) * digit_size, :] = digit\n",
    "\n",
    "plt.figure(figsize=(10, 10))\n",
    "plt.imshow(figure)\n",
    "plt.show()"
   ]
  },
  {
   "cell_type": "code",
   "execution_count": null,
   "metadata": {},
   "outputs": [],
   "source": []
  },
  {
   "cell_type": "code",
   "execution_count": null,
   "metadata": {},
   "outputs": [],
   "source": []
  }
 ],
 "metadata": {
  "kernelspec": {
   "display_name": "Python 3",
   "language": "python",
   "name": "python3"
  },
  "language_info": {
   "codemirror_mode": {
    "name": "ipython",
    "version": 3
   },
   "file_extension": ".py",
   "mimetype": "text/x-python",
   "name": "python",
   "nbconvert_exporter": "python",
   "pygments_lexer": "ipython3",
   "version": "3.6.8"
  }
 },
 "nbformat": 4,
 "nbformat_minor": 2
}
