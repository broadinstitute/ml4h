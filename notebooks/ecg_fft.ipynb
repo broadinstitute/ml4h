{
 "cells": [
  {
   "cell_type": "code",
   "execution_count": null,
   "metadata": {},
   "outputs": [],
   "source": [
    "import os\n",
    "import sys\n",
    "import math\n",
    "import argparse\n",
    "import numpy as np\n",
    "from collections import Counter\n",
    "import xml.etree.ElementTree as et \n",
    "\n",
    "# Keras imports\n",
    "from keras.models import Model\n",
    "from keras.optimizers import Adam\n",
    "from keras.utils.vis_utils import model_to_dot\n",
    "from keras.layers import Input, Dense, Dropout, AlphaDropout, BatchNormalization, Activation\n",
    "\n",
    "# ML4CVD Imports\n",
    "sys.path.append(\"../ml4cvd\")\n",
    "from plots import plot_ecg\n",
    "from arguments import parse_args\n",
    "from recipes import train_multimodal_multitask\n",
    "\n",
    "%matplotlib inline\n",
    "import matplotlib.pyplot as plt\n"
   ]
  },
  {
   "cell_type": "code",
   "execution_count": null,
   "metadata": {},
   "outputs": [],
   "source": [
    "strip_ekgs = {}\n",
    "ffts = {}\n",
    "xml_file = '/mnt/disks/data/raw/ecgs/5223300_20205_2_0.xml'\n",
    "\n",
    "root = et.parse(xml_file).getroot()\n",
    "for c in root.findall(\"./StripData/WaveformData\"):\n",
    "    strip_ekgs[c.attrib['lead']] = np.array(list(map(float, c.text.strip().split(','))))\n",
    "    ffts[c.attrib['lead']] = np.fft.fft(strip_ekgs[c.attrib['lead']])\n",
    "\n",
    "plot_ecg(strip_ekgs, 'strip')"
   ]
  },
  {
   "cell_type": "code",
   "execution_count": null,
   "metadata": {},
   "outputs": [],
   "source": [
    "for c in root.findall(\"./RestingECGMeasurements\"):\n",
    "    for child in c:\n",
    "        print(child.tag, child.text)\n",
    "        \n",
    "for d in root.findall(\"./Interpretation/Diagnosis/DiagnosisText\"):\n",
    "\tdiagnosis = ''.join(e for e in d.text if e.isalnum() or e == ' ')\n",
    "\tprint(diagnosis)\n",
    "\n",
    "    \n",
    "rows = int(math.ceil(math.sqrt(len(ffts))))\n",
    "cols = math.ceil(len(ffts)/rows)\n",
    "fig, axes = plt.subplots(rows, cols, figsize=(28,24))\n",
    "\n",
    "for i,k in enumerate(ffts):\n",
    "    ax = plt.subplot(rows, cols, i+1)\n",
    "    ax.set_title('Frequency Magnitude '+k)\n",
    "    freq = np.fft.fftfreq(ffts[k].shape[-1])\n",
    "    ax.plot(freq, np.abs(ffts[k]))\n",
    "    ax.set_ylim([-20, 60000])\n",
    "    ax.set_xlim([-0.06, 0.06])\n",
    "plt.tight_layout()\n",
    "plt.show()"
   ]
  },
  {
   "cell_type": "code",
   "execution_count": null,
   "metadata": {},
   "outputs": [],
   "source": [
    "xml_file = '/mnt/disks/data/raw/ecgs/4856206_20205_2_0.xml'\n",
    "\n",
    "root = et.parse(xml_file).getroot()\n",
    "for c in root.findall(\"./StripData/WaveformData\"):\n",
    "    strip_ekgs[c.attrib['lead']] = np.array(list(map(float, c.text.strip().split(','))))\n",
    "    ffts[c.attrib['lead']] = np.fft.fft(strip_ekgs[c.attrib['lead']])\n",
    "\n",
    "plot_ecg(strip_ekgs, 'strip_bradycardia')"
   ]
  },
  {
   "cell_type": "code",
   "execution_count": null,
   "metadata": {},
   "outputs": [],
   "source": [
    "root = et.parse(xml_file).getroot()\n",
    "for d in root.findall(\"./Interpretation/Diagnosis/DiagnosisText\"):\n",
    "    diagnosis = ''.join(e for e in d.text if e.isalnum() or e == ' ')\n",
    "    print(diagnosis)\n",
    "\n",
    "rows = int(math.ceil(math.sqrt(len(ffts))))\n",
    "cols = math.ceil(len(ffts)/rows)\n",
    "fig, axes = plt.subplots(rows, cols, figsize=(28,24))\n",
    "\n",
    "for i,k in enumerate(ffts):\n",
    "    ax = plt.subplot(rows, cols, i+1)\n",
    "    ax.set_title('FFT Magnitude '+k)\n",
    "    freq = np.fft.fftfreq(ffts[k].shape[-1])\n",
    "    ax.plot(freq, np.abs(ffts[k]))\n",
    "    ax.set_ylim([-20, 80000])\n",
    "    ax.set_xlim([-0.08, 0.08])\n",
    "plt.tight_layout()\n",
    "plt.show()"
   ]
  },
  {
   "cell_type": "code",
   "execution_count": null,
   "metadata": {},
   "outputs": [],
   "source": [
    "fig, axes = plt.subplots(rows, cols, figsize=(28,24))\n",
    "for i,k in enumerate(ffts):\n",
    "    ax = plt.subplot(rows, cols, i+1)\n",
    "    ax.set_title('FFT Magnitude '+k)\n",
    "    freq = np.fft.fftfreq(ffts[k].shape[-1])\n",
    "    ax.plot(freq, ffts[k].real, freq, ffts[k].imag)\n",
    "    ax.set_ylim([-80000, 80000])\n",
    "    ax.set_xlim([-0.04, 0.04])\n",
    "plt.tight_layout()\n",
    "plt.show()"
   ]
  }
 ],
 "metadata": {
  "kernelspec": {
   "display_name": "Python 3",
   "language": "python",
   "name": "python3"
  },
  "language_info": {
   "codemirror_mode": {
    "name": "ipython",
    "version": 3
   },
   "file_extension": ".py",
   "mimetype": "text/x-python",
   "name": "python",
   "nbconvert_exporter": "python",
   "pygments_lexer": "ipython3",
   "version": "3.6.3"
  }
 },
 "nbformat": 4,
 "nbformat_minor": 2
}
