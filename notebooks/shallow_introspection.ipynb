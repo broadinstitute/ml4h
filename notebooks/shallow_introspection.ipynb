{
 "cells": [
  {
   "cell_type": "code",
   "execution_count": null,
   "metadata": {},
   "outputs": [],
   "source": [
    "import os\n",
    "import sys\n",
    "import math\n",
    "import argparse\n",
    "import numpy as np\n",
    "from collections import Counter\n",
    "\n",
    "# Keras imports\n",
    "from tensorflow.keras.models import Model\n",
    "from keras import backend as K\n",
    "from sklearn.manifold import TSNE\n",
    "\n",
    "# ml4h Imports\n",
    "from ml4h.arguments import parse_args\n",
    "from ml4h.tensor_generators import test_train_valid_tensor_generators\n",
    "from ml4h.recipes import train_shallow_model, train_multimodal_multitask, test_multimodal_multitask\n",
    "from ml4h.models import make_multimodal_multitask_model, train_model_from_generators, make_shallow_model, make_hidden_layer_model\n",
    "\n",
    "# IPython imports\n",
    "from IPython.display import Image\n",
    "%matplotlib inline\n",
    "import matplotlib.pyplot as plt"
   ]
  },
  {
   "cell_type": "code",
   "execution_count": null,
   "metadata": {},
   "outputs": [],
   "source": [
    "sys.argv = ['train_shallow', \n",
    "            '--tensors', '/mnt/disks/survey-tensors2/2019-03-25/', \n",
    "            '--input_tensors', 'categorical-phenotypes-965', \n",
    "            '--output_tensors', 'allergic_rhinitis', 'anxiety', 'asthma', 'atrial_fibrillation_or_flutter', 'back_pain', \n",
    "            'breast_cancer', 'cardiac_surgery', 'cervical_cancer', 'colorectal_cancer', 'coronary_artery_disease_hard', \n",
    "            'coronary_artery_disease_intermediate', 'coronary_artery_disease_soft', 'death', 'diabetes_all', \n",
    "            'diabetes_type_1', 'diabetes_type_2', 'enlarged_prostate', 'heart_failure', 'hypertension', 'lung_cancer', \n",
    "            'migraine', 'myocardial_infarction', 'osteoporosis', 'skin_cancer', 'stroke',\n",
    "            '--model_file', '/mnt/ml4cvd/projects/jamesp/data/models/shallow_cat965.hd5',\n",
    "            '--id', 'shallow_cat965',\n",
    "            '--epochs', '1',\n",
    "            '--test_steps', '2',\n",
    "            '--batch_size', '128',\n",
    "            '--training_steps', '2',\n",
    "            '--validation_steps', '1']\n",
    "\n",
    "args = parse_args()\n",
    "m = make_shallow_model(args.tensor_maps_in, args.tensor_maps_out, args.learning_rate, args.model_file, args.model_layers)\n",
    "rev_cm =  dict((v,k) for k,v in args.tensor_maps_in[0].channel_map.items())"
   ]
  },
  {
   "cell_type": "code",
   "execution_count": null,
   "metadata": {},
   "outputs": [],
   "source": [
    "row = 0\n",
    "col = 0\n",
    "top_k = 3\n",
    "text_limit = 64\n",
    "total_plots = len(args.tensor_maps_out)\n",
    "rows = max(2, int(math.sqrt(total_plots)))\n",
    "cols = max(2, total_plots // rows)\n",
    "fig, axes = plt.subplots(rows, cols, figsize=(48, 48))\n",
    "\n",
    "for tm in args.tensor_maps_out:\n",
    "    bar_vals = []\n",
    "    bar_ticks = []\n",
    "    bar_colors = []\n",
    "    #print('\\n\\n~~~~~~~~~~~~~~~ Looking at TM: ', tm.output_name(), ' ~~~~~~~~~~~~~~~~~~')\n",
    "    d1 = m.get_layer(tm.output_name())\n",
    "    w1 = d1.get_weights()\n",
    "    text_x = 0\n",
    "    text_y = np.max(w1[0][:,1])\n",
    "    for idx in np.argsort(w1[0][:,1])[:top_k]:\n",
    "        axes[row,col].text(text_x, text_y, rev_cm[idx], rotation=90)\n",
    "        bar_vals.append(w1[0][:,1][idx])\n",
    "        bar_colors.append('red')\n",
    "        text_x += 1\n",
    "    for idx in np.argsort(w1[0][:,1])[-top_k:]:\n",
    "        axes[row,col].text(text_x, text_y, rev_cm[idx], rotation=90)\n",
    "        bar_vals.append(w1[0][:,1][idx])\n",
    "        bar_colors.append('green')\n",
    "        text_x += 1\n",
    "    axes[row,col].bar(list(range(len(bar_vals))), bar_vals, color=bar_colors)\n",
    "    axes[row,col].set_title(tm.name)\n",
    "    #print('bt:', bar_ticks)\n",
    "    row += 1\n",
    "    if row == rows:\n",
    "        row = 0\n",
    "        col += 1\n",
    "        if col >= cols:\n",
    "            break\n",
    "fig.show()"
   ]
  },
  {
   "cell_type": "code",
   "execution_count": null,
   "metadata": {},
   "outputs": [],
   "source": [
    "for tm in args.tensor_maps_out:\n",
    "    print('\\n\\n~~~~~~~~~~~~~~~ Looking at TM: ', tm.output_name(), ' ~~~~~~~~~~~~~~~~~~')\n",
    "    d1 = m.get_layer(tm.output_name())\n",
    "    w1 = d1.get_weights()\n",
    "    for i in np.argsort(w1[0][:,1])[::-1]:\n",
    "        sign = '+' if w1[0][i,1] > 0 else '-'\n",
    "        print(sign+rev_cm[i])"
   ]
  }
 ],
 "metadata": {
  "kernelspec": {
   "display_name": "Python 3",
   "language": "python",
   "name": "python3"
  },
  "language_info": {
   "codemirror_mode": {
    "name": "ipython",
    "version": 3
   },
   "file_extension": ".py",
   "mimetype": "text/x-python",
   "name": "python",
   "nbconvert_exporter": "python",
   "pygments_lexer": "ipython3",
   "version": "3.6.8"
  }
 },
 "nbformat": 4,
 "nbformat_minor": 2
}
