{
 "cells": [
  {
   "cell_type": "code",
   "execution_count": null,
   "metadata": {},
   "outputs": [],
   "source": [
    "import os\n",
    "import sys\n",
    "import argparse\n",
    "import numpy as np\n",
    "from collections import Counter\n",
    "\n",
    "# Keras imports\n",
    "from keras.models import Model\n",
    "from keras import backend as K\n",
    "from sklearn.manifold import TSNE\n",
    "\n",
    "# IPython imports\n",
    "from IPython.display import Image\n",
    "\n",
    "# ML4CVD Imports\n",
    "sys.path.append(\"../ml4cvd\")\n",
    "from arguments import parse_args\n",
    "from tensor_generators import test_train_valid_tensor_generators\n",
    "from recipes import train_shallow_model, train_multimodal_multitask, test_multimodal_multitask\n",
    "from models import make_multimodal_to_multilabel_model, train_model_from_generators, make_hidden_layer_model"
   ]
  },
  {
   "cell_type": "code",
   "execution_count": null,
   "metadata": {},
   "outputs": [],
   "source": [
    "sys.argv = ['train_shallow', \n",
    "            '--tensors', '/mnt/disks/survey-tensors2/2019-03-25/', \n",
    "            '--input_tensors', 'categorical-phenotypes-965', \n",
    "            '--output_tensors', 'allergic_rhinitis', 'anxiety', 'asthma', 'atrial_fibrillation_or_flutter', 'back_pain', \n",
    "            'breast_cancer', 'cardiac_surgery', 'cervical_cancer', 'colorectal_cancer', 'coronary_artery_disease_hard', \n",
    "            'coronary_artery_disease_intermediate', 'coronary_artery_disease_soft', 'death', 'diabetes_all', \n",
    "            'diabetes_type_1', 'diabetes_type_2', 'enlarged_prostate', 'heart_failure', 'hypertension', 'lung_cancer', \n",
    "            'migraine', 'myocardial_infarction', 'osteoporosis', 'skin_cancer', 'stroke',\n",
    "            '--model_file', '../trained_models/shallow_cat965/shallow_cat965.hd5',\n",
    "            '--id', 'shallow_cat965',\n",
    "            '--epochs', '1',\n",
    "            '--test_steps', '2',\n",
    "            '--batch_size', '128',\n",
    "            '--training_steps', '2',\n",
    "            '--validation_steps', '1']\n",
    "\n",
    "args = parse_args()\n",
    "m = make_shallow_model(args.tensor_maps_in, args.tensor_maps_out, args.learning_rate, args.model_file, args.model_layers)\n",
    "rev_cm =  dict((v,k) for k,v in args.tensor_maps_in[0].channel_map.items())"
   ]
  },
  {
   "cell_type": "code",
   "execution_count": null,
   "metadata": {},
   "outputs": [],
   "source": [
    "for tm in args.tensor_maps_out:\n",
    "    print('\\n\\n~~~~~~~~~~~~~~~ Looking at TM: ', tm.output_name(), ' ~~~~~~~~~~~~~~~~~~')\n",
    "    d1 = m.get_layer(tm.output_name())\n",
    "    w1 = d1.get_weights()\n",
    "    for i in np.argsort(w1[0][:,1])[::-1]:\n",
    "        sign = '+' if w1[0][i,1] > 0 else '-'\n",
    "        print(sign+rev_cm[i])"
   ]
  },
  {
   "cell_type": "code",
   "execution_count": null,
   "metadata": {},
   "outputs": [],
   "source": [
    "sys.argv = ['train', \n",
    "            '--tensors', '/mnt/disks/survey-tensors2/2019-03-25/', \n",
    "            '--input_tensors', 'categorical-phenotypes-965', \n",
    "            '--output_tensors', 'allergic_rhinitis', 'anxiety', 'asthma', 'atrial_fibrillation_or_flutter', 'back_pain', \n",
    "            'breast_cancer', 'cardiac_surgery', 'cervical_cancer', 'colorectal_cancer', 'coronary_artery_disease_hard', \n",
    "            'coronary_artery_disease_intermediate', 'coronary_artery_disease_soft', 'death', 'diabetes_all', \n",
    "            'diabetes_type_1', 'diabetes_type_2', 'enlarged_prostate', 'heart_failure', 'hypertension', 'lung_cancer', \n",
    "            'migraine', 'myocardial_infarction', 'osteoporosis', 'skin_cancer', 'stroke',\n",
    "            '--id', 'mlp_cat965',\n",
    "            '--epochs', '1',\n",
    "            '--training_steps', '100', \n",
    "            '--validation_steps', '2', \n",
    "            '--batch_size', '512',\n",
    "            '--model_file', '../trained_models/mlp_cat965_deep_new/mlp_cat965_deep_new.hd5'\n",
    "           ]\n",
    "args = parse_args()\n",
    "generate_train, generate_valid, generate_test = test_train_valid_tensor_generators(args.tensor_maps_in,\n",
    "                                                                                       args.tensor_maps_out,\n",
    "                                                                                       args.tensors, args.batch_size,\n",
    "                                                                                       args.valid_ratio,\n",
    "                                                                                       args.test_ratio,\n",
    "                                                                                       args.icd_csv,\n",
    "                                                                                       args.balance_by_icds)\n",
    "model = make_multimodal_to_multilabel_model(args.model_file, args.model_layers, args.model_freeze,\n",
    "                                                args.tensor_maps_in, args.tensor_maps_out, args.activation,\n",
    "                                                args.dense_layers, args.dropout, args.mlp_concat, args.conv_layers,\n",
    "                                                args.max_pools, args.res_layers, args.dense_blocks, args.block_size,\n",
    "                                                args.conv_bn, args.conv_x, args.conv_y, args.conv_z, args.conv_dropout,\n",
    "                                                args.conv_width, args.u_connect, args.pool_x, args.pool_y, args.pool_z, args.padding,\n",
    "                                                args.learning_rate)"
   ]
  },
  {
   "cell_type": "code",
   "execution_count": null,
   "metadata": {},
   "outputs": [],
   "source": [
    "layer_name = 'output_coronary_artery_disease_soft_categorical_index'\n",
    "d1 = model.get_layer(layer_name)\n",
    "w1 = d1.get_weights()\n",
    "rev_cm =  dict((v,k) for k,v in args.tensor_maps_in[0].channel_map.items())\n",
    "for w in w1:\n",
    "    print(w.shape)\n",
    "embed_model = make_hidden_layer_model(model, layer_name)\n",
    "embed_model.summary()\n",
    "test_data, test_labels = next(generate_test)\n",
    "print(list(test_data.keys()))\n",
    "x_embed = embed_model.predict(test_data)\n",
    "y_pred = model.predict(test_data)"
   ]
  },
  {
   "cell_type": "code",
   "execution_count": null,
   "metadata": {},
   "outputs": [],
   "source": [
    "label_dict = {tm.name: test_labels[tm.output_name()] for y, tm in zip(y_pred, args.tensor_maps_out)}\n",
    "print(x_embed.shape)\n",
    "for y, tm in zip(y_pred, args.tensor_maps_out):\n",
    "    print(tm.name, y.shape)"
   ]
  },
  {
   "cell_type": "code",
   "execution_count": null,
   "metadata": {},
   "outputs": [],
   "source": [
    "import numpy as np\n",
    "%matplotlib inline\n",
    "import matplotlib.pyplot as plt\n",
    "\n",
    "from matplotlib.ticker import NullFormatter\n",
    "from sklearn import manifold, datasets\n",
    "from time import time\n",
    "n_components = 2\n",
    "max_rows = 28\n",
    "(fig, subplots) = plt.subplots(min(max_rows, len(label_dict)), 3, figsize=(16, max_rows*5))\n",
    "perplexities = [8, 18, 35]\n",
    "\n",
    "p2y = {}\n",
    "for i, perplexity in enumerate(perplexities):\n",
    "    tsne = manifold.TSNE(n_components=n_components, init='random', random_state=0, perplexity=perplexity)\n",
    "    p2y[perplexity] = tsne.fit_transform(x_embed)\n",
    "\n",
    "j = -1\n",
    "for k in label_dict:\n",
    "    j += 1\n",
    "    if j == max_rows:\n",
    "        break\n",
    "    red = label_dict[k][:,1] == 1.0\n",
    "    green = label_dict[k][:,0] == 1.0\n",
    "    print('process key:', k)\n",
    "    for i, perplexity in enumerate(perplexities):\n",
    "        ax = subplots[j, i]\n",
    "        ax.set_title(k+\", Perplexity=%d\" % perplexity)\n",
    "        ax.scatter(p2y[perplexity][green, 0], p2y[perplexity][green, 1], c=\"g\")\n",
    "        ax.scatter(p2y[perplexity][red, 0], p2y[perplexity][red, 1], c=\"r\")\n",
    "        ax.legend(['no_'+k, k], loc='lower left')\n",
    "        ax.xaxis.set_major_formatter(NullFormatter())\n",
    "        ax.yaxis.set_major_formatter(NullFormatter())\n",
    "        ax.axis('tight')\n",
    "plt.show()"
   ]
  },
  {
   "cell_type": "code",
   "execution_count": null,
   "metadata": {},
   "outputs": [],
   "source": []
  }
 ],
 "metadata": {
  "kernelspec": {
   "display_name": "Python 3",
   "language": "python",
   "name": "python3"
  },
  "language_info": {
   "codemirror_mode": {
    "name": "ipython",
    "version": 3
   },
   "file_extension": ".py",
   "mimetype": "text/x-python",
   "name": "python",
   "nbconvert_exporter": "python",
   "pygments_lexer": "ipython3",
   "version": "3.6.3"
  }
 },
 "nbformat": 4,
 "nbformat_minor": 2
}
