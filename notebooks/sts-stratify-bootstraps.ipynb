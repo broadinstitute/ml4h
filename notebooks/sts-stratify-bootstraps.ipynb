{
 "cells": [
  {
   "cell_type": "code",
   "execution_count": null,
   "metadata": {},
   "outputs": [],
   "source": [
    "import os\n",
    "import numpy as np\n",
    "import pandas as pd"
   ]
  },
  {
   "cell_type": "code",
   "execution_count": null,
   "metadata": {},
   "outputs": [],
   "source": [
    "num_bootstraps = 10\n",
    "train_ratio = 0.7\n",
    "valid_ratio = 0.2\n",
    "test_ratio = 0.1"
   ]
  },
  {
   "cell_type": "code",
   "execution_count": null,
   "metadata": {},
   "outputs": [],
   "source": [
    "sts = pd.read_csv('/home/sn69/recipes_output/xref/sts-hd5/list_exactly_N_in_all_time_windows.csv', low_memory=False)\n",
    "sts = sts.sort_values(['medrecn', 'surgdt'])\n",
    "sts = sts.drop_duplicates(subset='medrecn', keep='last')\n",
    "sts['surgdt'] = sts['surgdt'].apply(lambda dt: dt[:10]) #2000-01-01"
   ]
  },
  {
   "cell_type": "code",
   "execution_count": null,
   "metadata": {},
   "outputs": [],
   "source": [
    "death_labels = sts[sts['mtopd'] == 1][['medrecn', 'surgdt', 'mtopd']]\n",
    "no_death_labels = sts[sts['mtopd'] == 0][['medrecn', 'surgdt', 'mtopd']]"
   ]
  },
  {
   "cell_type": "code",
   "execution_count": null,
   "metadata": {},
   "outputs": [],
   "source": [
    "bootstraps = []\n",
    "for i in range(num_bootstraps):\n",
    "    death_train, death_valid, death_test = np.split(death_labels.sample(frac=1).reset_index(drop=True), [int(train_ratio*len(death_labels)), int((train_ratio+valid_ratio)*len(death_labels))])\n",
    "    no_death_train, no_death_valid, no_death_test = np.split(no_death_labels.sample(frac=1).reset_index(drop=True), [int(train_ratio*len(no_death_labels)), int((train_ratio+valid_ratio)*len(no_death_labels))])\n",
    "    train = death_train.append(no_death_train).sample(frac=1).reset_index(drop=True)\n",
    "    valid = death_valid.append(no_death_valid).sample(frac=1).reset_index(drop=True)\n",
    "    test = death_test.append(no_death_test).sample(frac=1).reset_index(drop=True)\n",
    "    bootstraps.append((train, valid, test))"
   ]
  },
  {
   "cell_type": "code",
   "execution_count": null,
   "metadata": {},
   "outputs": [],
   "source": [
    "train_death = np.count_nonzero(train['mtopd'])\n",
    "valid_death = np.count_nonzero(valid['mtopd'])\n",
    "test_death = np.count_nonzero(test['mtopd'])\n",
    "print(f'{train_death} / {len(train)} = {train_death/len(train):0.4f}')\n",
    "print(f'{valid_death} / {len(valid)} = {valid_death/len(valid):0.4f}')\n",
    "print(f'{test_death} / {len(test)} = {test_death/len(test):0.4f}')"
   ]
  },
  {
   "cell_type": "code",
   "execution_count": null,
   "metadata": {},
   "outputs": [],
   "source": [
    "base_path = '/home/sn69/sts-ecg/bootstrap/'\n",
    "for i, bootstrap in enumerate(bootstraps):\n",
    "    i = str(i)\n",
    "    os.mkdir(os.path.join(base_path, i))\n",
    "    bootstrap[0].to_csv(os.path.join(base_path, i, 'train.csv'), index=False)\n",
    "    bootstrap[1].to_csv(os.path.join(base_path, i, 'valid.csv'), index=False)\n",
    "    bootstrap[2].to_csv(os.path.join(base_path, i, 'test.csv'), index=False)"
   ]
  },
  {
   "cell_type": "code",
   "execution_count": null,
   "metadata": {},
   "outputs": [],
   "source": [
    "len(sts)"
   ]
  }
 ],
 "metadata": {
  "kernelspec": {
   "display_name": "Python 3",
   "language": "python",
   "name": "python3"
  },
  "language_info": {
   "codemirror_mode": {
    "name": "ipython",
    "version": 3
   },
   "file_extension": ".py",
   "mimetype": "text/x-python",
   "name": "python",
   "nbconvert_exporter": "python",
   "pygments_lexer": "ipython3",
   "version": "3.8.1"
  }
 },
 "nbformat": 4,
 "nbformat_minor": 4
}
