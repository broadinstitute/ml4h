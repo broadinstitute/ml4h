{
 "cells": [
  {
   "cell_type": "code",
   "execution_count": null,
   "metadata": {},
   "outputs": [],
   "source": [
    "import os\n",
    "import csv \n",
    "import pandas as pd \n",
    "from sklearn.linear_model import LogisticRegression\n",
    "from sklearn.model_selection import train_test_split\n",
    "from sklearn import metrics\n",
    "import matplotlib.pyplot as plt\n",
    "%matplotlib inline\n",
    "import seaborn as sns\n",
    "\n",
    "with open(os.path.expanduser(\"~/dropbox/sts_ecg/results/explore_on_ecg_metadata/tensors_all_intersect.csv\")) as f:\n",
    "    data = pd.read_csv(f)\n",
    "f.close()"
   ]
  },
  {
   "cell_type": "code",
   "execution_count": null,
   "metadata": {},
   "outputs": [],
   "source": [
    "print(data.columns)\n",
    "feature_cols = ['ecg_rate_md_newest_sts', 'ecg_pr_md_newest_sts',\n",
    "       'ecg_qrs_md_newest_sts', 'ecg_qt_md_newest_sts',\n",
    "       'ecg_qtc_md_newest_sts', 'ecg_paxis_md_newest_sts',\n",
    "       'ecg_raxis_md_newest_sts', 'ecg_taxis_md_newest_sts',\n",
    "       'ecg_qonset_md_newest_sts', 'ecg_qoffset_md_newest_sts',\n",
    "       'ecg_ponset_md_newest_sts', 'ecg_poffset_md_newest_sts',\n",
    "       'ecg_toffset_md_newest_sts', 'ecg_sex_newest_sts female',\n",
    "       'ecg_sex_newest_sts male', 'ecg_age_newest_sts']\n",
    "\n",
    "X = data[feature_cols]\n",
    "y = data['sts_death sts_death']\n",
    "\n",
    "X_train, X_test, y_train, y_test = train_test_split(X, y, test_size=0.2, random_state=0)\n",
    "lr = LogisticRegression(max_iter=9000, penalty='none')\n",
    "lr.fit(X_train, y_train)\n",
    "y_pred = lr.predict(X_test)"
   ]
  },
  {
   "cell_type": "code",
   "execution_count": null,
   "metadata": {},
   "outputs": [],
   "source": [
    "# calculate and plot AUC\n",
    "sns.set_style(\"whitegrid\")\n",
    "sns.set_context(\"poster\")\n",
    "fig, ax = plt.subplots(figsize=(7,6))\n",
    "\n",
    "y_pred_proba = lr.predict_proba(X_test)[::,1]\n",
    "fpr, tpr, _ = metrics.roc_curve(y_test,  y_pred_proba)\n",
    "auc = metrics.roc_auc_score(y_test, y_pred_proba)\n",
    "plt.plot(fpr,tpr,label= f\"AUC={auc:.3f}\")\n",
    "plt.legend()\n",
    "plt.legend(frameon=False)\n",
    "plt.xlim([0, 1])\n",
    "plt.ylim([0, 1])\n",
    "plt.savefig(os.path.expanduser(\"~/dropbox/sts_ecg/results/logistic-regression-metadata/roc_curve.png\"))\n",
    "plt.show()"
   ]
  },
  {
   "cell_type": "code",
   "execution_count": null,
   "metadata": {},
   "outputs": [],
   "source": [
    "print(lr.coef_)\n",
    "\n",
    "# plot model coefficients\n",
    "coeffs = pd.DataFrame({'feature_name': feature_cols, 'model_coefficient': lr.coef_.transpose().flatten()})\n",
    "\n",
    "coeffs['feature_name'] = coeffs['feature_name'].str.replace('ecg_', '')\n",
    "coeffs['feature_name'] = coeffs['feature_name'].str.replace('_md_newest_sts', '')\n",
    "coeffs['feature_name'] = coeffs['feature_name'].str.replace('_newest_sts', '')\n",
    "coeffs = coeffs.sort_values('model_coefficient',ascending=False).round(3)\n",
    "\n",
    "plt.figure().set_size_inches(10, 7)\n",
    "fig = sns.barplot(x='feature_name', y='model_coefficient', data=coeffs, palette=\"Blues_d\")\n",
    "fig.set_xticklabels(rotation=90, labels=coeffs.feature_name)\n",
    "plt.xlabel('Feature')\n",
    "plt.ylabel('Coefficient')\n",
    "plt.tight_layout()\n",
    "plt.savefig(os.path.expanduser(\"~/dropbox/sts_ecg/results/logistic-regression-metadata/coefficients.png\"))\n",
    "\n",
    "# save model coefficients to CSV\n",
    "coeffs.to_csv(os.path.expanduser(\"~/dropbox/sts_ecg/results/logistic-regression-metadata/coefficients.csv\"), index=False)"
   ]
  }
 ],
 "metadata": {
  "kernelspec": {
   "display_name": "Python 3",
   "language": "python",
   "name": "python3"
  },
  "language_info": {
   "codemirror_mode": {
    "name": "ipython",
    "version": 3
   },
   "file_extension": ".py",
   "mimetype": "text/x-python",
   "name": "python",
   "nbconvert_exporter": "python",
   "pygments_lexer": "ipython3",
   "version": "3.8.1"
  }
 },
 "nbformat": 4,
 "nbformat_minor": 4
}
