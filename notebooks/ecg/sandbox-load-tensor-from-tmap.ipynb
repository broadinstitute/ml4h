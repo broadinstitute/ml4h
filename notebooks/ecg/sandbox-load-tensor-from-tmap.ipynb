{
 "cells": [
  {
   "cell_type": "code",
   "execution_count": null,
   "metadata": {},
   "outputs": [],
   "source": [
    "import os\n",
    "import h5py\n",
    "import numpy as np\n",
    "import pandas as pd\n",
    "\n",
    "from ml4cvd.arguments import _get_tmap\n",
    "from ml4cvd.TensorMap import TensorMap\n",
    "from ml4cvd.tensor_maps_ecg import TMAPS, build_ecg_time_series_tensor_maps"
   ]
  },
  {
   "cell_type": "code",
   "execution_count": null,
   "metadata": {},
   "outputs": [],
   "source": [
    "TENSOR_EXT = \"hd5\""
   ]
  },
  {
   "cell_type": "code",
   "execution_count": null,
   "metadata": {},
   "outputs": [],
   "source": [
    "def get_fpaths(dirpath: str, ext: str = TENSOR_EXT) -> list:\n",
    "    fpaths = []\n",
    "    for root, dirs, files in os.walk(dirpath):\n",
    "        for fname in files:\n",
    "            if not fname.endswith(TENSOR_EXT):\n",
    "                continue\n",
    "            else:\n",
    "                fpaths.append(os.path.join(root, fname))\n",
    "    print(f\"Found {len(fpaths)} {TENSOR_EXT} files at {dirpath}\")\n",
    "    return fpaths"
   ]
  },
  {
   "cell_type": "code",
   "execution_count": null,
   "metadata": {},
   "outputs": [],
   "source": [
    "fpaths = get_fpaths(dirpath=\"/media/4tb1/ecg/mgh\")"
   ]
  },
  {
   "cell_type": "code",
   "execution_count": null,
   "metadata": {},
   "outputs": [],
   "source": [
    "TMAPS.update(build_ecg_time_series_tensor_maps(needed_tensor_maps=[\"ecg_age_newest\", \"ecg_age_binary_newest\"]))\n",
    "\n",
    "for tmap in [\"ecg_age_newest\", \"ecg_age_greater_than_newest\"]:\n",
    "    if tmap not in TMAPS:\n",
    "        print(f\"{tmap} not in TMAPS\")"
   ]
  },
  {
   "cell_type": "code",
   "execution_count": null,
   "metadata": {},
   "outputs": [],
   "source": [
    "for fpath in fpaths[0:5]:\n",
    "    print(fpath)\n",
    "    with h5py.File(fpath, \"r\") as hf:\n",
    "\n",
    "        ecg_age = TMAPS['ecg_age_newest'].tensor_from_file(\n",
    "            tm=TMAPS['ecg_age_newest'],\n",
    "            hd5=hf)\n",
    "        print(ecg_age)\n",
    "                \n",
    "        ecg_age_binary_newest = TMAPS['ecg_age_binary_newest'].tensor_from_file(\n",
    "            tm=TMAPS['ecg_age_binary_newest'],\n",
    "            hd5=hf)\n",
    "        print(ecg_age_binary_newest)\n",
    "         \n",
    "        print('\\n')"
   ]
  },
  {
   "cell_type": "code",
   "execution_count": null,
   "metadata": {},
   "outputs": [],
   "source": []
  }
 ],
 "metadata": {
  "kernelspec": {
   "display_name": "Python 3",
   "language": "python",
   "name": "python3"
  },
  "language_info": {
   "codemirror_mode": {
    "name": "ipython",
    "version": 3
   },
   "file_extension": ".py",
   "mimetype": "text/x-python",
   "name": "python",
   "nbconvert_exporter": "python",
   "pygments_lexer": "ipython3",
   "version": "3.6.2"
  }
 },
 "nbformat": 4,
 "nbformat_minor": 4
}
