{
 "cells": [
  {
   "cell_type": "code",
   "execution_count": null,
   "metadata": {},
   "outputs": [],
   "source": [
    "import os\n",
    "import sys\n",
    "import math\n",
    "import argparse\n",
    "import numpy as np\n",
    "from collections import Counter\n",
    "\n",
    "# Keras imports\n",
    "from keras.models import Model\n",
    "from keras import backend as K\n",
    "\n",
    "# ML4CVD Imports\n",
    "from ml4cvd.arguments import parse_args\n",
    "from ml4cvd.models import make_multimodal_multitask_model, train_model_from_generators\n",
    "from ml4cvd.tensor_generators import TensorGenerator, big_batch_from_minibatch_generator, test_train_valid_tensor_generators\n",
    "\n",
    "# IPython imports\n",
    "from IPython.display import Image\n",
    "%matplotlib inline\n",
    "import matplotlib.pyplot as plt\n",
    "\n",
    "# IPython imports\n",
    "from IPython.display import Image\n",
    "\n",
    "DATA_DIRECTORY = '/mnt/disks/ecg-rest-36k-tensors/2019-10-22/'\n",
    "MODEL_DIRECTORY = '/mnt/ml4cvd/projects/jamesp/data/models/'"
   ]
  },
  {
   "cell_type": "code",
   "execution_count": null,
   "metadata": {},
   "outputs": [],
   "source": [
    "# ~~~~~~~~~~~~~~~~~~~~~~~~~~~~~~~~~~~\n",
    "# ~~~~~ Scale with Temperature ~~~~~~\n",
    "# ~~~~~~~~~~~~~~~~~~~~~~~~~~~~~~~~~~~\n",
    "def temperature_scale(predictions, temperature=1.0):\n",
    "\tpredictions = np.log(predictions) / temperature\n",
    "\treturn 1 / (1 + np.exp(-predictions / temperature))"
   ]
  },
  {
   "cell_type": "code",
   "execution_count": null,
   "metadata": {},
   "outputs": [],
   "source": [
    "sys.argv = ['train', \n",
    "            '--tensors', DATA_DIRECTORY, \n",
    "            '--input_tensors', 'ecg_rest', \n",
    "            '--output_tensors', 'ecg_rhythm',\n",
    "            '--batch_size', '32', \n",
    "            '--epochs', '1',  \n",
    "            '--learning_rate', '0.0001',\n",
    "            '--model_file', MODEL_DIRECTORY + 'ecg_rest_rhythm_w_poor.hd5',\n",
    "            '--test_steps', '96',\n",
    "            '--inspect_model',\n",
    "            '--id', 'ecg_rest_rhythm_w_poor']\n",
    "args = parse_args()\n",
    "generate_train, generate_valid, generate_test = test_train_valid_tensor_generators(args.tensor_maps_in,  args.tensor_maps_out,  args.tensors, args.batch_size,   args.valid_ratio, args.test_ratio, args.test_modulo, args.balance_csvs)\n",
    "model = make_multimodal_multitask_model(**args.__dict__)\n",
    "test_data, test_labels, test_paths = big_batch_from_minibatch_generator(args.tensor_maps_in, args.tensor_maps_out,\n",
    "                                                                        generate_test, args.test_steps)"
   ]
  },
  {
   "cell_type": "code",
   "execution_count": null,
   "metadata": {},
   "outputs": [],
   "source": [
    "predictions = model.predict(test_data)"
   ]
  },
  {
   "cell_type": "code",
   "execution_count": null,
   "metadata": {},
   "outputs": [],
   "source": [
    "print(predictions.shape)"
   ]
  },
  {
   "cell_type": "code",
   "execution_count": null,
   "metadata": {},
   "outputs": [],
   "source": [
    "def plot_predicted_distributions(predictions, n_bins=8, sharey=True, labels=None):\n",
    "    sides = int(np.ceil(np.sqrt(predictions.shape[-1])))\n",
    "    _, axes = plt.subplots(sides-1, sides, figsize=(12, 8), sharey=sharey)\n",
    "    for i in range(predictions.shape[-1]):\n",
    "        axes[i//sides, i%sides].hist(predictions[..., i], bins=n_bins)\n",
    "        if labels is not None:\n",
    "            axes[i//sides, i%sides].set_title(labels[i])"
   ]
  },
  {
   "cell_type": "code",
   "execution_count": null,
   "metadata": {},
   "outputs": [],
   "source": [
    "print(args.tensor_maps_out[0].channel_map)\n",
    "print('prediction:',np.sum(predictions, axis=0))\n",
    "print('truth:', np.sum(test_labels['output_ecg_rhythm_categorical'], axis=0))"
   ]
  },
  {
   "cell_type": "code",
   "execution_count": null,
   "metadata": {},
   "outputs": [],
   "source": [
    "labels = {v: k for k, v in args.tensor_maps_out[0].channel_map.items()}\n",
    "plot_predicted_distributions(predictions, labels=labels, sharey=False)"
   ]
  },
  {
   "cell_type": "code",
   "execution_count": null,
   "metadata": {},
   "outputs": [],
   "source": [
    "cold_p = temperature_scale(predictions, temperature=1.0)\n",
    "plot_predicted_distributions(cold_p, labels=labels, sharey=True)"
   ]
  },
  {
   "cell_type": "code",
   "execution_count": null,
   "metadata": {},
   "outputs": [],
   "source": [
    "cold_p = temperature_scale(predictions, temperature=0.1)\n",
    "plot_predicted_distributions(cold_p, labels=labels, sharey=True)\n"
   ]
  },
  {
   "cell_type": "code",
   "execution_count": null,
   "metadata": {},
   "outputs": [],
   "source": [
    "cold_p = temperature_scale(predictions, temperature=0.0001)\n",
    "plot_predicted_distributions(cold_p, labels=labels, sharey=True)"
   ]
  },
  {
   "cell_type": "code",
   "execution_count": null,
   "metadata": {},
   "outputs": [],
   "source": [
    "hot_p = temperature_scale(predictions, temperature=10.1)\n",
    "plot_predicted_distributions(hot_p, labels=labels, sharey=False)"
   ]
  },
  {
   "cell_type": "code",
   "execution_count": null,
   "metadata": {},
   "outputs": [],
   "source": [
    "hot_p = temperature_scale(predictions, temperature=15)\n",
    "plot_predicted_distributions(hot_p, labels=labels, sharey=False, n_bins=100)"
   ]
  },
  {
   "cell_type": "code",
   "execution_count": null,
   "metadata": {},
   "outputs": [],
   "source": [
    "plot_predicted_distributions(test_labels['output_ecg_rhythm_categorical'], labels=labels, sharey=False)\n"
   ]
  },
  {
   "cell_type": "code",
   "execution_count": null,
   "metadata": {},
   "outputs": [],
   "source": [
    "Image('./recipes_output/ecg_rhythm/architecture_graph_ecg_rhythm.png')"
   ]
  },
  {
   "cell_type": "code",
   "execution_count": null,
   "metadata": {},
   "outputs": [],
   "source": [
    "Image('./recipes_output/ecg_regresser/per_class_roc_ecg_rhythm.png')"
   ]
  },
  {
   "cell_type": "code",
   "execution_count": null,
   "metadata": {},
   "outputs": [],
   "source": [
    "Image('./recipes_output/ecg_regresser/per_class_roc_ecg_normal.png')"
   ]
  },
  {
   "cell_type": "code",
   "execution_count": null,
   "metadata": {},
   "outputs": [],
   "source": [
    "Image('./recipes_output/ecg_regresser/scatter_PPInterval.png')"
   ]
  },
  {
   "cell_type": "code",
   "execution_count": null,
   "metadata": {},
   "outputs": [],
   "source": [
    "Image('./recipes_output/ecg_regresser/scatter_QRSDuration.png')"
   ]
  }
 ],
 "metadata": {
  "kernelspec": {
   "display_name": "Python 3",
   "language": "python",
   "name": "python3"
  },
  "language_info": {
   "codemirror_mode": {
    "name": "ipython",
    "version": 3
   },
   "file_extension": ".py",
   "mimetype": "text/x-python",
   "name": "python",
   "nbconvert_exporter": "python",
   "pygments_lexer": "ipython3",
   "version": "3.6.8"
  }
 },
 "nbformat": 4,
 "nbformat_minor": 2
}
