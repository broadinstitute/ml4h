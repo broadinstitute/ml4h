{
 "cells": [
  {
   "cell_type": "code",
   "execution_count": null,
   "metadata": {},
   "outputs": [],
   "source": [
    "from collections import defaultdict\n",
    "import glob\n",
    "import os\n",
    "import re\n",
    "import xml.etree.ElementTree as et\n",
    "import matplotlib.pyplot as plt\n",
    "import numpy as np\n",
    "%matplotlib inline\n",
    "XML_FOLDER = '/Users/ndiamant/Downloads/ecg-rest-and-bike/2019-05-23/raw'"
   ]
  },
  {
   "cell_type": "code",
   "execution_count": null,
   "metadata": {},
   "outputs": [],
   "source": [
    "def heart_rate_rec(root, trends):\n",
    "    max_hr = int(root.find('./ExerciseMeasurements/MaxHeartRate').text)\n",
    "    print(root.find('./ExerciseMeasurements/TargetHeartRate').attrib)\n",
    "    time_hrs = np.array([(float(trend['PhaseTime']), float(trend['HeartRate'])) for trend in trends.values() if trend['PhaseName'] == 'Rest'])\n",
    "    target_times = np.array([10, 20, 30, 40, 50]) * 1.\n",
    "    print(max_hr, root.find('./ExerciseMeasurements/MaxHeartRate').text)\n",
    "    return max_hr - np.interp(target_times, time_hrs[:, 0], time_hrs[:, 1]).mean()\n",
    "    \n",
    "\n",
    "def process_raw_ekg(sample_id):\n",
    "    xml_path = os.path.join(XML_FOLDER, sample_id)\n",
    "    ecg = glob.glob(xml_path)\n",
    "    root = et.parse(ecg[0]).getroot()\n",
    "    trends = defaultdict(dict)\n",
    "    trend_entry_fields=['HeartRate', 'Load', 'Grade', 'StageName', 'PhaseName', 'Mets', 'VECount', 'PaceCount']\n",
    "\n",
    "    for trend_entry in root.findall(\"./TrendData/TrendEntry\"):\n",
    "        idx = int(trend_entry.get(\"Idx\"))\n",
    "        for field in trend_entry_fields:\n",
    "            trends[idx][field]=trend_entry.find(field).text\n",
    "        current_trend_start_time = 60 * int(trend_entry.find(\"EntryTime/Minute\").text) + int(trend_entry.find(\"EntryTime/Second\").text)\n",
    "        trends[idx]['PhaseTime'] = 60 * int(trend_entry.find(\"PhaseTime/Minute\").text) + int(trend_entry.find(\"PhaseTime/Second\").text)\n",
    "        trends[idx]['start'] = current_trend_start_time\n",
    "        if idx > 0:\n",
    "            trends[idx-1]['end'] = current_trend_start_time\n",
    "        #last trend has no end\n",
    "    #protocol\n",
    "    phase_durations = {}\n",
    "    for protocol in root.findall(\"./Protocol/Phase\"):\n",
    "        phase_name = protocol.find(\"PhaseName\").text\n",
    "        phase_duration = 60 * int(protocol.find(\"PhaseDuration/Minute\").text) + int(protocol.find(\"PhaseDuration/Second\").text)\n",
    "        phase_durations[phase_name] = phase_duration\n",
    "#     print(trends)\n",
    "\n",
    "    # GET LEAD DATA\n",
    "    counter = 0\n",
    "    full_ekgs = defaultdict(list)\n",
    "    full_leads = {}\n",
    "    fd_start_time = (60 * int(root.find(\"./FullDisclosure/StartTime/Minute\").text) + \n",
    "                       float(root.find(\"./FullDisclosure/StartTime/Second\").text))\n",
    "    fd_sample_rate = int(root.find(\"./FullDisclosure/SampleRate\").text)\n",
    "    \n",
    "\n",
    "    for lead_order in root.findall(\"./FullDisclosure/LeadOrder\"):\n",
    "        full_leads = {i: lead for i, lead in enumerate(lead_order.text.split(','))}\n",
    "\n",
    "    for full_d in root.findall(\"./FullDisclosure/FullDisclosureData\"):\n",
    "        for full_line in re.split('\\n|\\t', full_d.text):\n",
    "            for sample in re.split(',', full_line):\n",
    "                if sample == '':\n",
    "                    continue\n",
    "                full_ekgs[full_leads[counter % 3]].append(float(sample))\n",
    "                counter += 1\n",
    "#     print(fd_start_time, sum(phase_durations.values()), len(full_ekgs['I']) // fd_sample_rate)\n",
    "#     print(set([trend['PhaseName'] for trend in trends.values()]))\n",
    "#     print([(trend['PhaseTime'], trend['Load'], trend['HeartRate']) for trend in trends.values() if trend['PhaseName'] == 'Pretest'])\n",
    "#     print([(trend['PhaseTime'], trend['Load'], trend['HeartRate']) for trend in trends.values() if trend['PhaseName'] == 'Rest'])\n",
    "# #     print('percent of max hr', root.find('./ExerciseMeasurements/PercentAchievedMaxPredicted').text)\n",
    "# #     print(root.find('./ExerciseMeasurements/MaxSTStats').text)\n",
    "#     print(max([trend['start'] for trend in trends.values()]))\n",
    "#     print('max / min', max([int(trend['HeartRate']) for trend in trends.values()]) / min([int(trend['HeartRate']) for trend in trends.values() if int(trend['HeartRate']) > 0]))\n",
    "    print(heart_rate_rec(root, trends))"
   ]
  },
  {
   "cell_type": "code",
   "execution_count": null,
   "metadata": {},
   "outputs": [],
   "source": [
    "SAMPLE_IDS = ('1994810_6025_0_0.xml', '1720892_6025_0_0.xml', '5605291_6025_1_0.xml', '5483286_6025_0_0.xml')\n",
    "for s in SAMPLE_IDS:\n",
    "    process_raw_ekg(s)"
   ]
  },
  {
   "cell_type": "code",
   "execution_count": null,
   "metadata": {},
   "outputs": [],
   "source": []
  },
  {
   "cell_type": "code",
   "execution_count": null,
   "metadata": {},
   "outputs": [],
   "source": []
  }
 ],
 "metadata": {
  "kernelspec": {
   "display_name": "Python 3",
   "language": "python",
   "name": "python3"
  },
  "language_info": {
   "codemirror_mode": {
    "name": "ipython",
    "version": 3
   },
   "file_extension": ".py",
   "mimetype": "text/x-python",
   "name": "python",
   "nbconvert_exporter": "python",
   "pygments_lexer": "ipython3",
   "version": "3.7.3"
  }
 },
 "nbformat": 4,
 "nbformat_minor": 2
}
