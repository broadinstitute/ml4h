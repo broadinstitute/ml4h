{
 "cells": [
  {
   "cell_type": "code",
   "execution_count": 1,
   "metadata": {},
   "outputs": [
    {
     "name": "stdout",
     "output_type": "stream",
     "text": [
      "/Users/pbatra/broad/local_data_sets/tensors/test/ecg-rest-and-bike/2019-05-23/raw/1994810_6025_0_0.xml\n"
     ]
    }
   ],
   "source": [
    "from collections import defaultdict\n",
    "import glob\n",
    "import os\n",
    "import re\n",
    "import xml.etree.ElementTree as et\n",
    "\n",
    "XML_FOLDER = '/Users/pbatra/broad/local_data_sets/tensors/test/ecg-rest-and-bike/2019-05-23/raw'\n",
    "SAMPLE_ID='1994810_6025_0_0.xml'\n",
    "xml_path = os.path.join(XML_FOLDER, SAMPLE_ID)\n",
    "print(xml_path)\n",
    "ecg = glob.glob(xml_path)\n",
    "root = et.parse(ecg[0]).getroot()"
   ]
  },
  {
   "cell_type": "code",
   "execution_count": 38,
   "metadata": {},
   "outputs": [
    {
     "name": "stdout",
     "output_type": "stream",
     "text": [
      "Pretest 15\n",
      "Exercise 360\n",
      "Rest 60\n"
     ]
    }
   ],
   "source": [
    "#protocol\n",
    "protocols = defaultdict(dict)\n",
    "for protocol in root.findall(\"./Protocol/Phase\"):\n",
    "    phase_name = protocol.find(\"PhaseName\").text\n",
    "    phase_duration = 60 * int(protocol.find(\"PhaseDuration/Minute\").text) + int(protocol.find(\"PhaseDuration/Second\").text)\n",
    "    print(phase_name, phase_duration)"
   ]
  },
  {
   "cell_type": "code",
   "execution_count": 32,
   "metadata": {},
   "outputs": [
    {
     "name": "stdout",
     "output_type": "stream",
     "text": [
      "defaultdict(<class 'dict'>, {0: {'HeartRate': '70', 'Load': '0', 'Grade': '0.0', 'StageName': 'Steady', 'PhaseName': 'Pretest', 'Mets': '1.0', 'VECount': '0', 'PaceCount': '0', 'Artifact': '0%', 'start': 0, 'end': 15}, 1: {'HeartRate': '72', 'Load': '0', 'Grade': '0.0', 'StageName': 'Steady', 'PhaseName': 'Pretest', 'Mets': '1.0', 'VECount': '0', 'PaceCount': '0', 'Artifact': '0%', 'start': 15, 'end': 16}, 2: {'HeartRate': '72', 'Load': '0', 'Grade': '0.0', 'StageName': 'Constant', 'PhaseName': 'Exercise', 'Mets': '1.0', 'VECount': '0', 'PaceCount': '0', 'Artifact': '0%', 'start': 16, 'end': 24}, 3: {'HeartRate': '74', 'Load': '40', 'Grade': '6.1', 'StageName': 'Constant', 'PhaseName': 'Exercise', 'Mets': '1.1', 'VECount': '0', 'PaceCount': '0', 'Artifact': '0%', 'start': 24, 'end': 29}, 4: {'HeartRate': '81', 'Load': '40', 'Grade': '6.3', 'StageName': 'Constant', 'PhaseName': 'Exercise', 'Mets': '1.2', 'VECount': '0', 'PaceCount': '0', 'Artifact': '0%', 'start': 29, 'end': 44}, 5: {'HeartRate': '83', 'Load': '40', 'Grade': '6.5', 'StageName': 'Constant', 'PhaseName': 'Exercise', 'Mets': '1.4', 'VECount': '0', 'PaceCount': '0', 'Artifact': '0%', 'start': 44, 'end': 59}, 6: {'HeartRate': '86', 'Load': '40', 'Grade': '6.3', 'StageName': 'Constant', 'PhaseName': 'Exercise', 'Mets': '1.6', 'VECount': '0', 'PaceCount': '0', 'Artifact': '0%', 'start': 59, 'end': 74}, 7: {'HeartRate': '86', 'Load': '40', 'Grade': '6.4', 'StageName': 'Constant', 'PhaseName': 'Exercise', 'Mets': '1.8', 'VECount': '0', 'PaceCount': '0', 'Artifact': '0%', 'start': 74, 'end': 89}, 8: {'HeartRate': '88', 'Load': '40', 'Grade': '6.5', 'StageName': 'Constant', 'PhaseName': 'Exercise', 'Mets': '2.1', 'VECount': '0', 'PaceCount': '0', 'Artifact': '0%', 'start': 89, 'end': 104}, 9: {'HeartRate': '86', 'Load': '40', 'Grade': '6.6', 'StageName': 'Constant', 'PhaseName': 'Exercise', 'Mets': '2.3', 'VECount': '0', 'PaceCount': '0', 'Artifact': '0%', 'start': 104, 'end': 119}, 10: {'HeartRate': '86', 'Load': '40', 'Grade': '6.4', 'StageName': 'Constant', 'PhaseName': 'Exercise', 'Mets': '2.5', 'VECount': '0', 'PaceCount': '0', 'Artifact': '0%', 'start': 119, 'end': 134}, 11: {'HeartRate': '84', 'Load': '40', 'Grade': '6.6', 'StageName': 'Constant', 'PhaseName': 'Exercise', 'Mets': '2.7', 'VECount': '0', 'PaceCount': '0', 'Artifact': '0%', 'start': 134, 'end': 135}, 12: {'HeartRate': '84', 'Load': '40', 'Grade': '6.6', 'StageName': 'Constant', 'PhaseName': 'Exercise', 'Mets': '2.7', 'VECount': '0', 'PaceCount': '0', 'Artifact': '0%', 'start': 135, 'end': 139}, 13: {'HeartRate': '85', 'Load': '43', 'Grade': '6.4', 'StageName': 'Ramp1', 'PhaseName': 'Exercise', 'Mets': '2.7', 'VECount': '0', 'PaceCount': '0', 'Artifact': '0%', 'start': 139, 'end': 145}, 14: {'HeartRate': '83', 'Load': '43', 'Grade': '6.5', 'StageName': 'Ramp1', 'PhaseName': 'Exercise', 'Mets': '2.7', 'VECount': '0', 'PaceCount': '0', 'Artifact': '0%', 'start': 145, 'end': 149}, 15: {'HeartRate': '83', 'Load': '46', 'Grade': '6.7', 'StageName': 'Ramp2', 'PhaseName': 'Exercise', 'Mets': '2.7', 'VECount': '0', 'PaceCount': '0', 'Artifact': '0%', 'start': 149, 'end': 155}, 16: {'HeartRate': '84', 'Load': '46', 'Grade': '6.6', 'StageName': 'Ramp2', 'PhaseName': 'Exercise', 'Mets': '2.7', 'VECount': '0', 'PaceCount': '0', 'Artifact': '0%', 'start': 155, 'end': 159}, 17: {'HeartRate': '85', 'Load': '49', 'Grade': '6.5', 'StageName': 'Ramp3', 'PhaseName': 'Exercise', 'Mets': '2.7', 'VECount': '0', 'PaceCount': '0', 'Artifact': '0%', 'start': 159, 'end': 164}, 18: {'HeartRate': '86', 'Load': '49', 'Grade': '6.7', 'StageName': 'Ramp3', 'PhaseName': 'Exercise', 'Mets': '2.7', 'VECount': '0', 'PaceCount': '0', 'Artifact': '0%', 'start': 164, 'end': 165}, 19: {'HeartRate': '86', 'Load': '49', 'Grade': '6.7', 'StageName': 'Ramp3', 'PhaseName': 'Exercise', 'Mets': '2.7', 'VECount': '0', 'PaceCount': '0', 'Artifact': '0%', 'start': 165, 'end': 169}, 20: {'HeartRate': '88', 'Load': '52', 'Grade': '6.7', 'StageName': 'Ramp4', 'PhaseName': 'Exercise', 'Mets': '2.7', 'VECount': '0', 'PaceCount': '0', 'Artifact': '0%', 'start': 169, 'end': 175}, 21: {'HeartRate': '88', 'Load': '52', 'Grade': '6.7', 'StageName': 'Ramp4', 'PhaseName': 'Exercise', 'Mets': '2.7', 'VECount': '0', 'PaceCount': '0', 'Artifact': '0%', 'start': 175, 'end': 179}, 22: {'HeartRate': '89', 'Load': '55', 'Grade': '6.6', 'StageName': 'Ramp5', 'PhaseName': 'Exercise', 'Mets': '2.7', 'VECount': '0', 'PaceCount': '0', 'Artifact': '0%', 'start': 179, 'end': 185}, 23: {'HeartRate': '92', 'Load': '55', 'Grade': '6.5', 'StageName': 'Ramp5', 'PhaseName': 'Exercise', 'Mets': '2.7', 'VECount': '0', 'PaceCount': '0', 'Artifact': '0%', 'start': 185, 'end': 189}, 24: {'HeartRate': '90', 'Load': '58', 'Grade': '6.3', 'StageName': 'Ramp6', 'PhaseName': 'Exercise', 'Mets': '2.7', 'VECount': '0', 'PaceCount': '0', 'Artifact': '0%', 'start': 189, 'end': 194}, 25: {'HeartRate': '88', 'Load': '58', 'Grade': '6.4', 'StageName': 'Ramp6', 'PhaseName': 'Exercise', 'Mets': '2.7', 'VECount': '0', 'PaceCount': '0', 'Artifact': '0%', 'start': 194, 'end': 195}, 26: {'HeartRate': '87', 'Load': '58', 'Grade': '6.4', 'StageName': 'Ramp6', 'PhaseName': 'Exercise', 'Mets': '2.7', 'VECount': '0', 'PaceCount': '0', 'Artifact': '0%', 'start': 195, 'end': 199}, 27: {'HeartRate': '86', 'Load': '61', 'Grade': '6.5', 'StageName': 'Ramp7', 'PhaseName': 'Exercise', 'Mets': '2.7', 'VECount': '0', 'PaceCount': '0', 'Artifact': '0%', 'start': 199, 'end': 205}, 28: {'HeartRate': '87', 'Load': '61', 'Grade': '6.5', 'StageName': 'Ramp7', 'PhaseName': 'Exercise', 'Mets': '2.7', 'VECount': '0', 'PaceCount': '0', 'Artifact': '0%', 'start': 205, 'end': 209}, 29: {'HeartRate': '88', 'Load': '64', 'Grade': '6.5', 'StageName': 'Ramp8', 'PhaseName': 'Exercise', 'Mets': '2.7', 'VECount': '0', 'PaceCount': '0', 'Artifact': '0%', 'start': 209, 'end': 215}, 30: {'HeartRate': '89', 'Load': '64', 'Grade': '6.5', 'StageName': 'Ramp8', 'PhaseName': 'Exercise', 'Mets': '2.7', 'VECount': '0', 'PaceCount': '0', 'Artifact': '0%', 'start': 215, 'end': 219}, 31: {'HeartRate': '90', 'Load': '67', 'Grade': '6.4', 'StageName': 'Ramp9', 'PhaseName': 'Exercise', 'Mets': '2.7', 'VECount': '0', 'PaceCount': '0', 'Artifact': '0%', 'start': 219, 'end': 224}, 32: {'HeartRate': '91', 'Load': '67', 'Grade': '6.3', 'StageName': 'Ramp9', 'PhaseName': 'Exercise', 'Mets': '2.7', 'VECount': '0', 'PaceCount': '0', 'Artifact': '0%', 'start': 224, 'end': 225}, 33: {'HeartRate': '92', 'Load': '67', 'Grade': '6.3', 'StageName': 'Ramp9', 'PhaseName': 'Exercise', 'Mets': '2.7', 'VECount': '0', 'PaceCount': '0', 'Artifact': '0%', 'start': 225, 'end': 229}, 34: {'HeartRate': '92', 'Load': '70', 'Grade': '6.5', 'StageName': 'Ramp10', 'PhaseName': 'Exercise', 'Mets': '2.7', 'VECount': '0', 'PaceCount': '0', 'Artifact': '0%', 'start': 229, 'end': 235}, 35: {'HeartRate': '91', 'Load': '70', 'Grade': '6.5', 'StageName': 'Ramp10', 'PhaseName': 'Exercise', 'Mets': '2.8', 'VECount': '0', 'PaceCount': '0', 'Artifact': '0%', 'start': 235, 'end': 239}, 36: {'HeartRate': '91', 'Load': '73', 'Grade': '6.4', 'StageName': 'Ramp11', 'PhaseName': 'Exercise', 'Mets': '2.8', 'VECount': '0', 'PaceCount': '0', 'Artifact': '0%', 'start': 239, 'end': 245}, 37: {'HeartRate': '92', 'Load': '73', 'Grade': '6.4', 'StageName': 'Ramp11', 'PhaseName': 'Exercise', 'Mets': '2.9', 'VECount': '0', 'PaceCount': '0', 'Artifact': '0%', 'start': 245, 'end': 249}, 38: {'HeartRate': '92', 'Load': '76', 'Grade': '6.5', 'StageName': 'Ramp12', 'PhaseName': 'Exercise', 'Mets': '2.9', 'VECount': '0', 'PaceCount': '0', 'Artifact': '0%', 'start': 249, 'end': 254}, 39: {'HeartRate': '91', 'Load': '76', 'Grade': '6.2', 'StageName': 'Ramp12', 'PhaseName': 'Exercise', 'Mets': '3.0', 'VECount': '0', 'PaceCount': '0', 'Artifact': '0%', 'start': 254, 'end': 255}, 40: {'HeartRate': '91', 'Load': '76', 'Grade': '6.2', 'StageName': 'Ramp12', 'PhaseName': 'Exercise', 'Mets': '3.0', 'VECount': '0', 'PaceCount': '0', 'Artifact': '0%', 'start': 255, 'end': 259}, 41: {'HeartRate': '93', 'Load': '79', 'Grade': '6.3', 'StageName': 'Ramp13', 'PhaseName': 'Exercise', 'Mets': '3.0', 'VECount': '0', 'PaceCount': '0', 'Artifact': '0%', 'start': 259, 'end': 265}, 42: {'HeartRate': '96', 'Load': '79', 'Grade': '6.4', 'StageName': 'Ramp13', 'PhaseName': 'Exercise', 'Mets': '3.1', 'VECount': '0', 'PaceCount': '0', 'Artifact': '0%', 'start': 265, 'end': 269}, 43: {'HeartRate': '98', 'Load': '82', 'Grade': '6.4', 'StageName': 'Ramp14', 'PhaseName': 'Exercise', 'Mets': '3.1', 'VECount': '0', 'PaceCount': '0', 'Artifact': '0%', 'start': 269, 'end': 275}, 44: {'HeartRate': '96', 'Load': '82', 'Grade': '6.3', 'StageName': 'Ramp14', 'PhaseName': 'Exercise', 'Mets': '3.2', 'VECount': '0', 'PaceCount': '0', 'Artifact': '0%', 'start': 275, 'end': 279}, 45: {'HeartRate': '97', 'Load': '85', 'Grade': '6.3', 'StageName': 'Ramp15', 'PhaseName': 'Exercise', 'Mets': '3.2', 'VECount': '0', 'PaceCount': '0', 'Artifact': '0%', 'start': 279, 'end': 284}, 46: {'HeartRate': '97', 'Load': '85', 'Grade': '6.4', 'StageName': 'Ramp15', 'PhaseName': 'Exercise', 'Mets': '3.3', 'VECount': '0', 'PaceCount': '0', 'Artifact': '0%', 'start': 284, 'end': 285}, 47: {'HeartRate': '97', 'Load': '85', 'Grade': '6.4', 'StageName': 'Ramp15', 'PhaseName': 'Exercise', 'Mets': '3.3', 'VECount': '0', 'PaceCount': '0', 'Artifact': '0%', 'start': 285, 'end': 289}, 48: {'HeartRate': '96', 'Load': '88', 'Grade': '6.4', 'StageName': 'Ramp16', 'PhaseName': 'Exercise', 'Mets': '3.3', 'VECount': '0', 'PaceCount': '0', 'Artifact': '0%', 'start': 289, 'end': 295}, 49: {'HeartRate': '97', 'Load': '88', 'Grade': '6.4', 'StageName': 'Ramp16', 'PhaseName': 'Exercise', 'Mets': '3.4', 'VECount': '0', 'PaceCount': '0', 'Artifact': '0%', 'start': 295, 'end': 299}, 50: {'HeartRate': '97', 'Load': '92', 'Grade': '6.3', 'StageName': 'Ramp17', 'PhaseName': 'Exercise', 'Mets': '3.4', 'VECount': '0', 'PaceCount': '0', 'Artifact': '0%', 'start': 299, 'end': 305}, 51: {'HeartRate': '98', 'Load': '92', 'Grade': '6.4', 'StageName': 'Ramp17', 'PhaseName': 'Exercise', 'Mets': '3.5', 'VECount': '0', 'PaceCount': '0', 'Artifact': '0%', 'start': 305, 'end': 309}, 52: {'HeartRate': '99', 'Load': '96', 'Grade': '6.5', 'StageName': 'Ramp18', 'PhaseName': 'Exercise', 'Mets': '3.5', 'VECount': '0', 'PaceCount': '0', 'Artifact': '0%', 'start': 309, 'end': 314}, 53: {'HeartRate': '100', 'Load': '96', 'Grade': '6.4', 'StageName': 'Ramp18', 'PhaseName': 'Exercise', 'Mets': '3.6', 'VECount': '0', 'PaceCount': '0', 'Artifact': '0%', 'start': 314, 'end': 315}, 54: {'HeartRate': '100', 'Load': '96', 'Grade': '6.4', 'StageName': 'Ramp18', 'PhaseName': 'Exercise', 'Mets': '3.6', 'VECount': '0', 'PaceCount': '0', 'Artifact': '0%', 'start': 315, 'end': 319}, 55: {'HeartRate': '100', 'Load': '100', 'Grade': '6.3', 'StageName': 'Ramp19', 'PhaseName': 'Exercise', 'Mets': '3.6', 'VECount': '0', 'PaceCount': '0', 'Artifact': '0%', 'start': 319, 'end': 325}, 56: {'HeartRate': '101', 'Load': '100', 'Grade': '6.4', 'StageName': 'Ramp19', 'PhaseName': 'Exercise', 'Mets': '3.7', 'VECount': '0', 'PaceCount': '0', 'Artifact': '0%', 'start': 325, 'end': 329}, 57: {'HeartRate': '101', 'Load': '104', 'Grade': '6.3', 'StageName': 'Ramp20', 'PhaseName': 'Exercise', 'Mets': '3.7', 'VECount': '0', 'PaceCount': '0', 'Artifact': '0%', 'start': 329, 'end': 335}, 58: {'HeartRate': '102', 'Load': '104', 'Grade': '6.4', 'StageName': 'Ramp20', 'PhaseName': 'Exercise', 'Mets': '3.8', 'VECount': '0', 'PaceCount': '0', 'Artifact': '0%', 'start': 335, 'end': 339}, 59: {'HeartRate': '103', 'Load': '108', 'Grade': '6.3', 'StageName': 'Ramp21', 'PhaseName': 'Exercise', 'Mets': '3.8', 'VECount': '0', 'PaceCount': '0', 'Artifact': '0%', 'start': 339, 'end': 344}, 60: {'HeartRate': '104', 'Load': '108', 'Grade': '6.4', 'StageName': 'Ramp21', 'PhaseName': 'Exercise', 'Mets': '3.9', 'VECount': '0', 'PaceCount': '0', 'Artifact': '0%', 'start': 344, 'end': 345}, 61: {'HeartRate': '104', 'Load': '108', 'Grade': '6.4', 'StageName': 'Ramp21', 'PhaseName': 'Exercise', 'Mets': '3.9', 'VECount': '0', 'PaceCount': '0', 'Artifact': '0%', 'start': 345, 'end': 349}, 62: {'HeartRate': '104', 'Load': '112', 'Grade': '6.5', 'StageName': 'Ramp22', 'PhaseName': 'Exercise', 'Mets': '3.9', 'VECount': '0', 'PaceCount': '0', 'Artifact': '0%', 'start': 349, 'end': 355}, 63: {'HeartRate': '106', 'Load': '112', 'Grade': '6.4', 'StageName': 'Ramp22', 'PhaseName': 'Exercise', 'Mets': '4.0', 'VECount': '0', 'PaceCount': '0', 'Artifact': '0%', 'start': 355, 'end': 359}, 64: {'HeartRate': '106', 'Load': '116', 'Grade': '6.4', 'StageName': 'Ramp23', 'PhaseName': 'Exercise', 'Mets': '4.0', 'VECount': '0', 'PaceCount': '0', 'Artifact': '0%', 'start': 359, 'end': 365}, 65: {'HeartRate': '107', 'Load': '116', 'Grade': '6.4', 'StageName': 'Ramp23', 'PhaseName': 'Exercise', 'Mets': '4.1', 'VECount': '0', 'PaceCount': '0', 'Artifact': '0%', 'start': 365, 'end': 369}, 66: {'HeartRate': '107', 'Load': '120', 'Grade': '6.4', 'StageName': 'Ramp24', 'PhaseName': 'Exercise', 'Mets': '4.1', 'VECount': '0', 'PaceCount': '0', 'Artifact': '0%', 'start': 369, 'end': 374}, 67: {'HeartRate': '107', 'Load': '120', 'Grade': '6.3', 'StageName': 'Ramp24', 'PhaseName': 'Exercise', 'Mets': '4.2', 'VECount': '0', 'PaceCount': '0', 'Artifact': '0%', 'start': 374, 'end': 375}, 68: {'HeartRate': '108', 'Load': '120', 'Grade': '6.3', 'StageName': 'Ramp24', 'PhaseName': 'Exercise', 'Mets': '4.2', 'VECount': '0', 'PaceCount': '0', 'Artifact': '0%', 'start': 375, 'end': 379}, 69: {'HeartRate': '108', 'Load': '20', 'Grade': '4.3', 'StageName': 'Noload', 'PhaseName': 'Rest', 'Mets': '4.2', 'VECount': '0', 'PaceCount': '0', 'Artifact': '0%', 'start': 379, 'end': 384}, 70: {'HeartRate': '105', 'Load': '0', 'Grade': '2.1', 'StageName': 'Noload', 'PhaseName': 'Rest', 'Mets': '4.0', 'VECount': '0', 'PaceCount': '0', 'Artifact': '0%', 'start': 384, 'end': 389}, 71: {'HeartRate': '100', 'Load': '0', 'Grade': '1.5', 'StageName': 'Noload', 'PhaseName': 'Rest', 'Mets': '3.9', 'VECount': '0', 'PaceCount': '0', 'Artifact': '0%', 'start': 389, 'end': 404}, 72: {'HeartRate': '83', 'Load': '0', 'Grade': '0.7', 'StageName': 'Noload', 'PhaseName': 'Rest', 'Mets': '3.5', 'VECount': '0', 'PaceCount': '0', 'Artifact': '0%', 'start': 404, 'end': 419}, 73: {'HeartRate': '75', 'Load': '0', 'Grade': '0.0', 'StageName': 'Noload', 'PhaseName': 'Rest', 'Mets': '3.1', 'VECount': '0', 'PaceCount': '0', 'Artifact': '0%', 'start': 419, 'end': 434}, 74: {'HeartRate': '71', 'Load': '0', 'Grade': '0.0', 'StageName': 'Noload', 'PhaseName': 'Rest', 'Mets': '2.7', 'VECount': '0', 'PaceCount': '0', 'Artifact': '0%', 'start': 434, 'end': 435}, 75: {'HeartRate': '71', 'Load': '0', 'Grade': '0.0', 'StageName': 'Noload', 'PhaseName': 'Rest', 'Mets': '2.7', 'VECount': '0', 'PaceCount': '0', 'Artifact': '0%', 'start': 435}})\n"
     ]
    }
   ],
   "source": [
    "#[(phase_name,stage,duration)]\n",
    "trends = defaultdict(dict)\n",
    "trend_entry_fields=['HeartRate', 'Load', 'Grade', 'StageName', 'PhaseName', 'Mets', 'VECount', 'PaceCount', 'Artifact']\n",
    "\n",
    "for trend_entry in root.findall(\"./TrendData/TrendEntry\"):\n",
    "    idx = int(trend_entry.get(\"Idx\"))\n",
    "    for field in trend_entry_fields:\n",
    "        trends[idx][field]=trend_entry.find(field).text\n",
    "    current_trend_start_time = 60 * int(trend_entry.find(\"EntryTime/Minute\").text) + int(trend_entry.find(\"EntryTime/Second\").text)\n",
    "    trends[idx]['start'] = current_trend_start_time\n",
    "    if idx > 0:\n",
    "        trends[idx-1]['end'] = current_trend_start_time\n",
    "    #last trend has no end\n",
    "    \n",
    "#now, let's go through and read out the full disclosure data\n",
    "print(trends)"
   ]
  },
  {
   "cell_type": "code",
   "execution_count": 33,
   "metadata": {},
   "outputs": [],
   "source": [
    "#TODO: start_time, sample_rate\n",
    "counter = 0\n",
    "full_ekgs = defaultdict(list)\n",
    "full_leads = {}\n",
    "fd_start_time = (60 * int(root.find(\"./FullDisclosure/StartTime/Minute\").text) + \n",
    "                   float(root.find(\"./FullDisclosure/StartTime/Second\").text))\n",
    "fd_sample_rate = int(root.find(\"./FullDisclosure/SampleRate\").text)\n",
    "for lead_order in root.findall(\"./FullDisclosure/LeadOrder\"):\n",
    "    full_leads = {i: lead for i, lead in enumerate(lead_order.text.split(','))}\n",
    "    \n",
    "for full_d in root.findall(\"./FullDisclosure/FullDisclosureData\"):\n",
    "    for full_line in re.split('\\n|\\t', full_d.text):\n",
    "        for sample in re.split(',', full_line):\n",
    "            if sample == '':\n",
    "                continue\n",
    "            full_ekgs[full_leads[counter % 3]].append(float(sample))\n",
    "            counter += 1\n"
   ]
  },
  {
   "cell_type": "code",
   "execution_count": 19,
   "metadata": {},
   "outputs": [
    {
     "data": {
      "text/plain": [
       "[40.0, 41.0, 43.0, 42.0, 42.0, 38.0, 36.0, 29.0, 21.0, 21.0]"
      ]
     },
     "execution_count": 19,
     "metadata": {},
     "output_type": "execute_result"
    }
   ],
   "source": [
    "full_ekgs['I'][-10:]"
   ]
  },
  {
   "cell_type": "code",
   "execution_count": 44,
   "metadata": {},
   "outputs": [
    {
     "name": "stdout",
     "output_type": "stream",
     "text": [
      "217500\n",
      "216500\n",
      "400.0\n"
     ]
    }
   ],
   "source": [
    "print((7*60+15)*500)\n",
    "print(len(full_ekgs['I']))\n",
    "print (.8*500)"
   ]
  },
  {
   "cell_type": "code",
   "execution_count": 36,
   "metadata": {},
   "outputs": [],
   "source": [
    "#TODO TEST COMPLETED INFO\n",
    "#NONE AT END\n",
    "# 1 sec gap\n",
    "fd_start_time = 0\n",
    "for trend in trends.values():\n",
    "    start_idx = int(fd_sample_rate * (trend['start'] - fd_start_time))\n",
    "    end_idx = int(fd_sample_rate * (trend['end'] - fd_start_time)) if trend.get('end') else None\n",
    "    trend['lead_I'] = full_ekgs['I'][start_idx:end_idx]\n",
    "    trend['lead_2'] = full_ekgs['2'][start_idx:end_idx]\n",
    "    trend['lead_3'] = full_ekgs['3'][start_idx:end_idx]"
   ]
  },
  {
   "cell_type": "code",
   "execution_count": 37,
   "metadata": {},
   "outputs": [
    {
     "name": "stdout",
     "output_type": "stream",
     "text": [
      "0.0\n"
     ]
    }
   ],
   "source": [
    "#checks\n",
    "raw_len = len(full_ekgs['I'])\n",
    "total_len=0\n",
    "for trend in trends.values():\n",
    "    assert len(trend['lead_I']) == len(trend['lead_2']) == len(trend['lead_3'])\n",
    "    total_len += len(trend['lead_I'])\n",
    "\n",
    "print((raw_len - total_len)/500)\n",
    "assert raw_len == total_len\n"
   ]
  },
  {
   "cell_type": "code",
   "execution_count": null,
   "metadata": {},
   "outputs": [],
   "source": [
    "    phase_name = phase.find('PhaseName').text\n",
    "    for stage in phase.findall(\"./Stage\"):\n",
    "        idx = int(stage.get(\"idx\"))\n",
    "        stage_name = stage.find(\"StageName\").text\n",
    "        stage_duration =60 * int(stage.find(\"StageDuration/Minute\").text) + int(stage.find(\"StageDuration/Second\").text) \n",
    "        stage_end_time = stage_start_time + stage_duration\n",
    "        print(phase_name, idx, stage_name, stage_duration, stage_start_time, stage_end_time)\n",
    "       \n",
    "        protocols[phase_name][idx] = {'stage_name': stage_name, 'stage_duration': stage_duration, \n",
    "                                                    'stage_start_time': stage_start_time, 'stage_end_time': stage_end_time}\n",
    "        \n",
    "        stage_start_time = stage_end_time\n",
    "\n",
    "\n",
    "        "
   ]
  },
  {
   "cell_type": "code",
   "execution_count": null,
   "metadata": {},
   "outputs": [],
   "source": [
    "for key, item in protocols.items():\n",
    "    print(key,item)\n",
    "    print('\\n')"
   ]
  },
  {
   "cell_type": "code",
   "execution_count": null,
   "metadata": {},
   "outputs": [],
   "source": []
  }
 ],
 "metadata": {
  "kernelspec": {
   "display_name": "Python 3",
   "language": "python",
   "name": "python3"
  },
  "language_info": {
   "codemirror_mode": {
    "name": "ipython",
    "version": 3
   },
   "file_extension": ".py",
   "mimetype": "text/x-python",
   "name": "python",
   "nbconvert_exporter": "python",
   "pygments_lexer": "ipython3",
   "version": "3.6.2"
  }
 },
 "nbformat": 4,
 "nbformat_minor": 2
}
