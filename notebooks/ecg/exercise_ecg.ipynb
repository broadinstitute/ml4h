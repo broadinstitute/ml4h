{
 "cells": [
  {
   "cell_type": "markdown",
   "metadata": {},
   "source": [
    "**Biosppy exploration**\n",
    "* filtering library for a variety of signals, [documentation](https://biosppy.readthedocs.io/en/stable/)\n",
    "* ecg filtering is meant to be for a single lead only -- does that throw away a lot of useful information across 12 leads?\n",
    "* also can extract very interesting features like filtered signal, r-preaks, templtes, heartbeat templates, heart rate reference, intstantaneous heart rate\n",
    "\n",
    "**details of filtering**\n",
    "* looks like the [ecg.ecg](https://github.com/PIA-Group/BioSPPy/blob/212c3dcbdb1ec43b70ba7199deb5eb22bcb78fd0/biosppy/signals/ecg.py) function applies, using [tools.filter_signal](https://github.com/PIA-Group/BioSPPy/blob/212c3dcbdb1ec43b70ba7199deb5eb22bcb78fd0/biosppy/signals/tools.py), by default (most of these are easily modifiable with alternative defaults)  \n",
    "    * Finite Impulse Response filter ('FIR')\n",
    "    * bandpass (low-pass, high-pass, band-pass, band-stop all available), \n",
    "    * order of the filter is adjustable and set to 0.3 * sampling rate \n",
    "    * between 3 and 45 HZ\n",
    "\n",
    "**Plotting needs:**\n",
    "* boxes are 1mm x 1mm, 0.04 sec x .1mV \n",
    "* horizontal scale is whatever length you want -- (looks like default is 60 boxes)\n",
    "* vertical scale is 30 boxes, but they can run into each other\n",
    "\n",
    "\n",
    "**Suggestions for the test we should run**\n",
    "* filter all leads\n",
    "* run through DL model\n",
    "* see what changes in prediction\n",
    "\n",
    "**Raw Data**\n",
    "* rest_ecg\n",
    "    * lots of fields in raw xml\n",
    "    * extracted is just lead waveform\n",
    "    * for each strip, following is true: sample_rate = 500 Hz, 5000 counts, units (uVperLsb) 5\n",
    "    * for median strips, 600 counts, 500 hz, 5 uVper LSB, first last valid marks\n",
    "    * Vector Loops?\n",
    "    * Full disclosure data? \n",
    "    * Also have event time stamps\n",
    "    * band pass filter\n",
    "        * is it doing the right thing?\n",
    "        * what will it cut out of afib?!?\n",
    "* bike_ecg\n",
    "    * strip (at the end? User instigated)\n",
    "    * median\n",
    "    * Full disclosure\n",
    "    * Arrhythmia strips\n",
    "    * FullDisclosure Start Time?\n",
    "    * raw data fields in xmls (max heart rate, predicted max, actual max, target predicted, formala, percent,resting stats,  sthrs, ST time, maxst, units, stslope, phase information, trend data, units, st index, ST per chunk, strip data, cycle data, arrhythmia data, reason for termination\n",
    "    * leads are I,2,3\n",
    "    * start time, end time\n",
    "    * same resolution, Hz = 500"
   ]
  },
  {
   "cell_type": "code",
   "execution_count": null,
   "metadata": {},
   "outputs": [],
   "source": [
    "from collections import defaultdict\n",
    "import copy\n",
    "import h5py\n",
    "import os\n",
    "import numpy as np\n",
    "import matplotlib\n",
    "import matplotlib.pyplot as plt \n",
    "import matplotlib.gridspec as gridspec\n",
    "from matplotlib.ticker import (AutoMinorLocator, MultipleLocator)\n",
    "from biosppy.signals import ecg\n",
    "from biosppy.signals.tools import filter_signal\n",
    "from scipy.signal import iirnotch\n",
    "\n",
    "# IPython imports\n",
    "from IPython.display import Image\n",
    "\n",
    "\n",
    "\n"
   ]
  },
  {
   "cell_type": "code",
   "execution_count": null,
   "metadata": {},
   "outputs": [],
   "source": [
    "sec_per_box = 0.04\n",
    "mv_per_box = .1\n",
    "time_interval = 2.5 #time-interval per plot in seconds. ts_Reference data is in s, voltage measurement is 5 uv per lsb\n",
    "raw_scale = 0.005 # convert to mV\n",
    "lead_mapping=np.array([['strip_I','strip_aVR', 'strip_V1', 'strip_V4'],\n",
    "              ['strip_II','strip_aVL', 'strip_V2', 'strip_V5'],\n",
    "              ['strip_III','strip_aVF', 'strip_V3', 'strip_V6'],\n",
    "             ])\n",
    "def plot_resting_ecg(test_data, name):\n",
    "    fig, ax = plt.subplots(nrows=3, ncols=4, sharey='row', figsize=(24,18), tight_layout=True)\n",
    "    for i in range(0,3):\n",
    "        for j in range(0,4):\n",
    "            lead_name = lead_mapping[i,j]\n",
    "            lead = test_data['ecg_rest'][lead_name]\n",
    "            ax[i,j].set_xlim(j*time_interval,(j+1)*time_interval)\n",
    "            ax[i,j].set_ylim(-1.5, 1.5) #-1.5mV -> 1.5mV\n",
    "            ax[i,j].xaxis.set_major_locator(MultipleLocator(0.2)) #major grids at every .2sec = 5 * 0.04 sec\n",
    "            ax[i,j].yaxis.set_major_locator(MultipleLocator(0.5))  #major grids at every .5mV \n",
    "\n",
    "            ax[i,j].xaxis.set_minor_locator(AutoMinorLocator(5))\n",
    "            ax[i,j].yaxis.set_minor_locator(AutoMinorLocator(5))\n",
    "\n",
    "            ax[i,j].grid(which='major', color='#CCCCCC', linestyle='--')\n",
    "            ax[i,j].grid(which='minor', color='#CCCCCC', linestyle=':')\n",
    "\n",
    "            #normalize data in muv\n",
    "            ax[i,j].plot(lead['ts_reference'], [elem_ * raw_scale for elem_ in lead['filtered']], color='green')\n",
    "            ax[i,j].plot(lead['ts_reference'], [elem_ * raw_scale for elem_ in lead['raw']], color='red')\n",
    "            #ax[i,j].plot(lead['ts_reference'], [elem_ * raw_scale for elem_ in lead['filtered_1']], color = 'black')\n",
    "            #ax[i,j].plot(lead['ts_reference'], [elem_ * raw_scale for elem_ in lead['filtered_2']], color = 'orange')\n",
    "            ax[i,j].set_title(lead_name)\n",
    "    fig.savefig(f'{name}.pdf')"
   ]
  },
  {
   "cell_type": "code",
   "execution_count": null,
   "metadata": {},
   "outputs": [],
   "source": [
    "#load all local samples\n",
    "#DATA_DIRECTORY = '/Users/pbatra/broad/local_data_sets/tensors/test/2019-04-26'\n",
    "#DATA_DIRECTORY = '/Users/pbatra/broad/local_data_sets/tensors/test/ecg-rest-and-bike/2019-05-23/both'\n",
    "#DATA_DIRECTORY = '/Users/pbatra/broad/local_data_sets/tensors/test/ecg-rest-and-bike/2019-05-23/fast_test'\n",
    "DATA_DIRECTORY = '/Users/pbatra/broad/local_data_sets/tensors/test/ecg-rest-31k'\n",
    "SAMPLE_LIMIT = 30\n",
    "samples = defaultdict(dict)\n",
    "\n",
    "for sample_hd5 in os.listdir(DATA_DIRECTORY)[:SAMPLE_LIMIT]:\n",
    "    sample_name = sample_hd5[:-4]\n",
    "    print('working on %s' % sample_name)\n",
    "    with h5py.File(os.path.join(DATA_DIRECTORY, sample_hd5)) as hd5:        \n",
    "        ecg_rest = {}\n",
    "        if 'ecg_rest' in hd5:\n",
    "            '''loop over all ecg_rest fields, if they are the raw waveforms (not medians), \n",
    "               use biospy package to apply band-pass filter and store additional data'''\n",
    "            for field in list(hd5['ecg_rest'].keys()):\n",
    "                print(f'\\t\\t{field}')\n",
    "                #keys include medians and raw\n",
    "                data = {}\n",
    "                data['raw'] = list(hd5['ecg_rest'][field]) #where are the ecg_Rest from separate instances?\n",
    "                signal_length=len(data['raw'])\n",
    "                sampling_rate = 500.\n",
    "                if signal_length == 5000: #if 5000 steps long , then raw\n",
    "                    print(f'\\t\\tfiltering {field}')\n",
    "                    data['ts_reference'] = np.array([i*1./(sampling_rate+1.) for i in range(0,signal_length)])\n",
    "                    #(data['ts_reference'], data['filtered'], data['rpeaks'], \n",
    "                    # data['template_ts'], data['templates'], data['heart_rate_ts'], \n",
    "                    # data['heart_rate']) = ecg.ecg(signal=np.array(data['raw']), sampling_rate = sampling_rate)\n",
    "                    #modifying band pass for experimentation\n",
    "                    data['filtered'], _, _= filter_signal(signal=np.array(data['raw']),\n",
    "                                          ftype='FIR',\n",
    "                                          band='bandpass',\n",
    "                                          order=int(0.3 * sampling_rate),\n",
    "                                          frequency=[.9, 50], #3,45\n",
    "                                          sampling_rate=sampling_rate)\n",
    "                    data['filtered_1'], _, _= filter_signal(signal=np.array(data['raw']),\n",
    "                                          ftype='FIR',\n",
    "                                          band='bandpass',\n",
    "                                          order=int(0.3 * sampling_rate),\n",
    "                                          frequency=[.9, 20], #3,45\n",
    "                                          sampling_rate=sampling_rate)\n",
    "                    data['filtered_2'], _, _= filter_signal(signal=np.array(data['raw']),\n",
    "                                          ftype='FIR',\n",
    "                                          band='bandpass',\n",
    "                                          order=int(0.3 * sampling_rate),\n",
    "                                          frequency=[.9, 30], #3,45\n",
    "                                          sampling_rate=sampling_rate)\n",
    "                ecg_rest[field]=data\n",
    "            samples[sample_name]['ecg_rest']= ecg_rest\n",
    "        plot_resting_ecg(samples[sample_name], sample_name)\n",
    "        #repeat for ecg_bike\n",
    "        #TODO: confirm that strip 0 vs strip 1 means instance, not the actualy lead strip, as in the rest_ecg.\n",
    "        \n",
    "        ecg_bike = {}\n",
    "        if 'ecg_bike' in hd5 and 'full_0' in hd5['ecg_bike']:  \n",
    "            for lead in range(0,3): #lead order is hard coded, believe order is ['I','2','3']\n",
    "                data = {}\n",
    "                print(f'\\t\\t bike lead {lead}')\n",
    "                data['raw'] = hd5['ecg_bike']['full_0'][:,lead]  \n",
    "                print(f'\\t\\tfiltering bike lead {lead}')\n",
    "                sampling_rate = 500.\n",
    "                (data['ts_reference'], data['filtered'], data['rpeaks'], \n",
    "                 data['template_ts'], data['templates'], data['heart_rate_ts'], \n",
    "                 data['heart_rate']) = ecg.ecg(signal=data['raw'], sampling_rate = sampling_rate)\n",
    "                #modifying band pass for experimentation\n",
    "                data['filtered_2'], _, _= filter_signal(signal=np.array(data['raw']),\n",
    "                                          ftype='FIR',\n",
    "                                          band='bandpass',\n",
    "                                          order=int(0.3 * sampling_rate),\n",
    "                                          frequency=[3, 45], #3,45\n",
    "                                          sampling_rate=sampling_rate)\n",
    "                ecg_bike[lead]=data\n",
    "    \n",
    "            samples[sample_name]['ecg_bike'] = ecg_bike\n",
    "        \n",
    "print('loaded %s samples' % len(samples) )"
   ]
  },
  {
   "cell_type": "code",
   "execution_count": null,
   "metadata": {},
   "outputs": [],
   "source": [
    "file_id = '1000387'\n",
    "#playing with bike/rest\n",
    "#file_id = '2985417'\n",
    "test_data = samples[file_id]['ecg_rest']['strip_I']\n",
    "print(test_data['ts_reference'][0:10])\n",
    "print(len(test_data['ts_reference']))\n",
    "print(blah[0:10])\n",
    "print(len(blah))"
   ]
  },
  {
   "cell_type": "code",
   "execution_count": null,
   "metadata": {},
   "outputs": [],
   "source": [
    "   \n",
    "#file typically sent to steve\n",
    "file_id = '1000387'\n",
    "#playing with bike/rest\n",
    "#file_id = '2985417'\n",
    "test_data = samples[file_id]\n",
    "#plt.plot()\n",
    "#plot will be in seconds vs mV, boxes are \n",
    "\n",
    "\n",
    "#BIKE ECG PLOTTING\n",
    "lead_mapping=np.array([['strip_I','strip_aVR', 'strip_V1', 'strip_V4'],\n",
    "              ['strip_II','strip_aVL', 'strip_V2', 'strip_V5'],\n",
    "              ['strip_III','strip_aVF', 'strip_V3', 'strip_V6'],\n",
    "             ])\n",
    "fig, ax = plt.subplots(nrows=3, ncols=4, sharey='row', figsize=(24,18), tight_layout=True)\n",
    "lead_mapping=np.array([[0,0,0,0],\n",
    "          [1,1,1,1],\n",
    "          [2,2,2,2],\n",
    "         ])\n",
    "lead_names={0:'I', 1:'2', 2:'3'}\n",
    "if 'ecg_bike' in test_data:\n",
    "    ecg_bike = test_data['ecg_bike']\n",
    "    for i in range(0,3):\n",
    "        for j in range(0,4):\n",
    "            lead_index = lead_mapping[i,j] \n",
    "            lead_name = lead_names[lead_index]\n",
    "            lead = ecg_bike[lead_index] #hard mapping to row\n",
    "            ax[i,j].set_xlim(j*time_interval,(j+1)*time_interval)\n",
    "            ax[i,j].set_ylim(-1.5, 1.5) #-1.5mV -> 1.5mV\n",
    "            ax[i,j].xaxis.set_major_locator(MultipleLocator(0.2)) #major grids at every .2sec = 5 * 0.04 sec\n",
    "            ax[i,j].yaxis.set_major_locator(MultipleLocator(0.5))  #major grids at every .5mV \n",
    "\n",
    "            ax[i,j].xaxis.set_minor_locator(AutoMinorLocator(5))\n",
    "            ax[i,j].yaxis.set_minor_locator(AutoMinorLocator(5))\n",
    "\n",
    "            ax[i,j].grid(which='major', color='#CCCCCC', linestyle='--')\n",
    "            ax[i,j].grid(which='minor', color='#CCCCCC', linestyle=':')\n",
    "\n",
    "            #normalize data in muv\n",
    "            ax[i,j].plot(lead['ts_reference'], [elem_ * raw_scale for elem_ in lead['filtered']], color='green')\n",
    "            ax[i,j].plot(lead['ts_reference'], [elem_ * raw_scale for elem_ in lead['raw']], color='red')\n",
    "            ax[i,j].plot(lead['ts_reference'], [elem_ * raw_scale for elem_ in lead['filtered_low']], color = 'black')\n",
    "            ax[i,j].plot(lead['ts_reference'], [elem_ * raw_scale for elem_ in lead['filtered_high']], color = 'orange')\n",
    "            ax[i,j].set_title(lead_name)"
   ]
  },
  {
   "cell_type": "markdown",
   "metadata": {},
   "source": [
    "To do:\n",
    "* tensormaps?\n",
    "* tensorgenerators?\n",
    "* create models?\n",
    "* think about performance comparison (structured, raw, extracted recovery metrics, filters added, filters added and rpeaks etc extracted, spherical mapping)\n",
    "* don't forget about the exciting thing which is combined gwas\n",
    "* look up long QT syndrome (arrhythmia notes? where?)\n",
    "* build tree organizer of counts by variables against outputs"
   ]
  },
  {
   "cell_type": "code",
   "execution_count": null,
   "metadata": {},
   "outputs": [],
   "source": [
    "import sys\n",
    "import argparse\n",
    "\n",
    "# ML4CVD Imports\n",
    "from ml4cvd.arguments import parse_args\n",
    "from ml4cvd.recipes import train_multimodal_multitask\n",
    "from ml4cvd.models import make_multimodal_to_multilabel_model\n",
    "from ml4cvd.tensor_generators import TensorGenerator\n",
    "\n",
    "sys.argv = ['train', \n",
    "            '--tensors', '/mnt/disks/ecg-text3/2019-04-26/', \n",
    "            '--input_tensors', 'ecg_rest', \n",
    "            '--output_tensors', 'ecg_rhythm', 'ecg_normal', 'p-axis', 'p-duration', \n",
    "                'p-offset', 'p-onset', 'pp-interval', 'pq-interval', 'q-offset', 'q-onset', \n",
    "                'qrs-num', 'qrs-duration', 'r-axis', 'ventricular-rate',\n",
    "            '--batch_size', '32', \n",
    "            '--epochs', '1',  \n",
    "            '--learning_rate', '0.0001',\n",
    "            '--training_steps', '20',\n",
    "            '--inspect_model',\n",
    "            '--id', 'ecg_regresser']\n",
    "args = parse_args()\n",
    "generate_train, generate_valid, generate_test = test_train_valid_tensor_generators(args.tensor_maps_in,  args.tensor_maps_out,  args.tensors, args.batch_size,   args.valid_ratio, args.test_ratio, args.test_modulo, args.balance_csvs)\n",
    "model = make_multimodal_to_multilabel_model(args.model_file, args.model_layers, args.model_freeze,\n",
    "                                                args.tensor_maps_in, args.tensor_maps_out, args.activation,\n",
    "                                                args.dense_layers, args.dropout, args.mlp_concat, args.conv_layers,\n",
    "                                                args.max_pools, args.res_layers, args.dense_blocks, args.block_size,\n",
    "                                                args.conv_bn, args.conv_x, args.conv_y, args.conv_z, args.conv_dropout,\n",
    "                                                args.conv_width, args.u_connect, args.pool_x, args.pool_y, args.pool_z, args.padding,\n",
    "                                                args.learning_rate)\n",
    "model = train_model_from_generators(model, generate_train, generate_valid, args.training_steps,\n",
    "                                        args.validation_steps, args.batch_size, args.epochs, args.patience,\n",
    "                                        args.output_folder, args.id, args.inspect_model, args.inspect_show_labels)"
   ]
  },
  {
   "cell_type": "code",
   "execution_count": null,
   "metadata": {},
   "outputs": [],
   "source": [
    "generator = TensorGenerator(3, args.tensor_maps_in, args.tensor_maps_out, paths, None, True)"
   ]
  },
  {
   "cell_type": "code",
   "execution_count": null,
   "metadata": {},
   "outputs": [],
   "source": [
    "DATA_DIRECTORY = '/Users/pbatra/broad/local_data_sets/tensors/test/ecg-rest-and-bike/2019-05-23/both'\n",
    "with h5py.File(os.path.join(DATA_DIRECTORY, '1994810.hd5')) as hd5:\n",
    "    print('\\n\\nall fields\\n\\n')\n",
    "    #for field in list(hd5.keys()):\n",
    "    #    print(field)\n",
    "    print('\\n\\nall ecg_bike fields\\n\\n')\n",
    "    bike_leads={}\n",
    "    for field in hd5['ecg_bike']['full_0'].keys():\n",
    "        print(hd5['ecg_bike'][field].shape[0])\n",
    "    if hd5['ecg_bike']['strip_0']:\n",
    "        lead = {}\n",
    "        for i in range(0,3):\n",
    "            lead['raw']=hd5['ecg_bike']['strip_0'][:,i]\n",
    "            bike_leads[i]=lead\n",
    "    #for field in list(hd5['ecg_bike'].keys()):\n",
    "    #    print(field)\n",
    "    #    data[field] = hd5['ecg_bike'][field][:]\n",
    "        #print(list(hd5['ecg_bike'][field]))\n"
   ]
  },
  {
   "cell_type": "code",
   "execution_count": null,
   "metadata": {},
   "outputs": [],
   "source": [
    "bike_leads[0]['raw'].shape\n"
   ]
  },
  {
   "cell_type": "code",
   "execution_count": null,
   "metadata": {},
   "outputs": [],
   "source": [
    "shape(data['full_0'])"
   ]
  },
  {
   "cell_type": "code",
   "execution_count": null,
   "metadata": {},
   "outputs": [],
   "source": [
    "data['full_0'].shape"
   ]
  },
  {
   "cell_type": "code",
   "execution_count": null,
   "metadata": {},
   "outputs": [],
   "source": [
    "data['median_0'].shape"
   ]
  },
  {
   "cell_type": "code",
   "execution_count": null,
   "metadata": {},
   "outputs": [],
   "source": [
    "data['strip_0'].shape"
   ]
  },
  {
   "cell_type": "code",
   "execution_count": null,
   "metadata": {},
   "outputs": [],
   "source": [
    "len(data['strip_0'][:,0])"
   ]
  },
  {
   "cell_type": "code",
   "execution_count": null,
   "metadata": {},
   "outputs": [],
   "source": [
    "for i in range(0,3):\n",
    "    print(i)"
   ]
  },
  {
   "cell_type": "code",
   "execution_count": null,
   "metadata": {},
   "outputs": [],
   "source": [
    "if 'a' in ('c', 'b'):\n",
    "    print('boo')"
   ]
  },
  {
   "cell_type": "code",
   "execution_count": null,
   "metadata": {},
   "outputs": [],
   "source": [
    "a = {'b':{'dog':3}}\n"
   ]
  },
  {
   "cell_type": "code",
   "execution_count": null,
   "metadata": {},
   "outputs": [],
   "source": [
    "if 'c' in a and 'l' in a['c']:\n",
    "    print('foo')"
   ]
  },
  {
   "cell_type": "code",
   "execution_count": null,
   "metadata": {},
   "outputs": [],
   "source": [
    "lead_order = 'I,2,3'"
   ]
  },
  {
   "cell_type": "code",
   "execution_count": null,
   "metadata": {},
   "outputs": [],
   "source": [
    "lead_order.split(',')"
   ]
  },
  {
   "cell_type": "code",
   "execution_count": null,
   "metadata": {},
   "outputs": [],
   "source": []
  }
 ],
 "metadata": {
  "kernelspec": {
   "display_name": "Python 3",
   "language": "python",
   "name": "python3"
  },
  "language_info": {
   "codemirror_mode": {
    "name": "ipython",
    "version": 3
   },
   "file_extension": ".py",
   "mimetype": "text/x-python",
   "name": "python",
   "nbconvert_exporter": "python",
   "pygments_lexer": "ipython3",
   "version": "3.6.8"
  }
 },
 "nbformat": 4,
 "nbformat_minor": 2
}
