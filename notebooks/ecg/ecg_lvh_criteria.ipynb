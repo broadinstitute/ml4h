{
 "cells": [
  {
   "cell_type": "code",
   "execution_count": 1,
   "metadata": {},
   "outputs": [],
   "source": [
    "%matplotlib inline\n",
    "from collections import defaultdict\n",
    "import h5py\n",
    "import numpy as np\n",
    "import os\n",
    "\n",
    "import matplotlib\n",
    "import matplotlib.pyplot as plt\n",
    "import matplotlib.gridspec as gridspec\n",
    "from matplotlib.ticker import (AutoMinorLocator, MultipleLocator)\n",
    "\n",
    "from biosppy.signals import ecg\n",
    "import pandas as pd\n",
    "\n",
    "# IPython imports\n",
    "from IPython.display import Image"
   ]
  },
  {
   "cell_type": "code",
   "execution_count": 2,
   "metadata": {},
   "outputs": [
    {
     "name": "stderr",
     "output_type": "stream",
     "text": [
      "/usr/local/lib/python3.6/dist-packages/apache_beam/__init__.py:84: UserWarning: Running the Apache Beam SDK on Python 3 is not yet fully supported. You may encounter buggy behavior or missing features.\n",
      "  'Running the Apache Beam SDK on Python 3 is not yet fully supported. '\n",
      "WARNING:root:no GCS storage client\n",
      "Using TensorFlow backend.\n"
     ]
    },
    {
     "ename": "KeyError",
     "evalue": "'ecg_rest_ramplitude'",
     "output_type": "error",
     "traceback": [
      "\u001b[0;31m---------------------------------------------------------------------------\u001b[0m",
      "\u001b[0;31mKeyError\u001b[0m                                  Traceback (most recent call last)",
      "\u001b[0;32m<ipython-input-2-e5ffe6f72947>\u001b[0m in \u001b[0;36m<module>\u001b[0;34m\u001b[0m\n\u001b[1;32m      3\u001b[0m \u001b[0;32mfrom\u001b[0m \u001b[0mml4cvd\u001b[0m\u001b[0;34m.\u001b[0m\u001b[0marguments\u001b[0m \u001b[0;32mimport\u001b[0m \u001b[0m_get_tmap\u001b[0m\u001b[0;34m\u001b[0m\u001b[0;34m\u001b[0m\u001b[0m\n\u001b[1;32m      4\u001b[0m \u001b[0;34m\u001b[0m\u001b[0m\n\u001b[0;32m----> 5\u001b[0;31m \u001b[0mtm_ramp\u001b[0m \u001b[0;34m=\u001b[0m \u001b[0m_get_tmap\u001b[0m\u001b[0;34m(\u001b[0m\u001b[0;34m'ecg_rest_ramplitude'\u001b[0m\u001b[0;34m)\u001b[0m\u001b[0;34m\u001b[0m\u001b[0;34m\u001b[0m\u001b[0m\n\u001b[0m\u001b[1;32m      6\u001b[0m \u001b[0mtm_samp\u001b[0m \u001b[0;34m=\u001b[0m \u001b[0m_get_tmap\u001b[0m\u001b[0;34m(\u001b[0m\u001b[0;34m'ecg_rest_samplitude'\u001b[0m\u001b[0;34m)\u001b[0m\u001b[0;34m\u001b[0m\u001b[0;34m\u001b[0m\u001b[0m\n\u001b[1;32m      7\u001b[0m \u001b[0mtm_ecg_rest_raw\u001b[0m \u001b[0;34m=\u001b[0m \u001b[0m_get_tmap\u001b[0m\u001b[0;34m(\u001b[0m\u001b[0;34m'ecg_rest_raw'\u001b[0m\u001b[0;34m)\u001b[0m\u001b[0;34m\u001b[0m\u001b[0;34m\u001b[0m\u001b[0m\n",
      "\u001b[0;32m/usr/local/lib/python3.6/dist-packages/ml4cvd/arguments.py\u001b[0m in \u001b[0;36m_get_tmap\u001b[0;34m(name)\u001b[0m\n\u001b[1;32m    172\u001b[0m     \u001b[0;32mfrom\u001b[0m \u001b[0mml4cvd\u001b[0m\u001b[0;34m.\u001b[0m\u001b[0mtensor_maps_by_script\u001b[0m \u001b[0;32mimport\u001b[0m \u001b[0mTMAPS\u001b[0m \u001b[0;32mas\u001b[0m \u001b[0mSCRIPT_TMAPS\u001b[0m\u001b[0;34m\u001b[0m\u001b[0;34m\u001b[0m\u001b[0m\n\u001b[1;32m    173\u001b[0m     \u001b[0mTMAPS\u001b[0m\u001b[0;34m.\u001b[0m\u001b[0mupdate\u001b[0m\u001b[0;34m(\u001b[0m\u001b[0mSCRIPT_TMAPS\u001b[0m\u001b[0;34m)\u001b[0m\u001b[0;34m\u001b[0m\u001b[0;34m\u001b[0m\u001b[0m\n\u001b[0;32m--> 174\u001b[0;31m     \u001b[0;32mreturn\u001b[0m \u001b[0mTMAPS\u001b[0m\u001b[0;34m[\u001b[0m\u001b[0mname\u001b[0m\u001b[0;34m]\u001b[0m\u001b[0;34m\u001b[0m\u001b[0;34m\u001b[0m\u001b[0m\n\u001b[0m\u001b[1;32m    175\u001b[0m \u001b[0;34m\u001b[0m\u001b[0m\n\u001b[1;32m    176\u001b[0m \u001b[0;34m\u001b[0m\u001b[0m\n",
      "\u001b[0;31mKeyError\u001b[0m: 'ecg_rest_ramplitude'"
     ]
    }
   ],
   "source": [
    "from ml4cvd.tensor_generators import test_train_valid_tensor_generators, get_test_train_valid_paths, TensorGenerator\n",
    "from ml4cvd.tensor_maps_by_hand import TMAPS\n",
    "from ml4cvd.arguments import _get_tmap\n",
    "\n",
    "tm_ramp = _get_tmap('ecg_rest_ramplitude')\n",
    "tm_samp = _get_tmap('ecg_rest_samplitude')\n",
    "tm_ecg_rest_raw = _get_tmap('ecg_rest_raw')\n",
    "tm_ecg_median_raw = _get_tmap('ecg_rest_median_raw')\n",
    "tm_ecg_lvh_avl = _get_tmap('ecg_rest_lvh_avl')\n",
    "tm_ecg_lvh_sokolow_lyon = _get_tmap('ecg_rest_lvh_sokolow_lyon')\n",
    "tm_ecg_lvh_cornell = _get_tmap('ecg_rest_lvh_cornell')\n",
    "tm_la_enlargement = _get_tmap('left_atrial_enlargement')\n",
    "train_paths, valid_paths, test_paths = get_test_train_valid_paths('/home/pdiachil/ecg_amp_merged//', 0.1, 0.1, 10)"
   ]
  },
  {
   "cell_type": "code",
   "execution_count": null,
   "metadata": {},
   "outputs": [],
   "source": [
    "import h5py\n",
    "df_dic = {'patient_id': [], 'sex': [], 'LVH': [], 'aVL': [], 'Sokolow_Lyon': [], 'Cornell': [],\n",
    "         'full_path': [], 'ecg_text': []}\n",
    "for train_path in train_paths:\n",
    "    df_dic['patient_id'].append(train_path.split('/')[-1])\n",
    "    df_dic['LVH'].append(0.0)\n",
    "    df_dic['aVL'].append(0.0)\n",
    "    df_dic['Sokolow_Lyon'].append(0.0)\n",
    "    df_dic['Cornell'].append(0.0)\n",
    "    df_dic['full_path'].append(train_path)\n",
    "    ff = h5py.File(train_path, 'r')\n",
    "    sex = 'male'\n",
    "    if 'Genetic-sex_Female_0_0' in ff['categorical']:\n",
    "        sex='female'\n",
    "    df_dic['sex'].append(sex)   \n",
    "    df_dic['ecg_text'].append(ff['ecg_rest_text'][0])\n",
    "    if 'Left ventricular hypertrophy' in ff['ecg_rest_text'][0]: \n",
    "        df_dic['LVH'][-1] = 1.0\n",
    "        #Hyp\n",
    "        try:\n",
    "            in_lvh_avl = tm_ecg_lvh_avl.tensor_from_file(tm_ecg_lvh_avl, ff)\n",
    "            in_lvh_sokolow_lyon = tm_ecg_lvh_sokolow_lyon.tensor_from_file(tm_ecg_lvh_sokolow_lyon, ff)\n",
    "            in_lvh_cornell = tm_ecg_lvh_cornell.tensor_from_file(tm_ecg_lvh_cornell, ff)\n",
    "            if in_lvh_avl[1] > 0.5 : df_dic['aVL'][-1] = 1.0\n",
    "            if in_lvh_sokolow_lyon[1] > 0.5 : df_dic['Sokolow_Lyon'][-1] = 1.0\n",
    "            if in_lvh_cornell[1] > 0.5 : df_dic['Cornell'][-1] = 1.0\n",
    "        except ValueError:\n",
    "            'Sex'\n",
    "    ff.close()\n",
    "df = pd.DataFrame(df_dic)"
   ]
  },
  {
   "cell_type": "code",
   "execution_count": null,
   "metadata": {},
   "outputs": [],
   "source": [
    "def get_ecg_traces(train_path):\n",
    "    ff = h5py.File(train_path, 'r')\n",
    "    in_ecg  = tm_ecg_rest_raw.tensor_from_file(tm_ecg_rest_raw, ff, {})*2000.0\n",
    "    in_ecg_median = tm_ecg_rest_raw.tensor_from_file(tm_ecg_median_raw, ff, {})*2000.0\n",
    "    in_ramp = tm_ramp.tensor_from_file(tm_ramp, ff)\n",
    "    in_samp = tm_samp.tensor_from_file(tm_samp, ff)\n",
    "    in_la_enlargement = tm_la_enlargement.tensor_from_file(tm_la_enlargement, ff) \n",
    "\n",
    "    leads = {}\n",
    "    for field in tm_ecg_rest_raw.channel_map:\n",
    "        leads[field] = list(in_ecg[:, tm_ecg_rest_raw.channel_map[field]])\n",
    "    \n",
    "    twelve_leads = defaultdict(dict)\n",
    "    for key, data in leads.items(): \n",
    "        twelve_leads[key]['raw'] = leads[key]\n",
    "        if len(data) == 5000:\n",
    "            (twelve_leads[key]['ts_reference'], twelve_leads[key]['filtered'], twelve_leads[key]['rpeaks'], \n",
    "             twelve_leads[key]['template_ts'], twelve_leads[key]['templates'], twelve_leads[key]['heart_rate_ts'], \n",
    "             twelve_leads[key]['heart_rate']) = ecg.ecg(signal=leads[key], \n",
    "                                                        sampling_rate = 500.,\n",
    "                                                        show=False)\n",
    "    return twelve_leads\n",
    "\n",
    "# Plot ECG\n",
    "%matplotlib inline\n",
    "from matplotlib import rcParams\n",
    "rcParams['font.size'] = 24\n",
    "\n",
    "def plot_traces(twelve_leads, lead_mapping, ax, offset, is_median=False):\n",
    "    # plot will be in seconds vs mV, boxes are \n",
    "    sec_per_box = 0.04\n",
    "    mv_per_box = .1\n",
    "    time_interval = 2.5 # time-interval per plot in seconds. ts_Reference data is in s, voltage measurement is 5 uv per lsb\n",
    "    median_interval = 1.2  # 600 samples at 500Hz\n",
    "    raw_scale = 0.005 # convert to mV\n",
    "\n",
    "    for i in range(offset,offset+3):\n",
    "        for j in range(0,4):\n",
    "            lead_name = lead_mapping[i-offset,j]\n",
    "            lead = twelve_leads[lead_name]\n",
    "            if not is_median:\n",
    "                ax[i,j].set_xlim(j*time_interval,(j+1)*time_interval)\n",
    "            ax[i,j].set_ylim(-1.5, 1.5) # -1.5mV -> 1.5mV\n",
    "            ax[i,j].xaxis.set_major_locator(MultipleLocator(0.2)) # major grids at every .2sec = 5 * 0.04 sec\n",
    "            ax[i,j].yaxis.set_major_locator(MultipleLocator(0.5)) # major grids at every .5mV \n",
    "\n",
    "            ax[i,j].xaxis.set_minor_locator(AutoMinorLocator(5))\n",
    "            ax[i,j].yaxis.set_minor_locator(AutoMinorLocator(5))\n",
    "\n",
    "            ax[i,j].grid(which='major', color='#CCCCCC', linestyle='--')\n",
    "            ax[i,j].grid(which='minor', color='#CCCCCC', linestyle=':')\n",
    "        \n",
    "            #normalize data in muv\n",
    "            if 'ts_reference' in lead:\n",
    "                ax[i,j].plot(lead['ts_reference'], [elem_ * raw_scale for elem_ in lead['raw']], label='raw')\n",
    "            else:\n",
    "                ax[i,j].plot(np.arange(0.0, median_interval, median_interval/len(lead['raw'])), [elem_ * raw_scale for elem_ in lead['raw']], label='raw')\n",
    "                \n",
    "            ax[i,j].set_title(lead_name)\n",
    "            ax[0,0].legend(loc='lower right')\n",
    "            \n",
    "lead_mapping = np.array([['strip_I','strip_aVR', 'strip_V1', 'strip_V4'],\n",
    "                  ['strip_II','strip_aVL', 'strip_V2', 'strip_V5'],\n",
    "                  ['strip_III','strip_aVF', 'strip_V3', 'strip_V6'],\n",
    "                 ])\n",
    "median_mapping = np.array([['median_I','median_aVR', 'median_V1', 'median_V4'],\n",
    "              ['median_II','median_aVL', 'median_V2', 'median_V5'],\n",
    "              ['median_III','median_aVF', 'median_V3', 'median_V6'],\n",
    "             ])\n",
    "fig, ax = plt.subplots(nrows=6, ncols=4, sharey='row', figsize=(24,18), tight_layout=True)\n",
    "plot_traces(twelve_leads, lead_mapping, ax, offset=3, is_median=False)\n",
    "plot_traces(twelve_leads, median_mapping, ax, offset, is_median=True)"
   ]
  },
  {
   "cell_type": "markdown",
   "metadata": {},
   "source": [
    "# aVL Criterion"
   ]
  },
  {
   "cell_type": "code",
   "execution_count": null,
   "metadata": {},
   "outputs": [],
   "source": [
    "pp = df[df['aVL']>0.5].iloc[0]\n",
    "avl_traces = get_ecg_traces(pp['full_path'])\n",
    "plot_traces(avl_traces)\n",
    "pp"
   ]
  },
  {
   "cell_type": "markdown",
   "metadata": {},
   "source": [
    "# Sokolow-Lyon Criterion"
   ]
  },
  {
   "cell_type": "code",
   "execution_count": null,
   "metadata": {},
   "outputs": [],
   "source": [
    "pp = df[df['Sokolow_Lyon']>0.5].iloc[0]\n",
    "sokolow_lyon_traces = get_ecg_traces(pp['full_path'])\n",
    "plot_traces(sokolow_lyon_traces)\n",
    "pp"
   ]
  },
  {
   "cell_type": "markdown",
   "metadata": {},
   "source": [
    "# Cornell criterion"
   ]
  },
  {
   "cell_type": "code",
   "execution_count": null,
   "metadata": {},
   "outputs": [],
   "source": [
    "pp = df[df['Cornell']>0.5].iloc[5]\n",
    "cornell_traces = get_ecg_traces(pp['full_path'])\n",
    "plot_traces(cornell_traces)\n",
    "pp"
   ]
  },
  {
   "cell_type": "markdown",
   "metadata": {},
   "source": [
    "# Control"
   ]
  },
  {
   "cell_type": "code",
   "execution_count": null,
   "metadata": {},
   "outputs": [],
   "source": [
    "pp = df[df['LVH']<0.5].iloc[0]\n",
    "cornell_traces = get_ecg_traces(pp['full_path'])\n",
    "plot_traces(cornell_traces)\n",
    "pp"
   ]
  },
  {
   "cell_type": "code",
   "execution_count": null,
   "metadata": {},
   "outputs": [],
   "source": []
  }
 ],
 "metadata": {
  "kernelspec": {
   "display_name": "Python 3",
   "language": "python",
   "name": "python3"
  },
  "language_info": {
   "codemirror_mode": {
    "name": "ipython",
    "version": 3
   },
   "file_extension": ".py",
   "mimetype": "text/x-python",
   "name": "python",
   "nbconvert_exporter": "python",
   "pygments_lexer": "ipython3",
   "version": "3.6.8"
  }
 },
 "nbformat": 4,
 "nbformat_minor": 2
}
