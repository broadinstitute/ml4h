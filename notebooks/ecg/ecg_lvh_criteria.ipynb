{
 "cells": [
  {
   "cell_type": "code",
   "execution_count": null,
   "metadata": {},
   "outputs": [],
   "source": [
    "%matplotlib inline\n",
    "from collections import defaultdict\n",
    "import h5py\n",
    "import numpy as np\n",
    "import os\n",
    "\n",
    "from biosppy.signals import ecg\n",
    "import pandas as pd\n",
    "\n",
    "# IPython imports\n",
    "from IPython.display import Image"
   ]
  },
  {
   "cell_type": "code",
   "execution_count": null,
   "metadata": {},
   "outputs": [],
   "source": [
    "from ml4cvd.arguments import _get_tmap\n",
    "from ml4cvd.tensor_generators import get_test_train_valid_paths\n",
    "\n",
    "import matplotlib\n",
    "import matplotlib.pyplot as plt\n",
    "import matplotlib.gridspec as gridspec\n",
    "from matplotlib.ticker import (AutoMinorLocator, MultipleLocator)\n",
    "\n",
    "tm_ramp = _get_tmap('ecg_rest_ramplitude_raw')\n",
    "tm_samp = _get_tmap('ecg_rest_samplitude_raw')\n",
    "tm_ecg_rest_raw = _get_tmap('ecg_rest_raw')\n",
    "tm_ecg_median_raw = _get_tmap('ecg_rest_median_raw')\n",
    "tm_ecg_lvh_avl = _get_tmap('ecg_rest_lvh_avl')\n",
    "tm_ecg_lvh_sokolow_lyon = _get_tmap('ecg_rest_lvh_sokolow_lyon')\n",
    "tm_ecg_lvh_cornell = _get_tmap('ecg_rest_lvh_cornell')\n",
    "tm_lvh_fine = _get_tmap('lvh_fine')\n",
    "train_paths, valid_paths, test_paths = get_test_train_valid_paths('/mnt/disks/ecg-rest-37k-tensors/2019-11-04', 0.1, 0.1, 10)"
   ]
  },
  {
   "cell_type": "code",
   "execution_count": null,
   "metadata": {},
   "outputs": [],
   "source": [
    "import h5py\n",
    "df_dic = {'patient_id': [], 'sex': [], 'LVH': [], 'aVL': [], 'Sokolow_Lyon': [], 'Cornell': [],\n",
    "         'full_path': [], 'ecg_text': [], 'ramp': [], 'samp': [], 'LVH_fine': [], 'minimal_voltage': [],\n",
    "         'moderate_voltage': [], 'voltage_criteria': []}\n",
    "all_paths = train_paths+valid_paths+test_paths\n",
    "cnt = 0\n",
    "for train_path in all_paths:\n",
    "    hd5 = h5py.File(train_path, 'r')    \n",
    "    try:\n",
    "        ramp = tm_ramp.tensor_from_file(tm_ramp, hd5)\n",
    "        samp = tm_samp.tensor_from_file(tm_samp, hd5)\n",
    "        ecg_rest = tm_ecg_rest_raw.tensor_from_file(tm_ecg_rest_raw, hd5)\n",
    "        ecg_median = tm_ecg_median_raw.tensor_from_file(tm_ecg_median_raw, hd5)\n",
    "        lvh_avl = tm_ecg_lvh_avl.tensor_from_file(tm_ecg_lvh_avl, hd5)    \n",
    "        lvh_sokolow_lyon = tm_ecg_lvh_sokolow_lyon.tensor_from_file(tm_ecg_lvh_sokolow_lyon, hd5)\n",
    "        lvh_cornell = tm_ecg_lvh_cornell.tensor_from_file(tm_ecg_lvh_cornell, hd5)\n",
    "        lvh_fine_list = tm_lvh_fine.tensor_from_file(tm_lvh_fine, hd5)\n",
    "    except ValueError as e :\n",
    "        print(train_path, str(e))\n",
    "        continue\n",
    "        \n",
    "    is_female = 'Genetic-sex_Female_0_0' in hd5['categorical']                                                                          \n",
    "    is_male   = 'Genetic-sex_Male_0_0' in hd5['categorical']                                                                            \n",
    "    # If genetic sex not available, try phenotypic                                                                                      \n",
    "    if not(is_female or is_male):                                                                                                       \n",
    "        is_female = 'Sex_Female_0_0' in hd5['categorical']                                                                              \n",
    "        is_male   = 'Sex_Male_0_0' in hd5['categorical']                                                                                \n",
    "    # If neither available, raise error                                                                                                 \n",
    "    if not(is_female or is_male):                                                                                                       \n",
    "        raise ValueError('Sex info required to evaluate LVH criteria')     \n",
    "    df_dic['sex'].append('M')\n",
    "    if is_female : \n",
    "        df_dic['sex'][-1] = 'F'\n",
    "    \n",
    "    df_dic['patient_id'].append(train_path.split('/')[-1].split('.hd5')[0])\n",
    "    df_dic['full_path'].append(train_path)            \n",
    "    df_dic['ecg_text'].append(hd5['ecg_rest_text'][0])\n",
    "        \n",
    "    df_dic['ramp'].append(ramp)\n",
    "    df_dic['samp'].append(samp)\n",
    "    \n",
    "    df_dic['LVH'].append(0.0)\n",
    "    if ('Left ventricular hypertrophy' in hd5['ecg_rest_text'][0]) or \\\n",
    "       ('LVH' in hd5['ecg_rest_text'][0]) or ('left ventricular hypertrophy' in hd5['ecg_rest_text'][0]): \n",
    "        df_dic['LVH'][-1] = 1.0\n",
    "    \n",
    "    df_dic['minimal_voltage'].append(0.0)\n",
    "    df_dic['moderate_voltage'].append(0.0)\n",
    "    df_dic['voltage_criteria'].append(0.0)\n",
    "    df_dic['LVH_fine'].append(0.0)\n",
    "    if lvh_fine_list[1] > 0.5 : df_dic['minimal_voltage'][-1] = 1.0\n",
    "    if lvh_fine_list[2] > 0.5 : df_dic['moderate_voltage'][-1] = 1.0\n",
    "    if lvh_fine_list[3] > 0.5 : df_dic['voltage_criteria'][-1] = 1.0\n",
    "    if lvh_fine_list[4] > 0.5 : df_dic['LVH_fine'][-1] = 1.0\n",
    "        \n",
    "    df_dic['aVL'].append(0.0)\n",
    "    df_dic['Sokolow_Lyon'].append(0.0)\n",
    "    df_dic['Cornell'].append(0.0)\n",
    "    if lvh_avl[1] > 0.5 : df_dic['aVL'][-1] = 1.0\n",
    "    if lvh_sokolow_lyon[1] > 0.5 : df_dic['Sokolow_Lyon'][-1] = 1.0\n",
    "    if lvh_cornell[1] > 0.5 : df_dic['Cornell'][-1] = 1.0\n",
    "        \n",
    "    #cnt += 1\n",
    "    #if cnt == 1000 : break\n",
    "        \n",
    "df = pd.DataFrame(df_dic)\n",
    "df.to_csv('/home/pdiachil/ecg_views_lvh_11_04_2019.csv')"
   ]
  },
  {
   "cell_type": "code",
   "execution_count": null,
   "metadata": {},
   "outputs": [],
   "source": [
    "from ml4cvd.plots import _ecg_rest_csv_to_df\n",
    "#df = pd.read_csv('/home/pdiachil/ecg_views_lvh_11_04_2019.csv')\n",
    "df = _ecg_rest_csv_to_df('/home/pdiachil/ecg_views_lvh_11_04_2019.csv')\n",
    "#literal_eval(df['ramp'].iloc[0].split())"
   ]
  },
  {
   "cell_type": "code",
   "execution_count": null,
   "metadata": {},
   "outputs": [],
   "source": [
    "from ml4cvd.plots import _ecg_rest_traces, _subplot_ecg_rest, _ecg_rest_yrange\n",
    "from ml4cvd.plots import ECG_REST_PLOT_LEADS, ECG_REST_PLOT_MEDIAN_LEADS\n",
    "\n",
    "raw_scale = 0.005\n",
    "default_yrange = 3.0\n",
    "time_interval = 2.5\n",
    "matplotlib.rcParams.update({'font.size': 20})\n",
    "\n",
    "f, ax = plt.subplots(nrows=6, ncols=4, figsize=(24,18), tight_layout=True)\n",
    "with h5py.File(df.iloc[0]['full_path'], 'r') as hd5:\n",
    "    traces = _ecg_rest_traces(hd5)\n",
    "yrange = _ecg_rest_yrange(traces, default_yrange, raw_scale, time_interval)\n",
    "_subplot_ecg_rest(traces, raw_scale, time_interval, ECG_REST_PLOT_LEADS, f, ax, yrange,\n",
    "                 offset=3, pat_df=None, is_median=False, is_blind=False)\n",
    "_subplot_ecg_rest(traces, raw_scale, time_interval, ECG_REST_PLOT_MEDIAN_LEADS, f, ax, yrange,\n",
    "                 offset=0, pat_df=df.iloc[0], is_median=True, is_blind=False)"
   ]
  },
  {
   "cell_type": "markdown",
   "metadata": {},
   "source": [
    "# aVL Criterion"
   ]
  },
  {
   "cell_type": "code",
   "execution_count": null,
   "metadata": {},
   "outputs": [],
   "source": [
    "pp = df[df['aVL']>0.5].iloc[0]\n",
    "f, ax = plt.subplots(nrows=6, ncols=4, figsize=(24,18), tight_layout=True)\n",
    "with h5py.File(pp['full_path'], 'r') as hd5:\n",
    "    traces = _ecg_rest_traces(hd5)\n",
    "yrange = _ecg_rest_yrange(traces, default_yrange, raw_scale, time_interval)\n",
    "_subplot_ecg_rest(traces, raw_scale, time_interval, ECG_REST_PLOT_LEADS, f, ax, yrange,\n",
    "                 offset=3, pat_df=None, is_median=False, is_blind=False)\n",
    "_subplot_ecg_rest(traces, raw_scale, time_interval, ECG_REST_PLOT_MEDIAN_LEADS, f, ax, yrange,\n",
    "                 offset=0, pat_df=pp, is_median=True, is_blind=False)\n",
    "pp"
   ]
  },
  {
   "cell_type": "markdown",
   "metadata": {},
   "source": [
    "# Sokolow-Lyon Criterion"
   ]
  },
  {
   "cell_type": "code",
   "execution_count": null,
   "metadata": {},
   "outputs": [],
   "source": [
    "pp = df[df['Sokolow_Lyon']>0.5].iloc[0]\n",
    "f, ax = plt.subplots(nrows=6, ncols=4, figsize=(24,18), tight_layout=True)\n",
    "with h5py.File(pp['full_path'], 'r') as hd5:\n",
    "    traces = _ecg_rest_traces(hd5)\n",
    "yrange = _ecg_rest_yrange(traces, default_yrange, raw_scale, time_interval)\n",
    "_subplot_ecg_rest(traces, raw_scale, time_interval, ECG_REST_PLOT_LEADS, f, ax, yrange,\n",
    "                 offset=3, pat_df=None, is_median=False, is_blind=False)\n",
    "_subplot_ecg_rest(traces, raw_scale, time_interval, ECG_REST_PLOT_MEDIAN_LEADS, f, ax, yrange,\n",
    "                 offset=0, pat_df=pp, is_median=True, is_blind=False)\n",
    "pp"
   ]
  },
  {
   "cell_type": "markdown",
   "metadata": {},
   "source": [
    "# Cornell criterion"
   ]
  },
  {
   "cell_type": "code",
   "execution_count": null,
   "metadata": {},
   "outputs": [],
   "source": [
    "pp = df[df['Cornell']>0.5].iloc[5]\n",
    "f, ax = plt.subplots(nrows=6, ncols=4, figsize=(24,18), tight_layout=True)\n",
    "with h5py.File(pp['full_path'], 'r') as hd5:\n",
    "    traces = _ecg_rest_traces(hd5)\n",
    "yrange = _ecg_rest_yrange(traces, default_yrange, raw_scale, time_interval)\n",
    "_subplot_ecg_rest(traces, raw_scale, time_interval, ECG_REST_PLOT_LEADS, f, ax, yrange,\n",
    "                 offset=3, pat_df=None, is_median=False, is_blind=False)\n",
    "_subplot_ecg_rest(traces, raw_scale, time_interval, ECG_REST_PLOT_MEDIAN_LEADS, f, ax, yrange,\n",
    "                 offset=0, pat_df=pp, is_median=True, is_blind=False)\n",
    "pp"
   ]
  },
  {
   "cell_type": "markdown",
   "metadata": {},
   "source": [
    "# Control"
   ]
  },
  {
   "cell_type": "code",
   "execution_count": null,
   "metadata": {},
   "outputs": [],
   "source": [
    "pp = df[df['LVH']<0.5].iloc[0]\n",
    "f, ax = plt.subplots(nrows=6, ncols=4, figsize=(24,18), tight_layout=True)\n",
    "with h5py.File(pp['full_path'], 'r') as hd5:\n",
    "    traces = _ecg_rest_traces(hd5)\n",
    "yrange = _ecg_rest_yrange(traces, default_yrange, raw_scale, time_interval)\n",
    "_subplot_ecg_rest(traces, raw_scale, time_interval, ECG_REST_PLOT_LEADS, f, ax, yrange,\n",
    "                 offset=3, pat_df=None, is_median=False, is_blind=False)\n",
    "_subplot_ecg_rest(traces, raw_scale, time_interval, ECG_REST_PLOT_MEDIAN_LEADS, f, ax, yrange,\n",
    "                 offset=0, pat_df=pp, is_median=True, is_blind=False)\n",
    "pp"
   ]
  },
  {
   "cell_type": "code",
   "execution_count": null,
   "metadata": {},
   "outputs": [],
   "source": [
    "import seaborn as sns\n",
    "matplotlib.rcParams.update({'font.size': 20})\n",
    "cat_labels = ['minimal', 'moderate', 'voltage', 'LVH', 'any LVH', 'SL', 'aVL', 'Cornell']"
   ]
  },
  {
   "cell_type": "code",
   "execution_count": null,
   "metadata": {},
   "outputs": [],
   "source": [
    "pp = df[df['patient_id'] == '2926169'].iloc[0]\n",
    "f, ax = plt.subplots(nrows=6, ncols=4, figsize=(24,18), tight_layout=True)\n",
    "with h5py.File(pp['full_path'], 'r') as hd5:\n",
    "    traces = _ecg_rest_traces(hd5)\n",
    "yrange = _ecg_rest_yrange(traces, default_yrange, raw_scale, time_interval)\n",
    "_subplot_ecg_rest(traces, raw_scale, time_interval, ECG_REST_PLOT_LEADS, f, ax, yrange,\n",
    "                 offset=3, pat_df=None, is_median=False, is_blind=False)\n",
    "_subplot_ecg_rest(traces, raw_scale, time_interval, ECG_REST_PLOT_MEDIAN_LEADS, f, ax, yrange,\n",
    "                 offset=0, pat_df=pp, is_median=True, is_blind=False)\n",
    "f.savefig(f\"/home/pdiachil/{pp['patient_id']}.pdf\")\n",
    "pp"
   ]
  },
  {
   "cell_type": "code",
   "execution_count": null,
   "metadata": {},
   "outputs": [],
   "source": [
    "pp = df[df['patient_id'] == '2926169'].iloc[0]\n",
    "f, ax = plt.subplots(nrows=6, ncols=4, figsize=(24,18), tight_layout=True)\n",
    "with h5py.File(pp['full_path'], 'r') as hd5:\n",
    "    traces = _ecg_rest_traces(hd5)\n",
    "yrange = _ecg_rest_yrange(traces, default_yrange, raw_scale, time_interval)\n",
    "_subplot_ecg_rest(traces, raw_scale, time_interval, ECG_REST_PLOT_LEADS, f, ax, yrange,\n",
    "                 offset=3, pat_df=None, is_median=False, is_blind=True)\n",
    "_subplot_ecg_rest(traces, raw_scale, time_interval, ECG_REST_PLOT_MEDIAN_LEADS, f, ax, yrange,\n",
    "                 offset=0, pat_df=pp, is_median=True, is_blind=True)\n",
    "f.savefig(f\"/home/pdiachil/{pp['patient_id']}_blind.pdf\")\n",
    "pp"
   ]
  },
  {
   "cell_type": "code",
   "execution_count": null,
   "metadata": {},
   "outputs": [],
   "source": [
    "pp = df[df['patient_id'] == '3559973'].iloc[0]\n",
    "f, ax = plt.subplots(nrows=6, ncols=4, figsize=(24,18), tight_layout=True)\n",
    "with h5py.File(pp['full_path'], 'r') as hd5:\n",
    "    traces = _ecg_rest_traces(hd5)\n",
    "yrange = _ecg_rest_yrange(traces, default_yrange, raw_scale, time_interval)\n",
    "_subplot_ecg_rest(traces, raw_scale, time_interval, ECG_REST_PLOT_LEADS, f, ax, yrange,\n",
    "                 offset=3, pat_df=None, is_median=False, is_blind=False)\n",
    "_subplot_ecg_rest(traces, raw_scale, time_interval, ECG_REST_PLOT_MEDIAN_LEADS, f, ax, yrange,\n",
    "                 offset=0, pat_df=pp, is_median=True, is_blind=False)\n",
    "f.savefig(f\"/home/pdiachil/{pp['patient_id']}.pdf\")\n",
    "pp"
   ]
  },
  {
   "cell_type": "code",
   "execution_count": null,
   "metadata": {},
   "outputs": [],
   "source": [
    "pp = df[df['patient_id'] == '3559973'].iloc[0]\n",
    "f, ax = plt.subplots(nrows=6, ncols=4, figsize=(24,18), tight_layout=True)\n",
    "with h5py.File(pp['full_path'], 'r') as hd5:\n",
    "    traces = _ecg_rest_traces(hd5)\n",
    "yrange = _ecg_rest_yrange(traces, default_yrange, raw_scale, time_interval)\n",
    "_subplot_ecg_rest(traces, raw_scale, time_interval, ECG_REST_PLOT_LEADS, f, ax, yrange,\n",
    "                 offset=3, pat_df=None, is_median=False, is_blind=True)\n",
    "_subplot_ecg_rest(traces, raw_scale, time_interval, ECG_REST_PLOT_MEDIAN_LEADS, f, ax, yrange,\n",
    "                 offset=0, pat_df=pp, is_median=True, is_blind=True)\n",
    "f.savefig(f\"/home/pdiachil/{pp['patient_id']}_blind.pdf\")\n",
    "pp"
   ]
  },
  {
   "cell_type": "code",
   "execution_count": null,
   "metadata": {},
   "outputs": [],
   "source": [
    "pp = df[df['patient_id'] == '3499910'].iloc[0]\n",
    "f, ax = plt.subplots(nrows=6, ncols=4, figsize=(24,18), tight_layout=True)\n",
    "with h5py.File(pp['full_path'], 'r') as hd5:\n",
    "    traces = _ecg_rest_traces(hd5)\n",
    "yrange = _ecg_rest_yrange(traces, default_yrange, raw_scale, time_interval)\n",
    "yrange = 6.0\n",
    "_subplot_ecg_rest(traces, raw_scale, time_interval, ECG_REST_PLOT_LEADS, f, ax, yrange,\n",
    "                 offset=3, pat_df=None, is_median=False, is_blind=False)\n",
    "_subplot_ecg_rest(traces, raw_scale, time_interval, ECG_REST_PLOT_MEDIAN_LEADS, f, ax, yrange,\n",
    "                 offset=0, pat_df=pp, is_median=True, is_blind=False)\n",
    "pp"
   ]
  },
  {
   "cell_type": "code",
   "execution_count": null,
   "metadata": {},
   "outputs": [],
   "source": []
  }
 ],
 "metadata": {
  "kernelspec": {
   "display_name": "Python 3",
   "language": "python",
   "name": "python3"
  },
  "language_info": {
   "codemirror_mode": {
    "name": "ipython",
    "version": 3
   },
   "file_extension": ".py",
   "mimetype": "text/x-python",
   "name": "python",
   "nbconvert_exporter": "python",
   "pygments_lexer": "ipython3",
   "version": "3.6.3"
  }
 },
 "nbformat": 4,
 "nbformat_minor": 2
}
