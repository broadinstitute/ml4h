{
 "cells": [
  {
   "cell_type": "code",
   "execution_count": null,
   "metadata": {},
   "outputs": [],
   "source": [
    "! pip install --user ~/ml\n",
    "\n",
    "import os\n",
    "import h5py\n",
    "import socket\n",
    "import numpy as np\n",
    "import pandas as pd\n",
    "from tqdm import tqdm\n",
    "from typing import List, Union, Dict\n",
    "\n",
    "import seaborn as sns\n",
    "from matplotlib import pyplot as plt\n",
    "\n",
    "from ml4cvd.TensorMap import TensorMap, update_tmaps\n",
    "from ml4cvd.definitions import TENSOR_EXT, STS_PREOP_ECG_CSV"
   ]
  },
  {
   "cell_type": "code",
   "execution_count": null,
   "metadata": {},
   "outputs": [],
   "source": [
    "%matplotlib inline"
   ]
  },
  {
   "cell_type": "markdown",
   "metadata": {},
   "source": [
    "## Get list of STS MRNs (strings)"
   ]
  },
  {
   "cell_type": "code",
   "execution_count": null,
   "metadata": {},
   "outputs": [],
   "source": [
    "df = pd.read_csv(STS_PREOP_ECG_CSV)\n",
    "sts_mrns = df['medrecn'].to_list()\n",
    "sts_mrns = [str(mrn) for mrn in sts_mrns]\n",
    "print(f\"Extracted {len(sts_mrns)} MRNs from {STS_PREOP_ECG_CSV}\")"
   ]
  },
  {
   "cell_type": "markdown",
   "metadata": {},
   "source": [
    "## Get list of paths to HD5 files"
   ]
  },
  {
   "cell_type": "code",
   "execution_count": null,
   "metadata": {},
   "outputs": [],
   "source": [
    "def get_fpaths(dirpath: str, ext: str = TENSOR_EXT) -> list:\n",
    "    fpaths = []\n",
    "    for root, dirs, files in os.walk(dirpath):\n",
    "        for fname in files:\n",
    "            if not fname.endswith(TENSOR_EXT):\n",
    "                continue\n",
    "            else:\n",
    "                fpaths.append(os.path.join(root, fname))\n",
    "    print(f\"Found {len(fpaths)} {TENSOR_EXT} files at {dirpath}\")\n",
    "    return fpaths\n",
    "\n",
    "def get_path_to_ecgs() -> str:\n",
    "    \"\"\"Check the hostname of the machine and return the appropriate path.\n",
    "    If there is no match found, this function does not return anything, and\n",
    "    the script ends up with a non-viable path prefix to HD5 files and will fail.\"\"\"\n",
    "    if \"mithril\" == socket.gethostname():\n",
    "        return \"/data/ecg\"\n",
    "    elif \"anduril\" == socket.gethostname():\n",
    "        return \"/media/4tb1/ecg\"\n",
    "    elif \"stultzlab\" in socket.gethostname():\n",
    "        return \"/storage/shared/ecg_deidentified\"\n",
    "    \n",
    "fpaths = get_fpaths(dirpath=os.path.join(get_path_to_ecgs(), \"mgh\"))"
   ]
  },
  {
   "cell_type": "markdown",
   "metadata": {},
   "source": [
    "## Isolate MRNs from HD5 paths and convert to set"
   ]
  },
  {
   "cell_type": "code",
   "execution_count": null,
   "metadata": {},
   "outputs": [],
   "source": [
    "# Isolate MRNs from fpaths\n",
    "mrns_in_fpaths = []\n",
    "for fpath in tqdm(fpaths):\n",
    "    mrn = os.path.split(fpath)[1].replace(TENSOR_EXT, \"\")\n",
    "    mrns_in_fpaths.append(mrn)\n",
    "mrns_in_fpaths = set(mrns_in_fpaths)\n",
    "\n",
    "print(f\"Isolated MRNs from {len(mrns_in_fpaths)} list items and converted to set\")"
   ]
  },
  {
   "cell_type": "markdown",
   "metadata": {},
   "source": [
    "## Use set of MRNs and list of STS MRNs to efficiently find paths to HD5s with matching STS MRNs"
   ]
  },
  {
   "cell_type": "code",
   "execution_count": null,
   "metadata": {},
   "outputs": [],
   "source": [
    "# Get path prefix to HD5 data\n",
    "path_prefix = os.path.split(fpath)[0]\n",
    "path_prefix\n",
    "\n",
    "# Iterate through STS MRNs and check if it is in ECG fpath list; if yes, append to list of paths\n",
    "fpaths_matches = []\n",
    "for mrn in tqdm(sts_mrns):\n",
    "    if mrn in mrns_in_fpaths:\n",
    "        fpath_match = os.path.join(path_prefix, mrn + TENSOR_EXT)\n",
    "        fpaths_matches.append(fpath_match)\n",
    "    \n",
    "print(f\"Found {len(fpaths_matches)} STS MRN matches in ECG HD5 paths\")"
   ]
  },
  {
   "cell_type": "markdown",
   "metadata": {},
   "source": [
    "## Define list several STS TMaps and build them\n",
    "### Print the tmap name and `tensor_from_file` functions"
   ]
  },
  {
   "cell_type": "code",
   "execution_count": null,
   "metadata": {},
   "outputs": [],
   "source": [
    "# needed_tmaps = [\"bypass_time\", \"classnyh\"]\n",
    "needed_tensor_maps = [\"age_sts_newest\", \"age_scaled_sts_newest\", \"ecg_age_sts_newest\"]\n",
    "\n",
    "tmaps = {}\n",
    "for tmap_name in needed_tensor_maps:\n",
    "    tmaps = update_tmaps(tmap_name=tmap_name, tmaps=tmaps)\n",
    "    print(f\"Successfully created tensor map {tmaps[tmap_name].name} with normalizer = {tmaps[tmap_name].normalization}\")"
   ]
  },
  {
   "cell_type": "markdown",
   "metadata": {},
   "source": [
    "## Initialize dict of empty lists in which to store tensors returned by TMaps"
   ]
  },
  {
   "cell_type": "code",
   "execution_count": null,
   "metadata": {},
   "outputs": [],
   "source": [
    "tensors = dict()\n",
    "for tm in needed_tensor_maps:\n",
    "    tensors[tm] = []"
   ]
  },
  {
   "cell_type": "markdown",
   "metadata": {},
   "source": [
    "## Iterate through fpaths, use TMap to get tensors, and append to dict"
   ]
  },
  {
   "cell_type": "code",
   "execution_count": null,
   "metadata": {},
   "outputs": [],
   "source": [
    "for fpath in tqdm(fpaths_matches[0:10]):\n",
    "    with h5py.File(fpath, \"r\") as hf:\n",
    "        for tm in needed_tensor_maps:\n",
    "            tensor = tmaps[tm].tensor_from_file(tm=tmaps[tm], hd5=hf)\n",
    "            if tmaps[tm].normalization is not None:\n",
    "                tensor = tmaps[tm].normalization.normalize(tensor)\n",
    "            tensors[tmaps[tm].name].append(tensor)"
   ]
  },
  {
   "cell_type": "markdown",
   "metadata": {},
   "source": [
    "## Print arrays of some tensors to confirm we got them!"
   ]
  },
  {
   "cell_type": "code",
   "execution_count": null,
   "metadata": {},
   "outputs": [],
   "source": [
    "import pprint\n",
    "pp = pprint.PrettyPrinter(indent=4)\n",
    "\n",
    "for tm in needed_tensor_maps:\n",
    "    print(f\"tm.name: {tmaps[tm].name}, shape: {tmaps[tm].shape})\")\n",
    "    pp.pprint(tensors[tm])\n",
    "    print('\\n')"
   ]
  }
 ],
 "metadata": {
  "kernelspec": {
   "display_name": "Python 3",
   "language": "python",
   "name": "python3"
  },
  "language_info": {
   "codemirror_mode": {
    "name": "ipython",
    "version": 3
   },
   "file_extension": ".py",
   "mimetype": "text/x-python",
   "name": "python",
   "nbconvert_exporter": "python",
   "pygments_lexer": "ipython3",
   "version": "3.6.9"
  }
 },
 "nbformat": 4,
 "nbformat_minor": 4
}
