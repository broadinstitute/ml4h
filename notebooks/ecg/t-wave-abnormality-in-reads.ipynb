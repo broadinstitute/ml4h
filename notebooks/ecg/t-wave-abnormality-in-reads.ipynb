{
 "cells": [
  {
   "cell_type": "code",
   "execution_count": null,
   "metadata": {},
   "outputs": [],
   "source": [
    "import os\n",
    "import re\n",
    "import numpy as np\n",
    "import pandas as pd"
   ]
  },
  {
   "cell_type": "code",
   "execution_count": null,
   "metadata": {},
   "outputs": [],
   "source": [
    "path = os.path.expanduser(\"~/dropbox/ecg/explore/mgh/tensors_all_union.csv\")"
   ]
  },
  {
   "cell_type": "code",
   "execution_count": null,
   "metadata": {},
   "outputs": [],
   "source": [
    "df = pd.read_csv(path)"
   ]
  },
  {
   "cell_type": "code",
   "execution_count": null,
   "metadata": {},
   "outputs": [],
   "source": [
    "df['ecg_read_pc']"
   ]
  },
  {
   "cell_type": "code",
   "execution_count": null,
   "metadata": {},
   "outputs": [],
   "source": [
    "def try_search(regex_present, regex_absent, read: str):\n",
    "    try:\n",
    "        read = read.lower()\n",
    "        if bool(regex_absent.search(read)):\n",
    "            return False\n",
    "        else:\n",
    "            return bool(regex_present.search(read))\n",
    "    except:\n",
    "        return False\n",
    "\n",
    "regex_present = re.compile(\n",
    "    \"twave inversion|t-wave inversion|t wave inversion|t wave abnormality|t wave abnormalities\"\n",
    ")\n",
    "\n",
    "regex_absent = re.compile(\n",
    "    \"twave inversion no longer evident|t-wave inversion no longer evident|t wave inversion no longer evident|t wave abnormality no longer evident|t wave abnormalities no longer evident\"\n",
    ")"
   ]
  },
  {
   "cell_type": "code",
   "execution_count": null,
   "metadata": {},
   "outputs": [],
   "source": [
    "df2 = pd.DataFrame({\n",
    "    \"ecg_read_pc\": [\"normal sinus rhythm\", \"t-wave inversion\", \"twave inversion no longer evident\"],\n",
    "    \"age\": [42, 21, 32]}\n",
    ")\n",
    "#df2 = df2['ecg_read_pc']\n",
    "\n",
    "df2 = df[(df['ecg_age'] > 18) & (df['ecg_age'] < 35)]"
   ]
  },
  {
   "cell_type": "code",
   "execution_count": null,
   "metadata": {},
   "outputs": [],
   "source": [
    "matches_pc = [try_search(regex_present, regex_absent, read) for read in df2['ecg_read_pc']]\n",
    "matches_md = [try_search(regex_present, regex_absent, read) for read in df2['ecg_read_md']]"
   ]
  },
  {
   "cell_type": "code",
   "execution_count": null,
   "metadata": {},
   "outputs": [],
   "source": [
    "print(f\"Number of matches in PC reads: {sum(matches_pc)}\")\n",
    "print(f\"Number of matches in MD reads: {sum(matches_md)}\")\n",
    "print(f\"Number of matches in PC & MD reads: {sum(np.logical_and(matches_pc, matches_md))}\")"
   ]
  },
  {
   "cell_type": "code",
   "execution_count": null,
   "metadata": {},
   "outputs": [],
   "source": [
    "df2['ecg_patientid_clean'].unique().shape"
   ]
  },
  {
   "cell_type": "code",
   "execution_count": null,
   "metadata": {},
   "outputs": [],
   "source": []
  }
 ],
 "metadata": {
  "kernelspec": {
   "display_name": "Python 3",
   "language": "python",
   "name": "python3"
  },
  "language_info": {
   "codemirror_mode": {
    "name": "ipython",
    "version": 3
   },
   "file_extension": ".py",
   "mimetype": "text/x-python",
   "name": "python",
   "nbconvert_exporter": "python",
   "pygments_lexer": "ipython3",
   "version": "3.6.10"
  }
 },
 "nbformat": 4,
 "nbformat_minor": 4
}
