{
 "cells": [
  {
   "cell_type": "code",
   "execution_count": 1,
   "metadata": {},
   "outputs": [
    {
     "name": "stderr",
     "output_type": "stream",
     "text": [
      "/usr/local/lib/python3.6/dist-packages/apache_beam/__init__.py:84: UserWarning: Running the Apache Beam SDK on Python 3 is not yet fully supported. You may encounter buggy behavior or missing features.\n",
      "  'Running the Apache Beam SDK on Python 3 is not yet fully supported. '\n",
      "Using TensorFlow backend.\n"
     ]
    }
   ],
   "source": [
    "import sys\n",
    "import matplotlib\n",
    "matplotlib.use('Agg') # Need this to write images from the GSA servers.  Order matters:\n",
    "import matplotlib.pyplot as plt # First import matplotlib, then use Agg, then import plt\n",
    "%matplotlib inline\n",
    "\n",
    "# ML4CVD Imports\n",
    "from ml4cvd.arguments import parse_args\n",
    "from ml4cvd.tensor_generators import test_train_valid_tensor_generators\n",
    "from ml4cvd.models import make_multimodal_to_multilabel_model, train_model_from_generators"
   ]
  },
  {
   "cell_type": "code",
   "execution_count": 2,
   "metadata": {},
   "outputs": [
    {
     "name": "stdout",
     "output_type": "stream",
     "text": [
      "2019-09-06 17:21:06,625 - logger:25 - INFO - Logging configuration was loaded. Log messages can be found at ./recipes_output/ecg_new_output/log_2019-09-06_17-21_0.log.\n",
      "2019-09-06 17:21:06,626 - arguments:180 - INFO - Command Line was:\n",
      "\n",
      "python train --tensors /mnt/disks/ecg-bike-tensors/2019-09-04/ --input_tensors ecg-bike-trend-hr ecg-bike-trend-load --output_tensors ecg-bike-age genetic_sex bmi --batch_size 64 --epochs 200 --training_steps 5 --validation_steps 2 --inspect_model --u_connect --id ecg_new_output --learning_rate 1e-3\n",
      "\n",
      "\n",
      "2019-09-06 17:21:06,627 - arguments:181 - INFO - Total TensorMaps:4459 Arguments are Namespace(activation='relu', aligned_dimension=16, alpha=0.5, app_csv=None, b_slice_force=None, balance_csvs=[], batch_size=64, bigquery_credentials_file='/mnt/ml4cvd/projects/jamesp/bigquery/bigquery-viewer-credentials.json', bigquery_dataset='broad-ml4cvd.ukbb7089_r10data', block_size=3, categorical_field_ids=[], continuous_field_ids=[], conv_bn=False, conv_dropout=0.0, conv_layers=[32], conv_width=71, conv_x=3, conv_y=3, conv_z=2, db='/mnt/disks/data/raw/sql/ukbb7089.r10data.db', debug=False, dense_blocks=[32, 24, 16], dense_layers=[16, 64], dicoms='./dicoms/', dropout=0.0, epochs=200, hidden_layer='embed', icd_csv='/mnt/ml4cvd/projects/jamesp/data/modified.zmerge.prs.full.csv.20190222', id='ecg_new_output', imputation_method_for_continuous_fields='random', include_array=False, include_instance=False, include_missing_continuous_channel=False, input_continuous_tensors=[], input_tensors=['ecg-bike-trend-hr', 'ecg-bike-trend-load'], inspect_model=True, inspect_show_labels=True, label_weights=None, learning_rate=0.001, logging_level='INFO', lv_mass_csv='/mnt/ml4cvd/projects/jamesp/data/returned_lv_mass.tsv', max_models=16, max_parameters=9000000, max_patients=999999, max_pools=[], max_sample_id=7000000, max_samples=None, max_slices=999999, min_sample_id=0, min_samples=3, min_values=10, mlp_concat=False, mode='mlp', model_file=None, model_files=[], model_freeze=None, model_layers=None, mri_field_ids=['20208', '20209'], optimizer='adam', output_folder='./recipes_output/', output_tensors=['ecg-bike-age', 'genetic_sex', 'bmi'], padding='same', patience=8, phecode_definitions='/mnt/ml4cvd/projects/jamesp/data/phecode_definitions1.2.csv', phenos_folder='/mnt/disks/data/raw/phenotypes/', pool_x=2, pool_y=2, pool_z=1, random_seed=12878, res_layers=[], t=48, tensor_maps_in=[<ml4cvd.TensorMap.TensorMap object at 0x7fce613a1fd0>, <ml4cvd.TensorMap.TensorMap object at 0x7fce613b2048>], tensor_maps_out=[<ml4cvd.TensorMap.TensorMap object at 0x7fce613a1f98>, <ml4cvd.TensorMap.TensorMap object at 0x7fce61420668>, <ml4cvd.TensorMap.TensorMap object at 0x7fce61420978>], tensors='/mnt/disks/ecg-bike-tensors/2019-09-04/', test_modulo=10, test_ratio=0.1, test_steps=32, training_steps=5, u_connect=True, valid_ratio=0.2, validation_steps=2, volume_csv='/mnt/ml4cvd/projects/jamesp/data/cMRI_20190618_manual_qc.all.tsv', write_pngs=False, x=256, xml_field_ids=['20205', '6025'], xml_folder='/mnt/disks/ecg-rest-xml/', y=256, z=48, zip_folder='/mnt/disks/sax-mri-zip/', zoom_height=96, zoom_width=96, zoom_x=50, zoom_y=35)\n",
      "2019-09-06 17:21:07,430 - tensor_generators:274 - INFO - Found 46221 training, 6584 validation, and 20559 testing tensors at: /mnt/disks/ecg-bike-tensors/2019-09-04/\n"
     ]
    }
   ],
   "source": [
    "sys.argv = ['train', \n",
    "            '--tensors','/mnt/disks/ecg-bike-tensors/2019-09-04/', \n",
    "            '--input_tensors', 'ecg-bike-trend-hr', 'ecg-bike-trend-load',\n",
    "            '--output_tensors','ecg-bike-age', 'genetic_sex', 'bmi',\n",
    "            '--batch_size', '64', \n",
    "            '--epochs', '200',\n",
    "            '--training_steps', '5',\n",
    "            '--validation_steps', '2',\n",
    "            '--inspect_model',\n",
    "            '--u_connect',\n",
    "            '--id', 'ecg_new_output',\n",
    "            '--learning_rate', '1e-3',\n",
    "           ]\n",
    "args = parse_args()\n",
    "generate_train, generate_valid, generate_test = test_train_valid_tensor_generators(args.tensor_maps_in,  args.tensor_maps_out,  args.tensors, args.batch_size,   args.valid_ratio, args.test_ratio, args.test_modulo, args.balance_csvs)"
   ]
  },
  {
   "cell_type": "code",
   "execution_count": 3,
   "metadata": {},
   "outputs": [
    {
     "name": "stdout",
     "output_type": "stream",
     "text": [
      "__________________________________________________________________________________________________\n",
      "Layer (type)                    Output Shape         Param #     Connected to                     \n",
      "==================================================================================================\n",
      "input_trend_heartrate_ecg_bike  (None, 106, 1)       0                                            \n",
      "__________________________________________________________________________________________________\n",
      "input_trend_load_ecg_bike (Inpu (None, 106, 1)       0                                            \n",
      "__________________________________________________________________________________________________\n",
      "conv1d_1 (Conv1D)               (None, 106, 32)      2304        input_trend_heartrate_ecg_bike[0]\n",
      "__________________________________________________________________________________________________\n",
      "conv1d_14 (Conv1D)              (None, 106, 32)      2304        input_trend_load_ecg_bike[0][0]  \n",
      "__________________________________________________________________________________________________\n",
      "conv1d_2 (Conv1D)               (None, 106, 32)      72736       conv1d_1[0][0]                   \n",
      "__________________________________________________________________________________________________\n",
      "conv1d_15 (Conv1D)              (None, 106, 32)      72736       conv1d_14[0][0]                  \n",
      "__________________________________________________________________________________________________\n",
      "max_pooling1d_1 (MaxPooling1D)  (None, 53, 32)       0           conv1d_2[0][0]                   \n",
      "__________________________________________________________________________________________________\n",
      "max_pooling1d_4 (MaxPooling1D)  (None, 53, 32)       0           conv1d_15[0][0]                  \n",
      "__________________________________________________________________________________________________\n",
      "conv1d_4 (Conv1D)               (None, 53, 32)       72736       max_pooling1d_1[0][0]            \n",
      "__________________________________________________________________________________________________\n",
      "conv1d_17 (Conv1D)              (None, 53, 32)       72736       max_pooling1d_4[0][0]            \n",
      "__________________________________________________________________________________________________\n",
      "concatenate_1 (Concatenate)     (None, 53, 64)       0           max_pooling1d_1[0][0]            \n",
      "                                                                 conv1d_4[0][0]                   \n",
      "__________________________________________________________________________________________________\n",
      "concatenate_7 (Concatenate)     (None, 53, 64)       0           max_pooling1d_4[0][0]            \n",
      "                                                                 conv1d_17[0][0]                  \n",
      "__________________________________________________________________________________________________\n",
      "conv1d_5 (Conv1D)               (None, 53, 32)       145440      concatenate_1[0][0]              \n",
      "__________________________________________________________________________________________________\n",
      "conv1d_18 (Conv1D)              (None, 53, 32)       145440      concatenate_7[0][0]              \n",
      "__________________________________________________________________________________________________\n",
      "concatenate_2 (Concatenate)     (None, 53, 96)       0           max_pooling1d_1[0][0]            \n",
      "                                                                 conv1d_4[0][0]                   \n",
      "                                                                 conv1d_5[0][0]                   \n",
      "__________________________________________________________________________________________________\n",
      "concatenate_8 (Concatenate)     (None, 53, 96)       0           max_pooling1d_4[0][0]            \n",
      "                                                                 conv1d_17[0][0]                  \n",
      "                                                                 conv1d_18[0][0]                  \n",
      "__________________________________________________________________________________________________\n",
      "conv1d_6 (Conv1D)               (None, 53, 24)       163608      concatenate_2[0][0]              \n",
      "__________________________________________________________________________________________________\n",
      "conv1d_19 (Conv1D)              (None, 53, 24)       163608      concatenate_8[0][0]              \n",
      "__________________________________________________________________________________________________\n",
      "max_pooling1d_2 (MaxPooling1D)  (None, 26, 24)       0           conv1d_6[0][0]                   \n",
      "__________________________________________________________________________________________________\n",
      "max_pooling1d_5 (MaxPooling1D)  (None, 26, 24)       0           conv1d_19[0][0]                  \n",
      "__________________________________________________________________________________________________\n",
      "conv1d_8 (Conv1D)               (None, 26, 24)       40920       max_pooling1d_2[0][0]            \n",
      "__________________________________________________________________________________________________\n",
      "conv1d_21 (Conv1D)              (None, 26, 24)       40920       max_pooling1d_5[0][0]            \n",
      "__________________________________________________________________________________________________\n",
      "concatenate_3 (Concatenate)     (None, 26, 48)       0           max_pooling1d_2[0][0]            \n",
      "                                                                 conv1d_8[0][0]                   \n",
      "__________________________________________________________________________________________________\n",
      "concatenate_9 (Concatenate)     (None, 26, 48)       0           max_pooling1d_5[0][0]            \n",
      "                                                                 conv1d_21[0][0]                  \n",
      "__________________________________________________________________________________________________\n",
      "conv1d_9 (Conv1D)               (None, 26, 24)       81816       concatenate_3[0][0]              \n",
      "__________________________________________________________________________________________________\n",
      "conv1d_22 (Conv1D)              (None, 26, 24)       81816       concatenate_9[0][0]              \n",
      "__________________________________________________________________________________________________\n",
      "concatenate_4 (Concatenate)     (None, 26, 72)       0           max_pooling1d_2[0][0]            \n",
      "                                                                 conv1d_8[0][0]                   \n",
      "                                                                 conv1d_9[0][0]                   \n",
      "__________________________________________________________________________________________________\n",
      "concatenate_10 (Concatenate)    (None, 26, 72)       0           max_pooling1d_5[0][0]            \n",
      "                                                                 conv1d_21[0][0]                  \n",
      "                                                                 conv1d_22[0][0]                  \n",
      "__________________________________________________________________________________________________\n",
      "conv1d_10 (Conv1D)              (None, 26, 16)       81808       concatenate_4[0][0]              \n",
      "__________________________________________________________________________________________________\n",
      "conv1d_23 (Conv1D)              (None, 26, 16)       81808       concatenate_10[0][0]             \n",
      "__________________________________________________________________________________________________\n",
      "max_pooling1d_3 (MaxPooling1D)  (None, 13, 16)       0           conv1d_10[0][0]                  \n",
      "__________________________________________________________________________________________________\n",
      "max_pooling1d_6 (MaxPooling1D)  (None, 13, 16)       0           conv1d_23[0][0]                  \n",
      "__________________________________________________________________________________________________\n",
      "conv1d_12 (Conv1D)              (None, 13, 16)       18192       max_pooling1d_3[0][0]            \n",
      "__________________________________________________________________________________________________\n",
      "conv1d_25 (Conv1D)              (None, 13, 16)       18192       max_pooling1d_6[0][0]            \n",
      "__________________________________________________________________________________________________\n",
      "concatenate_5 (Concatenate)     (None, 13, 32)       0           max_pooling1d_3[0][0]            \n",
      "                                                                 conv1d_12[0][0]                  \n",
      "__________________________________________________________________________________________________\n",
      "concatenate_11 (Concatenate)    (None, 13, 32)       0           max_pooling1d_6[0][0]            \n",
      "                                                                 conv1d_25[0][0]                  \n",
      "__________________________________________________________________________________________________\n",
      "conv1d_13 (Conv1D)              (None, 13, 16)       36368       concatenate_5[0][0]              \n",
      "__________________________________________________________________________________________________\n",
      "conv1d_26 (Conv1D)              (None, 13, 16)       36368       concatenate_11[0][0]             \n",
      "__________________________________________________________________________________________________\n",
      "concatenate_6 (Concatenate)     (None, 13, 48)       0           max_pooling1d_3[0][0]            \n",
      "                                                                 conv1d_12[0][0]                  \n",
      "                                                                 conv1d_13[0][0]                  \n",
      "__________________________________________________________________________________________________\n",
      "concatenate_12 (Concatenate)    (None, 13, 48)       0           max_pooling1d_6[0][0]            \n",
      "                                                                 conv1d_25[0][0]                  \n",
      "                                                                 conv1d_26[0][0]                  \n",
      "__________________________________________________________________________________________________\n",
      "flatten_1 (Flatten)             (None, 624)          0           concatenate_6[0][0]              \n",
      "__________________________________________________________________________________________________\n",
      "flatten_2 (Flatten)             (None, 624)          0           concatenate_12[0][0]             \n",
      "__________________________________________________________________________________________________\n",
      "concatenate_13 (Concatenate)    (None, 1248)         0           flatten_1[0][0]                  \n",
      "                                                                 flatten_2[0][0]                  \n",
      "__________________________________________________________________________________________________\n",
      "dense_1 (Dense)                 (None, 16)           19984       concatenate_13[0][0]             \n",
      "__________________________________________________________________________________________________\n",
      "embed (Dense)                   (None, 64)           1088        dense_1[0][0]                    \n",
      "__________________________________________________________________________________________________\n",
      "output_age_ecg_bike (Dense)     (None, 1)            65          embed[0][0]                      \n",
      "__________________________________________________________________________________________________\n",
      "output_genetic_sex_categorical  (None, 2)            130         embed[0][0]                      \n",
      "__________________________________________________________________________________________________\n",
      "output_23104_Body-mass-index-BM (None, 1)            65          embed[0][0]                      \n",
      "==================================================================================================\n",
      "Total params: 1,453,188\n",
      "Trainable params: 1,453,188\n",
      "Non-trainable params: 0\n",
      "__________________________________________________________________________________________________\n"
     ]
    }
   ],
   "source": [
    "model = make_multimodal_to_multilabel_model(args.model_file, args.model_layers, args.model_freeze,\n",
    "                                                args.tensor_maps_in, args.tensor_maps_out, args.activation,\n",
    "                                                args.dense_layers, args.dropout, args.mlp_concat, args.conv_layers,\n",
    "                                                args.max_pools, args.res_layers, args.dense_blocks, args.block_size,\n",
    "                                                args.conv_bn, args.conv_x, args.conv_y, args.conv_z, args.conv_dropout,\n",
    "                                                args.conv_width, args.u_connect, args.pool_x, args.pool_y, args.pool_z, args.padding,\n",
    "                                                args.learning_rate, optimizer='RAdam')"
   ]
  },
  {
   "cell_type": "code",
   "execution_count": null,
   "metadata": {},
   "outputs": [
    {
     "name": "stdout",
     "output_type": "stream",
     "text": [
      "2019-09-06 17:21:08,653 - models:1140 - INFO - Saving architecture diagram to:./recipes_output/ecg_new_output/architecture_graph_ecg_new_output.png\n",
      "Epoch 1/1\n",
      "2019-09-06 17:21:16,872 - tensor_generators:372 - INFO - At tensor path: /mnt/disks/ecg-bike-tensors/2019-09-04/2958609.hd5\n",
      "2019-09-06 17:21:16,975 - tensor_generators:373 - INFO - Got first error: ValueError while attempting to generate tensor:\n",
      "Traceback (most recent call last):\n",
      "  File \"/usr/local/lib/python3.6/dist-packages/ml4cvd/tensor_generators.py\", line 86, in multimodal_multitask_generator\n",
      "    out_batch[tm.output_name()][stats['batch_index']] = tm.tensor_from_file(tm, hd5)\n",
      "  File \"/usr/local/lib/python3.6/dist-packages/ml4cvd/TensorMap.py\", line 728, in _default_tensor_from_file\n",
      "    raise ValueError(tm.name + ' is a continuous value that cannot be set to 0, but no value was found.')\n",
      "ValueError: 23104_Body-mass-index-BMI_0_0 is a continuous value that cannot be set to 0, but no value was found.\n",
      "\n",
      "\n",
      "2019-09-06 17:21:40,404 - tensor_generators:372 - INFO - At tensor path: /mnt/disks/ecg-bike-tensors/2019-09-04/1968875.hd5\n",
      "2019-09-06 17:21:40,412 - tensor_generators:373 - INFO - Got first error: ValueError while attempting to generate tensor:\n",
      "Traceback (most recent call last):\n",
      "  File \"/usr/local/lib/python3.6/dist-packages/ml4cvd/tensor_generators.py\", line 80, in multimodal_multitask_generator\n",
      "    in_batch[tm.input_name()][stats['batch_index']] = tm.tensor_from_file(tm, hd5, dependents)\n",
      "  File \"/usr/local/lib/python3.6/dist-packages/ml4cvd/tensor_from_file.py\", line 53, in float_array_zero_pad_from_file_first_date\n",
      "    padded[:original.shape[0]] = original.reshape((original.shape[0],) + tm.shape[1:])\n",
      "ValueError: could not broadcast input array from shape (111,1) into shape (106,1)\n",
      "\n",
      "\n",
      "2019-09-06 17:21:40,733 - tensor_generators:372 - INFO - At tensor path: /mnt/disks/ecg-bike-tensors/2019-09-04/1121705.hd5\n",
      "2019-09-06 17:21:40,745 - tensor_generators:373 - INFO - Got first error: ValueError while attempting to generate tensor:\n",
      "Traceback (most recent call last):\n",
      "  File \"/usr/local/lib/python3.6/dist-packages/ml4cvd/tensor_generators.py\", line 86, in multimodal_multitask_generator\n",
      "    out_batch[tm.output_name()][stats['batch_index']] = tm.tensor_from_file(tm, hd5)\n",
      "  File \"/usr/local/lib/python3.6/dist-packages/ml4cvd/TensorMap.py\", line 728, in _default_tensor_from_file\n",
      "    raise ValueError(tm.name + ' is a continuous value that cannot be set to 0, but no value was found.')\n",
      "ValueError: 23104_Body-mass-index-BMI_0_0 is a continuous value that cannot be set to 0, but no value was found.\n",
      "\n",
      "\n"
     ]
    }
   ],
   "source": [
    "model = train_model_from_generators(model, generate_train, generate_valid, args.training_steps,\n",
    "                                    args.validation_steps, args.batch_size, args.epochs, args.patience,\n",
    "                                    args.output_folder, args.id, args.inspect_model, args.inspect_show_labels)"
   ]
  },
  {
   "cell_type": "markdown",
   "metadata": {},
   "source": [
    "# Raw data"
   ]
  },
  {
   "cell_type": "code",
   "execution_count": null,
   "metadata": {},
   "outputs": [],
   "source": [
    "sys.argv = ['train', \n",
    "            '--tensors','/mnt/disks/ecg-bike-tensors/2019-09-04/', \n",
    "            '--input_tensors', 'ecg-bike-trend-load', 'ecg-bike-recovery',\n",
    "            '--output_tensors','ecg-bike-age', 'genetic_sex', 'bmi',\n",
    "            '--batch_size', '64', \n",
    "            '--epochs', '200',\n",
    "            '--training_steps', '5',\n",
    "            '--validation_steps', '2',\n",
    "            '--inspect_model',\n",
    "            '--u_connect',\n",
    "            '--id', 'ecg_new_output',\n",
    "            '--learning_rate', '1e-3',\n",
    "           ]\n",
    "args = parse_args()\n",
    "generate_train, generate_valid, generate_test = test_train_valid_tensor_generators(args.tensor_maps_in,  args.tensor_maps_out,  args.tensors, args.batch_size,   args.valid_ratio, args.test_ratio, args.test_modulo, args.balance_csvs)"
   ]
  },
  {
   "cell_type": "code",
   "execution_count": null,
   "metadata": {},
   "outputs": [],
   "source": [
    "raw_model = make_multimodal_to_multilabel_model(args.model_file, args.model_layers, args.model_freeze,\n",
    "                                                args.tensor_maps_in, args.tensor_maps_out, args.activation,\n",
    "                                                args.dense_layers, args.dropout, args.mlp_concat, args.conv_layers,\n",
    "                                                args.max_pools, args.res_layers, args.dense_blocks, args.block_size,\n",
    "                                                args.conv_bn, args.conv_x, args.conv_y, args.conv_z, args.conv_dropout,\n",
    "                                                args.conv_width, args.u_connect, args.pool_x, args.pool_y, args.pool_z, args.padding,\n",
    "                                                args.learning_rate, optimizer='RAdam')"
   ]
  },
  {
   "cell_type": "code",
   "execution_count": null,
   "metadata": {},
   "outputs": [],
   "source": [
    "raw_model = train_model_from_generators(raw_model, generate_train, generate_valid, args.training_steps,\n",
    "                                    args.validation_steps, args.batch_size, args.epochs, args.patience,\n",
    "                                    args.output_folder, args.id, args.inspect_model, args.inspect_show_labels)"
   ]
  },
  {
   "cell_type": "code",
   "execution_count": null,
   "metadata": {},
   "outputs": [],
   "source": []
  }
 ],
 "metadata": {
  "kernelspec": {
   "display_name": "Python 3",
   "language": "python",
   "name": "python3"
  },
  "language_info": {
   "codemirror_mode": {
    "name": "ipython",
    "version": 3
   },
   "file_extension": ".py",
   "mimetype": "text/x-python",
   "name": "python",
   "nbconvert_exporter": "python",
   "pygments_lexer": "ipython3",
   "version": "3.6.8"
  }
 },
 "nbformat": 4,
 "nbformat_minor": 2
}
