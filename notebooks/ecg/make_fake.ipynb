{
 "cells": [
  {
   "cell_type": "code",
   "execution_count": null,
   "metadata": {},
   "outputs": [],
   "source": [
    "import os\n",
    "import h5py\n",
    "\n",
    "import numpy as np\n",
    "import xml.etree.ElementTree as et \n",
    "from collections import Counter, defaultdict\n",
    "\n",
    "%matplotlib inline\n",
    "import matplotlib.pyplot as plt\n",
    "\n",
    "DATA_DIRECTORY = '/mnt/disks/sax-lax-40k-lvm/2020-01-29/'"
   ]
  },
  {
   "cell_type": "code",
   "execution_count": null,
   "metadata": {},
   "outputs": [],
   "source": [
    "def random_copy_hd5_datasets(source_hd5, source_hd6, destination_hd5, group_path='/'):\n",
    "    for k in source_hd5[group_path]:\n",
    "        if isinstance(source_hd5[group_path][k], h5py.Dataset):\n",
    "            dice = np.random.rand()\n",
    "            if dice > 0.5 and group_path + k in source_hd6:\n",
    "                if source_hd6[group_path][k].chunks is None:\n",
    "                    destination_hd5.create_dataset(group_path + k, data=source_hd6[group_path][k])\n",
    "                else:\n",
    "                    destination_hd5.create_dataset(group_path + k, data=source_hd6[group_path][k], compression='gzip')\n",
    "            else:\n",
    "                if source_hd5[group_path][k].chunks is None:\n",
    "                    destination_hd5.create_dataset(group_path + k, data=source_hd5[group_path][k])\n",
    "                else:\n",
    "                    destination_hd5.create_dataset(group_path + k, data=source_hd5[group_path][k], compression='gzip')                \n",
    "        else:\n",
    "            #logging.debug(f\"copying group {group_path + k}\")\n",
    "            random_copy_hd5_datasets(source_hd5, source_hd6, destination_hd5, group_path=group_path + k + '/')"
   ]
  },
  {
   "cell_type": "code",
   "execution_count": null,
   "metadata": {},
   "outputs": [],
   "source": [
    "files = os.listdir(DATA_DIRECTORY)\n",
    "for i,file1 in enumerate(files):\n",
    "    file2 = files[i+1]\n",
    "    if file1[-4:] != '.hd5' or file2[-4:] != '.hd5':\n",
    "        continue\n",
    "    if i > 10:\n",
    "        break\n",
    "    with h5py.File(os.path.join(DATA_DIRECTORY, file1)) as hd5:\n",
    "        with h5py.File(os.path.join(DATA_DIRECTORY, file2)) as hd6:\n",
    "            with h5py.File(f'fake_{i}.hd5', 'w') as hdfake:\n",
    "                random_copy_hd5_datasets(hd5, hd6, hdfake)"
   ]
  },
  {
   "cell_type": "code",
   "execution_count": null,
   "metadata": {},
   "outputs": [],
   "source": []
  }
 ],
 "metadata": {
  "kernelspec": {
   "display_name": "Python 3",
   "language": "python",
   "name": "python3"
  },
  "language_info": {
   "codemirror_mode": {
    "name": "ipython",
    "version": 3
   },
   "file_extension": ".py",
   "mimetype": "text/x-python",
   "name": "python",
   "nbconvert_exporter": "python",
   "pygments_lexer": "ipython3",
   "version": "3.6.8"
  }
 },
 "nbformat": 4,
 "nbformat_minor": 2
}
