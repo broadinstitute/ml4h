{
 "cells": [
  {
   "cell_type": "code",
   "execution_count": null,
   "metadata": {},
   "outputs": [],
   "source": [
    "#ecg_wave_model.py\n",
    "import os\n",
    "import sys\n",
    "\n",
    "from tensorflow.keras.layers import Lambda, Input, Dense, LSTM, RepeatVector, concatenate\n",
    "from tensorflow.keras.models import Model\n",
    "from tensorflow.keras.optimizers import Adam, RMSprop\n",
    "from tensorflow.keras.losses import mse, binary_crossentropy, kullback_leibler_divergence\n",
    "from tensorflow.keras.utils import plot_model\n",
    "from keras import backend as K\n",
    "from tensorflow.keras.regularizers import l1\n",
    "import numpy as np\n",
    "from tensorflow.keras.layers import SpatialDropout1D, SpatialDropout2D, SpatialDropout3D, Lambda\n",
    "from tensorflow.keras.layers import Input, Dense, Dropout, BatchNormalization, Activation, Flatten\n",
    "from tensorflow.keras.layers.convolutional import Conv1D, Conv2D, Conv3D, UpSampling2D, UpSampling3D, MaxPooling1D\n",
    "from tensorflow.keras.layers.convolutional import MaxPooling2D, MaxPooling3D, AveragePooling1D, AveragePooling2D, AveragePooling3D\n",
    "\n",
    "# IPython imports\n",
    "from IPython.display import Image\n",
    "\n",
    "# ml4h Imports\n",
    "from ml4h.arguments import parse_args\n",
    "from ml4h.tensor_generators import test_train_valid_tensor_generators\n",
    "from ml4h.defines import TENSOR_EXT, IMAGE_EXT, MRI_TO_SEGMENT, MRI_SEGMENTED\n",
    "from ml4h.recipes import train_multimodal_multitask, test_multimodal_multitask\n",
    "from ml4h.models import make_multimodal_multitask_model, train_model_from_generators"
   ]
  },
  {
   "cell_type": "code",
   "execution_count": null,
   "metadata": {},
   "outputs": [],
   "source": [
    "input_x = Input(shape=(5000, 12), name='in')\n",
    "x = Conv1D(filters=128, kernel_size=101, activation='relu', padding='same')(input_x)\n",
    "x = Conv1D(filters=128, kernel_size=101, activation='relu', padding='valid')(x)\n",
    "x = MaxPooling1D(pool_size=2)(x)\n",
    "x = Conv1D(filters=128, kernel_size=51, activation='relu', padding='valid')(x)\n",
    "x = MaxPooling1D(pool_size=2)(x)\n",
    "x = Conv1D(filters=128, kernel_size=51, activation='relu', padding='same')(x)\n",
    "x = MaxPooling1D(pool_size=2)(x)\n",
    "conv_label = Conv1D(12, 1, activation=\"linear\", padding='same')(x)\n",
    "output_y = Activation('linear', name='out')(conv_label)\n",
    "m = Model(inputs=[input_x], outputs=[output_y])\n",
    "m.summary()\n",
    "opt = Adam(lr=0.00001, beta_1=0.9, beta_2=0.999, epsilon=1e-08, clipnorm=1.0)\n",
    "m.compile(optimizer=opt, loss='logcosh')"
   ]
  },
  {
   "cell_type": "code",
   "execution_count": null,
   "metadata": {},
   "outputs": [],
   "source": [
    "input_x = Input(shape=(5000, 12), name='in')\n",
    "x = Conv1D(filters=64, kernel_size=101, activation='relu', padding='same')(input_x)\n",
    "x = Conv1D(filters=64, kernel_size=101, activation='relu', padding='valid')(x)\n",
    "x = MaxPooling1D(pool_size=2)(x)\n",
    "x = Conv1D(filters=64, kernel_size=51, activation='relu', padding='valid')(x)\n",
    "x = MaxPooling1D(pool_size=2)(x)\n",
    "x = Conv1D(filters=64, kernel_size=51, activation='relu', padding='same')(x)\n",
    "x = MaxPooling1D(pool_size=2)(x)\n",
    "x = Conv1D(filters=64, kernel_size=51, activation='relu', padding='same')(x)\n",
    "conv_label = Conv1D(12, 1, activation=\"linear\", padding='same')(x)\n",
    "output_wave = Activation('linear', name='out')(conv_label)\n",
    "\n",
    "alphabet_size = 60\n",
    "window_size = 40\n",
    "\n",
    "flat_x = Flatten()(x)\n",
    "flat_x = Dense(16, activation='relu')(flat_x)\n",
    "wave_embeds = RepeatVector(window_size)(flat_x)\n",
    "#Permute((2, 1)\n",
    "\n",
    "burn_in = Input(shape=(window_size, alphabet_size), name='burn_in')\n",
    "lstm_in = concatenate([burn_in, wave_embeds])\n",
    "\n",
    "lstm_out = LSTM(128)(lstm_in)\n",
    "output_char = Dense(alphabet_size, activation='softmax')(lstm_out)\n",
    "\n",
    "m = Model(inputs=[input_x, burn_in], outputs=[output_wave, output_char])\n",
    "m.summary()\n",
    "opt = Adam(lr=0.00001, beta_1=0.9, beta_2=0.999, epsilon=1e-08, clipnorm=1.0)\n",
    "m.compile(optimizer=opt, loss=['logcosh', 'categorical_crossentropy'])"
   ]
  },
  {
   "cell_type": "code",
   "execution_count": null,
   "metadata": {},
   "outputs": [],
   "source": [
    "sys.argv = ['train', \n",
    "            '--tensors','/mnt/disks/ecg-text2/2019-03-30/', \n",
    "            '--input_tensors', 'ecg_rest_1lead', \n",
    "            '--output_tensors','ecg_median_1lead', 'ecg_rhythm', 'ecg_normal', 'ventricular-rate', \n",
    "            '--batch_size', '32', \n",
    "            '--epochs', '1',\n",
    "            '--training_steps', '30',\n",
    "            '--inspect_model',\n",
    "            '--u_connect',\n",
    "            '--id', 'ecg_wave_regress_and_classify']\n",
    "args = parse_args()\n",
    "generate_train, generate_valid, generate_test = test_train_valid_tensor_generators(args.tensor_maps_in,  args.tensor_maps_out,  args.tensors, args.batch_size,   args.valid_ratio, args.test_ratio, args.test_modulo, args.balance_csvs)"
   ]
  },
  {
   "cell_type": "code",
   "execution_count": null,
   "metadata": {},
   "outputs": [],
   "source": [
    "model = make_multimodal_multitask_model(**args.__dict__)\n"
   ]
  },
  {
   "cell_type": "code",
   "execution_count": null,
   "metadata": {},
   "outputs": [],
   "source": [
    "model = train_model_from_generators(model, generate_train, generate_valid, args.training_steps,\n",
    "                                        args.validation_steps, args.batch_size, args.epochs, args.patience,\n",
    "                                        args.output_folder, args.id, args.inspect_model, args.inspect_show_labels)"
   ]
  },
  {
   "cell_type": "code",
   "execution_count": null,
   "metadata": {},
   "outputs": [],
   "source": [
    "Image('./recipes_output/ecg_wave_regress_and_classify/architecture_graph_ecg_wave_regress_and_classify.png')"
   ]
  },
  {
   "cell_type": "code",
   "execution_count": null,
   "metadata": {},
   "outputs": [],
   "source": [
    "intermediate_layer_model = Model(inputs=model.input, outputs=model.get_layer('embed').output)\n",
    "intermediate_layer_model.summary()\n",
    "intermediate_output = intermediate_layer_model.predict_generator(generate_test, steps=1)\n",
    "print(intermediate_output.shape)"
   ]
  },
  {
   "cell_type": "code",
   "execution_count": null,
   "metadata": {},
   "outputs": [],
   "source": [
    "embed = model.get_layer('embed').output\n",
    "\n",
    "burn_in = Input(shape=(window_size, alphabet_size), name='burn_in')\n",
    "embed_in = Input(shape=(64,), name='embed_in')\n",
    "wave_embeds = RepeatVector(window_size)(embed_in)\n",
    "lstm_in = concatenate([burn_in, wave_embeds])\n",
    "alphabet_size = 60\n",
    "window_size = 40\n",
    "lstm_out = LSTM(128)(lstm_in)\n",
    "output_char = Dense(alphabet_size, activation='softmax')(lstm_out)\n",
    "\n",
    "m_caption = Model(inputs=[embed_in, burn_in], outputs=[output_char])\n",
    "m_caption.summary()\n",
    "opt = Adam(lr=0.00001, beta_1=0.9, beta_2=0.999, epsilon=1e-08, clipnorm=1.0)\n",
    "m_caption.compile(optimizer=opt, loss='categorical_crossentropy')"
   ]
  },
  {
   "cell_type": "code",
   "execution_count": null,
   "metadata": {},
   "outputs": [],
   "source": [
    "Image('./recipes_output/ecg_wave_regress_and_classify/architecture_graph_ecg_wave_regress_and_classify.png')"
   ]
  }
 ],
 "metadata": {
  "kernelspec": {
   "display_name": "Python 3",
   "language": "python",
   "name": "python3"
  },
  "language_info": {
   "codemirror_mode": {
    "name": "ipython",
    "version": 3
   },
   "file_extension": ".py",
   "mimetype": "text/x-python",
   "name": "python",
   "nbconvert_exporter": "python",
   "pygments_lexer": "ipython3",
   "version": "3.6.8"
  }
 },
 "nbformat": 4,
 "nbformat_minor": 2
}
