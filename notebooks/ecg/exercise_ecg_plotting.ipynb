{
 "cells": [
  {
   "cell_type": "code",
   "execution_count": null,
   "metadata": {},
   "outputs": [],
   "source": [
    "import os\n",
    "import h5py\n",
    "import numpy as np\n",
    "import matplotlib.pyplot as plt\n",
    "import pandas as pd\n",
    "from collections import defaultdict\n",
    "import copy\n",
    "import h5py\n",
    "import os\n",
    "import numpy as np\n",
    "import matplotlib\n",
    "import matplotlib.pyplot as plt \n",
    "import matplotlib.gridspec as gridspec\n",
    "from matplotlib.ticker import (AutoMinorLocator, MultipleLocator)\n",
    "from biosppy.signals import ecg\n",
    "from biosppy.signals.tools import filter_signal\n",
    "from scipy.signal import iirnotch\n",
    "\n",
    "# IPython imports\n",
    "from IPython.display import Image\n",
    "%matplotlib inline"
   ]
  },
  {
   "cell_type": "code",
   "execution_count": null,
   "metadata": {},
   "outputs": [],
   "source": [
    "DATA_DIRECTORY = '/mnt/disks/ecg-bike-tensors-2/2019-09-17/'\n",
    "# DATA_DIRECTORY = '/Users/pbatra/broad/local_data_sets/tensors/test/ecg-rest-and-bike-with-trend-tensors/'\n",
    "all_sample_ids = [samp[:-4] for samp in os.listdir(DATA_DIRECTORY) if 'hd5' in samp]\n",
    "\n",
    "\n",
    "sampling_rate = 500.\n",
    "def exercise_ecg_by_sample_id(sample_id):\n",
    "    out = {}\n",
    "    with h5py.File(os.path.join(DATA_DIRECTORY, f'{sample_id}.hd5'), 'r') as hd5:\n",
    "        if 'ecg_bike_recovery' not in hd5.keys():\n",
    "            return\n",
    "        trends = hd5['ecg_bike_trend']\n",
    "        rest_start_idx = list(trends['PhaseName']).index(2)\n",
    "        out['full_times'] = np.array(list(trends['time']))\n",
    "        out['full_hrs'] = np.array(list(trends['HeartRate']))\n",
    "        out['full_loads'] = np.array(list(trends['Load']))\n",
    "        \n",
    "        \n",
    "        out['times'] = np.array(list(trends['PhaseTime'])[rest_start_idx:])\n",
    "        signal_length=30000\n",
    "        out['ts_reference'] = np.array([i*1./(sampling_rate+1.) for i in range(0,signal_length)])\n",
    "        out['hrs'] = np.array(list(trends['HeartRate'])[rest_start_idx:])\n",
    "        out['loads'] = np.array(list(trends['Load'])[rest_start_idx:])\n",
    "        out['artifacts'] = np.array(list(trends['Artifact']))                          \n",
    "        for lead in list(hd5['ecg_bike_recovery'].keys()):\n",
    "            out[lead] = np.array(hd5['ecg_bike_recovery'][lead])\n",
    "            out[f'{lead}_filtered'], _, _= filter_signal(signal=np.array(out[lead]),\n",
    "                                          ftype='FIR',\n",
    "                                          band='bandpass',\n",
    "                                          order=int(0.3 * sampling_rate),\n",
    "                                          frequency=[.9, 50], #3,45\n",
    "                                          sampling_rate=sampling_rate)\n",
    "        out['max_hr'] = list(hd5['continuous']['bike_max_hr'])[0]\n",
    "        out['resting_hr'] = list(hd5['continuous']['bike_resting_hr'])[0]\n",
    "        out['max_pred_hr'] = list(hd5['continuous']['bike_max_pred_hr'])[0]\n",
    "        out['hr_recovery_60s'] = out['max_hr'] - out['hrs'][-1]\n",
    "        out['hr_increase'] = out['max_hr'] - out['resting_hr']\n",
    "        out['max_hr_achieved_ratio'] = out['max_hr'] / out['max_pred_hr']\n",
    "        out['pred_peak_exercise'] = out['max_pred_hr'] - out['resting_hr']\n",
    "        out['peak_hr_reserve'] = out['max_hr'] / out['pred_peak_exercise']\n",
    "    return out"
   ]
  },
  {
   "cell_type": "code",
   "execution_count": null,
   "metadata": {},
   "outputs": [],
   "source": [
    "all_sample_ids[2]"
   ]
  },
  {
   "cell_type": "code",
   "execution_count": null,
   "metadata": {},
   "outputs": [],
   "source": [
    "exercise_ecg_by_sample_id(all_sample_ids[1])"
   ]
  },
  {
   "cell_type": "code",
   "execution_count": null,
   "metadata": {},
   "outputs": [],
   "source": []
  },
  {
   "cell_type": "code",
   "execution_count": null,
   "metadata": {},
   "outputs": [],
   "source": [
    "sec_per_box = 0.04\n",
    "mv_per_box = .1\n",
    "time_interval = 2.5 #time-interval per plot in seconds. ts_Reference data is in s, voltage measurement is 5 uv per lsb\n",
    "raw_scale = 0.005 # convert to mV\n",
    "\n",
    "def plot_exercise_ecg(sample_id):\n",
    "    time_interval = 2.0\n",
    "    fig, ax = plt.subplots(nrows=6, ncols=1, sharey='row', figsize=(24,18), tight_layout=True)\n",
    "    out = exercise_ecg_by_sample_id(sample_id)\n",
    "    leads = np.array([out['lead_I'], out['lead_2'], out['lead_3']])\n",
    "    leads_filtered=np.array([out['lead_I_filtered'], out['lead_2_filtered'], out['lead_3_filtered']])\n",
    "    #leads -= leads.mean(axis=1)[: ,np.newaxis]\n",
    "    #leads /= leads.std(axis=1)[: ,np.newaxis]\n",
    "    ax[0].set_xlim(4.0, 4.0+time_interval)\n",
    "    ax[0].xaxis.set_major_locator(MultipleLocator(0.2)) #major grids at every .2sec = 5 * 0.04 sec\n",
    "    ax[0].xaxis.set_minor_locator(AutoMinorLocator(5))\n",
    "    ax[0].grid(which='major', color='#CCCCCC', linestyle='--')\n",
    "    ax[0].grid(which='minor', color='#CCCCCC', linestyle=':')\n",
    "    ax[0].plot(out['times'],out['hrs'], color='green')\n",
    "    for i in range(1,4):\n",
    "            ax[i].set_xlim(4.0,4.0+time_interval)\n",
    "            ax[i].set_ylim(-1.5, 1.5) #-1.5mV -> 1.5mV\n",
    "            ax[i].xaxis.set_major_locator(MultipleLocator(0.2)) #major grids at every .2sec = 5 * 0.04 sec\n",
    "            ax[i].yaxis.set_major_locator(MultipleLocator(0.5))  #major grids at every .5mV \n",
    "\n",
    "            ax[i].xaxis.set_minor_locator(AutoMinorLocator(5))\n",
    "            ax[i].yaxis.set_minor_locator(AutoMinorLocator(5))\n",
    "\n",
    "            ax[i].grid(which='major', color='#CCCCCC', linestyle='--')\n",
    "            ax[i].grid(which='minor', color='#CCCCCC', linestyle=':')\n",
    "\n",
    "            #normalize data in muv\n",
    "            #ax[i].plot(out['ts_reference'], [elem_ * raw_scale for elem_ in leads[i-1]], color='green')\n",
    "            ax[i].plot(out['ts_reference'], [elem_ * raw_scale for elem_ in leads_filtered[i-1]], color='red')\n",
    "    #plot_resting_ecg(leads[:, :500 * 10])\n",
    "    ax[4].plot(out['full_times'], out['full_hrs'], label='hr')\n",
    "    ax[5].plot(out['full_times'], out['full_loads'], label='load')\n",
    "    plt.show()\n",
    "    \n",
    "plot_exercise_ecg(all_sample_ids[1])"
   ]
  },
  {
   "cell_type": "code",
   "execution_count": null,
   "metadata": {},
   "outputs": [],
   "source": [
    "all_outs = []\n",
    "for i, s in enumerate(all_sample_ids):\n",
    "    out = exercise_ecg_by_sample_id(s)\n",
    "    \n",
    "    if out:\n",
    "        all_outs.append(out)\n",
    "        del out['hrs']\n",
    "    print(f\"{i}\",end=\"\\r\")\n",
    "all_metrics_df = pd.DataFrame(all_outs)"
   ]
  },
  {
   "cell_type": "code",
   "execution_count": null,
   "metadata": {},
   "outputs": [],
   "source": [
    "all_metrics_df = pd.DataFrame(all_outs)"
   ]
  },
  {
   "cell_type": "code",
   "execution_count": null,
   "metadata": {},
   "outputs": [],
   "source": [
    "plt.figure(figsize=(20, 10))\n",
    "for i, col in enumerate(['max_hr', 'resting_hr', 'max_pred_hr','hr_recovery_60s','hr_increase','max_hr_achieved_ratio','pred_peak_exercise','peak_hr_reserve']):\n",
    "    plt.subplot(4, 2, i + 1)\n",
    "    plt.hist(all_metrics_df[col], bins=50)\n",
    "    plt.title(f'{col} mean {all_metrics_df[col].mean():.2f}, std {all_metrics_df[col].std():.2f}')\n",
    "plt.tight_layout()\n",
    "plt.show()"
   ]
  },
  {
   "cell_type": "code",
   "execution_count": null,
   "metadata": {},
   "outputs": [],
   "source": [
    "len(['max_hr', 'resting_hr', 'max_pred_hr','hr_recovery_60s','hr_increase','max_hr_achieved_ratio','pred_peak_exercise','peak_hr_reserve'])"
   ]
  },
  {
   "cell_type": "code",
   "execution_count": null,
   "metadata": {},
   "outputs": [],
   "source": [
    "all_metrics_df.std()"
   ]
  },
  {
   "cell_type": "code",
   "execution_count": null,
   "metadata": {},
   "outputs": [],
   "source": [
    "all_metrics_df.columns"
   ]
  },
  {
   "cell_type": "code",
   "execution_count": null,
   "metadata": {},
   "outputs": [],
   "source": []
  }
 ],
 "metadata": {
  "kernelspec": {
   "display_name": "Python 3",
   "language": "python",
   "name": "python3"
  },
  "language_info": {
   "codemirror_mode": {
    "name": "ipython",
    "version": 3
   },
   "file_extension": ".py",
   "mimetype": "text/x-python",
   "name": "python",
   "nbconvert_exporter": "python",
   "pygments_lexer": "ipython3",
   "version": "3.6.8"
  }
 },
 "nbformat": 4,
 "nbformat_minor": 2
}
