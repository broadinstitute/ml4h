{
 "cells": [
  {
   "cell_type": "code",
   "execution_count": null,
   "metadata": {},
   "outputs": [],
   "source": [
    "%matplotlib inline\n",
    "import os\n",
    "import h5py\n",
    "import matplotlib.pyplot as plt\n",
    "from ml4cvd.arguments import _get_tmap\n",
    "from ml4cvd.tensor_generators import get_test_train_valid_paths"
   ]
  },
  {
   "cell_type": "code",
   "execution_count": null,
   "metadata": {},
   "outputs": [],
   "source": [
    "tm_ecg = _get_tmap('ecg_partners')"
   ]
  },
  {
   "cell_type": "code",
   "execution_count": null,
   "metadata": {},
   "outputs": [],
   "source": [
    "with h5py.File('/home/erik/muse_data/hd5/1980-01/000773592-1980-01-03-22.hd5', 'r') as hd5:\n",
    "    ecg = tm_ecg.tensor_from_file(tm_ecg, hd5)"
   ]
  },
  {
   "cell_type": "code",
   "execution_count": null,
   "metadata": {},
   "outputs": [],
   "source": [
    "plt.plot(ecg[11, :])"
   ]
  },
  {
   "cell_type": "code",
   "execution_count": null,
   "metadata": {},
   "outputs": [],
   "source": [
    "tm_ecg_read = _get_tmap('ecg_partners_read')\n",
    "with h5py.File('/home/erik/muse_data/hd5/1980-01/000410412-1980-01-06.hd5', 'r') as hd5:\n",
    "    print(hd5['diagnosis_md'][()])\n",
    "    ecg_read = tm_ecg_read.tensor_from_file(tm_ecg_read, hd5)"
   ]
  },
  {
   "cell_type": "code",
   "execution_count": null,
   "metadata": {},
   "outputs": [],
   "source": [
    "tm_ecg_qt = _get_tmap('ecg_partners_qt_interval')\n",
    "tm_ecg_intervals = _get_tmap('ecg_partners_intervals')\n",
    "with h5py.File('/home/erik/muse_data/hd5/1980-01/000410412-1980-01-06.hd5', 'r') as hd5:\n",
    "    ecg_qt = tm_ecg_qt.tensor_from_file(tm_ecg_qt, hd5)\n",
    "    ecg_intervals = tm_ecg_intervals.tensor_from_file(tm_ecg_intervals, hd5)"
   ]
  },
  {
   "cell_type": "code",
   "execution_count": null,
   "metadata": {},
   "outputs": [],
   "source": [
    "ecg_qt"
   ]
  },
  {
   "cell_type": "code",
   "execution_count": null,
   "metadata": {},
   "outputs": [],
   "source": [
    "ecg_intervals"
   ]
  },
  {
   "cell_type": "code",
   "execution_count": null,
   "metadata": {},
   "outputs": [],
   "source": []
  }
 ],
 "metadata": {
  "kernelspec": {
   "display_name": "Python 3",
   "language": "python",
   "name": "python3"
  },
  "language_info": {
   "codemirror_mode": {
    "name": "ipython",
    "version": 3
   },
   "file_extension": ".py",
   "mimetype": "text/x-python",
   "name": "python",
   "nbconvert_exporter": "python",
   "pygments_lexer": "ipython3",
   "version": "3.6.9"
  }
 },
 "nbformat": 4,
 "nbformat_minor": 2
}
