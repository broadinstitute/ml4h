{
 "cells": [
  {
   "cell_type": "code",
   "execution_count": 1,
   "metadata": {},
   "outputs": [
    {
     "name": "stderr",
     "output_type": "stream",
     "text": [
      "/usr/local/lib/python3.6/dist-packages/apache_beam/__init__.py:84: UserWarning: Running the Apache Beam SDK on Python 3 is not yet fully supported. You may encounter buggy behavior or missing features.\n",
      "  'Running the Apache Beam SDK on Python 3 is not yet fully supported. '\n",
      "WARNING:root:no GCS storage client\n",
      "Using TensorFlow backend.\n"
     ]
    }
   ],
   "source": [
    "%matplotlib inline\n",
    "import os\n",
    "import h5py\n",
    "import matplotlib.pyplot as plt\n",
    "from ml4cvd.arguments import _get_tmap\n",
    "from ml4cvd.tensor_generators import get_test_train_valid_paths\n",
    "from ml4cvd.tensor_from_file import _decompress_data\n",
    "import numpy as np\n",
    "import numcodecs\n",
    "import glob"
   ]
  },
  {
   "cell_type": "code",
   "execution_count": 2,
   "metadata": {},
   "outputs": [],
   "source": [
    "#tm_rate = _get_tmap('partners_ecg_rate')\n",
    "#tm_qrs = _get_tmap('partners_ecg_qrs')\n",
    "#tm_pr = _get_tmap('partners_ecg_pr')\n",
    "tm_qt = _get_tmap('partners_ecg_qt')\n",
    "tm_qt_test = _get_tmap('partners_ecg_qt_test')\n",
    "#tm_qtc = _get_tmap('partners_ecg_qtc')\n",
    "#tm_read = _get_tmap('supranodal_rhythms')\n",
    "# tm_voltage = _get_tmap('partners_ecg_voltage_raw')"
   ]
  },
  {
   "cell_type": "code",
   "execution_count": 6,
   "metadata": {
    "scrolled": false
   },
   "outputs": [],
   "source": [
    "%matplotlib inline\n",
    "\n",
    "fpaths = glob.glob(\"/home/erik/partners_ecg/hd5/2019-01/*hd5\")\n",
    "qt = np.zeros(len(fpaths))\n",
    "qt_test = np.zeros(len(fpaths))\n",
    "\n",
    "for i, f in enumerate(fpaths):\n",
    "    with h5py.File(f, 'r') as hd5:\n",
    "        #rate = tm_rate.tensor_from_file(tm_rate, hd5)\n",
    "        #qrs = tm_qrs.tensor_from_file(tm_qrs, hd5)\n",
    "        #pr = tm_pr.tensor_from_file(tm_pr, hd5)\n",
    "        try:\n",
    "            qt[i] = tm_qt.tensor_from_file(tm_qt, hd5)\n",
    "            qt_test[i] = tm_qt_test.tensor_from_file(tm_qt_test, hd5)\n",
    "        except:\n",
    "            continue\n",
    "        # qtc = tm_qtc.tensor_from_file(tm_qtc, hd5)\n",
    "        # read = tm_read.tensor_from_file(tm_read, hd5)\n",
    "        # print(f\"rate: {rate}, qrs: {qrs}, pr: {pr}, qt: {qt}, qtc: {qtc}, read: {read}\")\n",
    "        #print(f\"qt: {qt}, qt_test: {qt_test}\")"
   ]
  },
  {
   "cell_type": "code",
   "execution_count": 7,
   "metadata": {},
   "outputs": [],
   "source": [
    "df = {'qt': qt, 'qt_test': qt_test}"
   ]
  },
  {
   "cell_type": "code",
   "execution_count": 8,
   "metadata": {},
   "outputs": [],
   "source": [
    "import pandas as pd\n",
    "df = pd.DataFrame(df)"
   ]
  },
  {
   "cell_type": "code",
   "execution_count": 13,
   "metadata": {},
   "outputs": [
    {
     "data": {
      "text/html": [
       "<div>\n",
       "<style scoped>\n",
       "    .dataframe tbody tr th:only-of-type {\n",
       "        vertical-align: middle;\n",
       "    }\n",
       "\n",
       "    .dataframe tbody tr th {\n",
       "        vertical-align: top;\n",
       "    }\n",
       "\n",
       "    .dataframe thead th {\n",
       "        text-align: right;\n",
       "    }\n",
       "</style>\n",
       "<table border=\"1\" class=\"dataframe\">\n",
       "  <thead>\n",
       "    <tr style=\"text-align: right;\">\n",
       "      <th></th>\n",
       "      <th>qt</th>\n",
       "      <th>qt_test</th>\n",
       "    </tr>\n",
       "  </thead>\n",
       "  <tbody>\n",
       "    <tr>\n",
       "      <th>1226</th>\n",
       "      <td>0.0</td>\n",
       "      <td>0.0</td>\n",
       "    </tr>\n",
       "    <tr>\n",
       "      <th>6042</th>\n",
       "      <td>0.0</td>\n",
       "      <td>0.0</td>\n",
       "    </tr>\n",
       "    <tr>\n",
       "      <th>8311</th>\n",
       "      <td>0.0</td>\n",
       "      <td>0.0</td>\n",
       "    </tr>\n",
       "    <tr>\n",
       "      <th>12341</th>\n",
       "      <td>0.0</td>\n",
       "      <td>0.0</td>\n",
       "    </tr>\n",
       "  </tbody>\n",
       "</table>\n",
       "</div>"
      ],
      "text/plain": [
       "        qt  qt_test\n",
       "1226   0.0      0.0\n",
       "6042   0.0      0.0\n",
       "8311   0.0      0.0\n",
       "12341  0.0      0.0"
      ]
     },
     "execution_count": 13,
     "metadata": {},
     "output_type": "execute_result"
    }
   ],
   "source": [
    "df[df['qt'] < 1.0]"
   ]
  },
  {
   "cell_type": "code",
   "execution_count": null,
   "metadata": {},
   "outputs": [],
   "source": []
  }
 ],
 "metadata": {
  "kernelspec": {
   "display_name": "Python 3",
   "language": "python",
   "name": "python3"
  },
  "language_info": {
   "codemirror_mode": {
    "name": "ipython",
    "version": 3
   },
   "file_extension": ".py",
   "mimetype": "text/x-python",
   "name": "python",
   "nbconvert_exporter": "python",
   "pygments_lexer": "ipython3",
   "version": "3.6.8"
  }
 },
 "nbformat": 4,
 "nbformat_minor": 2
}
