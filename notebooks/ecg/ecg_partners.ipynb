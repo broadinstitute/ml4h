{
 "cells": [
  {
   "cell_type": "code",
   "execution_count": 1,
   "metadata": {},
   "outputs": [
    {
     "name": "stderr",
     "output_type": "stream",
     "text": [
      "/usr/local/lib/python3.6/dist-packages/apache_beam/__init__.py:84: UserWarning: Running the Apache Beam SDK on Python 3 is not yet fully supported. You may encounter buggy behavior or missing features.\n",
      "  'Running the Apache Beam SDK on Python 3 is not yet fully supported. '\n",
      "WARNING:root:no GCS storage client\n",
      "Using TensorFlow backend.\n"
     ]
    }
   ],
   "source": [
    "import os\n",
    "import h5py\n",
    "import numpy as np\n",
    "import pandas as pd\n",
    "from typing import List, Dict, Callable\n",
    "from collections import defaultdict\n",
    "\n",
    "from ml4cvd.arguments import _get_tmap\n",
    "from ml4cvd.TensorMap import TensorMap"
   ]
  },
  {
   "cell_type": "code",
   "execution_count": 3,
   "metadata": {},
   "outputs": [],
   "source": [
    "def tmaps_by_sample_id(tensor_folder: str, sample_id: str, tmaps: List[TensorMap]):\n",
    "    path = os.path.join(tensor_folder, sample_id + '.hd5')\n",
    "    result_dict = defaultdict(lambda: None)\n",
    "    if os.path.isfile(path):\n",
    "            with h5py.File(path, 'r') as hd5:\n",
    "                for tmap in tmaps:\n",
    "                    try:\n",
    "                        result_dict[tmap] = tmap.tensor_from_file(tmap, hd5)\n",
    "                    except (IndexError, KeyError, ValueError, OSError, RuntimeError):\n",
    "                        continue\n",
    "    return result_dict\n",
    "\n",
    "\n",
    "def tmaps_with_properties(tensor_folder: str, tmap_properties: Dict[TensorMap, Callable[[np.ndarray], bool]], search_size=100):\n",
    "    all_ids = [file.strip('.hd5') for file in sorted(os.listdir(tensor_folder))[:search_size]]\n",
    "    results = map(lambda sample_id: tmaps_by_sample_id(tensor_folder, sample_id, tmap_properties.keys()), all_ids)\n",
    "    return {\n",
    "        sample_id: result\n",
    "        for sample_id, result in zip(all_ids, results)\n",
    "        if all(\n",
    "            result[tmap] is not None and tmap_properties[tmap](result[tmap])\n",
    "            for tmap in tmap_properties.keys()\n",
    "        )\n",
    "    }\n",
    "\n",
    "\n",
    "def tmaps_with_properties_from_keys(tensor_folder: str, tmap_properties: Dict[str, Callable[[np.ndarray], bool]], search_size=100):\n",
    "    return tmaps_with_properties(\n",
    "        tensor_folder,\n",
    "        {_get_tmap(key): prop for key, prop in tmap_properties.items()},\n",
    "        search_size,\n",
    "    )\n",
    "\n",
    "def tmap_dic_to_df(tmap_dic):\n",
    "    sample_id = []\n",
    "    tmaps = []\n",
    "    tmap_names = []\n",
    "    for i, entry in enumerate(tmap_dic):\n",
    "        for t in tmap_dic[entry]:\n",
    "            tmap_names.append(t.name)\n",
    "            tmaps.append(np.zeros(len(tmap_dic)))\n",
    "        break\n",
    "        \n",
    "    tmap = np.zeros(len(tmap_dic), dtype=np.float)\n",
    "    for i, entry in enumerate(tmap_dic):\n",
    "        sample_id.append(entry)\n",
    "        for it, t in enumerate(tmap_dic[entry]):\n",
    "            tmaps[it][i] = tmap_dic[entry][t]\n",
    "    dd = {'sample_id' : sample_id}\n",
    "    for name, tmap in zip(tmap_names, tmaps):\n",
    "        dd[name] = tmap\n",
    "    return pd.DataFrame(dd)"
   ]
  },
  {
   "cell_type": "code",
   "execution_count": 4,
   "metadata": {},
   "outputs": [],
   "source": [
    "a = tmaps_with_properties_from_keys(\n",
    "    '/home/erik/partners_ecg/hd5/2018-01', \n",
    "    {\n",
    "        'partners_ecg_rate': lambda x: x > 0,\n",
    "        'partners_ecg_pr': lambda x: x > 0,\n",
    "        'partners_ecg_qt': lambda x: x > 0,\n",
    "        'partners_ecg_qtc': lambda x: x > 0,        \n",
    "        'partners_ecg_qrs': lambda x: x > 0\n",
    "    },\n",
    "    search_size = 20000\n",
    ")\n",
    "dd = tmap_dic_to_df(a)\n",
    "dd"
   ]
  },
  {
   "cell_type": "code",
   "execution_count": 6,
   "metadata": {},
   "outputs": [
    {
     "data": {
      "text/plain": [
       "array([[<matplotlib.axes._subplots.AxesSubplot object at 0x7f3bcdd2aa20>,\n",
       "        <matplotlib.axes._subplots.AxesSubplot object at 0x7f3bcd30f0f0>],\n",
       "       [<matplotlib.axes._subplots.AxesSubplot object at 0x7f3bcd2b96a0>,\n",
       "        <matplotlib.axes._subplots.AxesSubplot object at 0x7f3bcd2dfc50>],\n",
       "       [<matplotlib.axes._subplots.AxesSubplot object at 0x7f3bcd290240>,\n",
       "        <matplotlib.axes._subplots.AxesSubplot object at 0x7f3bcd2387f0>]],\n",
       "      dtype=object)"
      ]
     },
     "execution_count": 6,
     "metadata": {},
     "output_type": "execute_result"
    },
    {
     "data": {
      "image/png": "[encoded data removed]",
      "text/plain": [
       "<Figure size 576x576 with 6 Axes>"
      ]
     },
     "metadata": {
      "needs_background": "light"
     },
     "output_type": "display_data"
    }
   ],
   "source": [
    "%matplotlib inline\n",
    "dd.hist(figsize=(8, 8))"
   ]
  },
  {
   "cell_type": "code",
   "execution_count": 7,
   "metadata": {},
   "outputs": [
    {
     "data": {
      "text/plain": [
       "partners_ecg_rate     81.620467\n",
       "partners_ecg_pr      161.040738\n",
       "partners_ecg_qt      390.995792\n",
       "partners_ecg_qtc     446.505327\n",
       "partners_ecg_qrs      94.709106\n",
       "dtype: float64"
      ]
     },
     "execution_count": 7,
     "metadata": {},
     "output_type": "execute_result"
    }
   ],
   "source": [
    "dd.mean()"
   ]
  },
  {
   "cell_type": "code",
   "execution_count": 8,
   "metadata": {},
   "outputs": [
    {
     "data": {
      "text/plain": [
       "partners_ecg_rate    20.352292\n",
       "partners_ecg_pr      35.003017\n",
       "partners_ecg_qt      50.923113\n",
       "partners_ecg_qtc     39.762255\n",
       "partners_ecg_qrs     22.610711\n",
       "dtype: float64"
      ]
     },
     "execution_count": 8,
     "metadata": {},
     "output_type": "execute_result"
    }
   ],
   "source": [
    "dd.std()"
   ]
  },
  {
   "cell_type": "code",
   "execution_count": 9,
   "metadata": {},
   "outputs": [
    {
     "data": {
      "text/html": [
       "<div>\n",
       "<style scoped>\n",
       "    .dataframe tbody tr th:only-of-type {\n",
       "        vertical-align: middle;\n",
       "    }\n",
       "\n",
       "    .dataframe tbody tr th {\n",
       "        vertical-align: top;\n",
       "    }\n",
       "\n",
       "    .dataframe thead th {\n",
       "        text-align: right;\n",
       "    }\n",
       "</style>\n",
       "<table border=\"1\" class=\"dataframe\">\n",
       "  <thead>\n",
       "    <tr style=\"text-align: right;\">\n",
       "      <th></th>\n",
       "      <th>sample_id</th>\n",
       "      <th>partners_ecg_rate</th>\n",
       "      <th>partners_ecg_pr</th>\n",
       "      <th>partners_ecg_qt</th>\n",
       "      <th>partners_ecg_qtc</th>\n",
       "      <th>partners_ecg_qrs</th>\n",
       "    </tr>\n",
       "  </thead>\n",
       "  <tbody>\n",
       "    <tr>\n",
       "      <th>0</th>\n",
       "      <td>000028852-2019-01-19-10-57-56</td>\n",
       "      <td>86.0</td>\n",
       "      <td>170.0</td>\n",
       "      <td>398.0</td>\n",
       "      <td>476.0</td>\n",
       "      <td>84.0</td>\n",
       "    </tr>\n",
       "    <tr>\n",
       "      <th>1</th>\n",
       "      <td>000028852-2019-01-23-07-05-13</td>\n",
       "      <td>76.0</td>\n",
       "      <td>178.0</td>\n",
       "      <td>432.0</td>\n",
       "      <td>486.0</td>\n",
       "      <td>88.0</td>\n",
       "    </tr>\n",
       "    <tr>\n",
       "      <th>2</th>\n",
       "      <td>000028852-2019-01-23-11-05-48</td>\n",
       "      <td>77.0</td>\n",
       "      <td>168.0</td>\n",
       "      <td>394.0</td>\n",
       "      <td>445.0</td>\n",
       "      <td>78.0</td>\n",
       "    </tr>\n",
       "    <tr>\n",
       "      <th>3</th>\n",
       "      <td>000028852-2019-01-24-03-45-43</td>\n",
       "      <td>72.0</td>\n",
       "      <td>172.0</td>\n",
       "      <td>422.0</td>\n",
       "      <td>462.0</td>\n",
       "      <td>74.0</td>\n",
       "    </tr>\n",
       "    <tr>\n",
       "      <th>4</th>\n",
       "      <td>000031305-2019-01-01-09-47-43</td>\n",
       "      <td>112.0</td>\n",
       "      <td>152.0</td>\n",
       "      <td>298.0</td>\n",
       "      <td>406.0</td>\n",
       "      <td>84.0</td>\n",
       "    </tr>\n",
       "    <tr>\n",
       "      <th>...</th>\n",
       "      <td>...</td>\n",
       "      <td>...</td>\n",
       "      <td>...</td>\n",
       "      <td>...</td>\n",
       "      <td>...</td>\n",
       "      <td>...</td>\n",
       "    </tr>\n",
       "    <tr>\n",
       "      <th>12070</th>\n",
       "      <td>006559726-2019-01-27-15-39-17</td>\n",
       "      <td>80.0</td>\n",
       "      <td>174.0</td>\n",
       "      <td>366.0</td>\n",
       "      <td>422.0</td>\n",
       "      <td>88.0</td>\n",
       "    </tr>\n",
       "    <tr>\n",
       "      <th>12071</th>\n",
       "      <td>006559898-2019-01-27-18-36-24</td>\n",
       "      <td>95.0</td>\n",
       "      <td>166.0</td>\n",
       "      <td>360.0</td>\n",
       "      <td>452.0</td>\n",
       "      <td>76.0</td>\n",
       "    </tr>\n",
       "    <tr>\n",
       "      <th>12072</th>\n",
       "      <td>062541-2019-01-05-11-18-30</td>\n",
       "      <td>65.0</td>\n",
       "      <td>176.0</td>\n",
       "      <td>418.0</td>\n",
       "      <td>434.0</td>\n",
       "      <td>86.0</td>\n",
       "    </tr>\n",
       "    <tr>\n",
       "      <th>12073</th>\n",
       "      <td>071340-2019-01-01-18-22-30</td>\n",
       "      <td>79.0</td>\n",
       "      <td>112.0</td>\n",
       "      <td>404.0</td>\n",
       "      <td>463.0</td>\n",
       "      <td>84.0</td>\n",
       "    </tr>\n",
       "    <tr>\n",
       "      <th>12074</th>\n",
       "      <td>071492-2019-01-01-09-33-27</td>\n",
       "      <td>96.0</td>\n",
       "      <td>222.0</td>\n",
       "      <td>348.0</td>\n",
       "      <td>439.0</td>\n",
       "      <td>102.0</td>\n",
       "    </tr>\n",
       "  </tbody>\n",
       "</table>\n",
       "<p>12075 rows × 6 columns</p>\n",
       "</div>"
      ],
      "text/plain": [
       "                           sample_id  partners_ecg_rate  partners_ecg_pr  \\\n",
       "0      000028852-2019-01-19-10-57-56               86.0            170.0   \n",
       "1      000028852-2019-01-23-07-05-13               76.0            178.0   \n",
       "2      000028852-2019-01-23-11-05-48               77.0            168.0   \n",
       "3      000028852-2019-01-24-03-45-43               72.0            172.0   \n",
       "4      000031305-2019-01-01-09-47-43              112.0            152.0   \n",
       "...                              ...                ...              ...   \n",
       "12070  006559726-2019-01-27-15-39-17               80.0            174.0   \n",
       "12071  006559898-2019-01-27-18-36-24               95.0            166.0   \n",
       "12072     062541-2019-01-05-11-18-30               65.0            176.0   \n",
       "12073     071340-2019-01-01-18-22-30               79.0            112.0   \n",
       "12074     071492-2019-01-01-09-33-27               96.0            222.0   \n",
       "\n",
       "       partners_ecg_qt  partners_ecg_qtc  partners_ecg_qrs  \n",
       "0                398.0             476.0              84.0  \n",
       "1                432.0             486.0              88.0  \n",
       "2                394.0             445.0              78.0  \n",
       "3                422.0             462.0              74.0  \n",
       "4                298.0             406.0              84.0  \n",
       "...                ...               ...               ...  \n",
       "12070            366.0             422.0              88.0  \n",
       "12071            360.0             452.0              76.0  \n",
       "12072            418.0             434.0              86.0  \n",
       "12073            404.0             463.0              84.0  \n",
       "12074            348.0             439.0             102.0  \n",
       "\n",
       "[12075 rows x 6 columns]"
      ]
     },
     "execution_count": 9,
     "metadata": {},
     "output_type": "execute_result"
    }
   ],
   "source": [
    "a = tmaps_with_properties_from_keys(\n",
    "    '/home/erik/partners_ecg/hd5/2019-01', \n",
    "    {\n",
    "        'partners_ecg_rate': lambda x: x > 0,\n",
    "        'partners_ecg_pr': lambda x: x > 0,\n",
    "        'partners_ecg_qt': lambda x: x > 0,\n",
    "        'partners_ecg_qtc': lambda x: x > 0,        \n",
    "        'partners_ecg_qrs': lambda x: x > 0\n",
    "    },\n",
    "    search_size = 20000\n",
    ")\n",
    "dd = tmap_dic_to_df(a)\n",
    "dd"
   ]
  },
  {
   "cell_type": "code",
   "execution_count": 10,
   "metadata": {},
   "outputs": [
    {
     "data": {
      "text/plain": [
       "partners_ecg_rate     81.767950\n",
       "partners_ecg_pr      160.828986\n",
       "partners_ecg_qt      389.542857\n",
       "partners_ecg_qtc     444.987909\n",
       "partners_ecg_qrs      93.935404\n",
       "dtype: float64"
      ]
     },
     "execution_count": 10,
     "metadata": {},
     "output_type": "execute_result"
    }
   ],
   "source": [
    "dd.mean()"
   ]
  },
  {
   "cell_type": "code",
   "execution_count": 11,
   "metadata": {},
   "outputs": [
    {
     "data": {
      "text/plain": [
       "partners_ecg_rate    20.343338\n",
       "partners_ecg_pr      35.506205\n",
       "partners_ecg_qt      52.292443\n",
       "partners_ecg_qtc     40.487247\n",
       "partners_ecg_qrs     22.371607\n",
       "dtype: float64"
      ]
     },
     "execution_count": 11,
     "metadata": {},
     "output_type": "execute_result"
    }
   ],
   "source": [
    "dd.std()"
   ]
  },
  {
   "cell_type": "code",
   "execution_count": null,
   "metadata": {},
   "outputs": [],
   "source": []
  }
 ],
 "metadata": {
  "kernelspec": {
   "display_name": "Python 3",
   "language": "python",
   "name": "python3"
  },
  "language_info": {
   "codemirror_mode": {
    "name": "ipython",
    "version": 3
   },
   "file_extension": ".py",
   "mimetype": "text/x-python",
   "name": "python",
   "nbconvert_exporter": "python",
   "pygments_lexer": "ipython3",
   "version": "3.6.8"
  }
 },
 "nbformat": 4,
 "nbformat_minor": 2
}
