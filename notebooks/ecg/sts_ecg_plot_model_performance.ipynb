{
 "cells": [
  {
   "cell_type": "code",
   "execution_count": null,
   "metadata": {},
   "outputs": [],
   "source": [
    "import os\n",
    "import csv\n",
    "import numpy as np\n",
    "import pandas as pd\n",
    "import seaborn as sns\n",
    "import matplotlib.pyplot as plt\n",
    "%matplotlib inline"
   ]
  },
  {
   "cell_type": "code",
   "execution_count": null,
   "metadata": {},
   "outputs": [],
   "source": [
    "bootstraps = [str(i) for i in range(0,10)]\n",
    "\n",
    "# plots AUCs +/- STDEV for each model\n",
    "# Inputs: model names as a list, Pandas DataFrame of exported results CSV from Google Spreadsheets\n",
    "\n",
    "def plot_performance(model_names: list, results_df: pd.DataFrame):\n",
    "    with open(results_fpath, 'r') as f:\n",
    "        results = list(csv.reader(f))\n",
    "    f.close()\n",
    "    \n",
    "    stats = {model: {'aucs': [], 'mean': 0, 'std': 0} for model in model_names}\n",
    "\n",
    "    for model in model_names:\n",
    "        stats[model]['aucs'] = list(float(auc) for auc in results_df.loc[bootstraps, model].values)\n",
    "        stats[model]['mean'] = float(results_df.loc['mean', model])\n",
    "        stats[model]['std'] = float(results_df.loc['std', model])\n",
    "        \n",
    "    means = [stats[model]['mean'] for model in model_names]\n",
    "    stds = [stats[model]['std'] for model in model_names]\n",
    "    \n",
    "    plt.rcParams.update({'font.size': 20})\n",
    "    fig_width = len(model_names) * 3\n",
    "    fig, ax = plt.subplots(figsize=(fig_width,8))\n",
    "    \n",
    "    x_pos = np.arange(len(model_names))\n",
    "    bar = sns.barplot(x=x_pos, y=means, yerr=stds)\n",
    "    ax.set_ylabel('AUC', fontsize=20)\n",
    "    ax.set_ylim([0.4, 0.9])\n",
    "    ax.set_xticks(range(len(model_names)))\n",
    "    ax.set_xticklabels(model_names, fontsize=20)\n",
    "    ax.set_title('Model Performance')\n",
    "    ax.yaxis.grid(True)\n",
    "\n",
    "    offset = -0.02 * len(model_names)\n",
    "    for i, v in enumerate(means):\n",
    "        plt.text(x_pos[i]+offset, 0.41, f'{v:0.3f}')\n",
    "\n",
    "    plt.xticks(rotation=90)\n",
    "    sns.set_style(\"whitegrid\")\n",
    "    sns.set_context(\"poster\")\n",
    "    plt.tight_layout()\n",
    "    plt.show()\n",
    "  \n",
    "results_fpath = os.path.expanduser(\"~/Dropbox/sts_ecg/results/STS ECG models and results - architecture.csv\")\n",
    "results_df = pd.read_csv(results_fpath, index_col=0)\n",
    "plot_performance(['metadata-intervals-age-sex','metadata-sex','metadata-age','logistic regression on metadata'], results_df)"
   ]
  }
 ],
 "metadata": {
  "kernelspec": {
   "display_name": "Python 3",
   "language": "python",
   "name": "python3"
  },
  "language_info": {
   "codemirror_mode": {
    "name": "ipython",
    "version": 3
   },
   "file_extension": ".py",
   "mimetype": "text/x-python",
   "name": "python",
   "nbconvert_exporter": "python",
   "pygments_lexer": "ipython3",
   "version": "3.8.1"
  }
 },
 "nbformat": 4,
 "nbformat_minor": 4
}
