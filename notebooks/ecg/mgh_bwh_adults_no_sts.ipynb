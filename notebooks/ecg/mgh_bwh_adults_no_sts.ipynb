{
 "cells": [
  {
   "cell_type": "code",
   "execution_count": null,
   "metadata": {},
   "outputs": [],
   "source": [
    "import os\n",
    "import numpy as np\n",
    "import pandas as pd"
   ]
  },
  {
   "cell_type": "code",
   "execution_count": null,
   "metadata": {},
   "outputs": [],
   "source": [
    "# de-id is blocked by https://github.com/aguirre-lab/ml/issues/218#issuecomment-669258856"
   ]
  },
  {
   "cell_type": "code",
   "execution_count": null,
   "metadata": {},
   "outputs": [],
   "source": [
    "sts = pd.read_csv(os.path.expanduser('~/dropbox/sts_ecg/xref_adults/list_1_in_all_windows.csv'), low_memory=False)\n",
    "mgh = pd.read_csv(os.path.expanduser('~/dropbox/ecg/explore/mgh/tensors_all_union.csv'), low_memory=False)\n",
    "bwh = pd.read_csv(os.path.expanduser('~/dropbox/ecg/explore/bwh/tensors_all_union.csv'), low_memory=False)\n",
    "# mgh_id_map = pd.read_csv(os.path.expanduser('~/dropbox/ecg/mgh-ecg-deid-map.csv'), low_memory=False)\n",
    "# bwh_id_map = pd.read_csv(os.path.expanduser('~/dropbox/ecg/bwh-ecg-deid-map.csv'), low_memory=False)"
   ]
  },
  {
   "cell_type": "code",
   "execution_count": null,
   "metadata": {},
   "outputs": [],
   "source": [
    "# mgh_id_map = mgh_id_map.set_index('mrn')\n",
    "# bwh_id_map = bwh_id_map.set_index('mrn')"
   ]
  },
  {
   "cell_type": "code",
   "execution_count": null,
   "metadata": {},
   "outputs": [],
   "source": [
    "# mgh_id_map = mgh_id_map.to_dict()['new_id'] # dictionary of mrn -> new_id\n",
    "# bwh_id_map = bwh_id_map.to_dict()['new_id']"
   ]
  },
  {
   "cell_type": "code",
   "execution_count": null,
   "metadata": {},
   "outputs": [],
   "source": [
    "# all_id_map = dict()\n",
    "# all_id_map.update(mgh_id_map)\n",
    "# all_id_map.update(bwh_id_map)"
   ]
  },
  {
   "cell_type": "code",
   "execution_count": null,
   "metadata": {},
   "outputs": [],
   "source": [
    "sts = sts['ecg_patientid_clean']\n",
    "mgh = mgh[mgh['ecg_age'] >= 21]['ecg_patientid_clean']\n",
    "bwh = bwh[bwh['ecg_age'] >= 21]['ecg_patientid_clean']"
   ]
  },
  {
   "cell_type": "code",
   "execution_count": null,
   "metadata": {},
   "outputs": [],
   "source": [
    "all_adults = set(mgh) | set(bwh)\n",
    "sts_adults = set(sts)"
   ]
  },
  {
   "cell_type": "code",
   "execution_count": null,
   "metadata": {},
   "outputs": [],
   "source": [
    "all_adults_no_sts = all_adults - sts_adults\n",
    "# all_adults_no_sts_deid = {all_id_map[mrn] for mrn in all_adults_no_sts}"
   ]
  },
  {
   "cell_type": "code",
   "execution_count": null,
   "metadata": {},
   "outputs": [],
   "source": [
    "all_adults_no_sts = np.array(list(all_adults_no_sts))\n",
    "# all_adults_no_sts_deid = np.array(list(all_adults_no_sts_deid))"
   ]
  },
  {
   "cell_type": "code",
   "execution_count": null,
   "metadata": {},
   "outputs": [],
   "source": [
    "all_adults_no_sts.sort()\n",
    "# all_adults_no_sts_deid.sort()"
   ]
  },
  {
   "cell_type": "code",
   "execution_count": null,
   "metadata": {},
   "outputs": [],
   "source": [
    "all_adults_no_sts = all_adults_no_sts.astype(int)\n",
    "# all_adults_no_sts_deid = all_adults_no_sts_deid.astype(int)"
   ]
  },
  {
   "cell_type": "code",
   "execution_count": null,
   "metadata": {},
   "outputs": [],
   "source": [
    "all_adults_no_sts = pd.Series(all_adults_no_sts, name='mrn')\n",
    "# all_adults_no_sts_deid = pd.Series(all_adults_no_sts_deid, name='mrn')"
   ]
  },
  {
   "cell_type": "code",
   "execution_count": null,
   "metadata": {},
   "outputs": [],
   "source": [
    "all_adults_no_sts.to_csv(os.path.expanduser('~/dropbox/ecg/sample_csv/all_adults_no_sts.csv'), index=False)\n",
    "# all_adults_no_sts_deid.to_csv(os.path.expanduser('~/dropbox/ecg/sample_csv/all_adults_no_sts_deid.csv'), index=False)"
   ]
  },
  {
   "cell_type": "code",
   "execution_count": null,
   "metadata": {},
   "outputs": [],
   "source": []
  }
 ],
 "metadata": {
  "kernelspec": {
   "display_name": "Python 3",
   "language": "python",
   "name": "python3"
  },
  "language_info": {
   "codemirror_mode": {
    "name": "ipython",
    "version": 3
   },
   "file_extension": ".py",
   "mimetype": "text/x-python",
   "name": "python",
   "nbconvert_exporter": "python",
   "pygments_lexer": "ipython3",
   "version": "3.6.9"
  }
 },
 "nbformat": 4,
 "nbformat_minor": 4
}
