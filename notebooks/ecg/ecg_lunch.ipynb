{
 "cells": [
  {
   "cell_type": "code",
   "execution_count": null,
   "metadata": {},
   "outputs": [],
   "source": [
    "import os\n",
    "import sys\n",
    "import math\n",
    "import h5py\n",
    "import argparse\n",
    "import numpy as np\n",
    "from collections import Counter\n",
    "import xml.etree.ElementTree as et \n",
    "\n",
    "# Keras imports\n",
    "from tensorflow.keras.models import Model\n",
    "from tensorflow.keras.optimizers import Adam\n",
    "from tensorflow.keras.utils.vis_utils import model_to_dot\n",
    "from tensorflow.keras.layers import Input, Dense, Dropout, AlphaDropout, BatchNormalization, Activation\n",
    "\n",
    "import matplotlib\n",
    "matplotlib.use('Agg')  # Need this to write images from the GSA servers.  Order matters:\n",
    "import matplotlib.pyplot as plt  # First import matplotlib, then use Agg, then import plt\n",
    "\n",
    "# IPython imports\n",
    "from IPython.display import Image\n",
    "\n",
    "# ml4h Imports\n",
    "from ml4h.plots import plot_ecg\n",
    "from ml4h.arguments import parse_args\n",
    "from ml4h.tensor_writer_ukbb import write_tensors\n",
    "from ml4h.recipes import train_multimodal_multitask\n",
    "from ml4h.models import make_multimodal_multitask_model\n",
    "from ml4h.tensor_generators import TensorGenerator"
   ]
  },
  {
   "cell_type": "code",
   "execution_count": null,
   "metadata": {},
   "outputs": [],
   "source": [
    "sys.argv = ['train', \n",
    "            '--tensors', '/mnt/disks/ecg-text3/2019-04-26/', \n",
    "            '--input_tensors', 'ecg_rest', \n",
    "            '--output_tensors', 'ecg_rhythm', 'ecg_normal', 'p-axis', 'p-duration', \n",
    "                'p-offset', 'p-onset', 'pp-interval', 'pq-interval', 'q-offset', 'q-onset', \n",
    "                'qrs-num', 'qrs-duration', 'r-axis', 'ventricular-rate',\n",
    "            '--batch_size', '32', \n",
    "            '--epochs', '1',  \n",
    "            '--learning_rate', '0.0001',\n",
    "            '--training_steps', '20',\n",
    "            '--inspect_model',\n",
    "            '--id', 'ecg_regresser']\n",
    "args = parse_args()\n",
    "model = make_multimodal_multitask_model(**args.__dict__)\n"
   ]
  },
  {
   "cell_type": "code",
   "execution_count": null,
   "metadata": {},
   "outputs": [],
   "source": [
    "COLOR_ARRAY = ['red', 'indigo', 'cyan', 'pink', 'purple', 'blue', 'chartreuse', 'darkseagreen', 'green', 'salmon',\n",
    "               'magenta', 'aquamarine', 'gold', 'coral', 'tomato', 'grey', 'black', 'maroon', 'hotpink', 'steelblue',\n",
    "               'orange']\n",
    "def plot_ecg(data, label, prefix='./figures/'):\n",
    "    lw = 1\n",
    "    matplotlib.rcParams.update({'font.size': 7})\n",
    "\n",
    "    rows = int(math.ceil(data.shape[-1]))\n",
    "    cols = 1\n",
    "    fig, axes = plt.subplots(rows, cols, figsize=(14, 14), sharex=True)\n",
    "    for i in range(data.shape[-1]):\n",
    "        color = np.random.choice(COLOR_ARRAY)\n",
    "        ax = plt.subplot(rows, cols, i + 1)\n",
    "        ax.plot(data[:, i], color=color, lw=lw)\n",
    "    #plt.tight_layout()\n",
    "    plt.title(label)\n",
    "    figure_path = os.path.join(prefix, label + '_ecg.png')\n",
    "    if not os.path.exists(os.path.dirname(figure_path)):\n",
    "        os.makedirs(os.path.dirname(figure_path))\n",
    "    plt.savefig(figure_path)\n",
    "    print(f\"Saved ECG plot at: {figure_path}\")"
   ]
  },
  {
   "cell_type": "code",
   "execution_count": null,
   "metadata": {},
   "outputs": [],
   "source": [
    "xdir = '/mnt/disks/ecg-text3/2019-04-26/'\n",
    "paths = [xdir+'1238558.hd5', xdir+'1240625.hd5', xdir+'1258475.hd5', xdir+'1286494.hd5', xdir+'1381627.hd5']\n",
    "generator = TensorGenerator(3, args.tensor_maps_in, args.tensor_maps_out, paths, None, True)\n",
    "data, labels, _, hd5s = next(generator)\n",
    "for i,hd5p in enumerate(hd5s):\n",
    "    with h5py.File(hd5s[i], 'r') as hd5:\n",
    "        print(str(hd5['ecg_rest_text'][0]).strip())\n",
    "    plot_ecg(data['input_strip_ecg_rest'][i], os.path.basename(hd5s[i]))"
   ]
  },
  {
   "cell_type": "code",
   "execution_count": null,
   "metadata": {},
   "outputs": [],
   "source": [
    "Image('./figures/1238558.hd5_ecg.png')"
   ]
  },
  {
   "cell_type": "code",
   "execution_count": null,
   "metadata": {},
   "outputs": [],
   "source": [
    "Image('./figures/1240625.hd5_ecg.png')"
   ]
  },
  {
   "cell_type": "code",
   "execution_count": null,
   "metadata": {},
   "outputs": [],
   "source": [
    "Image('./figures/1258475.hd5_ecg.png')"
   ]
  },
  {
   "cell_type": "code",
   "execution_count": null,
   "metadata": {},
   "outputs": [],
   "source": [
    "paths = [xdir+'1719189.hd5', xdir+'1723645.hd5', xdir+'1767593.hd5', xdir+'1769144.hd5', xdir+'1770473.hd5']\n",
    "generator = TensorGenerator(3, args.tensor_maps_in, args.tensor_maps_out, paths, None, True)\n",
    "data, labels, _, hd5s = next(generator)\n",
    "for i,hd5p in enumerate(hd5s):\n",
    "    with h5py.File(hd5s[i], 'r') as hd5:\n",
    "        print(str(hd5['ecg_rest_text'][0]).strip())\n",
    "    plot_ecg(data['input_strip_ecg_rest'][i], os.path.basename(hd5s[i]))"
   ]
  },
  {
   "cell_type": "code",
   "execution_count": null,
   "metadata": {},
   "outputs": [],
   "source": [
    "Image('./figures/1719189.hd5_ecg.png')"
   ]
  },
  {
   "cell_type": "code",
   "execution_count": null,
   "metadata": {},
   "outputs": [],
   "source": [
    "Image('./figures/1723645.hd5_ecg.png')"
   ]
  },
  {
   "cell_type": "code",
   "execution_count": null,
   "metadata": {},
   "outputs": [],
   "source": [
    "Image('./figures/1767593.hd5_ecg.png')"
   ]
  },
  {
   "cell_type": "code",
   "execution_count": null,
   "metadata": {},
   "outputs": [],
   "source": [
    "h5 = '/mnt/disks/data/generated/tensors/test/2019-03-21/1005522.hd5'\n",
    "with h5py.File(h5, 'r') as hd5:\n",
    "    print(list(hd5['ecg_bike'].keys()))\n",
    "    print(list(hd5['ecg_bike']['full_0'].shape))\n",
    "    plot_ecg(hd5['ecg_bike']['full_0'][100000:102000, :], 'full')\n",
    "    plot_ecg(hd5['ecg_bike']['median_0'], 'median_0')\n",
    "    plot_ecg(hd5['ecg_bike']['strip_0'], 'strip_0')"
   ]
  },
  {
   "cell_type": "code",
   "execution_count": null,
   "metadata": {},
   "outputs": [],
   "source": [
    "Image('./figures/full_ecg.png')"
   ]
  },
  {
   "cell_type": "code",
   "execution_count": null,
   "metadata": {},
   "outputs": [],
   "source": [
    "Image('./figures/median_0_ecg.png')"
   ]
  },
  {
   "cell_type": "code",
   "execution_count": null,
   "metadata": {},
   "outputs": [],
   "source": [
    "Image('./figures/strip_0_ecg.png')"
   ]
  },
  {
   "cell_type": "code",
   "execution_count": null,
   "metadata": {},
   "outputs": [],
   "source": [
    "h5 = '/mnt/disks/data/generated/tensors/test/2019-03-21/1005234.hd5'\n",
    "with h5py.File(h5, 'r') as hd5:\n",
    "    print(list(hd5['ecg_bike'].keys()))\n",
    "    print(list(hd5['ecg_bike']['full_0'].shape))\n",
    "    plot_ecg(hd5['ecg_bike']['full_0'][1000:2000, :], 'full01')\n",
    "    plot_ecg(hd5['ecg_bike']['median_0'], 'median_01')\n",
    "    plot_ecg(hd5['ecg_bike']['strip_0'], 'strip_01')"
   ]
  },
  {
   "cell_type": "code",
   "execution_count": null,
   "metadata": {},
   "outputs": [],
   "source": [
    "Image('./figures/full01_ecg.png')"
   ]
  },
  {
   "cell_type": "code",
   "execution_count": null,
   "metadata": {},
   "outputs": [],
   "source": [
    "Image('./figures/median_01_ecg.png')"
   ]
  },
  {
   "cell_type": "code",
   "execution_count": null,
   "metadata": {},
   "outputs": [],
   "source": [
    "Image('./figures/strip_01_ecg.png')"
   ]
  }
 ],
 "metadata": {
  "kernelspec": {
   "display_name": "Python 3",
   "language": "python",
   "name": "python3"
  },
  "language_info": {
   "codemirror_mode": {
    "name": "ipython",
    "version": 3
   },
   "file_extension": ".py",
   "mimetype": "text/x-python",
   "name": "python",
   "nbconvert_exporter": "python",
   "pygments_lexer": "ipython3",
   "version": "3.6.8"
  }
 },
 "nbformat": 4,
 "nbformat_minor": 2
}
