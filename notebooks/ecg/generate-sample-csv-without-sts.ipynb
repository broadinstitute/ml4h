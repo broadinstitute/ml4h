{
 "cells": [
  {
   "cell_type": "code",
   "execution_count": null,
   "metadata": {},
   "outputs": [],
   "source": [
    "import os\n",
    "import csv\n",
    "import pandas as pd"
   ]
  },
  {
   "cell_type": "code",
   "execution_count": null,
   "metadata": {},
   "outputs": [],
   "source": [
    "# Get MRNs from STS data as a set\n",
    "df = pd.read_csv(os.path.expanduser(\"~/dropbox/sts_data/mgh-all-features-labels.csv\"))\n",
    "mrns_sts = set(df.medrecn.to_list())\n",
    "len(mrns_sts)"
   ]
  },
  {
   "cell_type": "code",
   "execution_count": null,
   "metadata": {},
   "outputs": [],
   "source": [
    "# Get list of paths to all 1,647,731 HD5 files\n",
    "tensor_path = \"/data/ecg\"\n",
    "mrns = []\n",
    "for rootpath, dirs, files in os.walk(tensor_path):\n",
    "    for file in files:\n",
    "        if (file.endswith(\".hd5\"))& (\"bad_mrn\" not in file):\n",
    "            mrn = int(os.path.split(file)[1].replace(\".hd5\", \"\"))\n",
    "            if mrn not in mrns_sts:\n",
    "                mrns.append(mrn)\n",
    "\n",
    "len(mrns)"
   ]
  },
  {
   "cell_type": "code",
   "execution_count": null,
   "metadata": {},
   "outputs": [],
   "source": [
    "fpath = os.path.expanduser(\"~/dropbox/ecg/sample_csv/all_ecgs_minus_sts.csv\")\n",
    "df = pd.DataFrame(mrns)\n",
    "df"
   ]
  },
  {
   "cell_type": "code",
   "execution_count": null,
   "metadata": {},
   "outputs": [],
   "source": [
    "df.to_csv(fpath, index=False)\n",
    "print(f\"Saved {fpath}\")"
   ]
  }
 ],
 "metadata": {
  "kernelspec": {
   "display_name": "Python 3",
   "language": "python",
   "name": "python3"
  },
  "language_info": {
   "codemirror_mode": {
    "name": "ipython",
    "version": 3
   },
   "file_extension": ".py",
   "mimetype": "text/x-python",
   "name": "python",
   "nbconvert_exporter": "python",
   "pygments_lexer": "ipython3",
   "version": "3.8.1"
  }
 },
 "nbformat": 4,
 "nbformat_minor": 4
}
