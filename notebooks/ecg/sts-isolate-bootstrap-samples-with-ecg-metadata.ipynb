{
 "cells": [
  {
   "cell_type": "code",
   "execution_count": null,
   "metadata": {},
   "outputs": [],
   "source": [
    "import os\n",
    "import numpy as np\n",
    "import pandas as pd"
   ]
  },
  {
   "cell_type": "code",
   "execution_count": null,
   "metadata": {},
   "outputs": [],
   "source": [
    "# Load Explore output \n",
    "explore_intersect = pd.read_csv(os.path.expanduser(\"~/dropbox/sts_ecg/results/explore_on_ecg_metadata/tensors_all_intersect.csv\"))\n",
    "mrns_with_ecg_metadata = [int(os.path.splitext(os.path.basename(f))[0]) for f in explore_intersect.fpath]"
   ]
  },
  {
   "cell_type": "code",
   "execution_count": null,
   "metadata": {},
   "outputs": [],
   "source": [
    "# Iterate through bootstraps and splits, load CSVs into dataframe, isolate patients who have ECG metadata, and save to new CSV\n",
    "\n",
    "bootstraps = np.arange(0, 10)\n",
    "splits = [\"train\", \"valid\", \"test\"]\n",
    "prefix_to_csv_old_path = \"/data/sts-data/bootstrap\"\n",
    "prefix_to_csv_new_path = \"/data/sts-data/bootstrap-subset-with-ecg-metadata\"\n",
    "\n",
    "if not os.path.exists(prefix_to_csv_new_path):\n",
    "    os.mkdir(prefix_to_csv_new_path)\n",
    "\n",
    "for bootstrap in bootstraps:\n",
    "    \n",
    "    fpath_to_bootstrap_dir = os.path.join(prefix_to_csv_new_path, f\"{bootstrap}\")\n",
    "    \n",
    "    if not os.path.exists(fpath_to_bootstrap_dir):\n",
    "        os.mkdir(fpath_to_bootstrap_dir)\n",
    "        \n",
    "    for split in splits:\n",
    "        csv_old_path = os.path.join(prefix_to_csv_old_path, f\"{bootstrap}\", f\"{split}.csv\")\n",
    "        \n",
    "        df = pd.read_csv(csv_old_path)\n",
    "        len_original = len(df)\n",
    "        \n",
    "        idx_with_metadata = [i for i, e in enumerate(df.medrecn.to_list()) if e in mrns_with_ecg_metadata]\n",
    "        df = df.iloc[idx_with_metadata]\n",
    "        \n",
    "        csv_new_path = os.path.join(prefix_to_csv_new_path, f\"{bootstrap}\", f\"{split}.csv\")\n",
    "        df.to_csv(csv_new_path)\n",
    "        \n",
    "        print(f\"{len_original} ->  {len(df)} rows saved to {csv_new_path} / deaths: {sum(df.mtopd)}\")"
   ]
  }
 ],
 "metadata": {
  "kernelspec": {
   "display_name": "Python 3",
   "language": "python",
   "name": "python3"
  },
  "language_info": {
   "codemirror_mode": {
    "name": "ipython",
    "version": 3
   },
   "file_extension": ".py",
   "mimetype": "text/x-python",
   "name": "python",
   "nbconvert_exporter": "python",
   "pygments_lexer": "ipython3",
   "version": "3.8.1"
  }
 },
 "nbformat": 4,
 "nbformat_minor": 4
}
