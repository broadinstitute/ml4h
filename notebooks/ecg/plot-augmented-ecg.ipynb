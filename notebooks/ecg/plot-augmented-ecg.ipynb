{
 "cells": [
  {
   "cell_type": "code",
   "execution_count": null,
   "metadata": {},
   "outputs": [],
   "source": [
    "! pip install ~/repos/ml"
   ]
  },
  {
   "cell_type": "code",
   "execution_count": null,
   "metadata": {},
   "outputs": [],
   "source": [
    "import h5py\n",
    "import numpy as np\n",
    "import matplotlib.pyplot as plt\n",
    "from ml4cvd.tensor_maps_ecg import build_ecg_time_series_tensor_maps\n",
    "%matplotlib notebook"
   ]
  },
  {
   "cell_type": "code",
   "execution_count": null,
   "metadata": {},
   "outputs": [],
   "source": [
    "tmaps = build_ecg_time_series_tensor_maps([\n",
    "    'ecg_2500_std_newest', \n",
    "    'ecg_2500_std_warp_newest', \n",
    "    'ecg_2500_std_crop_newest', \n",
    "    'ecg_2500_std_noise_newest', \n",
    "    'ecg_2500_std_warp_crop_noise_newest',\n",
    "])\n",
    "tmaps"
   ]
  },
  {
   "cell_type": "code",
   "execution_count": null,
   "metadata": {},
   "outputs": [],
   "source": [
    "hd5 = h5py.File('/path/to/hd5', 'r')"
   ]
  },
  {
   "cell_type": "code",
   "execution_count": null,
   "metadata": {},
   "outputs": [],
   "source": [
    "base = tmaps['ecg_2500_std_newest']\n",
    "warp = tmaps['ecg_2500_std_warp_newest']\n",
    "crop = tmaps['ecg_2500_std_crop_newest']\n",
    "noise = tmaps['ecg_2500_std_noise_newest']\n",
    "wcn = tmaps['ecg_2500_std_warp_crop_noise_newest']"
   ]
  },
  {
   "cell_type": "code",
   "execution_count": null,
   "metadata": {},
   "outputs": [],
   "source": [
    "def compare_ecg(tm, name):\n",
    "    base_ecg = base.postprocess_tensor(base.tensor_from_file(base, hd5), True, hd5)[:, 0]\n",
    "    tm_ecg = tm.postprocess_tensor(tm.tensor_from_file(tm, hd5), True, hd5)[:, 0]\n",
    "    plt.figure(figsize=(10,3))\n",
    "    plt.plot(base_ecg, label='base')\n",
    "    plt.plot(tm_ecg, label=name)\n",
    "    plt.legend(loc=\"upper right\")\n",
    "    plt.show();"
   ]
  },
  {
   "cell_type": "code",
   "execution_count": null,
   "metadata": {},
   "outputs": [],
   "source": [
    "compare_ecg(warp, 'warp')"
   ]
  },
  {
   "cell_type": "code",
   "execution_count": null,
   "metadata": {},
   "outputs": [],
   "source": [
    "compare_ecg(crop, 'crop')"
   ]
  },
  {
   "cell_type": "code",
   "execution_count": null,
   "metadata": {},
   "outputs": [],
   "source": [
    "compare_ecg(noise, 'noise')"
   ]
  },
  {
   "cell_type": "code",
   "execution_count": null,
   "metadata": {},
   "outputs": [],
   "source": [
    "compare_ecg(wcn, 'warp-crop-noise')"
   ]
  },
  {
   "cell_type": "code",
   "execution_count": null,
   "metadata": {},
   "outputs": [],
   "source": []
  }
 ],
 "metadata": {
  "kernelspec": {
   "display_name": "Python 3",
   "language": "python",
   "name": "python3"
  },
  "language_info": {
   "codemirror_mode": {
    "name": "ipython",
    "version": 3
   },
   "file_extension": ".py",
   "mimetype": "text/x-python",
   "name": "python",
   "nbconvert_exporter": "python",
   "pygments_lexer": "ipython3",
   "version": "3.6.2"
  }
 },
 "nbformat": 4,
 "nbformat_minor": 4
}
