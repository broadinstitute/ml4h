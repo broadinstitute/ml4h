{
 "cells": [
  {
   "cell_type": "markdown",
   "metadata": {},
   "source": [
    "# Stratify STS ECGs Across Bootstraps\n",
    "\n",
    "This notebook has two parts:\n",
    "1. [Compute ECG similarity/distances](#Compute-ECG-similarity)\n",
    "2. [Stratify ECGs across bootstraps](#Stratify-ECGs)"
   ]
  },
  {
   "cell_type": "markdown",
   "metadata": {},
   "source": [
    "## Compute ECG similarity\n",
    "\n",
    "Calculate frechet distances as metric of ECG similarity. Run this section if `died_distances.csv` and `lived_distances.csv` does not exist."
   ]
  },
  {
   "cell_type": "code",
   "execution_count": null,
   "metadata": {},
   "outputs": [],
   "source": [
    "! pip install similaritymeasures ~/repos/ml\n",
    "\n",
    "import os\n",
    "import h5py\n",
    "import time\n",
    "import numpy as np\n",
    "import pandas as pd\n",
    "import multiprocessing as mp\n",
    "\n",
    "from typing import List, Tuple, Set\n",
    "from distance import compute_vcg, frechet_distance\n",
    "from ml4cvd.tensor_maps_ecg import build_cardiac_surgery_tensor_maps\n",
    "\n",
    "MRN = int\n",
    "Distance = float"
   ]
  },
  {
   "cell_type": "markdown",
   "metadata": {},
   "source": [
    "### helper functions"
   ]
  },
  {
   "cell_type": "code",
   "execution_count": null,
   "metadata": {},
   "outputs": [],
   "source": [
    "tm = build_cardiac_surgery_tensor_maps(['12_lead_ecg_2500_std_newest_sts'])['12_lead_ecg_2500_std_newest_sts']\n",
    "\n",
    "def get_ecg(mrn: MRN) -> np.array:\n",
    "    path = os.path.join('/data/ecg/mgh/', f'{mrn}.hd5')\n",
    "\n",
    "    with h5py.File(path, 'r') as hd5:\n",
    "        return tm.postprocess_tensor(tm.tensor_from_file(tm, hd5), False, hd5)\n",
    "\n",
    "def get_distance(mrn: MRN) -> Distance:\n",
    "    return frechet_distance(base_vcg, compute_vcg(get_ecg(mrn), spherical_coordinates=False))\n",
    "\n",
    "def get_distances(mrns: List[MRN]) -> List[Tuple[MRN, Distance]]:\n",
    "    base_idx = np.random.randint(0, len(mrns))\n",
    "    base_mrn = mrns[base_idx]\n",
    "    base_ecg = get_ecg(base_mrn)\n",
    "    global base_vcg\n",
    "    base_vcg = compute_vcg(base_ecg, spherical_coordinates=False)\n",
    "\n",
    "    mrns = np.delete(mrns, base_idx)\n",
    "\n",
    "    with mp.Pool(processes=mp.cpu_count()) as pool:\n",
    "        distances = pool.map(get_distance, mrns)\n",
    "\n",
    "    distances = list(zip(mrns, distances))\n",
    "    distances.append((base_mrn, 0))\n",
    "\n",
    "    return distances"
   ]
  },
  {
   "cell_type": "markdown",
   "metadata": {},
   "source": [
    "### load initial data"
   ]
  },
  {
   "cell_type": "code",
   "execution_count": null,
   "metadata": {},
   "outputs": [],
   "source": [
    "df = pd.read_csv(os.path.expanduser('~/dropbox/sts_ecg/xref_adults/list_1_in_all_windows.csv'))\n",
    "df = df.sort_values(['medrecn', 'surgdt']).drop_duplicates(subset='medrecn', keep='last') # remove duplicate surgeries\n",
    "\n",
    "died = df[df['mtopd'] == 1]['medrecn'].to_numpy()\n",
    "lived = df[df['mtopd'] == 0]['medrecn'].to_numpy()"
   ]
  },
  {
   "cell_type": "markdown",
   "metadata": {},
   "source": [
    "### compute frechet distances\n",
    "\n",
    "The cell below calculates the frechet distances between ecgs.\n",
    "This is extremely slow and takes approximately 4 hours on a 20 core CPU.\n",
    "When complete, two `csv` files are created at the user's home directory:\n",
    "\n",
    "    died_distances.csv\n",
    "    lived_distances.csv\n",
    "\n",
    "\n",
    "The `%%capture` line magic should captures the output of the cell even when the browser tab with the notebook is closed."
   ]
  },
  {
   "cell_type": "code",
   "execution_count": null,
   "metadata": {},
   "outputs": [],
   "source": [
    "%%capture output\n",
    "\n",
    "t0 = time.time()\n",
    "\n",
    "os.makedirs(os.path.expanduser('~/dropbox/sts_ecg/distances'), exist_ok=True)\n",
    "\n",
    "died_distances = get_distances(died)\n",
    "pd.DataFrame(died_distances, columns=['mrn', 'distance']).to_csv(os.path.expanduser('~/dropbox/sts_ecg/distances/died_distances.csv'), index=False)\n",
    "\n",
    "lived_distances = get_distances(lived)\n",
    "pd.DataFrame(lived_distances, columns=['mrn', 'distance']).to_csv(os.path.expanduser('~/dropbox/sts_ecg/distances/lived_distances.csv'), index=False)\n",
    "\n",
    "t1 = time.time()\n",
    "\n",
    "print(f'Computed frechet distances for {len(died) + len(lived)} ECGs in {t1-t0:.0f} seconds')"
   ]
  },
  {
   "cell_type": "code",
   "execution_count": null,
   "metadata": {},
   "outputs": [],
   "source": [
    "output.show()"
   ]
  },
  {
   "cell_type": "markdown",
   "metadata": {},
   "source": [
    "## Stratify ECGs\n",
    "\n",
    "Stratify ECGs into train/valid/test splits across bootstraps such that death label prevalence is preserved and similar ECGs appear in each split."
   ]
  },
  {
   "cell_type": "code",
   "execution_count": null,
   "metadata": {},
   "outputs": [],
   "source": [
    "import os\n",
    "import numpy as np\n",
    "import modin.pandas as pd"
   ]
  },
  {
   "cell_type": "code",
   "execution_count": null,
   "metadata": {},
   "outputs": [],
   "source": [
    "num_bootstraps = 10"
   ]
  },
  {
   "cell_type": "code",
   "execution_count": null,
   "metadata": {},
   "outputs": [],
   "source": [
    "# Get map between MRNs and new de-identified HD5 names\n",
    "path_to_deid_map = \"~/dropbox/ecg/mgh-ecg-deid-map.csv\"\n",
    "df_deid_map = pd.read_csv(path_to_deid_map)\n",
    "df_deid_map = df_deid_map.set_index('mrn')['new_id'].to_dict()\n",
    "print(len(df_deid_map))"
   ]
  },
  {
   "cell_type": "code",
   "execution_count": null,
   "metadata": {},
   "outputs": [],
   "source": [
    "# Function to convert a list of MRNs to its deidentified versions\n",
    "def deid_mrns(mrns: list, map: dict) -> list:\n",
    "    return [map[mrn] for mrn in mrns]"
   ]
  },
  {
   "cell_type": "code",
   "execution_count": null,
   "metadata": {},
   "outputs": [],
   "source": [
    "# Remove bad ECGs\n",
    "lived = pd.read_csv(os.path.expanduser('~/dropbox/sts_ecg/distances/lived_distances.csv'))\n",
    "died = pd.read_csv(os.path.expanduser('~/dropbox/sts_ecg/distances/died_distances.csv'))\n",
    "\n",
    "bad = pd.read_csv(os.path.expanduser('~/dropbox/sts_data/mgh-bad-ecgs.csv'))\n",
    "bad = bad[bad['Problem'] != 'None']\n",
    "\n",
    "lived = lived.merge(bad, how='outer', left_on='mrn', right_on='MRN', indicator=True)\n",
    "lived = lived[lived['_merge'] == 'left_only']\n",
    "\n",
    "died = died.merge(bad, how='outer', left_on='mrn', right_on='MRN', indicator=True)\n",
    "died = died[died['_merge'] == 'left_only']\n",
    "\n",
    "lived = lived.sort_values('distance')['mrn'].astype(int)\n",
    "died = died.sort_values('distance')['mrn'].astype(int)"
   ]
  },
  {
   "cell_type": "code",
   "execution_count": null,
   "metadata": {},
   "outputs": [],
   "source": [
    "# assert mrns are unique\n",
    "assert len(lived) + len(died) == len(set(lived) | set(died))\n",
    "\n",
    "def stratify(batch_size, valid_idxs, test_idxs, mrns):\n",
    "    train, valid, test = [], [], []\n",
    "    for i, mrn in enumerate(mrns):\n",
    "        idx = i % batch_size\n",
    "        if idx in valid_idxs:\n",
    "            valid.append(mrn)\n",
    "        elif idx in test_idxs:\n",
    "            test.append(mrn)\n",
    "        else:\n",
    "            train.append(mrn)\n",
    "    return train, valid, test\n",
    "\n",
    "bootstraps = []\n",
    "bootstraps_deid = []\n",
    "for i in range(num_bootstraps):\n",
    "    valid_idxs = set([(i+1)%10, (i+2)%10])\n",
    "    test_idxs = set([i%10])\n",
    "    died_train, died_valid, died_test = stratify(num_bootstraps, valid_idxs, test_idxs, died)\n",
    "    lived_train, lived_valid, lived_test = stratify(num_bootstraps, valid_idxs, test_idxs, lived)\n",
    "    \n",
    "    died_train_deid = deid_mrns(mrns=died_train, map=df_deid_map)\n",
    "    died_valid_deid = deid_mrns(mrns=died_valid, map=df_deid_map)\n",
    "    died_test_deid  = deid_mrns(mrns=died_test, map=df_deid_map)\n",
    "\n",
    "    lived_train_deid = deid_mrns(mrns=lived_train, map=df_deid_map)\n",
    "    lived_valid_deid = deid_mrns(mrns=lived_valid, map=df_deid_map)\n",
    "    lived_test_deid = deid_mrns(mrns=lived_test, map=df_deid_map)\n",
    "    \n",
    "    train = pd.DataFrame(np.append(died_train, lived_train), columns=['mrn'])\n",
    "    valid = pd.DataFrame(np.append(died_valid, lived_valid), columns=['mrn'])\n",
    "    test = pd.DataFrame(np.append(died_test, lived_test), columns=['mrn'])\n",
    "    bootstraps.append((train, valid, test))\n",
    "    \n",
    "    train_deid = pd.DataFrame(np.append(died_train_deid, lived_train_deid), columns=['mrn'])\n",
    "    valid_deid = pd.DataFrame(np.append(died_valid_deid, lived_valid_deid), columns=['mrn'])\n",
    "    test_deid = pd.DataFrame(np.append(died_test_deid, lived_test_deid), columns=['mrn'])\n",
    "    bootstraps_deid.append((train_deid, valid_deid, test_deid))"
   ]
  },
  {
   "cell_type": "code",
   "execution_count": null,
   "metadata": {},
   "outputs": [],
   "source": [
    "# Save bootstraps to CSV\n",
    "base_path = os.path.expanduser('~/dropbox/sts_data/bootstraps')\n",
    "for i, bootstrap in enumerate(bootstraps):\n",
    "    i = str(i)\n",
    "    os.makedirs(os.path.join(base_path, i), exist_ok=True)\n",
    "    bootstrap[0].to_csv(os.path.join(base_path, i, 'train.csv'), index=False)\n",
    "    bootstrap[1].to_csv(os.path.join(base_path, i, 'valid.csv'), index=False)\n",
    "    bootstrap[2].to_csv(os.path.join(base_path, i, 'test.csv'), index=False)\n",
    "    print(f\"Saved bootstrap {i} to CSV files\")"
   ]
  },
  {
   "cell_type": "code",
   "execution_count": null,
   "metadata": {},
   "outputs": [],
   "source": [
    "# Save bootstraps to CSV: de-id\n",
    "base_path = os.path.expanduser('~/dropbox/sts_data/bootstraps_deid')\n",
    "for i, bootstrap in enumerate(bootstraps_deid):\n",
    "    i = str(i)\n",
    "    os.makedirs(os.path.join(base_path, i), exist_ok=True)\n",
    "    bootstrap[0].to_csv(os.path.join(base_path, i, 'train.csv'), index=False)\n",
    "    bootstrap[1].to_csv(os.path.join(base_path, i, 'valid.csv'), index=False)\n",
    "    bootstrap[2].to_csv(os.path.join(base_path, i, 'test.csv'), index=False)\n",
    "    print(f\"Saved bootstrap (de-id) {i} to CSV files\")"
   ]
  }
 ],
 "metadata": {
  "kernelspec": {
   "display_name": "Python 3",
   "language": "python",
   "name": "python3"
  },
  "language_info": {
   "codemirror_mode": {
    "name": "ipython",
    "version": 3
   },
   "file_extension": ".py",
   "mimetype": "text/x-python",
   "name": "python",
   "nbconvert_exporter": "python",
   "pygments_lexer": "ipython3",
   "version": "3.8.3"
  }
 },
 "nbformat": 4,
 "nbformat_minor": 4
}
