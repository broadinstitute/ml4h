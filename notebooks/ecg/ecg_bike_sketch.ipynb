{
 "cells": [
  {
   "cell_type": "code",
   "execution_count": null,
   "metadata": {},
   "outputs": [],
   "source": [
    "import os\n",
    "import sys\n",
    "import h5py\n",
    "import argparse\n",
    "import numpy as np\n",
    "from collections import Counter\n",
    "import xml.etree.ElementTree as et \n",
    "\n",
    "# Keras imports\n",
    "from keras.models import Model\n",
    "from keras.optimizers import Adam\n",
    "from keras.utils.vis_utils import model_to_dot\n",
    "from keras.layers import Input, Dense, Dropout, AlphaDropout, BatchNormalization, Activation\n",
    "\n",
    "import matplotlib\n",
    "matplotlib.use('Agg') # Need this to write images from the GSA servers.  Order matters:\n",
    "import matplotlib.pyplot as plt # First import matplotlib, then use Agg, then import plt\n",
    "\n",
    "# IPython imports\n",
    "from IPython.display import Image\n",
    "\n",
    "# ML4CVD Imports\n",
    "from ml4cvd.arguments import parse_args\n",
    "from ml4cvd.tensor_writer_ukbb import write_tensors\n",
    "from ml4cvd.tensor_generators import test_train_valid_tensor_generators\n",
    "from ml4cvd.recipes import train_multimodal_multitask, test_multimodal_multitask\n",
    "from ml4cvd.models import make_multimodal_multitask_model, train_model_from_generators\n",
    "\n",
    "%matplotlib inline"
   ]
  },
  {
   "cell_type": "code",
   "execution_count": null,
   "metadata": {},
   "outputs": [],
   "source": [
    "os.listdir('/mnt/disks/ecg-rest-and-bike-with-trend-tensors/2019-08-13/')[0]"
   ]
  },
  {
   "cell_type": "code",
   "execution_count": null,
   "metadata": {},
   "outputs": [],
   "source": [
    "sys.argv = ['train', \n",
    "            '--tensors', '/mnt/disks/ecg-rest-and-bike-with-trend-tensors/2019-08-13/', \n",
    "            '--input_tensors', 'ecg_bike_recovery', \n",
    "            '--output_tensors','ecg-bike-max-pred-hr-no0', 'ecg-bike-max-hr-no0', 'ecg-bike-resting-hr-no0',\n",
    "            '--batch_size', '64', \n",
    "            '--epochs', '20',\n",
    "            '--training_steps', '5',\n",
    "            '--inspect_model',\n",
    "            '--u_connect',\n",
    "            '--learning_rate', '0.01',\n",
    "            '--id', 'ecg_bike_recovery_labeler',\n",
    "            '--output_folder', '/home/ndiamant/ml/notebooks/recipes_output/ecg_sketch'\n",
    "           ]\n",
    "args = parse_args()\n",
    "generate_train, generate_valid, generate_test = test_train_valid_tensor_generators(args.tensor_maps_in,  args.tensor_maps_out,  args.tensors, args.batch_size,   args.valid_ratio, args.test_ratio, args.test_modulo, args.balance_csvs)"
   ]
  },
  {
   "cell_type": "code",
   "execution_count": null,
   "metadata": {},
   "outputs": [],
   "source": [
    "model = make_multimodal_multitask_model(**args.__dict__)\n"
   ]
  },
  {
   "cell_type": "code",
   "execution_count": null,
   "metadata": {},
   "outputs": [],
   "source": [
    "# model.predict_generator(generate_test, steps=1)"
   ]
  },
  {
   "cell_type": "code",
   "execution_count": null,
   "metadata": {},
   "outputs": [],
   "source": [
    "model = train_model_from_generators(model, generate_train, generate_valid, args.training_steps,\n",
    "                                        args.validation_steps, args.batch_size, args.epochs, args.patience,\n",
    "                                        args.output_folder, args.id, args.inspect_model, args.inspect_show_labels)"
   ]
  },
  {
   "cell_type": "code",
   "execution_count": null,
   "metadata": {},
   "outputs": [],
   "source": [
    "step = generate_test.__next__()\n",
    "step[1].keys()\n",
    "print(step[1]['output_bike_max_pred_hr_continuous'], step[1]['output_bike_resting_hr_continuous'])"
   ]
  },
  {
   "cell_type": "code",
   "execution_count": null,
   "metadata": {},
   "outputs": [],
   "source": [
    "ecg_in = step[0]['input_full_ecg_bike_recovery']\n",
    "hrr_out = step[1]['output_bike_max_hr_continuous']"
   ]
  },
  {
   "cell_type": "code",
   "execution_count": null,
   "metadata": {},
   "outputs": [],
   "source": [
    "pred = model.predict(ecg_in)"
   ]
  },
  {
   "cell_type": "code",
   "execution_count": null,
   "metadata": {},
   "outputs": [],
   "source": [
    "plt.scatter(hrr_out, pred[0])"
   ]
  },
  {
   "cell_type": "code",
   "execution_count": null,
   "metadata": {},
   "outputs": [],
   "source": [
    "recoveries = []\n",
    "for i in range(10):\n",
    "    step = generate_test.__next__()\n",
    "    recoveries.append(step[1]['output_heart_rate_recovery_ecg_bike_autonomic_function'])"
   ]
  },
  {
   "cell_type": "code",
   "execution_count": null,
   "metadata": {},
   "outputs": [],
   "source": []
  }
 ],
 "metadata": {
  "kernelspec": {
   "display_name": "Python 3",
   "language": "python",
   "name": "python3"
  },
  "language_info": {
   "codemirror_mode": {
    "name": "ipython",
    "version": 3
   },
   "file_extension": ".py",
   "mimetype": "text/x-python",
   "name": "python",
   "nbconvert_exporter": "python",
   "pygments_lexer": "ipython3",
   "version": "3.6.8"
  }
 },
 "nbformat": 4,
 "nbformat_minor": 2
}
