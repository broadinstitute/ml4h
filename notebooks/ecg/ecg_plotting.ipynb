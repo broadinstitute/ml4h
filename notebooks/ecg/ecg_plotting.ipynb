{
 "cells": [
  {
   "cell_type": "markdown",
   "metadata": {},
   "source": [
    "Notebook that plots raw 12-lead ECG waveformas into a format more familiar to physicians. Update data_directory and file_id. \n",
    "\n",
    "Requires biosppy library for now -- but not really using anything critical from that package except for band-pass filter which can be easily subbed."
   ]
  },
  {
   "cell_type": "code",
   "execution_count": null,
   "metadata": {},
   "outputs": [],
   "source": [
    "from collections import defaultdict\n",
    "import h5py\n",
    "import numpy as np\n",
    "import os\n",
    "\n",
    "import matplotlib\n",
    "import matplotlib.pyplot as plt \n",
    "import matplotlib.gridspec as gridspec\n",
    "from matplotlib.ticker import (AutoMinorLocator, MultipleLocator)\n",
    "\n",
    "from biosppy.signals import ecg\n",
    "\n",
    "# IPython imports\n",
    "from IPython.display import Image"
   ]
  },
  {
   "cell_type": "code",
   "execution_count": null,
   "metadata": {},
   "outputs": [],
   "source": [
    "#DATA_DIRECTORY = '/Users/pbatra/broad/local_data_sets/tensors/test/2019-03-21'\n",
    "DATA_DIRECTORY = '/mnt/disks/ecg-rest-31k/2019-06-10/'\n",
    "leads = {} # dict[name] -> array\n",
    "file_id = '3854970.hd5'\n",
    "with h5py.File(os.path.join(DATA_DIRECTORY, file_id)) as hd5:\n",
    "        for field in hd5['ecg_rest']:\n",
    "                leads[field] = list(hd5['ecg_rest'][field])"
   ]
  },
  {
   "cell_type": "markdown",
   "metadata": {},
   "source": [
    "**Biosppy exploration**\n",
    "* filtering library for a variety of signals, [documentation](https://biosppy.readthedocs.io/en/stable/)\n",
    "* ecg filtering is meant to be for a single lead only -- does that throw away a lot of useful information across 12 leads?\n",
    "* also can extract very interesting features like filtered signal, r-preaks, templates, heartbeat templates, heart rate reference, intstantaneous heart rate\n",
    "\n",
    "**details of filtering**\n",
    "* looks like the [ecg.ecg](https://github.com/PIA-Group/BioSPPy/blob/212c3dcbdb1ec43b70ba7199deb5eb22bcb78fd0/biosppy/signals/ecg.py) function applies, using [tools.filter_signal](https://github.com/PIA-Group/BioSPPy/blob/212c3dcbdb1ec43b70ba7199deb5eb22bcb78fd0/biosppy/signals/tools.py), by default (most of these are easily modifiable with alternative defaults)  \n",
    "    * Finite Impulse Response filter ('FIR')\n",
    "    * bandpass (low-pass, high-pass, band-pass, band-stop all available), \n",
    "    * order of the filter is adjustable and set to 0.3 * sampling rate \n",
    "    * between 3 and 45 HZ\n",
    "\n",
    "**Plotting needs:**\n",
    "* boxes are 1mm x 1mm, 0.04 sec x .1mV \n",
    "* horizontal scale is whatever length you want -- (looks like default is 60 boxes)\n",
    "* vertical scale is 30 boxes, but they can run into each other\n",
    "\n",
    "\n",
    "**Raw Data**\n",
    "* lots of fields in raw xml\n",
    "* extracted is just lead waveform\n",
    "* for each strip, following is true: sample_rate = 500 Hz, 5000 counts, units (uVperLsb) 5\n",
    "* for median strips, 600 counts, 500 hz, 5 uVper LSB, first last valid marks\n",
    "* Vector Loops?\n",
    "* Full disclosure data? \n",
    "* Also have event time stamps"
   ]
  },
  {
   "cell_type": "code",
   "execution_count": null,
   "metadata": {},
   "outputs": [],
   "source": [
    "twelve_leads = defaultdict(dict)\n",
    "for key, data in leads.items():\n",
    "    print(key, len(data))\n",
    "    if len(data) == 5000:\n",
    "        twelve_leads[key]['raw'] = leads[key]\n",
    "        (twelve_leads[key]['ts_reference'], twelve_leads[key]['filtered'], twelve_leads[key]['rpeaks'], \n",
    "         twelve_leads[key]['template_ts'], twelve_leads[key]['templates'], twelve_leads[key]['heart_rate_ts'], \n",
    "         twelve_leads[key]['heart_rate']) = ecg.ecg(signal=leads[key], sampling_rate = 500.) "
   ]
  },
  {
   "cell_type": "code",
   "execution_count": null,
   "metadata": {},
   "outputs": [],
   "source": [
    "# plot will be in seconds vs mV, boxes are \n",
    "sec_per_box = 0.04\n",
    "mv_per_box = .1\n",
    "time_interval = 2.5 # time-interval per plot in seconds. ts_Reference data is in s, voltage measurement is 5 uv per lsb\n",
    "raw_scale = 0.005 # convert to mV\n",
    "\n",
    "fig, ax = plt.subplots(nrows=3, ncols=4, sharey='row', figsize=(24,18), tight_layout=True)\n",
    "lead_mapping = np.array([['strip_I','strip_aVR', 'strip_V1', 'strip_V4'],\n",
    "              ['strip_II','strip_aVL', 'strip_V2', 'strip_V5'],\n",
    "              ['strip_III','strip_aVF', 'strip_V3', 'strip_V6'],\n",
    "             ])\n",
    "\n",
    "for i in range(0,3):\n",
    "    for j in range(0,4):\n",
    "        lead_name = lead_mapping[i,j]\n",
    "        lead = twelve_leads[lead_name]\n",
    "        ax[i,j].set_xlim(j*time_interval,(j+1)*time_interval)\n",
    "        ax[i,j].set_ylim(-1.5, 1.5) # -1.5mV -> 1.5mV\n",
    "        ax[i,j].xaxis.set_major_locator(MultipleLocator(0.2)) # major grids at every .2sec = 5 * 0.04 sec\n",
    "        ax[i,j].yaxis.set_major_locator(MultipleLocator(0.5)) # major grids at every .5mV \n",
    "\n",
    "        ax[i,j].xaxis.set_minor_locator(AutoMinorLocator(5))\n",
    "        ax[i,j].yaxis.set_minor_locator(AutoMinorLocator(5))\n",
    "\n",
    "        ax[i,j].grid(which='major', color='#CCCCCC', linestyle='--')\n",
    "        ax[i,j].grid(which='minor', color='#CCCCCC', linestyle=':')\n",
    "        \n",
    "        #normalize data in muv\n",
    "        ax[i,j].plot(lead['ts_reference'], [elem_ * raw_scale for elem_ in lead['filtered']], label='filtered')\n",
    "        ax[i,j].plot(lead['ts_reference'], [elem_ * raw_scale for elem_ in lead['raw']], label='raw')\n",
    "        ax[i,j].set_title(lead_name)\n",
    "        ax[i,j].legend(loc='upper left')\n",
    "fig.savefig(f'{file_id}.pdf')"
   ]
  },
  {
   "cell_type": "code",
   "execution_count": null,
   "metadata": {},
   "outputs": [],
   "source": []
  }
 ],
 "metadata": {
  "kernelspec": {
   "display_name": "Python 3",
   "language": "python",
   "name": "python3"
  },
  "language_info": {
   "codemirror_mode": {
    "name": "ipython",
    "version": 3
   },
   "file_extension": ".py",
   "mimetype": "text/x-python",
   "name": "python",
   "nbconvert_exporter": "python",
   "pygments_lexer": "ipython3",
   "version": "3.6.8"
  }
 },
 "nbformat": 4,
 "nbformat_minor": 2
}
