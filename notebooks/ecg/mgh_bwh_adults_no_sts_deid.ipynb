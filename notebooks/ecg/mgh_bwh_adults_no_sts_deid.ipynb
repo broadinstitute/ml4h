{
 "cells": [
  {
   "cell_type": "code",
   "execution_count": null,
   "metadata": {},
   "outputs": [],
   "source": [
    "import os\n",
    "import modin.pandas as pd"
   ]
  },
  {
   "cell_type": "code",
   "execution_count": null,
   "metadata": {},
   "outputs": [],
   "source": [
    "mgh_map = pd.read_csv(os.path.expanduser('~/dropbox/ecg/mgh-mrn-deid-map.csv'), low_memory=False)\n",
    "bwh_map = pd.read_csv(os.path.expanduser('~/dropbox/ecg/bwh-mrn-deid-map.csv'), low_memory=False)\n",
    "mgh = pd.read_csv(os.path.expanduser('~/dropbox/ecg/explore/mgh/tensors_all_union.csv'), low_memory=False)\n",
    "bwh = pd.read_csv(os.path.expanduser('~/dropbox/ecg/explore/bwh/tensors_all_union.csv'), low_memory=False)\n",
    "sts = pd.read_csv(os.path.expanduser('~/dropbox/sts_data/mgh-all-features-labels.csv'), low_memory=False)"
   ]
  },
  {
   "cell_type": "code",
   "execution_count": null,
   "metadata": {},
   "outputs": [],
   "source": [
    "mgh_adults = mgh[mgh['ecg_age'] >= 21].drop_duplicates(\"ecg_patientid_clean\")\n",
    "bwh_adults = bwh[bwh['ecg_age'] >= 21].drop_duplicates(\"ecg_patientid_clean\")"
   ]
  },
  {
   "cell_type": "code",
   "execution_count": null,
   "metadata": {},
   "outputs": [],
   "source": [
    "len(mgh_adults) + len(bwh_adults)"
   ]
  },
  {
   "cell_type": "code",
   "execution_count": null,
   "metadata": {},
   "outputs": [],
   "source": [
    "mgh_adults_no_sts = mgh_adults[~mgh_adults['ecg_patientid_clean'].isin(set(sts['medrecn']))]\n",
    "bwh_adults_no_sts = bwh_adults # no sts patients from bwh yet"
   ]
  },
  {
   "cell_type": "code",
   "execution_count": null,
   "metadata": {},
   "outputs": [],
   "source": [
    "len(mgh_adults_no_sts) + len(bwh_adults_no_sts)"
   ]
  },
  {
   "cell_type": "code",
   "execution_count": null,
   "metadata": {},
   "outputs": [],
   "source": [
    "mgh_adults_no_sts_deid = mgh_map.merge(mgh_adults_no_sts, left_on='mrn', right_on='ecg_patientid_clean')['new_id']\n",
    "bwh_adults_no_sts_deid = bwh_map.merge(bwh_adults_no_sts, left_on='mrn', right_on='ecg_patientid_clean')['new_id']\n",
    "mgh_adults_no_sts_deid.name = 'mrn'\n",
    "bwh_adults_no_sts_deid.name = 'mrn'"
   ]
  },
  {
   "cell_type": "code",
   "execution_count": null,
   "metadata": {},
   "outputs": [],
   "source": [
    "all_adults_no_sts_deid = pd.concat([mgh_adults_no_sts_deid, bwh_adults_no_sts_deid]).drop_duplicates()"
   ]
  },
  {
   "cell_type": "code",
   "execution_count": null,
   "metadata": {},
   "outputs": [],
   "source": [
    "len(mgh_adults_no_sts_deid) + len(bwh_adults_no_sts_deid)"
   ]
  },
  {
   "cell_type": "code",
   "execution_count": null,
   "metadata": {},
   "outputs": [],
   "source": [
    "len(all_adults_no_sts_deid)"
   ]
  },
  {
   "cell_type": "code",
   "execution_count": null,
   "metadata": {},
   "outputs": [],
   "source": [
    "all_adults_no_sts_deid.to_csv(os.path.expanduser('~/dropbox/sts-data-deid/all_adults_no_sts_deid.csv'), index=False)"
   ]
  },
  {
   "cell_type": "code",
   "execution_count": null,
   "metadata": {},
   "outputs": [],
   "source": []
  }
 ],
 "metadata": {
  "kernelspec": {
   "display_name": "Python 3",
   "language": "python",
   "name": "python3"
  },
  "language_info": {
   "codemirror_mode": {
    "name": "ipython",
    "version": 3
   },
   "file_extension": ".py",
   "mimetype": "text/x-python",
   "name": "python",
   "nbconvert_exporter": "python",
   "pygments_lexer": "ipython3",
   "version": "3.6.9"
  }
 },
 "nbformat": 4,
 "nbformat_minor": 4
}
