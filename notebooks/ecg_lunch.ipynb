{
 "cells": [
  {
   "cell_type": "code",
   "execution_count": 1,
   "metadata": {},
   "outputs": [
    {
     "name": "stderr",
     "output_type": "stream",
     "text": [
      "/usr/local/lib/python3.6/dist-packages/h5py/__init__.py:36: FutureWarning: Conversion of the second argument of issubdtype from `float` to `np.floating` is deprecated. In future, it will be treated as `np.float64 == np.dtype(float).type`.\n",
      "  from ._conv import register_converters as _register_converters\n",
      "Using TensorFlow backend.\n"
     ]
    }
   ],
   "source": [
    "import os\n",
    "import sys\n",
    "import math\n",
    "import h5py\n",
    "import argparse\n",
    "import numpy as np\n",
    "from collections import Counter\n",
    "import xml.etree.ElementTree as et \n",
    "\n",
    "# Keras imports\n",
    "from keras.models import Model\n",
    "from keras.optimizers import Adam\n",
    "from keras.utils.vis_utils import model_to_dot\n",
    "from keras.layers import Input, Dense, Dropout, AlphaDropout, BatchNormalization, Activation\n",
    "\n",
    "import matplotlib\n",
    "matplotlib.use('Agg')  # Need this to write images from the GSA servers.  Order matters:\n",
    "import matplotlib.pyplot as plt  # First import matplotlib, then use Agg, then import plt\n",
    "\n",
    "# IPython imports\n",
    "from IPython.display import Image\n",
    "\n",
    "# ML4CVD Imports\n",
    "sys.path.append(\"../ml4cvd\")\n",
    "from plots import plot_ecg\n",
    "from arguments import parse_args\n",
    "from tensor_writer_ukbb import write_tensors\n",
    "from recipes import train_multimodal_multitask\n",
    "from models import make_multimodal_to_multilabel_model\n",
    "from tensor_generators import TensorGenerator"
   ]
  },
  {
   "cell_type": "code",
   "execution_count": 4,
   "metadata": {},
   "outputs": [
    {
     "name": "stdout",
     "output_type": "stream",
     "text": [
      "2019-05-07 17:56:47,054 - logger:25 - INFO - Logging configuration was loaded. Log messages can be found at ./recipes_output/ecg_regresser/log_2019-05-07_17-56_0.log.\n",
      "2019-05-07 17:56:47,057 - arguments:231 - INFO - Total TensorMaps:1237 Arguments are Namespace(activation='relu', aligned_dimension=16, app_csv='/mnt/disks/data/raw/tsvs/ukb_app17488_app7089_link.csv', b_slice_force=None, balance_by_icds=[], batch_size=32, bigquery_credentials_file='/mnt/ml4cvd/projects/jamesp/bigquery/bigquery-viewer-credentials.json', bigquery_dataset='broad-ml4cvd.ukbb7089_r10data', block_size=3, categorical_field_ids=[54, 924, 943, 971, 981, 1011, 1100, 1239, 1249, 1259, 1329, 1339, 1349, 1359, 1369, 1379, 1389, 1408, 1418, 1428, 1448, 1468, 1478, 1508, 1518, 1528, 1538, 1548, 1558, 1618, 1628, 1647, 1677, 1687, 1697, 1707, 1717, 1727, 1747, 1757, 1767, 1777, 1787, 1797, 1835, 2178, 2188, 2207, 2247, 2316, 2306, 2415, 2443, 2453, 2463, 2473, 2674, 2694, 2724, 2784, 2814, 2877, 3079, 3616, 3637, 3773, 3799, 4717, 4825, 4935, 4957, 4968, 4979, 4990, 5001, 5012, 6015, 6017, 6148, 6149, 6150, 6152, 6153, 6154, 6155, 6157, 6159, 6162, 6164, 6177, 6179, 20001, 20003, 20004, 20116, 22001, 22609, 22610, 22611, 22612, 22613, 22614, 22615, 22616, 22650], channels_last=True, continuous_field_ids=[34, 48, 49, 50, 102, 137, 864, 874, 884, 894, 904, 914, 1070, 1080, 1090, 1309, 1438, 1478, 1488, 1498, 1568, 4237, 4239, 4288, 4407, 20015, 20023, 21001, 21002, 22200, 22602, 22603, 22003, 22009, 23098, 23099, 23104, 23106, 23120, 23128, 30000, 30010, 30020, 30030, 30040, 30050, 30060, 30070], conv_bn=False, conv_dropout=0.0, conv_layers=[32], conv_width=71, conv_x=3, conv_y=3, conv_z=2, db='/mnt/disks/data/raw/sql/ukbb7089.r10data.db', debug=False, dense_blocks=[32, 24, 16], dense_layers=[16, 64], dicoms='./dicoms/', dropout=0.0, epochs=1, icd_csv='/mnt/disks/data/raw/tsvs/modified.zmerge.prs.full.csv.20190219', id='ecg_regresser', include_array=False, include_heart_zoom=False, include_instance=False, input_tensors=['ecg_rest'], inspect_model=True, inspect_show_labels=True, label_weights=None, learning_rate=0.0001, logging_level='INFO', lv_mass_csv='/mnt/ml4cvd/projects/jamesp/data/returned_lv_mass.tsv', max_models=16, max_parameters=9000000, max_patients=999999, max_pools=[], max_sample_id=7000000, max_slices=999999, min_sample_id=0, min_values=10, mlp_concat=False, mode='mlp', model_file=None, model_files=[], model_freeze=None, model_layers=None, mri_field_ids=['20208', '20209'], output_folder='./recipes_output/', output_tensors=['ecg_rhythm', 'ecg_normal', 'p-axis', 'p-duration', 'p-offset', 'p-onset', 'pp-interval', 'pq-interval', 'q-offset', 'q-onset', 'qrs-num', 'qrs-duration', 'r-axis', 'ventricular-rate'], padding='same', patience=8, phenos_folder='/mnt/disks/data/raw/phenotypes/', pool_x=2, pool_y=2, pool_z=1, random_seed=12878, res_layers=[], t=48, tensor_maps_in=[<TensorMap.TensorMap object at 0x7fbe0aa7d978>], tensor_maps_out=[<TensorMap.TensorMap object at 0x7fbe09fd9630>, <TensorMap.TensorMap object at 0x7fbe09fd98d0>, <TensorMap.TensorMap object at 0x7fbe09f8d2e8>, <TensorMap.TensorMap object at 0x7fbe09f8d208>, <TensorMap.TensorMap object at 0x7fbe09f8d358>, <TensorMap.TensorMap object at 0x7fbe09f8d080>, <TensorMap.TensorMap object at 0x7fbe09f8d320>, <TensorMap.TensorMap object at 0x7fbe09f8d748>, <TensorMap.TensorMap object at 0x7fbe09f8d860>, <TensorMap.TensorMap object at 0x7fbe09f8d630>, <TensorMap.TensorMap object at 0x7fbe09f8db38>, <TensorMap.TensorMap object at 0x7fbe09f8d6a0>, <TensorMap.TensorMap object at 0x7fbe09f8dc18>, <TensorMap.TensorMap object at 0x7fbe09f8dcf8>], tensors='/mnt/disks/ecg-text3/2019-04-26/', test_ratio=0.1, test_steps=32, training_steps=20, u_connect=False, valid_ratio=0.2, validation_steps=40, volume_csv='/mnt/disks/data/raw/tsvs/round2_4sdfixedpoint_parsed_lvedv_lvesv_lvef.tsv', write_pngs=False, x=256, xml_field_ids=['20205', '6025'], xml_folder='/mnt/disks/data/raw/ecgs/', y=256, z=48, zip_folder='/mnt/disks/data/raw/mris/cardiac/', zoom_height=96, zoom_width=96, zoom_x=50, zoom_y=35)\n",
      "__________________________________________________________________________________________________\n",
      "Layer (type)                    Output Shape         Param #     Connected to                     \n",
      "==================================================================================================\n",
      "input_strip_ecg_rest (InputLaye (None, 5000, 12)     0                                            \n",
      "__________________________________________________________________________________________________\n",
      "conv1d_14 (Conv1D)              (None, 5000, 32)     27296       input_strip_ecg_rest[0][0]       \n",
      "__________________________________________________________________________________________________\n",
      "conv1d_15 (Conv1D)              (None, 5000, 32)     72736       conv1d_14[0][0]                  \n",
      "__________________________________________________________________________________________________\n",
      "average_pooling1d_4 (AveragePoo (None, 2500, 32)     0           conv1d_15[0][0]                  \n",
      "__________________________________________________________________________________________________\n",
      "conv1d_17 (Conv1D)              (None, 2500, 32)     72736       average_pooling1d_4[0][0]        \n",
      "__________________________________________________________________________________________________\n",
      "concatenate_7 (Concatenate)     (None, 2500, 64)     0           average_pooling1d_4[0][0]        \n",
      "                                                                 conv1d_17[0][0]                  \n",
      "__________________________________________________________________________________________________\n",
      "conv1d_18 (Conv1D)              (None, 2500, 32)     145440      concatenate_7[0][0]              \n",
      "__________________________________________________________________________________________________\n",
      "concatenate_8 (Concatenate)     (None, 2500, 96)     0           average_pooling1d_4[0][0]        \n",
      "                                                                 conv1d_17[0][0]                  \n",
      "                                                                 conv1d_18[0][0]                  \n",
      "__________________________________________________________________________________________________\n",
      "conv1d_19 (Conv1D)              (None, 2500, 24)     163608      concatenate_8[0][0]              \n",
      "__________________________________________________________________________________________________\n",
      "average_pooling1d_5 (AveragePoo (None, 1250, 24)     0           conv1d_19[0][0]                  \n",
      "__________________________________________________________________________________________________\n",
      "conv1d_21 (Conv1D)              (None, 1250, 24)     40920       average_pooling1d_5[0][0]        \n",
      "__________________________________________________________________________________________________\n",
      "concatenate_9 (Concatenate)     (None, 1250, 48)     0           average_pooling1d_5[0][0]        \n",
      "                                                                 conv1d_21[0][0]                  \n",
      "__________________________________________________________________________________________________\n",
      "conv1d_22 (Conv1D)              (None, 1250, 24)     81816       concatenate_9[0][0]              \n",
      "__________________________________________________________________________________________________\n",
      "concatenate_10 (Concatenate)    (None, 1250, 72)     0           average_pooling1d_5[0][0]        \n",
      "                                                                 conv1d_21[0][0]                  \n",
      "                                                                 conv1d_22[0][0]                  \n",
      "__________________________________________________________________________________________________\n",
      "conv1d_23 (Conv1D)              (None, 1250, 16)     81808       concatenate_10[0][0]             \n",
      "__________________________________________________________________________________________________\n",
      "average_pooling1d_6 (AveragePoo (None, 625, 16)      0           conv1d_23[0][0]                  \n",
      "__________________________________________________________________________________________________\n",
      "conv1d_25 (Conv1D)              (None, 625, 16)      18192       average_pooling1d_6[0][0]        \n",
      "__________________________________________________________________________________________________\n",
      "concatenate_11 (Concatenate)    (None, 625, 32)      0           average_pooling1d_6[0][0]        \n",
      "                                                                 conv1d_25[0][0]                  \n",
      "__________________________________________________________________________________________________\n",
      "conv1d_26 (Conv1D)              (None, 625, 16)      36368       concatenate_11[0][0]             \n",
      "__________________________________________________________________________________________________\n",
      "concatenate_12 (Concatenate)    (None, 625, 48)      0           average_pooling1d_6[0][0]        \n",
      "                                                                 conv1d_25[0][0]                  \n",
      "                                                                 conv1d_26[0][0]                  \n",
      "__________________________________________________________________________________________________\n",
      "flatten_2 (Flatten)             (None, 30000)        0           concatenate_12[0][0]             \n",
      "__________________________________________________________________________________________________\n",
      "dense_2 (Dense)                 (None, 16)           480016      flatten_2[0][0]                  \n",
      "__________________________________________________________________________________________________\n",
      "embed (Dense)                   (None, 64)           1088        dense_2[0][0]                    \n",
      "__________________________________________________________________________________________________\n",
      "output_ecg_rhythm_categorical ( (None, 4)            260         embed[0][0]                      \n",
      "__________________________________________________________________________________________________\n",
      "output_ecg_normal_categorical ( (None, 4)            260         embed[0][0]                      \n",
      "__________________________________________________________________________________________________\n",
      "output_PAxis_continuous (Dense) (None, 1)            65          embed[0][0]                      \n",
      "__________________________________________________________________________________________________\n",
      "output_PDuration_continuous (De (None, 1)            65          embed[0][0]                      \n",
      "__________________________________________________________________________________________________\n",
      "output_POffset_continuous (Dens (None, 1)            65          embed[0][0]                      \n",
      "__________________________________________________________________________________________________\n",
      "output_POnset_continuous (Dense (None, 1)            65          embed[0][0]                      \n",
      "__________________________________________________________________________________________________\n",
      "output_PPInterval_continuous (D (None, 1)            65          embed[0][0]                      \n",
      "__________________________________________________________________________________________________\n",
      "output_PQInterval_continuous (D (None, 1)            65          embed[0][0]                      \n",
      "__________________________________________________________________________________________________\n",
      "output_QOffset_continuous (Dens (None, 1)            65          embed[0][0]                      \n",
      "__________________________________________________________________________________________________\n",
      "output_QOnset_continuous (Dense (None, 1)            65          embed[0][0]                      \n",
      "__________________________________________________________________________________________________\n",
      "output_QRSNum_continuous (Dense (None, 1)            65          embed[0][0]                      \n",
      "__________________________________________________________________________________________________\n",
      "output_QRSDuration_continuous ( (None, 1)            65          embed[0][0]                      \n",
      "__________________________________________________________________________________________________\n",
      "output_RAxis_continuous (Dense) (None, 1)            65          embed[0][0]                      \n",
      "__________________________________________________________________________________________________\n",
      "output_VentricularRate_continuo (None, 1)            65          embed[0][0]                      \n",
      "==================================================================================================\n",
      "Total params: 1,223,324\n",
      "Trainable params: 1,223,324\n",
      "Non-trainable params: 0\n",
      "__________________________________________________________________________________________________\n"
     ]
    }
   ],
   "source": [
    "sys.argv = ['train', \n",
    "            '--tensors', '/mnt/disks/ecg-text3/2019-04-26/', \n",
    "            '--input_tensors', 'ecg_rest', \n",
    "            '--output_tensors', 'ecg_rhythm', 'ecg_normal', 'p-axis', 'p-duration', \n",
    "                'p-offset', 'p-onset', 'pp-interval', 'pq-interval', 'q-offset', 'q-onset', \n",
    "                'qrs-num', 'qrs-duration', 'r-axis', 'ventricular-rate',\n",
    "            '--batch_size', '32', \n",
    "            '--epochs', '1',  \n",
    "            '--learning_rate', '0.0001',\n",
    "            '--training_steps', '20',\n",
    "            '--inspect_model',\n",
    "            '--id', 'ecg_regresser']\n",
    "args = parse_args()\n",
    "model = make_multimodal_to_multilabel_model(args.model_file, args.model_layers, args.model_freeze,\n",
    "                                                args.tensor_maps_in, args.tensor_maps_out, args.activation,\n",
    "                                                args.dense_layers, args.dropout, args.mlp_concat, args.conv_layers,\n",
    "                                                args.max_pools, args.res_layers, args.dense_blocks, args.block_size,\n",
    "                                                args.conv_bn, args.conv_x, args.conv_y, args.conv_z, args.conv_dropout,\n",
    "                                                args.conv_width, args.u_connect, args.pool_x, args.pool_y, args.pool_z, args.padding,\n",
    "                                                args.learning_rate)"
   ]
  },
  {
   "cell_type": "code",
   "execution_count": 5,
   "metadata": {},
   "outputs": [],
   "source": [
    "COLOR_ARRAY = ['red', 'indigo', 'cyan', 'pink', 'purple', 'blue', 'chartreuse', 'darkseagreen', 'green', 'salmon',\n",
    "               'magenta', 'aquamarine', 'gold', 'coral', 'tomato', 'grey', 'black', 'maroon', 'hotpink', 'steelblue',\n",
    "               'orange']\n",
    "def plot_ecg(data, label, prefix='./figures/'):\n",
    "    lw = 1\n",
    "    matplotlib.rcParams.update({'font.size': 7})\n",
    "\n",
    "    rows = int(math.ceil(data.shape[-1]))\n",
    "    cols = 1\n",
    "    fig, axes = plt.subplots(rows, cols, figsize=(14, 14), sharex=True)\n",
    "    for i in range(data.shape[-1]):\n",
    "        color = np.random.choice(COLOR_ARRAY)\n",
    "        ax = plt.subplot(rows, cols, i + 1)\n",
    "        ax.plot(data[:, i], color=color, lw=lw)\n",
    "    #plt.tight_layout()\n",
    "    plt.title(label)\n",
    "    figure_path = os.path.join(prefix, label + '_ecg.png')\n",
    "    if not os.path.exists(os.path.dirname(figure_path)):\n",
    "        os.makedirs(os.path.dirname(figure_path))\n",
    "    plt.savefig(figure_path)\n",
    "    print(f\"Saved ECG plot at: {figure_path}\")"
   ]
  },
  {
   "cell_type": "code",
   "execution_count": 7,
   "metadata": {},
   "outputs": [
    {
     "name": "stdout",
     "output_type": "stream",
     "text": [
      "Sinus rhythm with 1st degree AV block Possible Right ventricular hypertrophy Inferior infarct possibly acute Anterolateral infarct age undetermined  ACUTE MI  Consider right ventricular involvement in acute inferior infarct\n",
      "Saved ECG plot at: ./figures/1238558.hd5_ecg.png\n",
      "Poor data quality interpretation may be adversely affected Sinus tachycardia with short PR with premature supraventricular complexes with occasional and consecutive premature ventricular complexes and fusion complexes with junctional escape complexes Right atrial enlargement Left axis deviation Left ventricular hypertrophy with QRS widening Inferior infarct age undetermined Anterolateral injury pattern  ACUTE MI\n",
      "Saved ECG plot at: ./figures/1240625.hd5_ecg.png\n",
      "Poor data quality interpretation may be adversely affected  Age and gender specific ECG analysis  Sinus rhythm with fusion complexes ST elevation consider inferior injury or acute infarct  ACUTE MI  Consider right ventricular involvement in acute inferior infarct\n",
      "Saved ECG plot at: ./figures/1258475.hd5_ecg.png\n"
     ]
    }
   ],
   "source": [
    "xdir = '/mnt/disks/ecg-text3/2019-04-26/'\n",
    "paths = [xdir+'1238558.hd5', xdir+'1240625.hd5', xdir+'1258475.hd5', xdir+'1286494.hd5', xdir+'1381627.hd5']\n",
    "generator = TensorGenerator(3, args.tensor_maps_in, args.tensor_maps_out, paths, None, True)\n",
    "data, labels, hd5s = next(generator)\n",
    "for i,hd5p in enumerate(hd5s):\n",
    "    with h5py.File(hd5s[i], 'r') as hd5:\n",
    "        print(str(hd5['ecg_rest_text'][0]).strip())\n",
    "    plot_ecg(data['input_strip_ecg_rest'][i], os.path.basename(hd5s[i]))"
   ]
  },
  {
   "cell_type": "code",
   "execution_count": null,
   "metadata": {},
   "outputs": [],
   "source": [
    "Image('./figures/1238558.hd5_ecg.png')"
   ]
  },
  {
   "cell_type": "code",
   "execution_count": null,
   "metadata": {},
   "outputs": [],
   "source": [
    "Image('./figures/1240625.hd5_ecg.png')"
   ]
  },
  {
   "cell_type": "code",
   "execution_count": null,
   "metadata": {},
   "outputs": [],
   "source": [
    "Image('./figures/1258475.hd5_ecg.png')"
   ]
  },
  {
   "cell_type": "code",
   "execution_count": 8,
   "metadata": {},
   "outputs": [
    {
     "name": "stdout",
     "output_type": "stream",
     "text": [
      "Atrial fibrillation with rapid ventricular response Left axis deviation Nonspecific T wave abnormality probably digitalis effect\n",
      "Saved ECG plot at: ./figures/1719189.hd5_ecg.png\n",
      "Atrial fibrillation\n",
      "Saved ECG plot at: ./figures/1723645.hd5_ecg.png\n",
      "Atrial fibrillation Nonspecific ST and T wave abnormality probably digitalis effect\n",
      "Saved ECG plot at: ./figures/1767593.hd5_ecg.png\n"
     ]
    }
   ],
   "source": [
    "paths = [xdir+'1719189.hd5', xdir+'1723645.hd5', xdir+'1767593.hd5', xdir+'1769144.hd5', xdir+'1770473.hd5']\n",
    "generator = TensorGenerator(3, args.tensor_maps_in, args.tensor_maps_out, paths, None, True)\n",
    "data, labels, hd5s = next(generator)\n",
    "for i,hd5p in enumerate(hd5s):\n",
    "    with h5py.File(hd5s[i], 'r') as hd5:\n",
    "        print(str(hd5['ecg_rest_text'][0]).strip())\n",
    "    plot_ecg(data['input_strip_ecg_rest'][i], os.path.basename(hd5s[i]))"
   ]
  },
  {
   "cell_type": "code",
   "execution_count": null,
   "metadata": {},
   "outputs": [],
   "source": [
    "Image('./figures/1719189.hd5_ecg.png')"
   ]
  },
  {
   "cell_type": "code",
   "execution_count": null,
   "metadata": {},
   "outputs": [],
   "source": [
    "Image('./figures/1723645.hd5_ecg.png')"
   ]
  },
  {
   "cell_type": "code",
   "execution_count": null,
   "metadata": {},
   "outputs": [],
   "source": [
    "Image('./figures/1767593.hd5_ecg.png')"
   ]
  },
  {
   "cell_type": "code",
   "execution_count": null,
   "metadata": {},
   "outputs": [],
   "source": [
    "h5 = '/mnt/disks/data/generated/tensors/test/2019-03-21/1005522.hd5'\n",
    "with h5py.File(h5, 'r') as hd5:\n",
    "    print(list(hd5['ecg_bike'].keys()))\n",
    "    print(list(hd5['ecg_bike']['full_0'].shape))\n",
    "    plot_ecg(hd5['ecg_bike']['full_0'][100000:102000, :], 'full')\n",
    "    plot_ecg(hd5['ecg_bike']['median_0'], 'median_0')\n",
    "    plot_ecg(hd5['ecg_bike']['strip_0'], 'strip_0')"
   ]
  },
  {
   "cell_type": "code",
   "execution_count": null,
   "metadata": {},
   "outputs": [],
   "source": [
    "Image('./figures/full_ecg.png')"
   ]
  },
  {
   "cell_type": "code",
   "execution_count": null,
   "metadata": {},
   "outputs": [],
   "source": [
    "Image('./figures/median_0_ecg.png')"
   ]
  },
  {
   "cell_type": "code",
   "execution_count": null,
   "metadata": {},
   "outputs": [],
   "source": [
    "Image('./figures/strip_0_ecg.png')"
   ]
  },
  {
   "cell_type": "code",
   "execution_count": null,
   "metadata": {},
   "outputs": [],
   "source": [
    "h5 = '/mnt/disks/data/generated/tensors/test/2019-03-21/1005234.hd5'\n",
    "with h5py.File(h5, 'r') as hd5:\n",
    "    print(list(hd5['ecg_bike'].keys()))\n",
    "    print(list(hd5['ecg_bike']['full_0'].shape))\n",
    "    plot_ecg(hd5['ecg_bike']['full_0'][1000:2000, :], 'full01')\n",
    "    plot_ecg(hd5['ecg_bike']['median_0'], 'median_01')\n",
    "    plot_ecg(hd5['ecg_bike']['strip_0'], 'strip_01')"
   ]
  },
  {
   "cell_type": "code",
   "execution_count": null,
   "metadata": {},
   "outputs": [],
   "source": [
    "Image('./figures/full01_ecg.png')"
   ]
  },
  {
   "cell_type": "code",
   "execution_count": null,
   "metadata": {},
   "outputs": [],
   "source": [
    "Image('./figures/median_01_ecg.png')"
   ]
  },
  {
   "cell_type": "code",
   "execution_count": null,
   "metadata": {},
   "outputs": [],
   "source": [
    "Image('./figures/strip_01_ecg.png')"
   ]
  }
 ],
 "metadata": {
  "kernelspec": {
   "display_name": "Python 3",
   "language": "python",
   "name": "python3"
  },
  "language_info": {
   "codemirror_mode": {
    "name": "ipython",
    "version": 3
   },
   "file_extension": ".py",
   "mimetype": "text/x-python",
   "name": "python",
   "nbconvert_exporter": "python",
   "pygments_lexer": "ipython3",
   "version": "3.6.3"
  }
 },
 "nbformat": 4,
 "nbformat_minor": 2
}
