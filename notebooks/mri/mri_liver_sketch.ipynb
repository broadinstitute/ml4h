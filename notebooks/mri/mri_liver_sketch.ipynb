{
 "cells": [
  {
   "cell_type": "code",
   "execution_count": null,
   "metadata": {},
   "outputs": [],
   "source": [
    "import os\n",
    "import sys\n",
    "from collections import defaultdict\n",
    "\n",
    "import pydicom\n",
    "import numpy as np\n",
    "%matplotlib inline\n",
    "import matplotlib.pyplot as plt"
   ]
  },
  {
   "cell_type": "code",
   "execution_count": null,
   "metadata": {},
   "outputs": [],
   "source": [
    "!mkdir ./dcm_scratch\n",
    "!rm ./dcm_scratch/*\n",
    "!cp /home/sam/liver_mri_bulk/1030316_20254_2_0.zip ./dcm_scratch/\n",
    "!unzip ./dcm_scratch/1030316_20254_2_0.zip -d ./dcm_scratch/"
   ]
  },
  {
   "cell_type": "code",
   "execution_count": null,
   "metadata": {},
   "outputs": [],
   "source": [
    "dcm_dir = './dcm_scratch/'\n",
    "series = defaultdict(list)\n",
    "for dcm_file in os.listdir(dcm_dir):\n",
    "    if not dcm_file.endswith('.dcm'):\n",
    "        continue\n",
    "    dcm = pydicom.read_file(dcm_dir + dcm_file)\n",
    "    #print(dcm)\n",
    "    print(dcm.InstanceNumber, dcm.SeriesNumber, dcm.SeriesDescription, dcm.PixelSpacing)\n",
    "    print(f\" series num:{dcm.SeriesNumber} Instance number: {dcm.InstanceNumber}, big pix:{dcm.LargestImagePixelValue}, rows:{dcm.Rows}, cols:{dcm.Columns}\")\n",
    "    if dcm.LargestImagePixelValue < 1024:\n",
    "        series[dcm.SeriesNumber].append(dcm.InstanceNumber)\n",
    "print('len is:' ,len(series), series)\n",
    "for k in series:\n",
    "    print(len(series[k]))"
   ]
  },
  {
   "cell_type": "code",
   "execution_count": null,
   "metadata": {},
   "outputs": [],
   "source": [
    "_, axes = plt.subplots(6, 6, figsize=(16, 16))\n",
    "for dcm_file in os.listdir(dcm_dir):\n",
    "    if not dcm_file.endswith('.dcm'):\n",
    "        continue\n",
    "    dcm = pydicom.read_file(dcm_dir + dcm_file)\n",
    "    row = 0\n",
    "    if dcm.LargestImagePixelValue > 1024:\n",
    "        row = 1\n",
    "        continue\n",
    "    print(f\"Series: {dcm.SeriesDescription.lower().replace(' ', '_')}, Instance number: {dcm.InstanceNumber}, dcm series {dcm.SeriesNumber} big pix:{dcm.LargestImagePixelValue}\")\n",
    "    ideal_index = 6*(dcm.InstanceNumber-1) + ((dcm.SeriesNumber-37)//2)  \n",
    "    axes[ideal_index//6, ideal_index%6].imshow(dcm.pixel_array)"
   ]
  },
  {
   "cell_type": "code",
   "execution_count": null,
   "metadata": {},
   "outputs": [],
   "source": [
    "!rm ./dcm_scratch/*\n",
    "!cp /mnt/disks/data/raw/mris/liver/1098695_20203_2_0.zip ./dcm_scratch/\n",
    "!unzip ./dcm_scratch/1098695_20203_2_0.zip -d ./dcm_scratch/"
   ]
  },
  {
   "cell_type": "code",
   "execution_count": null,
   "metadata": {},
   "outputs": [],
   "source": [
    "_, axes = plt.subplots(2, 10, figsize=(16, 8))\n",
    "for dcm_file in os.listdir(dcm_dir):\n",
    "    if not dcm_file.endswith('.dcm'):\n",
    "        continue\n",
    "    row = 0\n",
    "    dcm = pydicom.read_file(dcm_dir + dcm_file)\n",
    "    print(f\"Series: {dcm.SeriesDescription.lower().replace(' ', '_')} Instance number: {dcm.InstanceNumber}, pix space{dcm.PixelSpacing} big pix:{dcm.LargestImagePixelValue}\")\n",
    "    if dcm.LargestImagePixelValue > 1024:\n",
    "        row = 1    \n",
    "    axes[row, dcm.InstanceNumber-1].imshow(dcm.pixel_array)"
   ]
  },
  {
   "cell_type": "code",
   "execution_count": null,
   "metadata": {},
   "outputs": [],
   "source": [
    "!rm ./dcm_scratch/*\n",
    "!cp /home/sam/liver_mri_bulk/1000107_20204_2_0.zip ./dcm_scratch/\n",
    "!unzip ./dcm_scratch/1000107_20204_2_0.zip -d ./dcm_scratch/"
   ]
  },
  {
   "cell_type": "code",
   "execution_count": null,
   "metadata": {},
   "outputs": [],
   "source": [
    "_, axes = plt.subplots(4, 7, figsize=(16, 8))\n",
    "for dcm_file in os.listdir(dcm_dir):\n",
    "    if not dcm_file.endswith('.dcm'):\n",
    "        continue\n",
    "    row = 0\n",
    "    dcm = pydicom.read_file(dcm_dir + dcm_file)\n",
    "    print(f\"Series description:{dcm.SeriesDescription.lower().replace(' ', '_')} Series num:{dcm.SeriesNumber} Instance number: {dcm.InstanceNumber}, pix space{dcm.PixelSpacing} big pix:{dcm.LargestImagePixelValue}, rows:{dcm.Rows}, cols:{dcm.Columns}\")\n",
    "\n",
    "    if 'fitparams' in dcm.SeriesDescription.lower():\n",
    "        row = 2\n",
    "    elif 't1map' in dcm.SeriesDescription.lower():\n",
    "        row = 3\n",
    "    elif dcm.LargestImagePixelValue > 1024:\n",
    "        row = 1 \n",
    "    axes[row, dcm.InstanceNumber-1].imshow(dcm.pixel_array)"
   ]
  },
  {
   "cell_type": "code",
   "execution_count": null,
   "metadata": {},
   "outputs": [],
   "source": []
  }
 ],
 "metadata": {
  "kernelspec": {
   "display_name": "Python 3",
   "language": "python",
   "name": "python3"
  },
  "language_info": {
   "codemirror_mode": {
    "name": "ipython",
    "version": 3
   },
   "file_extension": ".py",
   "mimetype": "text/x-python",
   "name": "python",
   "nbconvert_exporter": "python",
   "pygments_lexer": "ipython3",
   "version": "3.6.8"
  }
 },
 "nbformat": 4,
 "nbformat_minor": 2
}
