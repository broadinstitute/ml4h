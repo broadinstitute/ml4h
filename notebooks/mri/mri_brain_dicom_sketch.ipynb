{
 "cells": [
  {
   "cell_type": "code",
   "execution_count": null,
   "metadata": {},
   "outputs": [],
   "source": [
    "import os\n",
    "import sys\n",
    "from collections import Counter, defaultdict\n",
    "\n",
    "import pydicom\n",
    "import numpy as np\n",
    "%matplotlib inline\n",
    "import matplotlib.pyplot as plt"
   ]
  },
  {
   "cell_type": "code",
   "execution_count": null,
   "metadata": {},
   "outputs": [],
   "source": [
    "!mkdir ./dcm_scratch\n",
    "!rm ./dcm_scratch/*\n",
    "!cp /mnt/ml4cvd/projects/bulk/brain_mri/1000503_20216_2_0.zip ./dcm_scratch/\n",
    "!unzip ./dcm_scratch/1000503_20216_2_0.zip -d ./dcm_scratch/"
   ]
  },
  {
   "cell_type": "code",
   "execution_count": null,
   "metadata": {},
   "outputs": [],
   "source": [
    "stats = Counter()\n",
    "dcm_dir = './dcm_scratch/'\n",
    "for dcm_file in os.listdir(dcm_dir):\n",
    "    if not dcm_file.endswith('.dcm'):\n",
    "        continue\n",
    "    dcm = pydicom.read_file(dcm_dir + dcm_file)\n",
    "    stats['count'] += 1\n",
    "    stats[f'series_num_{dcm.SeriesNumber}'] += 1\n",
    "    stats[f'instance_num_{dcm.SeriesDescription}'] += 1\n",
    "    stats[f'Pixel spacing{dcm.PixelSpacing}'] += 1\n",
    "    stats[f'Shape {dcm.pixel_array.shape}'] += 1\n",
    "\n",
    "for k in stats:\n",
    "    print(f'{k} has {stats[k]}')"
   ]
  },
  {
   "cell_type": "code",
   "execution_count": null,
   "metadata": {},
   "outputs": [],
   "source": [
    "num_cols = num_rows = 15\n",
    "_, axes = plt.subplots(num_cols, num_rows, figsize=(16, 16))\n",
    "for dcm_file in os.listdir(dcm_dir):\n",
    "    if not dcm_file.endswith('.dcm'):\n",
    "        continue\n",
    "    dcm = pydicom.read_file(dcm_dir + dcm_file)\n",
    "    if dcm.SeriesNumber in [6, 12]:\n",
    "        continue\n",
    "    ideal_index = int(dcm.InstanceNumber)-1\n",
    "    axes[ideal_index//num_cols, ideal_index%num_cols].imshow(dcm.pixel_array, cmap='gray', vmin=np.min(dcm.pixel_array), vmax=np.max(dcm.pixel_array))\n",
    "    axes[ideal_index//num_cols, ideal_index%num_cols].set_yticklabels([])\n",
    "    axes[ideal_index//num_cols, ideal_index%num_cols].set_xticklabels([])"
   ]
  },
  {
   "cell_type": "code",
   "execution_count": null,
   "metadata": {},
   "outputs": [],
   "source": [
    "num_cols = num_rows = 15\n",
    "_, axes = plt.subplots(num_cols, num_rows, figsize=(16, 16))\n",
    "for dcm_file in os.listdir(dcm_dir):\n",
    "    if not dcm_file.endswith('.dcm'):\n",
    "        continue\n",
    "    dcm = pydicom.read_file(dcm_dir + dcm_file)\n",
    "    if dcm.SeriesNumber in [5, 11]:\n",
    "        continue\n",
    "    ideal_index = int(dcm.InstanceNumber)-1\n",
    "    axes[ideal_index//num_cols, ideal_index%num_cols].imshow(dcm.pixel_array, cmap='gray', vmin=np.min(dcm.pixel_array), vmax=np.max(dcm.pixel_array))\n",
    "    axes[ideal_index//num_cols, ideal_index%num_cols].set_yticklabels([])\n",
    "    axes[ideal_index//num_cols, ideal_index%num_cols].set_xticklabels([])"
   ]
  },
  {
   "cell_type": "code",
   "execution_count": null,
   "metadata": {},
   "outputs": [],
   "source": [
    "dicom_np = np.zeros((256, 256, 216))\n",
    "for dcm_file in os.listdir(dcm_dir):\n",
    "    if not dcm_file.endswith('.dcm'):\n",
    "        continue\n",
    "    dcm = pydicom.read_file(dcm_dir + dcm_file)\n",
    "    if dcm.SeriesNumber in [5, 11]:\n",
    "        continue\n",
    "    i = int(dcm.InstanceNumber)-1\n",
    "    dicom_np[..., i] = dcm.pixel_array"
   ]
  },
  {
   "cell_type": "code",
   "execution_count": null,
   "metadata": {},
   "outputs": [],
   "source": [
    "dicom_to_nifti = np.flip(np.swapaxes(dicom_np, 0, -1))\n",
    "plt.imshow(dicom_to_nifti[:,:,50], cmap='gray')"
   ]
  },
  {
   "cell_type": "code",
   "execution_count": null,
   "metadata": {},
   "outputs": [],
   "source": [
    "# 190 - 50"
   ]
  },
  {
   "cell_type": "code",
   "execution_count": null,
   "metadata": {},
   "outputs": [],
   "source": [
    "print(dcm)\n"
   ]
  },
  {
   "cell_type": "code",
   "execution_count": null,
   "metadata": {},
   "outputs": [],
   "source": []
  }
 ],
 "metadata": {
  "kernelspec": {
   "display_name": "Python 3",
   "language": "python",
   "name": "python3"
  },
  "language_info": {
   "codemirror_mode": {
    "name": "ipython",
    "version": 3
   },
   "file_extension": ".py",
   "mimetype": "text/x-python",
   "name": "python",
   "nbconvert_exporter": "python",
   "pygments_lexer": "ipython3",
   "version": "3.6.8"
  }
 },
 "nbformat": 4,
 "nbformat_minor": 2
}
