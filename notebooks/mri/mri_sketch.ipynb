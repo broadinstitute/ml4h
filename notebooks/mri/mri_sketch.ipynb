{
 "cells": [
  {
   "cell_type": "code",
   "execution_count": null,
   "metadata": {},
   "outputs": [],
   "source": [
    "import os\n",
    "import sys\n",
    "import h5py\n",
    "import argparse\n",
    "import numpy as np\n",
    "from collections import Counter\n",
    "import xml.etree.ElementTree as et \n",
    "\n",
    "# Keras imports\n",
    "from keras.models import Model\n",
    "from keras.optimizers import Adam\n",
    "from keras.utils.vis_utils import model_to_dot\n",
    "from keras.layers import Input, Dense, Dropout, AlphaDropout, BatchNormalization, Activation\n",
    "\n",
    "import matplotlib\n",
    "matplotlib.use('Agg') # Need this to write images from the GSA servers.  Order matters:\n",
    "import matplotlib.pyplot as plt # First import matplotlib, then use Agg, then import plt\n",
    "\n",
    "# IPython imports\n",
    "from IPython.display import Image\n",
    "\n",
    "# ML4CVD Imports\n",
    "from ml4cvd.arguments import parse_args\n",
    "from ml4cvd.tensor_writer_ukbb import write_tensors\n",
    "from ml4cvd.tensor_generators import test_train_valid_tensor_generators\n",
    "from ml4cvd.defines import TENSOR_EXT, IMAGE_EXT, MRI_TO_SEGMENT, MRI_SEGMENTED\n",
    "from ml4cvd.recipes import train_multimodal_multitask, test_multimodal_multitask\n",
    "from ml4cvd.models import make_multimodal_multitask_model, train_model_from_generators"
   ]
  },
  {
   "cell_type": "code",
   "execution_count": null,
   "metadata": {},
   "outputs": [],
   "source": [
    "slice_idx = '56'\n",
    "tensor_path = '/mnt/disks/data/generated/tensors/test/2019-03-21/'\n",
    "for t in os.listdir(tensor_path):\n",
    "    if os.path.splitext(t)[-1] != TENSOR_EXT:\n",
    "        continue\n",
    "    with h5py.File(tensor_path+t , 'r') as mri_tensors:\n",
    "        if MRI_TO_SEGMENT not in mri_tensors:\n",
    "            continue\n",
    "        if slice_idx in mri_tensors[MRI_TO_SEGMENT]:\n",
    "            print('got 1 at t:', t, len(mri_tensors[MRI_TO_SEGMENT]))\n",
    "            mri_slice = np.array(mri_tensors[MRI_TO_SEGMENT][slice_idx])\n",
    "            slice_labels = np.array(mri_tensors[MRI_SEGMENTED][slice_idx])\n",
    "            plt.imsave('./mri_label_example'+slice_idx+IMAGE_EXT, slice_labels)\n",
    "            plt.imsave('./mri_slice_example'+slice_idx+IMAGE_EXT, mri_slice)\n",
    "            break"
   ]
  },
  {
   "cell_type": "code",
   "execution_count": null,
   "metadata": {},
   "outputs": [],
   "source": [
    "Image('./mri_slice_example'+slice_idx+IMAGE_EXT)"
   ]
  },
  {
   "cell_type": "code",
   "execution_count": null,
   "metadata": {},
   "outputs": [],
   "source": [
    "Image('./mri_label_example'+slice_idx+IMAGE_EXT)"
   ]
  },
  {
   "cell_type": "code",
   "execution_count": null,
   "metadata": {},
   "outputs": [],
   "source": [
    "slice_idx = '296'\n",
    "tensor_path = '/mnt/disks/data/generated/tensors/test/2019-03-21/'\n",
    "for t in os.listdir(tensor_path):\n",
    "    if os.path.splitext(t)[-1] != TENSOR_EXT:\n",
    "        continue\n",
    "    with h5py.File(tensor_path+t , 'r') as mri_tensors:\n",
    "        if MRI_TO_SEGMENT not in mri_tensors:\n",
    "            continue\n",
    "        if slice_idx in mri_tensors[MRI_TO_SEGMENT]:\n",
    "            print('got 1 at t:', t, len(mri_tensors[MRI_TO_SEGMENT]))\n",
    "            mri_slice = np.array(mri_tensors[MRI_TO_SEGMENT][slice_idx])\n",
    "            slice_labels = np.array(mri_tensors[MRI_SEGMENTED][slice_idx])\n",
    "            plt.imsave('./mri_label_example'+slice_idx+IMAGE_EXT, slice_labels)\n",
    "            plt.imsave('./mri_slice_example'+slice_idx+IMAGE_EXT, mri_slice)\n",
    "            break\n",
    "Image('./mri_slice_example'+slice_idx+IMAGE_EXT)"
   ]
  },
  {
   "cell_type": "code",
   "execution_count": null,
   "metadata": {},
   "outputs": [],
   "source": [
    "Image('./mri_label_example'+slice_idx+IMAGE_EXT)"
   ]
  },
  {
   "cell_type": "code",
   "execution_count": null,
   "metadata": {},
   "outputs": [],
   "source": [
    "slice_idx = '496'\n",
    "tensor_path = '/mnt/disks/data/generated/tensors/test/2019-03-21/'\n",
    "for t in os.listdir(tensor_path):\n",
    "    if os.path.splitext(t)[-1] != TENSOR_EXT:\n",
    "        continue\n",
    "    with h5py.File(tensor_path+t , 'r') as mri_tensors:\n",
    "        if MRI_TO_SEGMENT not in mri_tensors:\n",
    "            continue\n",
    "        if slice_idx in mri_tensors[MRI_TO_SEGMENT]:\n",
    "            print('got 1 at t:', t, len(mri_tensors[MRI_TO_SEGMENT]))\n",
    "            mri_slice = np.array(mri_tensors[MRI_TO_SEGMENT][slice_idx])\n",
    "            slice_labels = np.array(mri_tensors[MRI_SEGMENTED][slice_idx])\n",
    "            plt.imsave('./mri_label_example'+slice_idx+IMAGE_EXT, slice_labels)\n",
    "            plt.imsave('./mri_slice_example'+slice_idx+IMAGE_EXT, mri_slice)\n",
    "            break\n",
    "Image('./mri_slice_example'+slice_idx+IMAGE_EXT)"
   ]
  },
  {
   "cell_type": "code",
   "execution_count": null,
   "metadata": {},
   "outputs": [],
   "source": [
    "Image('./mri_label_example'+slice_idx+IMAGE_EXT)"
   ]
  },
  {
   "cell_type": "code",
   "execution_count": null,
   "metadata": {},
   "outputs": [],
   "source": [
    "sys.argv = ['tensorize', \n",
    "            '--tensors', './my_mri_tensors/',\n",
    "            '--max_sample_id', '1050000',\n",
    "            '--xml_field_id']\n",
    "args = parse_args()\n",
    "write_tensors(args.id, args.db, args.xml_folder, args.zip_folder, args.phenos_folder, args.output_folder,\n",
    "                          args.tensors, args.dicoms, args.volume_csv, args.lv_mass_csv, args.icd_csv, args.categorical_field_ids,\n",
    "                          args.continuous_field_ids, args.mri_field_ids, args.xml_field_ids, args.x, args.y, args.z,\n",
    "                          args.include_heart_zoom, args.zoom_x, args.zoom_y, args.zoom_width,  args.zoom_height,\n",
    "                          args.write_pngs, args.min_sample_id, args.max_sample_id, args.min_values, args.ukbb7089_sample_id_to_hail_pkl_path,\n",
    "                          args.filtered_genotypes_array_path)"
   ]
  },
  {
   "cell_type": "code",
   "execution_count": null,
   "metadata": {},
   "outputs": [],
   "source": [
    "sys.argv = ['train', \n",
    "            '--tensors','/mnt/disks/data/generated/tensors/test/2019-03-21/', \n",
    "            '--input_tensors', 'mri_slice_weighted', \n",
    "            '--output_tensors','mri_slice_segmented_weighted',\n",
    "            '--batch_size', '32', \n",
    "            '--epochs', '1',\n",
    "            '--training_steps', '30',\n",
    "            '--inspect_model',\n",
    "            '--u_connect',\n",
    "            '--id', 'mri_slice_labeler']\n",
    "args = parse_args()\n",
    "generate_train, generate_valid, generate_test = test_train_valid_tensor_generators(args.tensor_maps_in,  args.tensor_maps_out,  args.tensors, args.batch_size,   args.valid_ratio, args.test_ratio, args.test_modulo, args.balance_csvs)"
   ]
  },
  {
   "cell_type": "code",
   "execution_count": null,
   "metadata": {},
   "outputs": [],
   "source": [
    "model = make_multimodal_multitask_model(**args.__dict__)\n"
   ]
  },
  {
   "cell_type": "code",
   "execution_count": null,
   "metadata": {},
   "outputs": [],
   "source": [
    "prediction = model.predict_generator(generate_test, steps=1)\n",
    "plt.imsave('./figures/mri_prediction_example'+slice_idx+IMAGE_EXT, np.argmax(prediction[0], axis=-1))\n",
    "Image('./figures/mri_prediction_example'+slice_idx+IMAGE_EXT)"
   ]
  },
  {
   "cell_type": "code",
   "execution_count": null,
   "metadata": {},
   "outputs": [],
   "source": [
    "model = train_model_from_generators(model, generate_train, generate_valid, args.training_steps,\n",
    "                                        args.validation_steps, args.batch_size, args.epochs, args.patience,\n",
    "                                        args.output_folder, args.id, args.inspect_model, args.inspect_show_labels)"
   ]
  },
  {
   "cell_type": "code",
   "execution_count": null,
   "metadata": {},
   "outputs": [],
   "source": [
    "Image('./recipes_output/mri_slice_labeler/architecture_graph_mri_slice_labeler.png')"
   ]
  },
  {
   "cell_type": "code",
   "execution_count": null,
   "metadata": {},
   "outputs": [],
   "source": [
    "prediction = model.predict(np.expand_dims(np.expand_dims(mri_slice, axis=-1), axis=0))\n",
    "plt.imsave('./figures/mri_prediction_example'+slice_idx+IMAGE_EXT, np.argmax(prediction[0], axis=-1))\n",
    "Image('./figures/mri_prediction_example'+slice_idx+IMAGE_EXT)"
   ]
  },
  {
   "cell_type": "code",
   "execution_count": null,
   "metadata": {},
   "outputs": [],
   "source": [
    "args.batch_size = 32\n",
    "args.training_steps = 1500\n",
    "args.inspect_model = False\n",
    "args.model_file = './recipes_output/mri_slice_labeler/mri_slice_labeler.hd5'\n",
    "model = make_multimodal_multitask_model(**args.__dict__)\n",
    "model = train_model_from_generators(model, generate_train, generate_valid, args.training_steps,\n",
    "                                        args.validation_steps, args.batch_size, args.epochs, args.patience,\n",
    "                                        args.output_folder, args.id, args.inspect_model, args.inspect_show_labels)"
   ]
  },
  {
   "cell_type": "code",
   "execution_count": null,
   "metadata": {},
   "outputs": [],
   "source": [
    "args.model_file = './recipes_output/mri_slice_labeler/mri_slice_labeler.hd5'\n",
    "model = make_multimodal_multitask_model(**args.__dict__)\n",
    "prediction = model.predict_generator(generate_test, steps=1)\n",
    "plt.imsave('./figures/mri_prediction_example'+slice_idx+IMAGE_EXT, np.argmax(prediction, axis=-1)[0])\n",
    "Image('./figures/mri_prediction_example'+slice_idx+IMAGE_EXT)"
   ]
  },
  {
   "cell_type": "code",
   "execution_count": null,
   "metadata": {},
   "outputs": [],
   "source": [
    "args.test_steps=1\n",
    "test_multimodal_multitask(args)"
   ]
  },
  {
   "cell_type": "code",
   "execution_count": null,
   "metadata": {},
   "outputs": [],
   "source": [
    "Image('./recipes_output/mri_slice_labeler/precision_recall_mri_slice_segmented.png')"
   ]
  },
  {
   "cell_type": "code",
   "execution_count": null,
   "metadata": {},
   "outputs": [],
   "source": [
    "Image('./recipes_output/mri_slice_labeler/per_class_roc_mri_slice_segmented.png')"
   ]
  }
 ],
 "metadata": {
  "kernelspec": {
   "display_name": "Python 3",
   "language": "python",
   "name": "python3"
  },
  "language_info": {
   "codemirror_mode": {
    "name": "ipython",
    "version": 3
   },
   "file_extension": ".py",
   "mimetype": "text/x-python",
   "name": "python",
   "nbconvert_exporter": "python",
   "pygments_lexer": "ipython3",
   "version": "3.6.8"
  }
 },
 "nbformat": 4,
 "nbformat_minor": 2
}
