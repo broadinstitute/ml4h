{
 "cells": [
  {
   "cell_type": "code",
   "execution_count": null,
   "metadata": {},
   "outputs": [],
   "source": [
    "import os\n",
    "import sys\n",
    "from collections import defaultdict\n",
    "\n",
    "import pydicom\n",
    "import numpy as np\n",
    "%matplotlib inline\n",
    "import matplotlib.pyplot as plt"
   ]
  },
  {
   "cell_type": "markdown",
   "metadata": {},
   "source": [
    "# Get the raw data from the zip file and "
   ]
  },
  {
   "cell_type": "code",
   "execution_count": null,
   "metadata": {},
   "outputs": [],
   "source": [
    "!mkdir ./dcm_scratch\n",
    "!rm ./dcm_scratch/*\n",
    "!cp /mnt/ml4cvd/projects/bulk/cardiac_mri/1000387_20208_2_0.zip ./dcm_scratch/\n",
    "!unzip ./dcm_scratch/1000387_20208_2_0.zip -d ./dcm_scratch/"
   ]
  },
  {
   "cell_type": "markdown",
   "metadata": {},
   "source": [
    "Now separate the 3 views of the long axis.  There should a 2 chamber view (cine_segmented_lax_2ch), a 3 chamber view (cine_segmented_lax_3ch) and a 4 chamber view (cine_segmented_lax_4ch).  Each view has 50 instances covering the cardiac cycle from that perspective."
   ]
  },
  {
   "cell_type": "code",
   "execution_count": null,
   "metadata": {},
   "outputs": [],
   "source": [
    "dcm_dir = './dcm_scratch/'\n",
    "series = defaultdict(list)\n",
    "for dcm_file in os.listdir(dcm_dir):\n",
    "    if not dcm_file.endswith('.dcm'):\n",
    "        continue\n",
    "    dcm = pydicom.read_file(dcm_dir + dcm_file)\n",
    "    if 'cine_segmented_lax' in dcm.SeriesDescription.lower():\n",
    "        series[dcm.SeriesDescription.lower()].append(dcm)\n",
    "for k in series:\n",
    "    print(f'Long axis series {k} has {len(series[k])} instances')"
   ]
  },
  {
   "cell_type": "code",
   "execution_count": null,
   "metadata": {},
   "outputs": [],
   "source": [
    "def plot_lax(series, transpose=False, size=18):\n",
    "    cols = 2\n",
    "    rows = 25\n",
    "    _, axes = plt.subplots(rows, cols, figsize=(size, size))\n",
    "    for dcm in series:\n",
    "        col = (dcm.InstanceNumber-1)%cols\n",
    "        row = (dcm.InstanceNumber-1)//cols\n",
    "        if transpose:\n",
    "            axes[row, col].imshow(dcm.pixel_array.T)\n",
    "        else:\n",
    "            axes[row, col].imshow(dcm.pixel_array, cmap='gray')\n",
    "        axes[row, col].set_yticklabels([])\n",
    "        axes[row, col].set_xticklabels([])"
   ]
  },
  {
   "cell_type": "code",
   "execution_count": null,
   "metadata": {},
   "outputs": [],
   "source": [
    "plot_lax(series['cine_segmented_lax_4ch'])"
   ]
  },
  {
   "cell_type": "code",
   "execution_count": null,
   "metadata": {},
   "outputs": [],
   "source": [
    "plot_lax(series['cine_segmented_lax_3ch'], transpose=True)"
   ]
  },
  {
   "cell_type": "code",
   "execution_count": null,
   "metadata": {},
   "outputs": [],
   "source": [
    "plot_lax(series['cine_segmented_lax_2ch'], transpose=True)"
   ]
  },
  {
   "cell_type": "code",
   "execution_count": null,
   "metadata": {},
   "outputs": [],
   "source": []
  }
 ],
 "metadata": {
  "kernelspec": {
   "display_name": "Python 3",
   "language": "python",
   "name": "python3"
  },
  "language_info": {
   "codemirror_mode": {
    "name": "ipython",
    "version": 3
   },
   "file_extension": ".py",
   "mimetype": "text/x-python",
   "name": "python",
   "nbconvert_exporter": "python",
   "pygments_lexer": "ipython3",
   "version": "3.6.9"
  }
 },
 "nbformat": 4,
 "nbformat_minor": 2
}
