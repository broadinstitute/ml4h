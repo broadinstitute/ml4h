{
 "cells": [
  {
   "cell_type": "code",
   "execution_count": null,
   "metadata": {},
   "outputs": [],
   "source": [
    "import os\n",
    "import sys\n",
    "from collections import Counter\n",
    "\n",
    "import nibabel\n",
    "import numpy as np\n",
    "%matplotlib inline\n",
    "import matplotlib.pyplot as plt\n",
    "from matplotlib import gridspec"
   ]
  },
  {
   "cell_type": "code",
   "execution_count": null,
   "metadata": {},
   "outputs": [],
   "source": [
    "%%bash\n",
    "rm -rf ./nifti_scratch\n",
    "mkdir ./nifti_scratch\n",
    "unzip /mnt/ml4cvd/projects/bulk/brain_mri/1001278_20251_2_0.zip -d ./nifti_scratch/"
   ]
  },
  {
   "cell_type": "code",
   "execution_count": null,
   "metadata": {},
   "outputs": [],
   "source": [
    "nii_dir = './nifti_scratch/SWI/'\n",
    "nrow = 214\n",
    "ncol = 11\n",
    "counter = 0\n",
    "fig = plt.figure(figsize=(ncol, nrow)) \n",
    "gs = gridspec.GridSpec(nrow, ncol, wspace=0.0, hspace=0.0) \n",
    "\n",
    "for nii_file in os.listdir(nii_dir):\n",
    "    if not nii_file.endswith('.nii.gz'):\n",
    "        continue\n",
    "    try:\n",
    "        nifti_mri = nibabel.load(nii_dir + nii_file)\n",
    "    except:\n",
    "        pass\n",
    "    print('\\n' + nii_file)\n",
    "    print(nifti_mri)\n",
    "    nifti_array = nifti_mri.get_fdata()\n",
    "    print(nifti_array.shape)\n",
    "    \n",
    "    for i in range(nrow):\n",
    "        if i >= nifti_array.shape[-1]:\n",
    "            continue\n",
    "        ax = plt.subplot(gs[i, counter])\n",
    "        ax.imshow(nifti_array[..., i], cmap='gray', vmin=np.min(nifti_array), vmax=np.max(nifti_array))\n",
    "        ax.set_yticklabels([])\n",
    "        ax.set_xticklabels([])\n",
    "    plt.tight_layout()\n",
    "    counter += 1\n",
    "        \n",
    "    "
   ]
  },
  {
   "cell_type": "code",
   "execution_count": null,
   "metadata": {},
   "outputs": [],
   "source": [
    "def plot_nifti_array(nifti_array, slices, name):\n",
    "    sides = int(np.ceil(np.sqrt(slices)))\n",
    "    fig = plt.figure(figsize=(sides*2, sides*2)) \n",
    "    gs = gridspec.GridSpec(sides, sides, wspace=0.0, hspace=0.0) \n",
    "    vmin = np.min(nifti_array)\n",
    "    vmax = np.max(nifti_array)\n",
    "    print(f'Nifti name:{name} shape:{nifti_array.shape} min: {vmin} max: {vmax}')\n",
    "    for i in range(nifti_array.shape[-1]):\n",
    "        ax = plt.subplot(gs[i//sides, i%sides])\n",
    "        ax.imshow(nifti_array[..., i], cmap='gray', vmin=vmin, vmax=vmax)\n",
    "        ax.set_yticklabels([])\n",
    "        ax.set_xticklabels([])"
   ]
  },
  {
   "cell_type": "code",
   "execution_count": null,
   "metadata": {},
   "outputs": [],
   "source": [
    "for nii_file in os.listdir(nii_dir):\n",
    "    if not nii_file.endswith('.nii.gz'):\n",
    "        continue\n",
    "    nifti_mri = nibabel.load(nii_dir + nii_file)\n",
    "    nifti_array = nifti_mri.get_fdata()\n",
    "    plot_nifti_array(nifti_array, nifti_array.shape[-1], nii_file)"
   ]
  },
  {
   "cell_type": "code",
   "execution_count": null,
   "metadata": {},
   "outputs": [],
   "source": [
    "%%bash\n",
    "mkdir ./nifti_scratch\n",
    "unzip /mnt/ml4cvd/projects/bulk/brain_mri/1000169_20252_2_0.zip -d ./nifti_scratch/"
   ]
  },
  {
   "cell_type": "code",
   "execution_count": null,
   "metadata": {},
   "outputs": [],
   "source": [
    "nii_dir = './nifti_scratch/T1/'\n",
    "nrow = 200\n",
    "ncol = 6\n",
    "counter = 0\n",
    "fig = plt.figure(figsize=(ncol, nrow)) \n",
    "gs = gridspec.GridSpec(nrow, ncol, wspace=0.0, hspace=0.0) \n",
    "\n",
    "for nii_file in os.listdir(nii_dir):\n",
    "    if not nii_file.endswith('.nii.gz'):\n",
    "        continue\n",
    "    try:\n",
    "        nifti_mri = nibabel.load(nii_dir + nii_file)\n",
    "    except:\n",
    "        pass\n",
    "    print('\\n' + nii_file)\n",
    "    \n",
    "    nifti_array = nifti_mri.get_fdata()\n",
    "    unique, counts = np.unique(nifti_array, return_counts=True)\n",
    "    if len(counts) < 10:\n",
    "        [print(f'Value {v} has {c}') for v,c in zip(unique, counts)]\n",
    "    print(nifti_array.shape)\n",
    "    for i in range(nrow):\n",
    "        if i >= nifti_array.shape[-1]:\n",
    "            continue\n",
    "        ax = plt.subplot(gs[i, counter])\n",
    "        ax.imshow(nifti_array[..., i], cmap='gray', vmin=np.min(nifti_array), vmax=np.max(nifti_array))\n",
    "        ax.set_yticklabels([])\n",
    "        ax.set_xticklabels([])\n",
    "    plt.tight_layout()\n",
    "    counter += 1"
   ]
  },
  {
   "cell_type": "code",
   "execution_count": null,
   "metadata": {},
   "outputs": [],
   "source": [
    "%%bash\n",
    "rm -rf ./nifti_scratch\n",
    "mkdir ./nifti_scratch\n",
    "unzip /mnt/ml4cvd/projects/bulk/brain_mri/1000169_20253_2_0.zip -d ./nifti_scratch/"
   ]
  },
  {
   "cell_type": "code",
   "execution_count": null,
   "metadata": {},
   "outputs": [],
   "source": [
    "nii_dir = './nifti_scratch/T2_FLAIR/'\n",
    "nrow = 200\n",
    "ncol = 5\n",
    "counter = 0\n",
    "fig = plt.figure(figsize=(ncol, nrow)) \n",
    "gs = gridspec.GridSpec(nrow, ncol, wspace=0.0, hspace=0.0) \n",
    "\n",
    "for nii_file in os.listdir(nii_dir):\n",
    "    if not nii_file.endswith('.nii.gz'):\n",
    "        continue\n",
    "    try:\n",
    "        nifti_mri = nibabel.load(nii_dir + nii_file)\n",
    "    except:\n",
    "        pass\n",
    "    print('\\n' + nii_file)\n",
    "    nifti_array = nifti_mri.get_fdata()\n",
    "    print(nifti_array.shape)\n",
    "    for i in range(nrow):\n",
    "        if i >= nifti_array.shape[-1]:\n",
    "            continue\n",
    "        ax = plt.subplot(gs[i, counter])\n",
    "        ax.imshow(nifti_array[..., i], cmap='gray', vmin=np.min(nifti_array), vmax=np.max(nifti_array))\n",
    "        ax.set_yticklabels([])\n",
    "        ax.set_xticklabels([])\n",
    "    plt.tight_layout()\n",
    "    counter += 1"
   ]
  },
  {
   "cell_type": "code",
   "execution_count": null,
   "metadata": {},
   "outputs": [],
   "source": [
    "def plot_nifti_array_3d(a, slice_axis=-1):\n",
    "    sides = int(np.ceil(np.sqrt(a.shape[slice_axis])))\n",
    "    _, axes = plt.subplots(sides, sides, figsize=(16, 16))\n",
    "    print(nifti_array.shape)\n",
    "    vmin = np.min(a)\n",
    "    vmax = np.max(a)\n",
    "    for i in range(a.shape[slice_axis]):\n",
    "        axes[i//sides, i%sides].imshow(nifti_array[..., i], cmap='gray', vmin=vmin, vmax=vmax)\n",
    "        axes[i//sides, i%sides].set_yticklabels([])\n",
    "        axes[i//sides, i%sides].set_xticklabels([])"
   ]
  },
  {
   "cell_type": "code",
   "execution_count": null,
   "metadata": {},
   "outputs": [],
   "source": [
    "for nii_file in os.listdir(nii_dir):\n",
    "    if not nii_file.endswith('.nii.gz'):\n",
    "        continue\n",
    "    try:\n",
    "        nifti_mri = nibabel.load(nii_dir + nii_file)\n",
    "    except:\n",
    "        pass\n",
    "    print('\\n' + nii_file)\n",
    "    nifti_array = nifti_mri.get_fdata()\n",
    "    print(nifti_array.shape)\n",
    "    plot_nifti_array_3d(nifti_array)"
   ]
  },
  {
   "cell_type": "code",
   "execution_count": null,
   "metadata": {},
   "outputs": [],
   "source": []
  }
 ],
 "metadata": {
  "kernelspec": {
   "display_name": "Python 3",
   "language": "python",
   "name": "python3"
  },
  "language_info": {
   "codemirror_mode": {
    "name": "ipython",
    "version": 3
   },
   "file_extension": ".py",
   "mimetype": "text/x-python",
   "name": "python",
   "nbconvert_exporter": "python",
   "pygments_lexer": "ipython3",
   "version": "3.6.8"
  }
 },
 "nbformat": 4,
 "nbformat_minor": 2
}
