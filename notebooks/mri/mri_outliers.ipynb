{
 "cells": [
  {
   "cell_type": "code",
   "execution_count": null,
   "metadata": {},
   "outputs": [],
   "source": [
    "import os\n",
    "import sys\n",
    "import h5py\n",
    "import argparse\n",
    "import numpy as np\n",
    "from collections import Counter\n",
    "import xml.etree.ElementTree as et\n",
    "\n",
    "# Keras imports\n",
    "from tensorflow.keras.models import Model\n",
    "from tensorflow.keras.optimizers import Adam\n",
    "from tensorflow.keras.utils.vis_utils import model_to_dot\n",
    "from tensorflow.keras.layers import Input, Dense, Dropout, AlphaDropout, BatchNormalization, Activation\n",
    "\n",
    "# ML4CVD Imports\n",
    "from ml4cvd.plots import plot_ecg\n",
    "from ml4cvd.arguments import parse_args\n",
    "from ml4cvd.tensor_writer_ukbb import write_tensors\n",
    "from ml4cvd.recipes import train_multimodal_multitask\n",
    "from ml4cvd.models import make_multimodal_multitask_model\n",
    "from ml4cvd.tensor_generators import big_batch_from_minibatch_generator, test_train_valid_tensor_generators, TensorGenerator\n",
    "\n",
    "# IPython imports\n",
    "from IPython.display import Image\n",
    "%matplotlib inline\n",
    "import matplotlib.pyplot as plt"
   ]
  },
  {
   "cell_type": "code",
   "execution_count": null,
   "metadata": {},
   "outputs": [],
   "source": [
    "sys.argv = ['train', \n",
    "            '--tensors', '/mnt/disks/tensors-lv-mass/', \n",
    "            '--input_tensors', 'mri_systole_diastole_weighted', \n",
    "            '--output_tensors', 'mri_systole_diastole_segmented_weighted', 'lv_mass', 'end_systole_volume', 'end_diastole_volume', 'ejection_fraction',\n",
    "            '--batch_size', '4',\n",
    "            '--pool_z', '1',\n",
    "            '--epochs', '2',  \n",
    "            '--learning_rate', '0.001',\n",
    "            '--u_connect',\n",
    "            '--training_steps', '128',\n",
    "            '--validation_steps', '10',\n",
    "            '--test_steps', '12',\n",
    "            '--b_slice_force', '4',\n",
    "            '--model_file', '/mnt/ml4cvd/projects/jamesp/data/models/mri_systole_diastole_une_mass.hd5',\n",
    "            '--id', 'mri_systole_diastole_unet_mass']\n",
    "args = parse_args()\n",
    "#train_multimodal_multitask(args)"
   ]
  },
  {
   "cell_type": "code",
   "execution_count": null,
   "metadata": {},
   "outputs": [],
   "source": [
    "generate_train, generate_valid, generate_test = test_train_valid_tensor_generators(args.tensor_maps_in,  args.tensor_maps_out,  args.tensors, args.batch_size,   args.valid_ratio, args.test_ratio, args.test_modulo, args.balance_csvs)\n",
    "\n",
    "model = make_multimodal_multitask_model(**args.__dict__)\n",
    "\n",
    "test_data, test_labels, test_paths = big_batch_from_minibatch_generator(args.tensor_maps_in, args.tensor_maps_out,\n",
    "                                                                        generate_test, args.test_steps, True)\n",
    "\n",
    "predictions = model.predict(test_data, batch_size=args.batch_size)"
   ]
  },
  {
   "cell_type": "code",
   "execution_count": null,
   "metadata": {},
   "outputs": [],
   "source": [
    "IMAGE_EXT = '.png'\n",
    "def plot_scatter(prediction, truth, title, paths=None, prefix='./figures/', top_k=3):\n",
    "    margin = (np.max(truth)-np.min(truth))/100\n",
    "    plt.figure(figsize=(16, 8))\n",
    "    plt.plot([np.min(truth),np.max(truth)],[np.min(truth),np.max(truth)], linewidth=2)\n",
    "    plt.plot([np.min(prediction),np.max(prediction)],[np.min(prediction),np.max(prediction)], linewidth=4)\n",
    "    plt.scatter(prediction, truth)\n",
    "    if paths is not None:\n",
    "        diff = np.abs(prediction-truth)\n",
    "        argsorted = diff.argsort(axis=0)[:, 0]\n",
    "        for idx in argsorted[:top_k]:\n",
    "            plt.text(prediction[idx]+margin, truth[idx], os.path.basename(paths[idx]))\n",
    "        for idx in argsorted[-top_k:]:\n",
    "            plt.text(prediction[idx]+margin, truth[idx], os.path.basename(paths[idx]))\n",
    "    plt.xlabel('Predictions')\n",
    "    plt.ylabel('Actual')\n",
    "    plt.title(title + '\\n')\n",
    "    pearson = np.corrcoef(prediction.flatten(), truth.flatten())[1, 0]  # corrcoef returns full covaraviance matrix\n",
    "    print(\"Pearson coefficient is: {}\".format(pearson))\n",
    "    plt.text(np.min(prediction), np.max(truth), 'Pearson:%0.3f R^2:%0.3f' % (pearson, (pearson * pearson)))\n",
    "    figure_path = os.path.join(prefix, 'scatter_' + title + IMAGE_EXT)\n",
    "    if not os.path.exists(os.path.dirname(figure_path)):\n",
    "        os.makedirs(os.path.dirname(figure_path))\n",
    "    plt.savefig(figure_path)\n",
    "    print(\"Saved scatter plot at: {}\".format(figure_path))\n",
    "    return {title + '_pearson': pearson}"
   ]
  },
  {
   "cell_type": "code",
   "execution_count": null,
   "metadata": {},
   "outputs": [],
   "source": [
    "plot_path = './recipes_output/'\n",
    "print(len(test_paths))\n",
    "for y, tm in zip(predictions, args.tensor_maps_out):\n",
    "    if tm.is_categorical_any() or len(tm.shape) != 1:\n",
    "        continue\n",
    "    plot_scatter(tm.rescale(y.copy()), tm.rescale(test_labels[tm.output_name()].copy()), tm.name, test_paths, plot_path)"
   ]
  },
  {
   "cell_type": "code",
   "execution_count": null,
   "metadata": {},
   "outputs": [],
   "source": [
    "xdir = '/mnt/disks/tensors-lv-mass/2019-04-10/'\n",
    "paths = [xdir+'5688245.hd5']\n",
    "np.random.seed(1234)\n",
    "generator = TensorGenerator(1, args.tensor_maps_in, args.tensor_maps_out, paths, None, True)\n",
    "data, labels, _, hd5s = next(generator)\n",
    "predictions = model.predict(data, batch_size=1)\n",
    "y = {tm.output_name():p for p, tm in zip(predictions, args.tensor_maps_out)}\n",
    "print(list(labels.keys()))\n",
    "systole_idx = 1\n",
    "diastole_idx = 0\n",
    "hd5 = h5py.File(hd5s[0], 'r')\n",
    "print('true lv mass:', labels['output_lv_mass_continuous'], 'predicted lv mass:', y['output_lv_mass_continuous'])\n",
    "truth = np.argmax(labels['output_mri_systole_diastole_segmented_categorical'][0, :, :, systole_idx, :], axis=-1)\n",
    "sys_prediction = np.argmax(y['output_mri_systole_diastole_segmented_categorical'][0, :, :, systole_idx, :], axis=-1)\n",
    "true_donut = np.ma.masked_where(truth == 2, data['input_mri_systole_diastole'][0, :, :, systole_idx, 0])\n",
    "predict_donut = np.ma.masked_where(sys_prediction == 2, data['input_mri_systole_diastole'][0, :, :, systole_idx, 0])\n",
    "plt.imshow(truth)"
   ]
  },
  {
   "cell_type": "code",
   "execution_count": null,
   "metadata": {},
   "outputs": [],
   "source": [
    "plt.imshow(sys_prediction)"
   ]
  },
  {
   "cell_type": "code",
   "execution_count": null,
   "metadata": {},
   "outputs": [],
   "source": [
    "plt.imshow(data['input_mri_systole_diastole'][0, :, :, systole_idx, 0])"
   ]
  },
  {
   "cell_type": "code",
   "execution_count": null,
   "metadata": {},
   "outputs": [],
   "source": [
    "plt.imshow(true_donut)"
   ]
  },
  {
   "cell_type": "code",
   "execution_count": null,
   "metadata": {},
   "outputs": [],
   "source": [
    "plt.imshow(predict_donut)"
   ]
  },
  {
   "cell_type": "code",
   "execution_count": null,
   "metadata": {},
   "outputs": [],
   "source": [
    "diastole_truth = np.argmax(labels['output_mri_systole_diastole_segmented_categorical'][0, :, :, diastole_idx, :], axis=-1)\n",
    "diastole_prediction = np.argmax(y['output_mri_systole_diastole_segmented_categorical'][0, :, :, diastole_idx, :], axis=-1)\n",
    "diastole_donut = np.ma.masked_where(diastole_truth == 2, data['input_mri_systole_diastole'][0, :, :, diastole_idx, 0])\n",
    "diastole_predict_donut = np.ma.masked_where(diastole_prediction == 2, data['input_mri_systole_diastole'][0, :, :, diastole_idx, 0])\n",
    "plt.imshow(diastole_truth)"
   ]
  },
  {
   "cell_type": "code",
   "execution_count": null,
   "metadata": {},
   "outputs": [],
   "source": [
    "plt.imshow(diastole_prediction)"
   ]
  },
  {
   "cell_type": "code",
   "execution_count": null,
   "metadata": {},
   "outputs": [],
   "source": [
    "plt.imshow(data['input_mri_systole_diastole'][0, :, :, diastole_idx, 0])"
   ]
  },
  {
   "cell_type": "code",
   "execution_count": null,
   "metadata": {},
   "outputs": [],
   "source": [
    "plt.imshow(diastole_donut)"
   ]
  },
  {
   "cell_type": "code",
   "execution_count": null,
   "metadata": {},
   "outputs": [],
   "source": [
    "plt.imshow(diastole_predict_donut)"
   ]
  },
  {
   "cell_type": "code",
   "execution_count": null,
   "metadata": {},
   "outputs": [],
   "source": []
  },
  {
   "cell_type": "code",
   "execution_count": null,
   "metadata": {},
   "outputs": [],
   "source": []
  }
 ],
 "metadata": {
  "kernelspec": {
   "display_name": "Python 3",
   "language": "python",
   "name": "python3"
  },
  "language_info": {
   "codemirror_mode": {
    "name": "ipython",
    "version": 3
   },
   "file_extension": ".py",
   "mimetype": "text/x-python",
   "name": "python",
   "nbconvert_exporter": "python",
   "pygments_lexer": "ipython3",
   "version": "3.6.8"
  }
 },
 "nbformat": 4,
 "nbformat_minor": 2
}
