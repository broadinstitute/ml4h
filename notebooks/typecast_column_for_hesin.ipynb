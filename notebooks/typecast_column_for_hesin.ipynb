{
 "cells": [
  {
   "cell_type": "code",
   "execution_count": null,
   "id": "8114fd33",
   "metadata": {},
   "outputs": [],
   "source": [
    "# This notebook can be used to load hesin files, typecast columns type and the saving as hesin.tsv format"
   ]
  },
  {
   "cell_type": "code",
   "execution_count": null,
   "id": "a1acb95e",
   "metadata": {},
   "outputs": [],
   "source": [
    "import pandas as pd\n",
    "import numpy as np"
   ]
  },
  {
   "cell_type": "code",
   "execution_count": null,
   "id": "104f6c29",
   "metadata": {},
   "outputs": [],
   "source": [
    "\n",
    "txt_file_path = \"\" #/home/user/hesin_oper.txt\n",
    "tsv_file_path = \"\" #/home/user/hesin_oper.tsv\n",
    "df=pd.read_csv(\"file_path\", sep = \"\\t\")\n",
    "df"
   ]
  },
  {
   "cell_type": "code",
   "execution_count": null,
   "id": "56b351e2",
   "metadata": {},
   "outputs": [],
   "source": [
    "df.dtypes"
   ]
  },
  {
   "cell_type": "code",
   "execution_count": null,
   "id": "8df7c498",
   "metadata": {},
   "outputs": [],
   "source": [
    "col_list = list(df.columns)\n",
    "col_list"
   ]
  },
  {
   "cell_type": "code",
   "execution_count": null,
   "id": "ec2a287a",
   "metadata": {},
   "outputs": [],
   "source": [
    "# Column list\n",
    "\n",
    "# hesin_oper_int_columns = [\"eid\",\"ins_index\",\"arr_index\",\"level\",\"posopdur\",\"preopdur\"]\n",
    "# hesin_oper_str_columns = [\"opdate\",\"oper3\",\"oper3_nb\",\"oper4\",\"oper4_nb\"]\n",
    "\n",
    "# hesin_int_columns = [\"eid\",\"ins_index\",\"epidur\",\"bedyear\",\"epistat\",\"epitype\",\"epiorder\",\"spell_index\",\"spell_seq\",\n",
    "#                \"speldur\",\"elecdur\",\"admimeth_uni\",\"admisorc_uni\",\"firstreg\",\"classpat_uni\",\"intmanag_uni\",\n",
    "#                \"mainspef_uni\",\"tretspef_uni\",\"operstat\",\"dismeth_uni\",\"dismeth\",\"carersi\"]\n",
    "# hesin_str_columns = [\"tretspef\",\"disdate\",\"disdest_uni\",\"disdest\",\"mainspef\",\"intmanag\",\"classpat\",\n",
    "#                \"admisorc\",\"admimeth\",\"admidate\",\"elecdate\",\"category\",\"pctcode\",\"spelend\",\"spelbgin\",\n",
    "#               \"epiend\",\"epistart\",\"source\",\"dsource\",\"gpprpct\"]"
   ]
  },
  {
   "cell_type": "code",
   "execution_count": null,
   "id": "47734776",
   "metadata": {},
   "outputs": [],
   "source": [
    "#hesin_oper.txt\n",
    "\n",
    "df.loc[:,df.columns.isin(hesin_oper_int_columns)] = df.loc[:,df.columns.isin(hesin_oper_int_columns)].astype('Int64')\n",
    "df.loc[:,df.columns.isin(hesin_oper_str_columns)] = df.loc[:,df.columns.isin(hesin_oper_str_columns)].astype('string')\n",
    "df = df.filter(col_list)\n",
    "df.dtypes"
   ]
  },
  {
   "cell_type": "code",
   "execution_count": null,
   "id": "0853131c",
   "metadata": {},
   "outputs": [],
   "source": [
    "df"
   ]
  },
  {
   "cell_type": "code",
   "execution_count": null,
   "id": "9dda0417",
   "metadata": {},
   "outputs": [],
   "source": [
    "df.to_csv(\"tsv_file_path\", sep = \"\\t\", index = False)\n"
   ]
  },
  {
   "cell_type": "code",
   "execution_count": null,
   "id": "c5185a64",
   "metadata": {},
   "outputs": [],
   "source": []
  }
 ],
 "metadata": {
  "kernelspec": {
   "display_name": "Python 3 (ipykernel)",
   "language": "python",
   "name": "python3"
  },
  "language_info": {
   "codemirror_mode": {
    "name": "ipython",
    "version": 3
   },
   "file_extension": ".py",
   "mimetype": "text/x-python",
   "name": "python",
   "nbconvert_exporter": "python",
   "pygments_lexer": "ipython3",
   "version": "3.8.10"
  }
 },
 "nbformat": 4,
 "nbformat_minor": 5
}
