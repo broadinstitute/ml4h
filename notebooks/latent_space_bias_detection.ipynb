{
 "cells": [
  {
   "cell_type": "code",
   "execution_count": null,
   "id": "f22cd600",
   "metadata": {},
   "outputs": [],
   "source": [
    "%load_ext autoreload\n",
    "%autoreload 2"
   ]
  },
  {
   "cell_type": "code",
   "execution_count": null,
   "id": "d5374fcd",
   "metadata": {},
   "outputs": [],
   "source": [
    "# !pip install --upgrade nbformat\n"
   ]
  },
  {
   "cell_type": "code",
   "execution_count": null,
   "id": "88039de4",
   "metadata": {},
   "outputs": [],
   "source": [
    "%matplotlib inline\n"
   ]
  },
  {
   "cell_type": "code",
   "execution_count": null,
   "id": "bd1c98ea",
   "metadata": {},
   "outputs": [],
   "source": [
    "!pip install umap-learn[plot]"
   ]
  },
  {
   "cell_type": "code",
   "execution_count": null,
   "id": "9669b72e",
   "metadata": {},
   "outputs": [],
   "source": [
    "import os\n",
    "os.environ[\"CUDA_VISIBLE_DEVICES\"] = \"\"\n",
    "import umap.plot\n",
    "import umap.umap_ as umap\n",
    "from collections import defaultdict\n",
    "import matplotlib.pyplot as plt\n",
    "from ml4h.explorations import latent_space_dataframe,stratify_and_project_latent_space,plot_nested_dictionary,iterative_subspace_removal"
   ]
  },
  {
   "cell_type": "code",
   "execution_count": null,
   "id": "edfbf94c",
   "metadata": {},
   "outputs": [],
   "source": [
    "#code to copy files from google cloud\n",
    "# !gsutil cp gs://fc-e5ea247f-18af-45e4-825a-71f0537e3cb7/hidden_ecg_rest_median_raw_10_dropout_pair_contrastive_lax_4ch_cycle_ecg_median_10_pretrained_256d_v2020_06_07.tsv latent_file.tsv\n",
    "    \n",
    "\n",
    "# !gsutil cp gs://fc-e5ea247f-18af-45e4-825a-71f0537e3cb7/tensors_all_union.csv tensors_all_union.csv\n",
    "    \n",
    "# !gsutil cp gs://fc-e5ea247f-18af-45e4-825a-71f0537e3cb7/hidden_lax_4ch_heart_center_dropout_pair_contrastive_lax_4ch_cycle_ecg_median_10_pretrained_256d_v2020_06_07.tsv latent_file_for_comparison.tsv"
   ]
  },
  {
   "cell_type": "code",
   "execution_count": null,
   "id": "6b50400a",
   "metadata": {},
   "outputs": [],
   "source": [
    "# Loading file path from local dir, gsutil cp was not working but you can try gsutil\n",
    "ml4h_dir = os.path.dirname(os.getcwd())\n",
    "latent_file = os.path.join(ml4h_dir,\"latent_data_test/latent_file.tsv\")\n",
    "latent_file_for_comparison = os.path.join(ml4h_dir,\"latent_data_test/latent_file_for_comparison.tsv\")\n",
    "label_file = os.path.join(ml4h_dir,\"latent_data_test/tensors_all_union.csv\") "
   ]
  },
  {
   "cell_type": "code",
   "execution_count": null,
   "id": "3a369653",
   "metadata": {},
   "outputs": [],
   "source": [
    "# defining categorical and continuous covariates variables\n",
    "categorical_covariates = ['Sex_Male_0_0',\n",
    " 'atrial_fibrillation_or_flutter',\n",
    " 'coronary_artery_disease',\n",
    " 'diabetes_type_2',\n",
    " 'hypercholesterolemia',\n",
    " 'hypertension',\n",
    " 'Sinus_bradycardia',\n",
    " 'Marked_sinus_bradycardia',\n",
    " 'Other_sinus_rhythm']\n",
    "\n",
    "continuous_covariates = ['age', 'bmi', 'RRInterval', 'QTInterval', 'LVM', 'RVEDV', 'PC1', 'PC2', 'PC3']\n",
    "\n",
    "all_scores = defaultdict(dict)\n"
   ]
  },
  {
   "cell_type": "code",
   "execution_count": null,
   "id": "5b90855f",
   "metadata": {},
   "outputs": [],
   "source": [
    "continuous_covariates"
   ]
  },
  {
   "cell_type": "code",
   "execution_count": null,
   "id": "c0136ab8",
   "metadata": {},
   "outputs": [],
   "source": [
    "#renaming columns of latent file\n",
    "col_rename = {f'22009_Genetic-principal-components_0_{i}': f'PC{i}' for i in range(1,41)}\n",
    "col_rename['Genetic-sex_Male_0_0'] = 'sex'\n",
    "col_rename['21003_Age-when-attended-assessment-centre_2_0'] = 'age'\n",
    "col_rename['21001_Body-mass-index-BMI_2_0'] = 'bmi'"
   ]
  },
  {
   "cell_type": "markdown",
   "id": "dcb8b975",
   "metadata": {},
   "source": [
    "# ECG Inferences from contrasive paired model"
   ]
  },
  {
   "cell_type": "code",
   "execution_count": null,
   "id": "5f12c555",
   "metadata": {},
   "outputs": [],
   "source": [
    "latent_df = latent_space_dataframe(latent_file, label_file)\n",
    "latent_df = latent_df.rename(columns=col_rename)\n",
    "latent_df.head(5)"
   ]
  },
  {
   "cell_type": "code",
   "execution_count": null,
   "id": "90900f1e",
   "metadata": {},
   "outputs": [],
   "source": [
    "latent_dimension = 256\n",
    "latent_cols = [f'latent_{i}' for i in range(latent_dimension)]\n",
    "for c in categorical_covariates:\n",
    "    all_scores['DropFuse ECG'].update(stratify_and_project_latent_space(c, 1, 0, latent_cols, latent_df))\n",
    "for c in continuous_covariates:\n",
    "    all_scores['DropFuse ECG'].update(stratify_and_project_latent_space(c, latent_df[c].median(), \n",
    "                                                                        0, latent_cols, latent_df))\n",
    "all_scores    "
   ]
  },
  {
   "cell_type": "code",
   "execution_count": null,
   "id": "23d21645",
   "metadata": {},
   "outputs": [],
   "source": [
    "plot_nested_dictionary(all_scores)"
   ]
  },
  {
   "cell_type": "markdown",
   "id": "102c599f",
   "metadata": {},
   "source": [
    "# MRI Inferences from contrasive paired model"
   ]
  },
  {
   "cell_type": "code",
   "execution_count": null,
   "id": "a1764635",
   "metadata": {},
   "outputs": [],
   "source": [
    "# loading latent space file\n",
    "latent_df = latent_space_dataframe(latent_file_for_comparison, label_file)\n",
    "latent_dimension = 256\n",
    "latent_cols = [f'latent_{i}' for i in range(latent_dimension)]\n",
    "latent_df = latent_df.rename(columns=col_rename)\n",
    "for c in categorical_covariates:\n",
    "    all_scores['DropFuse MRI'].update(stratify_and_project_latent_space(c, 1, 0, latent_cols, latent_df))\n",
    "for c in continuous_covariates:\n",
    "    all_scores['DropFuse MRI'].update(stratify_and_project_latent_space(c, latent_df[c].median(), \n",
    "                                                                        0, latent_cols, latent_df))\n"
   ]
  },
  {
   "cell_type": "code",
   "execution_count": null,
   "id": "3c52ad70",
   "metadata": {},
   "outputs": [],
   "source": [
    "plot_nested_dictionary(all_scores)"
   ]
  },
  {
   "cell_type": "code",
   "execution_count": null,
   "id": "f8ef8ac5",
   "metadata": {},
   "outputs": [],
   "source": [
    "space = latent_df[latent_cols].to_numpy()\n",
    "umapped = umap.UMAP().fit_transform(space)\n",
    "print(umapped.shape)\n",
    "print(latent_df['Sex_Male_0_0'].to_numpy().shape)"
   ]
  },
  {
   "cell_type": "code",
   "execution_count": null,
   "id": "b50b442b",
   "metadata": {},
   "outputs": [],
   "source": [
    "fig, ax = plt.subplots(figsize=(3,3), dpi=300)\n",
    "ax.scatter(umapped[latent_df['Sex_Male_0_0'].to_numpy()==1,0], \n",
    "           umapped[latent_df['Sex_Male_0_0'].to_numpy()==1,1], s=.1, label='Male')\n",
    "ax.scatter(umapped[latent_df['Sex_Male_0_0'].to_numpy()==0,0], \n",
    "           umapped[latent_df['Sex_Male_0_0'].to_numpy()==0,1], s=.1, label='Female')\n",
    "ax.axis(\"off\")\n",
    "ax.legend()"
   ]
  },
  {
   "cell_type": "code",
   "execution_count": null,
   "id": "cdeafc54",
   "metadata": {},
   "outputs": [],
   "source": [
    "r2_thresh = 0.01\n",
    "adjust_cols = ['Sex_Male_0_0']\n",
    "new_cols, latent_df = iterative_subspace_removal(adjust_cols, latent_df, latent_cols, r2_thresh=r2_thresh)"
   ]
  },
  {
   "cell_type": "code",
   "execution_count": null,
   "id": "f7b3c3aa",
   "metadata": {},
   "outputs": [],
   "source": [
    "new_space = latent_df[new_cols].to_numpy()\n",
    "umapped_debias = umap.UMAP().fit_transform(new_space)"
   ]
  },
  {
   "cell_type": "code",
   "execution_count": null,
   "id": "bef5fd3d",
   "metadata": {},
   "outputs": [],
   "source": [
    "fig, ax = plt.subplots(figsize=(3,3), dpi=300)\n",
    "ax.scatter(umapped_debias[latent_df['Sex_Male_0_0'].to_numpy()==1,0], \n",
    "           umapped_debias[latent_df['Sex_Male_0_0'].to_numpy()==1,1], s=.1, label='Male')\n",
    "ax.scatter(umapped_debias[latent_df['Sex_Male_0_0'].to_numpy()==0,0], \n",
    "           umapped_debias[latent_df['Sex_Male_0_0'].to_numpy()==0,1], s=.1, label='Female')\n",
    "ax.axis(\"off\")\n",
    "ax.legend()"
   ]
  },
  {
   "cell_type": "code",
   "execution_count": null,
   "id": "c53ea8ca",
   "metadata": {},
   "outputs": [],
   "source": []
  }
 ],
 "metadata": {
  "kernelspec": {
   "display_name": "Python 3 (ipykernel)",
   "language": "python",
   "name": "python3"
  },
  "language_info": {
   "codemirror_mode": {
    "name": "ipython",
    "version": 3
   },
   "file_extension": ".py",
   "mimetype": "text/x-python",
   "name": "python",
   "nbconvert_exporter": "python",
   "pygments_lexer": "ipython3",
   "version": "3.8.10"
  }
 },
 "nbformat": 4,
 "nbformat_minor": 5
}
