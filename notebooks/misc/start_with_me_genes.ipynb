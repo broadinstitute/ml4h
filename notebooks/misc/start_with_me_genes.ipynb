{
 "cells": [
  {
   "cell_type": "code",
   "execution_count": null,
   "metadata": {},
   "outputs": [],
   "source": [
    "import os\n",
    "import sys\n",
    "import csv\n",
    "import h5py\n",
    "import argparse\n",
    "import numpy as np\n",
    "from collections import Counter\n",
    "\n",
    "# 3rd party imports\n",
    "from sklearn import manifold\n",
    "from tensorflow.keras.models import Model\n",
    "from keras import backend as K\n",
    "from IPython.display import Image\n",
    "\n",
    "# ML4CVD Imports\n",
    "from ml4cvd.defines import TENSOR_EXT\n",
    "from ml4cvd.arguments import parse_args\n",
    "from ml4cvd.recipes import train_shallow_model, train_multimodal_multitask, test_multimodal_multitask\n",
    "from ml4cvd.models import make_multimodal_multitask_model, train_model_from_generators, make_hidden_layer_model\n",
    "from ml4cvd.tensor_generators import TensorGenerator, big_batch_from_minibatch_generator, test_train_valid_tensor_generators\n",
    "\n",
    "\n",
    "%matplotlib inline\n",
    "import matplotlib.pyplot as plt\n",
    "from matplotlib.ticker import NullFormatter"
   ]
  },
  {
   "cell_type": "code",
   "execution_count": null,
   "metadata": {},
   "outputs": [],
   "source": [
    "gene2samples = {}\n",
    "samples2genes = {}\n",
    "tensor_path_prefix = '/mnt/disks/pix-size-tensors/2019-04-29/'\n",
    "with open('/home/sam/genes_mri_ecg_carriers_sampleid.tsv', 'r') as my_tsv:\n",
    "    lol = list(csv.reader(my_tsv, delimiter='\\t'))\n",
    "for row in lol[1:]:\n",
    "    sample_list = [tensor_path_prefix + t + TENSOR_EXT for t in row[6].split(';')]\n",
    "    gene2samples[row[0]] = sample_list\n",
    "    for s in sample_list:\n",
    "        samples2genes[s] = row[0]\n",
    "[print(k, len(gene2samples[k])) for k in gene2samples]\n",
    "gene_labels = ['TTN', 'AKAP9', 'DSC2', 'NEBL', 'RYR2', 'TRDN']\n"
   ]
  },
  {
   "cell_type": "code",
   "execution_count": null,
   "metadata": {},
   "outputs": [],
   "source": [
    "with open('/home/sam/start_with_me_lof.tsv', mode='w') as sample_lof_file:\n",
    "    sample_lof_writer = csv.writer(sample_lof_file, delimiter='\\t', quotechar='\"', quoting=csv.QUOTE_MINIMAL)\n",
    "    sample_lof_writer.writerow(['sample_id', 'gene'])\n",
    "    for g in gene2samples:\n",
    "        for sample in gene2samples[g]:\n",
    "            sample_lof_writer.writerow([os.path.splitext(os.path.basename(sample))[0], g])"
   ]
  },
  {
   "cell_type": "code",
   "execution_count": null,
   "metadata": {},
   "outputs": [],
   "source": [
    "print(gene2samples['LMNA'])\n",
    "gene2samples['TTN'] = []\n",
    "with open('/home/sam/tranche01_hc_ttntv.csv', 'r') as my_tsv:\n",
    "    lol = list(csv.reader(my_tsv, delimiter=','))\n",
    "for row in lol[1:]:\n",
    "    tp = tensor_path_prefix + row[0] + TENSOR_EXT\n",
    "    gene2samples['TTN'].append(tp)\n",
    "    samples2genes[tp] = 'TTN'\n",
    "for k in gene2samples:\n",
    "    print(k, len(gene2samples[k]))\n",
    "print(gene2samples['TTN'])"
   ]
  },
  {
   "cell_type": "code",
   "execution_count": null,
   "metadata": {},
   "outputs": [],
   "source": [
    "sys.argv = ['train', \n",
    "            '--tensors', '/mnt/disks/pix-size-tensors/2019-04-29/', \n",
    "            '--input_tensors', 'mri_systole_diastole_weighted', 'mri_pixel_width', 'mri_pixel_height',\n",
    "            '--output_tensors', 'mri_systole_diastole_segmented_weighted', 'end_systole_volume', 'end_diastole_volume',\n",
    "                                 'ejection_fraction', 'lv_mass',\n",
    "            '--batch_size', '4',\n",
    "            '--pool_z', '1',\n",
    "            '--epochs', '2',  \n",
    "            '--learning_rate', '0.001',\n",
    "            '--u_connect',\n",
    "            '--training_steps', '128',\n",
    "            '--validation_steps', '6',\n",
    "            '--test_steps', '6',\n",
    "            '--model_file', '/home/sam/ml/trained_models/mri_systole_diastole_pixsize_unet_to_seg_volumes_mass_ef/mri_systole_diastole_pixsize_unet_to_seg_volumes_mass_ef.hd5',\n",
    "            '--id', 'mri_systole_diastole_unet_lv_mass_diseases']\n",
    "args = parse_args()\n",
    "generate_train, generate_valid, generate_test = test_train_valid_tensor_generators(args.tensor_maps_in,  args.tensor_maps_out,  args.tensors, args.batch_size,   args.valid_ratio, args.test_ratio, args.test_modulo, args.balance_csvs)\n",
    "model = make_multimodal_multitask_model(**args.__dict__)\n",
    "test_data, test_labels, test_paths = big_batch_from_minibatch_generator(args.tensor_maps_in, args.tensor_maps_out,\n",
    "                                                                        generate_test, args.test_steps*16)"
   ]
  },
  {
   "cell_type": "code",
   "execution_count": null,
   "metadata": {},
   "outputs": [],
   "source": [
    "gene2batch = {}\n",
    "for g in gene2samples:\n",
    "    gene_generator = TensorGenerator(args.batch_size, args.tensor_maps_in, args.tensor_maps_out, gene2samples[g], None, True)\n",
    "    if g in gene_labels:\n",
    "        gene2batch[g] = big_batch_from_minibatch_generator(args.tensor_maps_in, args.tensor_maps_out, gene_generator, args.test_steps) "
   ]
  },
  {
   "cell_type": "code",
   "execution_count": null,
   "metadata": {},
   "outputs": [],
   "source": [
    "for g in gene_labels:\n",
    "    for k in test_data:\n",
    "        test_data[k] = np.concatenate([test_data[k], gene2batch[g][0][k]])\n",
    "    for k in test_labels:\n",
    "        test_labels[k] = np.concatenate([test_labels[k], gene2batch[g][1][k]])    \n",
    "    test_paths.extend(gene2batch[g][2])"
   ]
  },
  {
   "cell_type": "code",
   "execution_count": null,
   "metadata": {},
   "outputs": [],
   "source": [
    "layer_name = 'embed'\n",
    "d1 = model.get_layer(layer_name)\n",
    "w1 = d1.get_weights()\n",
    "for w in w1:\n",
    "    print(w.shape)\n",
    "embed_model = make_hidden_layer_model(model, args.tensor_maps_in, layer_name)\n",
    "embed_model.summary()\n",
    "print(list(test_data.keys()))\n",
    "x_embed = embed_model.predict(test_data, batch_size=args.batch_size)\n",
    "predictions = model.predict(test_data, batch_size=args.batch_size)"
   ]
  },
  {
   "cell_type": "code",
   "execution_count": null,
   "metadata": {},
   "outputs": [],
   "source": [
    "categorical_labels = [ 'Genetic-sex_Female_0_0', 'hypertension', 'coronary_artery_disease', 'Handedness-chiralitylaterality_Righthanded_0_0']\n",
    "continuous_labels = ['22200_Year-of-birth_0_0|34_Year-of-birth_0_0', '21001_Body-mass-index-BMI_0_0', '1070_Time-spent-watching-television-TV_0_0', '102_Pulse-rate-automated-reading_0_0', '1488_Tea-intake_0_0', '21002_Weight_0_0']\n",
    "\n",
    "label_dict = {k: np.zeros((len(test_paths))) for k in categorical_labels + continuous_labels + gene_labels}\n",
    "for i, tp in enumerate(test_paths):\n",
    "    hd5 = h5py.File(tp, 'r')\n",
    "    #print(list(hd5['continuous'].keys()))\n",
    "    for k in categorical_labels:\n",
    "        if k in hd5['categorical']:\n",
    "            label_dict[k][i] = 1\n",
    "        elif k in hd5 and hd5[k][0] == 1:\n",
    "            label_dict[k][i] = 1\n",
    "    for mk in continuous_labels:\n",
    "        for k in mk.split('|'):\n",
    "            if k in hd5['continuous']:\n",
    "                label_dict[mk][i] = hd5['continuous'][k][0]\n",
    "    for k in gene_labels:\n",
    "        if tp in samples2genes and samples2genes[tp] == k:\n",
    "            label_dict[k][i] = 1\n",
    "            \n",
    "print(list(label_dict.keys()))\n",
    "print(len(test_paths))"
   ]
  },
  {
   "cell_type": "code",
   "execution_count": null,
   "metadata": {},
   "outputs": [],
   "source": [
    "n_components = 2\n",
    "max_rows = 30\n",
    "(fig, subplots) = plt.subplots(min(max_rows, len(label_dict)), 3, figsize=(20, max_rows*4))\n",
    "perplexities = [18, 25, 40]\n",
    "\n",
    "p2y = {}\n",
    "for i, perplexity in enumerate(perplexities):\n",
    "    tsne = manifold.TSNE(n_components=n_components, init='random', random_state=0, perplexity=perplexity, n_iter=5000)\n",
    "    p2y[perplexity] = tsne.fit_transform(x_embed)\n",
    "\n",
    "j = -1\n",
    "for k in label_dict:\n",
    "    j += 1\n",
    "    if j == max_rows:\n",
    "        break\n",
    "    if k in categorical_labels+gene_labels:\n",
    "        red = label_dict[k] == 1.0\n",
    "        green = label_dict[k] != 1.0\n",
    "    elif k in continuous_labels:\n",
    "        colors = label_dict[k]      \n",
    "        \n",
    "    print('process key:', k)\n",
    "    for i, perplexity in enumerate(perplexities):\n",
    "        ax = subplots[j, i]\n",
    "        ax.set_title(k+\", Perplexity=%d\" % perplexity)\n",
    "        if k in categorical_labels+gene_labels:\n",
    "            ax.scatter(p2y[perplexity][green, 0], p2y[perplexity][green, 1], c=\"g\")\n",
    "            ax.scatter(p2y[perplexity][red, 0], p2y[perplexity][red, 1], c=\"r\")\n",
    "            ax.legend(['no_'+k, k], loc='lower left')\n",
    "        elif k in continuous_labels:\n",
    "            points = ax.scatter(p2y[perplexity][:, 0], p2y[perplexity][:, 1], c=colors, cmap='jet') \n",
    "            if i == len(perplexities)-1:\n",
    "                fig.colorbar(points, ax=ax)\n",
    "                \n",
    "        ax.xaxis.set_major_formatter(NullFormatter())\n",
    "        ax.yaxis.set_major_formatter(NullFormatter())\n",
    "        ax.axis('tight')\n",
    "plt.show()\n"
   ]
  },
  {
   "cell_type": "code",
   "execution_count": null,
   "metadata": {},
   "outputs": [],
   "source": []
  }
 ],
 "metadata": {
  "kernelspec": {
   "display_name": "Python 3",
   "language": "python",
   "name": "python3"
  },
  "language_info": {
   "codemirror_mode": {
    "name": "ipython",
    "version": 3
   },
   "file_extension": ".py",
   "mimetype": "text/x-python",
   "name": "python",
   "nbconvert_exporter": "python",
   "pygments_lexer": "ipython3",
   "version": "3.6.8"
  }
 },
 "nbformat": 4,
 "nbformat_minor": 2
}
