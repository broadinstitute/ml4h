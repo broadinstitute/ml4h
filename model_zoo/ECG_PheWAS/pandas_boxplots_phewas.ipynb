{
 "cells": [
  {
   "cell_type": "code",
   "execution_count": null,
   "id": "78c8a1da",
   "metadata": {},
   "outputs": [],
   "source": [
    "import pandas as pd\n",
    "import seaborn as sns\n",
    "# IPython imports\n",
    "%matplotlib inline\n",
    "import matplotlib.pyplot as plt"
   ]
  },
  {
   "cell_type": "code",
   "execution_count": null,
   "id": "e309bc20",
   "metadata": {},
   "outputs": [],
   "source": [
    "# Get the order of categories from MGH and use for all cohorts\n",
    "df = pd.read_csv('phewas_mgh_with_mgh_v2022_11_30.csv')\n",
    "df['AUC_diff'] = df['AUC_with_ECG'] - df['AUC_no_ECG']\n",
    "ms = dict(df.groupby('category')['AUC_diff'].median())\n",
    "ms = list(reversed(sorted(ms.items(), key = lambda x: x[1])))\n",
    "cat_order = [m[0] for m in ms ]\n",
    "print(f'len(df) {len(df)} SIG len(df) {len()}')"
   ]
  },
  {
   "cell_type": "code",
   "execution_count": null,
   "id": "63ea7d65",
   "metadata": {},
   "outputs": [],
   "source": [
    "sig_df = df[df.p_value < 0.05/len(df)]\n",
    "sig_df.phecode\n",
    "print(f'len(df) {len(df)} SIG len(df) {len(df[df.phecode.isin(sig_df.phecode.values.tolist())])}')"
   ]
  },
  {
   "cell_type": "code",
   "execution_count": null,
   "id": "d087c0a7",
   "metadata": {},
   "outputs": [],
   "source": [
    "df = pd.read_csv('./phewas_ukb_with_mgh_vectors_2022_11_30.csv')\n",
    "boxplot = df.boxplot(column=['AUC_with_ECG', 'AUC_no_ECG'], by=['category'], rot=90, showfliers=False, figsize=(12,5))\n",
    "df['AUC_diff'] = df['AUC_with_ECG'] - df['AUC_no_ECG']\n",
    "df = df.sort_values('category', ascending=True)\n",
    "\n"
   ]
  },
  {
   "cell_type": "code",
   "execution_count": null,
   "id": "2a94cd24",
   "metadata": {},
   "outputs": [],
   "source": [
    "df = pd.read_csv('./phewas_ukb_with_mgh_vectors_2022_11_30.csv')\n",
    "boxplot = df.boxplot(column=['AUC_with_ECG', 'AUC_no_ECG'], by=['category'], rot=90, showfliers=False, figsize=(12,5))\n",
    "df['AUC_diff'] = df['AUC_with_ECG'] - df['AUC_no_ECG']\n",
    "df = df[df.phecode.isin(sig_df.phecode.values.tolist())]\n",
    "df = df.sort_values('category', ascending=True)\n",
    "boxplot[0].set_xlabel('UKB')\n",
    "boxplot[1].set_xlabel('UKB')\n",
    "boxplot = df.boxplot(column=['AUC_diff'], by=['category'], rot=90, showfliers=False)\n",
    "boxplot.set_title('UKB', fontsize=10)\n",
    "boxplot.set_xlabel('')\n",
    "print(df.groupby('category')['AUC_diff'].quantile(0.5))\n",
    "print(df.groupby('category')['AUC_diff'].quantile(0.25))\n",
    "print(df.groupby('category')['AUC_diff'].quantile(0.75))"
   ]
  },
  {
   "cell_type": "code",
   "execution_count": null,
   "id": "209af745",
   "metadata": {},
   "outputs": [],
   "source": [
    "df.groupby('category')['AUC_with_ECG'].mean()"
   ]
  },
  {
   "cell_type": "code",
   "execution_count": null,
   "id": "9b572085",
   "metadata": {},
   "outputs": [],
   "source": [
    "import numpy as np\n",
    "df.groupby('category')['AUC_with_ECG'].quantile(0.75)"
   ]
  },
  {
   "cell_type": "code",
   "execution_count": null,
   "id": "11a5d09e",
   "metadata": {},
   "outputs": [],
   "source": [
    "fig = plt.figure(figsize=(10,5), dpi=300)\n",
    "sns.boxplot(x='category', y=\"AUC_with_ECG\",  data=df, fliersize=0, order=cat_order)\n",
    "plt.xticks(rotation=90)\n",
    "plt.ylabel(r'$AUC_{ECG Model}$')\n",
    "plt.title('AUC with ECG + Age + Sex + Race in UKB')\n",
    "plt.ylim(0.4, 1.0 )\n",
    "fig = plt.figure(figsize=(10,5), dpi=300)\n",
    "sns.boxplot(x='category', y=\"AUC_no_ECG\",  data=df, fliersize=0, order=cat_order)\n",
    "plt.xticks(rotation=90)\n",
    "plt.ylabel(r'$AUC_{Base Model}$')\n",
    "plt.title('AUC with Age + Sex + Race in UKB')\n",
    "plt.ylim(0.4, 1.0 )"
   ]
  },
  {
   "cell_type": "code",
   "execution_count": null,
   "id": "133e2944",
   "metadata": {},
   "outputs": [],
   "source": [
    "fig = plt.figure(figsize=(10,5), dpi=300)\n",
    "sns.boxplot(x='category', y=\"AUC_diff\",  data=df, fliersize=0, order=cat_order)\n",
    "plt.xticks(rotation=90)\n",
    "plt.ylabel(r'$AUC_{ECG Model}$ – $AUC_{Base Model}$')\n",
    "plt.title('AUC Differences By Phecode Category in UKB')\n",
    "plt.ylim(-0.01, 0.15 )"
   ]
  },
  {
   "cell_type": "code",
   "execution_count": null,
   "id": "65ad4823",
   "metadata": {},
   "outputs": [],
   "source": [
    "fig = plt.figure(figsize=(10,5), dpi=300)\n",
    "sns.boxplot(x='category', y=\"AUC_diff\",  data=df, fliersize=0, order=cat_order)\n",
    "plt.xticks(rotation=90)"
   ]
  },
  {
   "cell_type": "code",
   "execution_count": null,
   "id": "b6040f69",
   "metadata": {},
   "outputs": [],
   "source": [
    "df = pd.read_csv('phewas_bwh_with_mgh_v2022_11_30.csv')\n",
    "boxplot = df.boxplot(column=['AUC_with_ECG', 'AUC_no_ECG'], by=['category'], rot=90, showfliers=False, figsize=(12,5))\n",
    "boxplot[0].set_xlabel('BWH')\n",
    "boxplot[1].set_xlabel('BWH')\n",
    "df['AUC_diff'] = df['AUC_with_ECG'] - df['AUC_no_ECG']\n",
    "df = df[df.phecode.isin(sig_df.phecode.values.tolist())]\n",
    "boxplot = df.boxplot(column=['AUC_diff'], by=['category'], rot=90, showfliers=False)\n",
    "boxplot.set_title('BWH', fontsize=10)\n",
    "boxplot.set_xlabel('')\n",
    "print(df.groupby('category')['AUC_diff'].quantile(0.5))\n",
    "print(df.groupby('category')['AUC_diff'].quantile(0.25))\n",
    "print(df.groupby('category')['AUC_diff'].quantile(0.75))\n"
   ]
  },
  {
   "cell_type": "code",
   "execution_count": null,
   "id": "30f35563",
   "metadata": {},
   "outputs": [],
   "source": [
    "fig = plt.figure(figsize=(10,5), dpi=300)\n",
    "sns.boxplot(x='category', y=\"AUC_with_ECG\",  data=df, fliersize=0, order=cat_order)\n",
    "plt.xticks(rotation=90)\n",
    "plt.ylabel(r'$AUC_{ECG Model}$')\n",
    "plt.title('AUC with ECG + Age + Sex + Race in BWH')\n",
    "plt.ylim(0.4, 1.0 )\n",
    "fig = plt.figure(figsize=(10,5), dpi=300)\n",
    "sns.boxplot(x='category', y=\"AUC_no_ECG\",  data=df, fliersize=0, order=cat_order)\n",
    "plt.xticks(rotation=90)\n",
    "plt.ylabel(r'$AUC_{Base Model}$')\n",
    "plt.title('AUC with Age + Sex + Race in BWH')\n",
    "plt.ylim(0.4, 1.0 )\n",
    "fig = plt.figure(figsize=(10,5), dpi=300)\n",
    "sns.boxplot(x='category', y=\"AUC_diff\",  data=df, fliersize=0, order=cat_order)\n",
    "plt.xticks(rotation=90)\n",
    "plt.ylabel(r'$AUC_{ECG Model}$ – $AUC_{Base Model}$')\n",
    "plt.title('AUC Differences By Phecode Category in BWH')\n",
    "plt.ylim(-0.01, 0.2 )"
   ]
  },
  {
   "cell_type": "code",
   "execution_count": null,
   "id": "31f3bbe7",
   "metadata": {},
   "outputs": [],
   "source": [
    "df = pd.read_csv('phewas_mgh_with_mgh_v2022_11_30.csv')\n",
    "boxplot = df.boxplot(column=['AUC_with_ECG', 'AUC_no_ECG'], by=['category'], rot=90, showfliers=False, figsize=(12,5))\n",
    "boxplot[0].set_xlabel('MGH')\n",
    "boxplot[1].set_xlabel('MGH')\n",
    "df['AUC_diff'] = df['AUC_with_ECG'] - df['AUC_no_ECG']\n",
    "df = df[df.phecode.isin(sig_df.phecode.values.tolist())]\n",
    "boxplot = df.boxplot(column=['AUC_diff'], by=['category'], rot=90, showfliers=False)\n",
    "boxplot.set_title('MGH', fontsize=10)\n",
    "boxplot.set_xlabel('')\n",
    "boxplot.set_ylabel('AUC Difference')\n",
    "print(df.groupby('category')['AUC_diff'].quantile(0.5))\n",
    "print(df.groupby('category')['AUC_diff'].quantile(0.25))\n",
    "print(df.groupby('category')['AUC_diff'].quantile(0.75))"
   ]
  },
  {
   "cell_type": "code",
   "execution_count": null,
   "id": "7d4e4351",
   "metadata": {},
   "outputs": [],
   "source": [
    "fig = plt.figure(figsize=(10,5), dpi=300)\n",
    "sns.boxplot(x='category', y=\"AUC_with_ECG\",  data=df, fliersize=0, order=cat_order)\n",
    "plt.xticks(rotation=90)\n",
    "plt.ylabel(r'$AUC_{ECG Model}$')\n",
    "plt.title('AUC with ECG + Age + Sex + Race in MGH')\n",
    "plt.ylim(0.4, 1.0 )\n",
    "fig = plt.figure(figsize=(10,5), dpi=300)\n",
    "sns.boxplot(x='category', y=\"AUC_no_ECG\",  data=df, fliersize=0, order=cat_order)\n",
    "plt.xticks(rotation=90)\n",
    "plt.ylabel(r'$AUC_{Base Model}$')\n",
    "plt.title('AUC with Age + Sex + Race in MGH')\n",
    "plt.ylim(0.4, 1.0 )\n",
    "fig = plt.figure(figsize=(10,5), dpi=300)\n",
    "sns.boxplot(x='category', y=\"AUC_diff\",  data=df, fliersize=0, order=cat_order)\n",
    "plt.xticks(rotation=90)\n",
    "plt.ylabel(r'$AUC_{ECG Model}$ – $AUC_{Base Model}$')\n",
    "plt.title('AUC Differences By Phecode Category in MGH')\n",
    "plt.ylim(-0.01, 0.2 )"
   ]
  },
  {
   "cell_type": "code",
   "execution_count": null,
   "id": "2483a8d7",
   "metadata": {},
   "outputs": [],
   "source": [
    "len(df)"
   ]
  },
  {
   "cell_type": "code",
   "execution_count": null,
   "id": "0ab6b05d",
   "metadata": {},
   "outputs": [],
   "source": [
    "ms = list(reversed(sorted(ms.items(), key = lambda x: x[1])))"
   ]
  },
  {
   "cell_type": "code",
   "execution_count": null,
   "id": "4f4d8de2",
   "metadata": {},
   "outputs": [],
   "source": [
    "ms"
   ]
  },
  {
   "cell_type": "code",
   "execution_count": null,
   "id": "c5b71a46",
   "metadata": {},
   "outputs": [],
   "source": []
  },
  {
   "cell_type": "code",
   "execution_count": null,
   "id": "c31df355",
   "metadata": {},
   "outputs": [],
   "source": [
    "cat_order"
   ]
  },
  {
   "cell_type": "code",
   "execution_count": null,
   "id": "9c83559e",
   "metadata": {},
   "outputs": [],
   "source": []
  }
 ],
 "metadata": {
  "kernelspec": {
   "display_name": "Python 3 (ipykernel)",
   "language": "python",
   "name": "python3"
  },
  "language_info": {
   "codemirror_mode": {
    "name": "ipython",
    "version": 3
   },
   "file_extension": ".py",
   "mimetype": "text/x-python",
   "name": "python",
   "nbconvert_exporter": "python",
   "pygments_lexer": "ipython3",
   "version": "3.8.10"
  }
 },
 "nbformat": 4,
 "nbformat_minor": 5
}
