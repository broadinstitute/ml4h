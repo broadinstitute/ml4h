{
 "cells": [
  {
   "cell_type": "markdown",
   "metadata": {},
   "source": [
    "# This R script takes results from elastic net Cox regression and xgboost models from the accompanying Python script\n",
    "\n",
    "## It is used to benchmark model performance, highlight the most important features, and build figures"
   ]
  },
  {
   "cell_type": "markdown",
   "metadata": {},
   "source": [
    "# Load packages "
   ]
  },
  {
   "cell_type": "code",
   "execution_count": null,
   "metadata": {},
   "outputs": [],
   "source": [
    "library(data.table)\n",
    "library(survival)\n",
    "library(survminer)\n",
    "library(tableone)\n",
    "library(ggplot2)\n",
    "library(GGally)\n",
    "library(patchwork)\n",
    "library(gtools)\n",
    "library(plyr)\n",
    "library(Hmisc)\n",
    "library(mltools)\n",
    "library(RColorBrewer)\n",
    "library(ResourceSelection)\n",
    "library(pROC)\n",
    "library(corrplot)"
   ]
  },
  {
   "cell_type": "markdown",
   "metadata": {},
   "source": [
    "# Custom functions for model evaluation:"
   ]
  },
  {
   "cell_type": "markdown",
   "metadata": {},
   "source": [
    "## absolute_risk\n",
    "- Inputs: CoxPH model and datatable with all variables in CoxPH model on which to predict\n",
    "- Estimates baseline survival at 10 years (consistent throughout this study) and then estimates 10-year risk for incident outcome for a Cox proportional hazards model"
   ]
  },
  {
   "cell_type": "code",
   "execution_count": null,
   "metadata": {},
   "outputs": [],
   "source": [
    "absolute_risk <- function(coxmodel,data){\n",
    "    cumhaz <- basehaz(coxmodel,centered = TRUE) #Note that this is centered at mean covariates\n",
    "    basesurv <- exp(-1*cumhaz$hazard[which.min(abs(cumhaz$time - 3652))])\n",
    "    print(paste0(\"S_o(10) = \",round(basesurv,3)))\n",
    "    \n",
    "    tenyrpredict <- 1 - basesurv^(predict(coxmodel,data,type=\"risk\"))\n",
    "    return(tenyrpredict)\n",
    "}"
   ]
  },
  {
   "cell_type": "markdown",
   "metadata": {},
   "source": [
    "## calibration_plot\n",
    "- Inputs: datatable with predicted risk, event column 0/1\n",
    "- Compares mean predicted risk versus mean observed risk within deciles of predicted risk\n",
    "- Plots a calibration plot containing a p-value corresponding to Hosmer-Lemeshow test"
   ]
  },
  {
   "cell_type": "code",
   "execution_count": null,
   "metadata": {},
   "outputs": [],
   "source": [
    "calibration_plot <- function(data,predictioncol,eventcol,manualpvalue=NULL){\n",
    "    if(any(is.na(cbind(data[[predictioncol]],data[[eventcol]])))){\n",
    "        warning('at least 1 NA entry in predictioncol or eventcol')\n",
    "    }\n",
    "    \n",
    "    pred_quantiles <- quantcut(data[[predictioncol]],q=10)\n",
    "    pred_mean <- tapply(data[[predictioncol]],pred_quantiles,mean)\n",
    "    event_mean <- tapply(data[[eventcol]],pred_quantiles,mean)\n",
    "    data.lm <- lm(event_mean ~ pred_mean)\n",
    "#     print(data.lm)\n",
    "    \n",
    "    num <- round_any(max(max(pred_mean),max(event_mean))*1.4,0.05)\n",
    "#     print(max(pred_mean))\n",
    "#     print(max(event_mean))\n",
    "#     print(num)\n",
    "    \n",
    "    \n",
    "    \n",
    "#     print(pred_mean)\n",
    "#     print(event_mean)\n",
    "#     print(cbind(pred_mean,event_mean))\n",
    "    \n",
    "    #Greenwood-Nam-D'Agostino\n",
    "#     gnd_result <- GND.calib(pred=data[[predictioncol]],tvar=pmin(data[[timetoeventcol]],censortime),\n",
    "#                            out=data[[eventcol]],cens.t=data[[censorcol]],groups=pred_quantiles,\n",
    "#                            adm.cens=censortime)\n",
    "#     print(paste0('GND: ',gnd_result))\n",
    "    \n",
    "    hoslem_result <- hoslem.test(x=data[[predictioncol]],y=as.numeric(data[[eventcol]]),g=10)\n",
    "#     print(paste0('HL: ',hoslem_result))\n",
    "    HLpval <- round(hoslem_result$p.value,3)\n",
    "    HLpvalprint <- paste0(\"p-value = \",HLpval)\n",
    "    \n",
    "    if(!is.null(manualpvalue)) HLpvalprint <- manualpvalue\n",
    "    \n",
    "    g1 <- ggplot(data=as.data.frame(cbind(pred_mean,event_mean)),aes(x=pred_mean,y=event_mean)) + \n",
    "    geom_point() + \n",
    "    geom_abline(intercept=0,slope=1,linetype=\"dashed\") + \n",
    "    geom_abline(intercept=data.lm$coefficients[['(Intercept)']],slope=data.lm$coefficients[['pred_mean']],color=\"red\") +\n",
    "    scale_x_continuous(limits=c(0,num),breaks=seq(0,num,by=0.05)) +\n",
    "    scale_y_continuous(limits=c(0,num),breaks=seq(0,num,by=0.05)) + \n",
    "    xlab(\"Predicted 10-year Cumulative Incidence\") +\n",
    "    ylab(\"Observed 10-year Cumulative Incidence\") +\n",
    "    theme_classic() +\n",
    "    theme(text = element_text(size=16)) +\n",
    "    annotate(\"text\",x=0.8*num,y=0.2*num,size=6,label=paste0(\"m = \",round(data.lm$coefficients[['pred_mean']],2))) +\n",
    "    annotate(\"text\",x=0.8*num,y=0.15*num,size=6,label=paste0(\"b = \",round(data.lm$coefficients[['(Intercept)']],3))) +\n",
    "    annotate(\"text\",x=0.8*num,y=0.10*num,size=6,label=HLpvalprint)\n",
    "    return(g1)\n",
    "}"
   ]
  },
  {
   "cell_type": "markdown",
   "metadata": {},
   "source": [
    "## reclass\n",
    "- Takes in data.table with observed outcome, risk predicted by model 1, risk predicted by model 2, and the cutoff around which the compare the behaviors of models 1 and 2\n",
    "- Computes reclassification metrics"
   ]
  },
  {
   "cell_type": "code",
   "execution_count": null,
   "metadata": {},
   "outputs": [],
   "source": [
    "reclass <- function(data,cOutcome,predrisk1,predrisk2,cutoff){\n",
    " \n",
    "c1 <- cut(predrisk1,breaks = cutoff ,include.lowest=TRUE,right= FALSE)\n",
    "c2 <- cut(predrisk2,breaks = cutoff ,include.lowest=TRUE,right= FALSE)\n",
    "tabReclas <- table(\"Initial Model\"=c1, \"Updated Model\"=c2)\n",
    "cat(\" _________________________________________\\n\")\n",
    "cat(\" \\n     Reclassification table    \\n\")\n",
    "cat(\" _________________________________________\\n\")\n",
    " \n",
    " ta<- table(c1, c2, data[[cOutcome]])\n",
    "    print(ta)\n",
    " \n",
    "  cat (\"\\n Outcome: absent \\n  \\n\" )\n",
    "  TabAbs <- ta[,,1]\n",
    "  tab1 <- cbind(TabAbs, \" % reclassified\"= round((rowSums(TabAbs)-diag(TabAbs))/rowSums(TabAbs),2)*100)\n",
    "  names(dimnames(tab1)) <- c(\"Initial Model\", \"Updated Model\")\n",
    "  print(tab1)\n",
    " \n",
    "  cat (\"\\n \\n Outcome: present \\n  \\n\" )\n",
    "  TabPre <- ta[,,2]\n",
    "  tab2 <- cbind(TabPre, \" % reclassified\"= round((rowSums(TabPre)-diag(TabPre))/rowSums(TabPre),2)*100)\n",
    "  names(dimnames(tab2)) <- c(\"Initial Model\", \"Updated Model\")\n",
    "  print(tab2)\n",
    " \n",
    "  cat (\"\\n \\n Combined Data \\n  \\n\" )\n",
    "  Tab <- tabReclas\n",
    "  tab <- cbind(Tab, \" % reclassified\"= round((rowSums(Tab)-diag(Tab))/rowSums(Tab),2)*100)\n",
    "  names(dimnames(tab)) <- c(\"Initial Model\", \"Updated Model\")\n",
    "  print(tab)\n",
    "cat(\" _________________________________________\\n\")\n",
    " \n",
    "c11 <-factor(c1, levels = levels(c1), labels = c(1:length(levels(c1))))\n",
    "c22 <-factor(c2, levels = levels(c2), labels = c(1:length(levels(c2))))\n",
    " \n",
    "  x<-improveProb(x1=as.numeric(c11)*(1/(length(levels(c11)))),\n",
    "  x2=as.numeric(c22)*(1/(length(levels(c22)))), y=data[[cOutcome]])\n",
    " \n",
    " \n",
    "y<-improveProb(x1=predrisk1, x2=predrisk2, y=data[[cOutcome]])\n",
    "\n",
    " \n",
    "cat(\"\\n NRI(Categorical) [95% CI]:\", round(x$nri,4),\"[\",round(x$nri-1.96*x$se.nri,4),\"-\",\n",
    " round(x$nri+1.96*x$se.nri,4), \"]\", \"; p-value:\", round(2*pnorm(-abs(x$z.nri)),5), \"\\n\" )\n",
    " \n",
    " cat(\" NRI(Continuous) [95% CI]:\", round(y$nri,4),\"[\",round(y$nri-1.96*y$se.nri,4),\"-\",\n",
    " round(y$nri+1.96*y$se.nri,4), \"]\", \"; p-value:\", round(2*pnorm(-abs(y$z.nri)),5), \"\\n\" )\n",
    "    \n",
    "cat(\" NRIevent(Continuous) [95% CI]:\", round(y$nri.ev,4),\"[\",round(y$nri.ev-1.96*y$se.nri.ev,4),\"-\",\n",
    " round(y$nri.ev+1.96*y$se.nri.ev,4), \"]\", \"; p-value:\", round(2*pnorm(-abs(y$z.nri.ev)),5), \"\\n\" )\n",
    "    \n",
    "cat(\" NRInonevent(Continuous) [95% CI]:\", round(y$nri.ne,4),\"[\",round(y$nri.ne-1.96*y$se.nri.ne,4),\"-\",\n",
    " round(y$nri.ne+1.96*y$se.nri.ne,4), \"]\", \"; p-value:\", round(2*pnorm(-abs(y$z.nri.ne)),5), \"\\n\" )\n",
    " \n",
    "cat(\" IDI [95% CI]:\", round(y$idi,4),\"[\",round(y$idi-1.96*y$se.idi,4),\"-\",\n",
    " round(y$idi+1.96*y$se.idi,4), \"]\",\"; p-value:\", round(2*pnorm(-abs(y$z.idi)),5), \"\\n\")\n",
    "    \n",
    "#     return(y)\n",
    "}\n"
   ]
  },
  {
   "cell_type": "markdown",
   "metadata": {},
   "source": [
    "# Part 1: Read all necessary files and check for missing"
   ]
  },
  {
   "cell_type": "markdown",
   "metadata": {},
   "source": [
    "## Descriptive information for full UKBB (n = 502504)"
   ]
  },
  {
   "cell_type": "code",
   "execution_count": null,
   "metadata": {},
   "outputs": [],
   "source": [
    "#Master data.table with UKB ids and many descriptive variables relevant to PCE\n",
    "masterdfukb <- fread(\"/medpop/esp2/sagrawal/prs_crs_integration/prs_crs_masterdf_ascvd_sbpavg.csv\")\n",
    "\n",
    "#Hard CAD\n",
    "CAD_SA <- fread(\"CAD_SA.csv\")\n",
    "\n",
    "#CVD outcome\n",
    "CVD_Elliot <- fread('/medpop/esp2/sagrawal/prs_crs_integration/Elliot_CVD_analysisready.csv')\n",
    "\n",
    "#QRISK3 for UKBB\n",
    "qrisk <- fread(\"/medpop/esp2/aniruddh/SouthAsians/Qriskscoresnonmissingnew.txt\")\n",
    "qrisk$qrisk3 <- qrisk$QRISK3_2017/100\n",
    "\n",
    "#Processing Hard CAD outcome file to include 10 year outcome\n",
    "CAD_SA <- CAD_SA[,c(\"eid\",\"incident_disease\",\"fu_days\",\"fu_yrs\")]\n",
    "names(CAD_SA) <- c(\"eid\",\"CAD_incident_disease\",\"CAD_fu_days\",\"CAD_fu_yrs\")\n",
    "CAD_SA$CAD_tenyearoutcome <- 0\n",
    "CAD_SA[CAD_incident_disease == 1 & \n",
    "       CAD_fu_days <= 3652.5]$CAD_tenyearoutcome <- 1\n",
    "CAD_SA$CAD_tenyearcensor <- ifelse(CAD_SA$CAD_fu_days > 3652.5,1,0)\n",
    "\n",
    "CVD_Elliot <- CVD_Elliot[,c(\"eid\",\"incident_disease\",\"fu_days\",\"fu_yrs\")]\n",
    "names(CVD_Elliot) <- c(\"eid\",\"CVD_incident_disease\",\"CVD_fu_days\",\"CVD_fu_yrs\")\n",
    "CVD_Elliot$CVD_tenyearoutcome <- 0\n",
    "CVD_Elliot[CVD_incident_disease == 1 & \n",
    "       CVD_fu_days <= 3652.5]$CVD_tenyearoutcome <- 1\n",
    "CVD_Elliot$CVD_tenyearcensor <- ifelse(CVD_Elliot$CVD_fu_days > 3652.5,1,0)\n",
    "\n",
    "masterdf1 <- merge(masterdfukb,CAD_SA,by=\"eid\")\n",
    "masterdf1 <- merge(masterdf1,CVD_Elliot,by=\"eid\")\n",
    "masterdf <- merge(masterdf1,qrisk[,c('ID','qrisk3')],by.x='eid',by.y='ID',all=TRUE)\n",
    "\n",
    "#Groups made of self-reported race/ethnicity\n",
    "whiteonlyvec <- c(\"Any_other_white_background\",\"British\",\"Irish\",\"White\")\n",
    "southasianvec <- c(\"Bangladeshi\",\"Indian\",\"Pakistani\")\n",
    "asianminusSA <- c(\"Any_other_Asian_background\",\"Asian_or_Asian_British\",\"Chinese\",\"White_and_Asian\")\n",
    "blackvec <- c(\"African\",\"Any_other_Black_background\",\"Black_or_Black_British\",\"Caribbean\",\"White_and_Black_African\",\"White_and_Black_Caribbean\")\n",
    "othervec <- c(\"Any_other_mixed_background\",\"Mixed\",\"Other_ethnic_group\",\"Do_not_know\",\"Prefer_not_to_answer\") #is.na in this too in terms of PC similarity\n",
    "\n",
    "masterdf$sex_strat <- ifelse(masterdf$sex == \"Male\",1,0)\n",
    "\n",
    "masterdf$ethnicity_white <- ifelse(masterdf$ethnicity %in% whiteonlyvec,1,0)\n",
    "\n",
    "masterdf$ethnicity_black <- ifelse(masterdf$ethnicity %in% blackvec,1,0)\n",
    "\n",
    "masterdf$ethnicity_asian <- ifelse(masterdf$ethnicity %in% asianminusSA,1,0)\n",
    "\n",
    "masterdf$ethnicity_southasian <- ifelse(masterdf$ethnicity %in% southasianvec,1,0)\n",
    "\n",
    "masterdf$ethnicity_other <- ifelse((masterdf$ethnicity %in% othervec) | is.na(masterdf$ethnicity),1,0)\n",
    "\n",
    "masterdf$ethnicity_group <- \"placeholder\"\n",
    "masterdf[ethnicity_white==1]$ethnicity_group <- \"White\"\n",
    "masterdf[ethnicity_black==1]$ethnicity_group <- \"Black\"\n",
    "masterdf[ethnicity_asian==1]$ethnicity_group <- \"East Asian\"\n",
    "masterdf[ethnicity_southasian==1]$ethnicity_group <- \"South Asian\"\n",
    "masterdf[ethnicity_other==1]$ethnicity_group <- \"Other\"\n",
    "\n",
    "masterdf$ethnicity_group <- factor(masterdf$ethnicity_group,levels=c('Black','South Asian','East Asian','White','Other'))"
   ]
  },
  {
   "cell_type": "code",
   "execution_count": null,
   "metadata": {},
   "outputs": [],
   "source": [
    "# Defined this for the purpose of recalibration\n",
    "\n",
    "masterdf$age_group <- \"G1\" #(age < 45, basically meaning 40-45)\n",
    "masterdf[age >= 45 & age < 50]$age_group <- \"G2\"\n",
    "masterdf[age >= 50 & age < 55]$age_group <- \"G3\"\n",
    "masterdf[age >= 55 & age < 60]$age_group <- \"G4\"\n",
    "masterdf[age >= 60 & age < 65]$age_group <- \"G5\"\n",
    "masterdf[age >= 65 & age < 70]$age_group <- \"G6\"\n",
    "masterdf[age >= 70 & age < 75]$age_group <- \"G7\"\n",
    "\n",
    "masterdf$ageG2 <- ifelse(masterdf$age_group=='G2',1,0)\n",
    "masterdf$ageG3 <- ifelse(masterdf$age_group=='G3',1,0)\n",
    "masterdf$ageG4 <- ifelse(masterdf$age_group=='G4',1,0)\n",
    "masterdf$ageG5 <- ifelse(masterdf$age_group=='G5',1,0)\n",
    "masterdf$ageG6 <- ifelse(masterdf$age_group=='G6',1,0)\n",
    "masterdf$ageG7 <- ifelse(masterdf$age_group=='G7',1,0)"
   ]
  },
  {
   "cell_type": "code",
   "execution_count": null,
   "metadata": {},
   "outputs": [],
   "source": [
    "#Define a secondary follow-up time variable that cuts off at 10 years\n",
    "masterdf[CAD_fu_days >= 3652,CAD_fu_days10yr:=3652]\n",
    "masterdf[CAD_fu_days < 3652,CAD_fu_days10yr:=CAD_fu_days]"
   ]
  },
  {
   "cell_type": "code",
   "execution_count": null,
   "metadata": {},
   "outputs": [],
   "source": [
    "#Adjusting PRS for ancestry\n",
    "\n",
    "pcmod1 <- lm(prs ~ PC1+PC2+PC3+PC4, data=masterdf)\n",
    "masterdf$prs_resid <- masterdf$prs - predict(pcmod1,masterdf)"
   ]
  },
  {
   "cell_type": "code",
   "execution_count": null,
   "metadata": {},
   "outputs": [],
   "source": [
    "##Importing additional descriptive variables I want\n",
    "\n",
    "ldl <- fread(\"/medpop/esp2/sagrawal/prs_crs_integration/labs_ldl_ukbb.csv\")\n",
    "names(ldl)[5] <- 'LDL_C'\n",
    "masterdf <- merge(masterdf,ldl[,c(\"sample_id\",\"LDL_C\")],by.x='eid',by.y='sample_id',all=TRUE)"
   ]
  },
  {
   "cell_type": "code",
   "execution_count": null,
   "metadata": {},
   "outputs": [],
   "source": [
    "#Contain the patient ids that went into the development and holdout sets\n",
    "#Only contains 51 columns, corresponding to 51 nonzero features in Coxnet model\n",
    "#at selected alpha\n",
    "\n",
    "fullfeat_dev <- fread(\"coxnet__feature_matrix__development_0_0011765691116882482__30Nov_2020.txt\")\n",
    "fullfeat_ho <- fread(\"coxnet__feature_matrix__holdout_0_0011765691116882482__30Nov_2020.txt\")\n",
    "\n",
    "fullfeat_devUnscaled <- fread('coxnet__feature_matrix_nonzero_model_0_0011765691116882482__development_unscaled__30Nov_2020.txt')\n",
    "fullfeat_hoUnscaled <- fread('coxnet__feature_matrix_nonzero_model_0_0011765691116882482__holdout_unscaled__30Nov_2020.txt')"
   ]
  },
  {
   "cell_type": "code",
   "execution_count": null,
   "metadata": {},
   "outputs": [],
   "source": [
    "masterdf$subgroup_indicator <- 0\n",
    "masterdf[eid %in% fullfeat_dev$index]$subgroup_indicator <- 1\n",
    "masterdf[eid %in% fullfeat_ho$index]$subgroup_indicator <- 2"
   ]
  },
  {
   "cell_type": "code",
   "execution_count": null,
   "metadata": {},
   "outputs": [],
   "source": [
    "masterdf_dev <- masterdf[subgroup_indicator == 1]"
   ]
  },
  {
   "cell_type": "markdown",
   "metadata": {},
   "source": [
    "# Part 2: Making Table 1s"
   ]
  },
  {
   "cell_type": "code",
   "execution_count": null,
   "metadata": {},
   "outputs": [],
   "source": [
    "masterdf_tab1 <- masterdf"
   ]
  },
  {
   "cell_type": "code",
   "execution_count": null,
   "metadata": {},
   "outputs": [],
   "source": [
    "masterdf_tab1$framrisk <- masterdf_tab1$framrisk * 100\n",
    "masterdf_tab1$tenyearASCVD <- masterdf_tab1$tenyearASCVD * 100\n",
    "masterdf_tab1$qrisk3 <- masterdf_tab1$qrisk3 * 100\n",
    "masterdf_tab1$Cholesterol <- masterdf_tab1$Cholesterol * 38.6\n",
    "masterdf_tab1$HDL_C <- masterdf_tab1$HDL_C * 38.6\n",
    "masterdf_tab1$LDL_C <- masterdf_tab1$LDL_C * 38.6\n",
    "masterdf_tab1$prs_resid_scaled <- scale(masterdf_tab1$prs_resid)\n",
    "\n",
    "masterdf_tab1$included <- ifelse(masterdf_tab1$subgroup_indicator==0,0,1)"
   ]
  },
  {
   "cell_type": "code",
   "execution_count": null,
   "metadata": {},
   "outputs": [],
   "source": [
    "tab1vars <- c('age','sex','ethnicity_group','currentsmoker','DM','Cholesterol',\n",
    "              'HDL_C','LDL_C','systolicbp','antihtnrx','prs_resid_scaled','framrisk',\n",
    "              'tenyearASCVD','qrisk3','CAD_incident_disease','CAD_tenyearoutcome')\n",
    "tab1facvars <- c('sex','ethnicity_group','currentsmoker','DM','antihtnrx',\n",
    "             'CAD_incident_disease','CAD_tenyearoutcome')"
   ]
  },
  {
   "cell_type": "code",
   "execution_count": null,
   "metadata": {},
   "outputs": [],
   "source": [
    "tabone=CreateTableOne(tab1vars,data=masterdf_tab1,strata=c('subgroup_indicator'),factorVars=tab1facvars)\n",
    "print(tabone,quote = F,digits=1)"
   ]
  },
  {
   "cell_type": "code",
   "execution_count": null,
   "metadata": {},
   "outputs": [],
   "source": [
    "tabone=CreateTableOne(tab1vars,data=masterdf_tab1[subgroup_indicator != 0],strata=c('subgroup_indicator'),factorVars=tab1facvars)\n",
    "print(tabone,quote = F,digits=1)"
   ]
  },
  {
   "cell_type": "code",
   "execution_count": null,
   "metadata": {},
   "outputs": [],
   "source": [
    "tabone=CreateTableOne(tab1vars,data=masterdf_tab1,strata=c('included'),factorVars=tab1facvars)\n",
    "print(tabone,quote = F,digits=1)"
   ]
  },
  {
   "cell_type": "markdown",
   "metadata": {},
   "source": [
    "# Import all XgCox relevant files"
   ]
  },
  {
   "cell_type": "code",
   "execution_count": null,
   "metadata": {},
   "outputs": [],
   "source": [
    "xgcoxAbsRiskDev <- fread('/medpop/esp2/sagrawal/mi_mlprediction/2020.11.30_marcus/2021.01.12_xgboost2/model2_xgboost_cox_best_model_predictions_all_data__absolute_risk_with_ids__development__model2__30Nov_2020.txt')\n",
    "xgcoxAbsRiskHo <- fread('/medpop/esp2/sagrawal/mi_mlprediction/2020.11.30_marcus/2021.01.12_xgboost2/model2_xgboost_cox_best_model_predictions_all_data__absolute_risk_with_ids__holdout__model2__30Nov_2020.txt')\n",
    "\n",
    "xgcoxBaseSurv <- fread('/medpop/esp2/sagrawal/mi_mlprediction/2020.11.30_marcus/2021.01.12_xgboost2/model2_xgboost_cox_best_model_predictions_all_data__baseline_survival__model2__30Nov_2020.txt')\n",
    "xgcoxLeave1OutLabel <- fread('/medpop/esp2/sagrawal/mi_mlprediction/2020.11.30_marcus/xgcoxFeatLabel.csv')\n",
    "\n",
    "xgcoxFeatList <- fread('/medpop/esp2/sagrawal/mi_mlprediction/2020.11.30_marcus/2021.01.12_xgboost2/model2_xgboost_cox_best_model_predictions_all_data__feature_importance__total_gain__overall__model2__30Nov_2020.txt')"
   ]
  },
  {
   "cell_type": "code",
   "execution_count": null,
   "metadata": {},
   "outputs": [],
   "source": [
    "xgcoxLeave1OutLabel$category <- factor(xgcoxLeave1OutLabel$category,\n",
    "                                             levels=c(\"Demographics\",\n",
    "                                                     \"Lifestyle\",\n",
    "                                                     \"Medical history\",\n",
    "                                                     \"Surgical history\",\n",
    "                                                     \"Family history\",\n",
    "                                                     \"Physical exam\",\n",
    "                                                     \"Genetics\",\n",
    "                                                     \"Labs\"),\n",
    "                                     ordered=TRUE)"
   ]
  },
  {
   "cell_type": "code",
   "execution_count": null,
   "metadata": {},
   "outputs": [],
   "source": [
    "xgcoxLeave1OutLabelOrder <- xgcoxLeave1OutLabel[order(category)]"
   ]
  },
  {
   "cell_type": "markdown",
   "metadata": {},
   "source": [
    "# Part 3: Annotating feature set in CoxNet 51 into 1 of 8 categories"
   ]
  },
  {
   "cell_type": "code",
   "execution_count": null,
   "metadata": {},
   "outputs": [],
   "source": [
    "coxnet_feature_list_annot_clean <- fread('/medpop/esp2/sagrawal/mi_mlprediction/2020.11.30_marcus/coxnet51_annotate.csv')"
   ]
  },
  {
   "cell_type": "code",
   "execution_count": null,
   "metadata": {},
   "outputs": [],
   "source": [
    "coxnet_feature_list_annot_clean$category <- factor(coxnet_feature_list_annot_clean$category,\n",
    "                                             levels=c(\"Demographics\",\n",
    "                                                     \"Lifestyle\",\n",
    "                                                     \"Medical history\",\n",
    "                                                     \"Surgical history\",\n",
    "                                                     \"Family history\",\n",
    "                                                     \"Physical exam\",\n",
    "                                                     \"Genetics\",\n",
    "                                                     \"Labs\"),\n",
    "                                     ordered=TRUE)"
   ]
  },
  {
   "cell_type": "code",
   "execution_count": null,
   "metadata": {},
   "outputs": [],
   "source": [
    "simplecox_feat <- fread(\"/medpop/esp2/sagrawal/mi_mlprediction/2020.11.30_marcus/coxph__feature_list_0_0011765691116882482__30Nov_2020.txt\")\n",
    "simplecox_feat <- simplecox_feat[-1]\n",
    "names(simplecox_feat) <- c('field','simplecoxcoef')\n",
    "coxnetvscox <- merge(coxnet_feature_list_annot_clean,simplecox_feat,by='field')\n",
    "coxnetvscox$coxnetHR <- exp(coxnetvscox$coef)\n",
    "coxnetvscox$simplecoxHR <- exp(coxnetvscox$simplecoxcoef)\n",
    "# coxnetvscox[order(category)]"
   ]
  },
  {
   "cell_type": "code",
   "execution_count": null,
   "metadata": {},
   "outputs": [],
   "source": [
    "coxnetvscox$simplecoxdiff <- abs(coxnetvscox$coxnetHR-coxnetvscox$simplecoxHR)"
   ]
  },
  {
   "cell_type": "code",
   "execution_count": null,
   "metadata": {},
   "outputs": [],
   "source": [
    "coxnet_perm_imp <- fread(\"/medpop/esp2/sagrawal/mi_mlprediction/2020.11.30_marcus/2021.01.12_misc/coxnet_final_model_permutation_importance__model_0_0002480304066510752.txt\")"
   ]
  },
  {
   "cell_type": "code",
   "execution_count": null,
   "metadata": {},
   "outputs": [],
   "source": [
    "coxnet_perm_imp <- coxnet_perm_imp[,V1 := NULL]"
   ]
  },
  {
   "cell_type": "code",
   "execution_count": null,
   "metadata": {},
   "outputs": [],
   "source": [
    "a <- apply(coxnet_perm_imp,2,mean)\n",
    "b <- apply(coxnet_perm_imp,2,function(x) quantile(x,c(0.025,0.975)))"
   ]
  },
  {
   "cell_type": "code",
   "execution_count": null,
   "metadata": {},
   "outputs": [],
   "source": [
    "coxnet_perm_imp_clean <- as.data.table(rbind(a,b))"
   ]
  },
  {
   "cell_type": "code",
   "execution_count": null,
   "metadata": {},
   "outputs": [],
   "source": [
    "coxnet_perm_imp_clean <- transpose(coxnet_perm_imp_clean)"
   ]
  },
  {
   "cell_type": "code",
   "execution_count": null,
   "metadata": {},
   "outputs": [],
   "source": [
    "coxnet_perm_imp_clean$field <- names(a)"
   ]
  },
  {
   "cell_type": "code",
   "execution_count": null,
   "metadata": {},
   "outputs": [],
   "source": [
    "coxnet_perm_merged <- merge(coxnet_perm_imp_clean,coxnet_feature_list_annot_clean,by='field')\n",
    "coxnet_perm_merged <- coxnet_perm_merged[order(-V1)]"
   ]
  },
  {
   "cell_type": "code",
   "execution_count": null,
   "metadata": {},
   "outputs": [],
   "source": [
    "coxnet_perm_merged$category <- factor(coxnet_perm_merged$category,\n",
    "                                             levels=c(\"Demographics\",\n",
    "                                                     \"Lifestyle\",\n",
    "                                                     \"Medical history\",\n",
    "                                                     \"Surgical history\",\n",
    "                                                     \"Family history\",\n",
    "                                                     \"Physical exam\",\n",
    "                                                     \"Genetics\",\n",
    "                                                     \"Labs\"),\n",
    "                                     ordered=TRUE)"
   ]
  },
  {
   "cell_type": "code",
   "execution_count": null,
   "metadata": {},
   "outputs": [],
   "source": [
    "options(repr.plot.width=12,repr.plot.height=8)\n",
    "\n",
    "featplot <- ggplot(coxnet_perm_merged[1:20],aes(x=reorder(human,-V1),y=V1,fill=category)) +\n",
    "geom_bar(stat=\"identity\",color=\"black\") +\n",
    "geom_errorbar(aes(ymin=V2,ymax=V3),width=0.2) +\n",
    "xlab(\"\") +\n",
    "ylab(\"Predictor importance\\n(Leave-one-out C-statistic decrease)\") +\n",
    "labs(fill='Category') +\n",
    "theme_classic() + \n",
    "theme(axis.text.x = element_text(angle=90,hjust=0.95,vjust=0.5,color='black'),text = element_text(size=16,color='black'),\n",
    "     legend.position=c(0.9,0.5)) +\n",
    "# scale_fill_discrete(drop=FALSE) +\n",
    "scale_fill_brewer(palette = 'Set2',drop=FALSE) +\n",
    "scale_y_continuous(expand=expansion(mult = c(0,0.1))) + \n",
    "scale_x_discrete(breaks=coxnet_perm_merged[1:20]$human,\n",
    "                labels=c('Age',expression(GPS[CAD]),'Sex','HDL-c','SBP','HbA1C',\n",
    "                         'LDL-c','Testosterone','Hip circ.','ApoB','Waist circ.',\n",
    "                         'Cystatin C','Father heart dz','Lp(a)','Hypertension',\n",
    "                         'Fair health rating','Neutrophils','Sibling heart dz',\n",
    "                         'PC3','Lipid-lowering'))\n",
    "#the drop=FALSE allows all categories to remain even though I subsetting the datatable\n",
    "\n",
    "featplot\n",
    "\n",
    "# ggsave('coxnet51_leave1out.pdf',g2,width=10,height=8)"
   ]
  },
  {
   "cell_type": "code",
   "execution_count": null,
   "metadata": {},
   "outputs": [],
   "source": [
    "###Feat plot for xgcox\n",
    "\n",
    "options(repr.plot.width=12,repr.plot.height=6)\n",
    "\n",
    "xgCoxFeatPlot <- ggplot(xgcoxLeave1OutLabel[1:20],aes(x=reorder(abbrev,-mean),y=mean,fill=factor(overlap,levels=c(1,0),ordered=TRUE,labels=c('Yes','No')))) +\n",
    "geom_bar(stat=\"identity\",color=\"black\") +\n",
    "geom_errorbar(aes(ymin=lower,ymax=upper),width=0.2) +\n",
    "xlab(\"\") +\n",
    "ylab(\"Predictor importance\\n(Leave-one-out C-statistic decrease)\") +\n",
    "labs(fill=expression(Overlap~with~ML4H[EN-COX])) +\n",
    "theme_classic() + \n",
    "theme(axis.text.x = element_text(angle=90,hjust=0.95,vjust=0.5),text = element_text(size=16),\n",
    "     legend.position=c(0.8,0.6)) +\n",
    "# scale_fill_discrete(drop=FALSE) +\n",
    "scale_fill_brewer(palette = 'Set2',drop=FALSE) +\n",
    "scale_y_continuous(expand=expansion(mult = c(0,0.2))) +\n",
    "scale_x_discrete(breaks=xgcoxLeave1OutLabel[1:20]$abbrev,\n",
    "                labels=c('Age',expression(GPS[CAD]),'Sex','SBP','ApoB','Testosterone',\n",
    "                         'HbA1C','Cystatin C','HDL-c','Father heart dz','Current smoker',\n",
    "                         'Sibling heart dz','ApoA','Lp(a)','CRP','Fair health rating',\n",
    "                         'Hypertension','Poor health rating','Height','LDL-c'))\n",
    "#the drop=FALSE allows all categories to remain even though I subsetting the datatable\n",
    "\n",
    "xgCoxFeatPlot\n",
    "\n",
    "# ggsave('coxnet51_leave1out.pdf',g2,width=10,height=8)"
   ]
  },
  {
   "cell_type": "markdown",
   "metadata": {},
   "source": [
    "## Will use some of the above datatables to also make a correlation plot between all 51 features in the development set ordered by (1) category and (2) descending leave 1 out AUC."
   ]
  },
  {
   "cell_type": "code",
   "execution_count": null,
   "metadata": {},
   "outputs": [],
   "source": [
    "coxnet_perm_imp_clean_corrplot <- coxnet_perm_imp_clean[field %in% coxnet_feature_list_annot_clean$field]"
   ]
  },
  {
   "cell_type": "code",
   "execution_count": null,
   "metadata": {},
   "outputs": [],
   "source": [
    "corrplot_dt <- merge(coxnet_feature_list_annot_clean,\n",
    "                     coxnet_perm_imp_clean_corrplot[,c('field','V1')],\n",
    "                    by='field',all=TRUE)"
   ]
  },
  {
   "cell_type": "code",
   "execution_count": null,
   "metadata": {},
   "outputs": [],
   "source": [
    "corrplot_dt[is.na(V1),V1:=0]"
   ]
  },
  {
   "cell_type": "code",
   "execution_count": null,
   "metadata": {},
   "outputs": [],
   "source": [
    "corrplot_dt <- corrplot_dt[order(-V1)]\n",
    "corrplot_dt <- corrplot_dt[order(category)]"
   ]
  },
  {
   "cell_type": "code",
   "execution_count": null,
   "metadata": {},
   "outputs": [],
   "source": [
    "fullfeat_dev_corrplot <- setcolorder(fullfeat_devUnscaled,c('index',corrplot_dt$field))\n"
   ]
  },
  {
   "cell_type": "code",
   "execution_count": null,
   "metadata": {},
   "outputs": [],
   "source": [
    "names(fullfeat_dev_corrplot)[-1] <- corrplot_dt$abbrev"
   ]
  },
  {
   "cell_type": "code",
   "execution_count": null,
   "metadata": {},
   "outputs": [],
   "source": [
    "M <- cor(fullfeat_dev_corrplot[,-c('index')])"
   ]
  },
  {
   "cell_type": "code",
   "execution_count": null,
   "metadata": {},
   "outputs": [],
   "source": [
    "options(repr.plot.width=14,repr.plot.height=14)\n",
    "corrplot(M,type='upper',order='original',col=brewer.pal(n=8,name='RdYlBu'),\n",
    "         tl.col='black')"
   ]
  },
  {
   "cell_type": "code",
   "execution_count": null,
   "metadata": {},
   "outputs": [],
   "source": [
    "# pdf(height=16,width=16,file='/medpop/esp2/sagrawal/mi_mlprediction/2020.11.30_marcus/mlpaperplots/efigure6.pdf')\n",
    "\n",
    "# corrplot(M,type='upper',order='original',col=brewer.pal(n=8,name='RdYlBu'),\n",
    "#          tl.col='black')\n",
    "\n",
    "# dev.off()"
   ]
  },
  {
   "cell_type": "markdown",
   "metadata": {},
   "source": [
    "# Part 4: Building simple Cox proportional hazards model in the development cohort with either the 51 selected features or the top 20 features"
   ]
  },
  {
   "cell_type": "code",
   "execution_count": null,
   "metadata": {},
   "outputs": [],
   "source": [
    "fullfeat_dev <- fread(\"coxnet__feature_matrix__development_0_0011765691116882482__30Nov_2020.txt\")\n",
    "fullfeat_ho <- fread(\"coxnet__feature_matrix__holdout_0_0011765691116882482__30Nov_2020.txt\")"
   ]
  },
  {
   "cell_type": "code",
   "execution_count": null,
   "metadata": {},
   "outputs": [],
   "source": [
    "dev_merged <- merge(fullfeat_dev,masterdf[,c('eid','CAD_incident_disease','CAD_fu_days')],\n",
    "                   by.x='index',by.y='eid')"
   ]
  },
  {
   "cell_type": "code",
   "execution_count": null,
   "metadata": {},
   "outputs": [],
   "source": [
    "simplecox_cph <- coxph(Surv(CAD_fu_days,CAD_incident_disease) ~ ., data=dev_merged[,-c('index')])\n",
    "summary(simplecox_cph)"
   ]
  },
  {
   "cell_type": "code",
   "execution_count": null,
   "metadata": {},
   "outputs": [],
   "source": [
    "simplecox_cph_20 <- coxph(Surv(CAD_fu_days,CAD_incident_disease) ~ d_age +\n",
    "                          d_prsadjscore + c_sex + d_biochemistry_30760 +\n",
    "                          d_systolic_bp + d_biochemistry_30750 +\n",
    "                          d_biochemistry_30780 + d_biochemistry_30850 +\n",
    "                          d_hip + d_biochemistry_30640 +\n",
    "                          d_waist + father_1 + d_biochemistry_30720 +\n",
    "                          d_lipoprotein_a + c_selfreport_icd10_20002_1065 +\n",
    "                          c_overall_health_3 + d_biochemistry_30140 +\n",
    "                          sibling_1 + d_PC3 + c_lipidlowering, data=dev_merged)\n",
    "summary(simplecox_cph_20)"
   ]
  },
  {
   "cell_type": "markdown",
   "metadata": {},
   "source": [
    "# Part 5: Developing a datatable with all predictors, absolute risk predictions for all models and outcomes. With this, can generate all sorts of discrimination, calibration, reclassification figures that will go in main text/SI."
   ]
  },
  {
   "cell_type": "code",
   "execution_count": null,
   "metadata": {},
   "outputs": [],
   "source": [
    "fullfeat_dev <- fread(\"coxnet__feature_matrix__development_0_0011765691116882482__30Nov_2020.txt\")\n",
    "fullfeat_ho <- fread(\"coxnet__feature_matrix__holdout_0_0011765691116882482__30Nov_2020.txt\")"
   ]
  },
  {
   "cell_type": "code",
   "execution_count": null,
   "metadata": {},
   "outputs": [],
   "source": [
    "masterdf_dev1_pred <- masterdf[subgroup_indicator == 1]\n",
    "masterdf_ho1_pred <- masterdf[subgroup_indicator == 2]\n",
    "masterdf_devho1_pred <- masterdf[subgroup_indicator != 0]"
   ]
  },
  {
   "cell_type": "markdown",
   "metadata": {},
   "source": [
    "## Recalibrating PCE and QRISK3 to these incidences (using EHJ 2019 methodology)"
   ]
  },
  {
   "cell_type": "code",
   "execution_count": null,
   "metadata": {},
   "outputs": [],
   "source": [
    "tfunc <- function(vec){\n",
    "        vec2 <- log(-1*log(1-vec))\n",
    "        return(vec2)\n",
    "    }"
   ]
  },
  {
   "cell_type": "code",
   "execution_count": null,
   "metadata": {},
   "outputs": [],
   "source": [
    "undo_func <- function(vec){\n",
    "    vec2 <- 1 - (exp(-1*exp(vec)))\n",
    "    return(vec2)\n",
    "}"
   ]
  },
  {
   "cell_type": "code",
   "execution_count": null,
   "metadata": {},
   "outputs": [],
   "source": [
    "EHJ2019Cox <- coxph(Surv(CAD_fu_days,CAD_incident_disease) ~ ageG2 + ageG3 + ageG4 + ageG5 + ageG6 + ageG7,\n",
    "                    data=masterdf_dev1_pred[sex == 'Male'])\n",
    "\n",
    "EHJ2019Cox_10yr <- coxph(Surv(CAD_fu_days10yr,CAD_tenyearoutcome) ~ ageG2 + ageG3 + ageG4 + ageG5 + ageG6 + ageG7,\n",
    "                    data=masterdf_dev1_pred[sex == 'Male'])\n",
    "\n",
    "EHJ2019CoxF <- coxph(Surv(CAD_fu_days,CAD_incident_disease) ~ ageG2 + ageG3 + ageG4 + ageG5 + ageG6 + ageG7,\n",
    "                    data=masterdf_dev1_pred[sex == 'Female'])\n",
    "\n",
    "EHJ2019Cox_10yrF <- coxph(Surv(CAD_fu_days10yr,CAD_tenyearoutcome) ~ ageG2 + ageG3 + ageG4 + ageG5 + ageG6 + ageG7,\n",
    "                    data=masterdf_dev1_pred[sex == 'Female'])\n",
    "\n",
    "dummyDT <- data.table(ageG1 = c(1,rep(0,6)),\n",
    "                     ageG2 = c(0,1,rep(0,5)),\n",
    "                      ageG3 = c(0,0,1,rep(0,4)),\n",
    "                      ageG4 = c(0,0,0,1,0,0,0),\n",
    "                      ageG5 = c(rep(0,4),1,0,0),\n",
    "                      ageG6 = c(rep(0,5),1,0),\n",
    "                      ageG7 = c(rep(0,6),1))\n",
    "\n",
    "MalePred <- absolute_risk(EHJ2019Cox,dummyDT)\n",
    "\n",
    "FemalePred <- absolute_risk(EHJ2019CoxF,dummyDT)"
   ]
  },
  {
   "cell_type": "code",
   "execution_count": null,
   "metadata": {},
   "outputs": [],
   "source": [
    "ext_cal_mod <- function(dt_in,predcol,sortcol,extpred){\n",
    "    intpred <- \n",
    "    tapply(dt_in[[predcol]],dt_in[[sortcol]],mean)\n",
    "    \n",
    "    dt <- as.data.table(cbind(intpred,extpred))\n",
    "    names(dt) <- c(\"intpred\",\"extpred\")\n",
    "    \n",
    "    lm1 <- lm(tfunc(extpred) ~ tfunc(intpred),data = dt)\n",
    "    return(lm1)\n",
    "}"
   ]
  },
  {
   "cell_type": "code",
   "execution_count": null,
   "metadata": {},
   "outputs": [],
   "source": [
    "##Note that the requirement to make sure tenyearASCVD or qrisk3 are not missing\n",
    "##omits 9 entries for former and 6-7% entries for latter.\n",
    "\n",
    "PCE_recal_male <- ext_cal_mod(masterdf_dev1_pred[sex=='Male' & !is.na(tenyearASCVD)],\"tenyearASCVD\",\"age_group\",MalePred)\n",
    "PCE_recal_female <- ext_cal_mod(masterdf_dev1_pred[sex=='Female' & !is.na(tenyearASCVD)],\"tenyearASCVD\",\"age_group\",FemalePred)\n",
    "\n",
    "QRISK3_recal_male <- ext_cal_mod(masterdf_dev1_pred[sex=='Male' & !is.na(qrisk3)],\"qrisk3\",\"age_group\",MalePred)\n",
    "QRISK3_recal_female <- ext_cal_mod(masterdf_dev1_pred[sex=='Female' & !is.na(qrisk3)],\"qrisk3\",\"age_group\",FemalePred)\n",
    "\n",
    "fram_recal_male <- ext_cal_mod(masterdf_dev1_pred[sex=='Male' & !is.na(framrisk)],\"framrisk\",\"age_group\",MalePred)\n",
    "fram_recal_female <- ext_cal_mod(masterdf_dev1_pred[sex=='Female' & !is.na(framrisk)],\"framrisk\",\"age_group\",FemalePred)"
   ]
  },
  {
   "cell_type": "code",
   "execution_count": null,
   "metadata": {},
   "outputs": [],
   "source": [
    "masterdf_ho1_pred[sex=='Male',tenyearASCVD_recal:=undo_func((tfunc(tenyearASCVD) * PCE_recal_male$coefficients[[\"tfunc(intpred)\"]]) +\n",
    "    PCE_recal_male$coefficients[[\"(Intercept)\"]])]\n",
    "\n",
    "masterdf_ho1_pred[sex=='Female',tenyearASCVD_recal:=undo_func((tfunc(tenyearASCVD) * PCE_recal_female$coefficients[[\"tfunc(intpred)\"]]) +\n",
    "    PCE_recal_female$coefficients[[\"(Intercept)\"]])]\n",
    "\n",
    "masterdf_dev1_pred[sex=='Male',tenyearASCVD_recal:=undo_func((tfunc(tenyearASCVD) * PCE_recal_male$coefficients[[\"tfunc(intpred)\"]]) +\n",
    "    PCE_recal_male$coefficients[[\"(Intercept)\"]])]\n",
    "\n",
    "masterdf_dev1_pred[sex=='Female',tenyearASCVD_recal:=undo_func((tfunc(tenyearASCVD) * PCE_recal_female$coefficients[[\"tfunc(intpred)\"]]) +\n",
    "    PCE_recal_female$coefficients[[\"(Intercept)\"]])]\n",
    "\n",
    "masterdf_devho1_pred[sex=='Male',tenyearASCVD_recal:=undo_func((tfunc(tenyearASCVD) * PCE_recal_male$coefficients[[\"tfunc(intpred)\"]]) +\n",
    "    PCE_recal_male$coefficients[[\"(Intercept)\"]])]\n",
    "\n",
    "masterdf_devho1_pred[sex=='Female',tenyearASCVD_recal:=undo_func((tfunc(tenyearASCVD) * PCE_recal_female$coefficients[[\"tfunc(intpred)\"]]) +\n",
    "    PCE_recal_female$coefficients[[\"(Intercept)\"]])]"
   ]
  },
  {
   "cell_type": "code",
   "execution_count": null,
   "metadata": {},
   "outputs": [],
   "source": [
    "masterdf_ho1_pred[sex=='Male',qrisk3_recal:=undo_func((tfunc(qrisk3) * QRISK3_recal_male$coefficients[[\"tfunc(intpred)\"]]) +\n",
    "    QRISK3_recal_male$coefficients[[\"(Intercept)\"]])]\n",
    "\n",
    "masterdf_ho1_pred[sex=='Female',qrisk3_recal:=undo_func((tfunc(qrisk3) * QRISK3_recal_female$coefficients[[\"tfunc(intpred)\"]]) +\n",
    "    QRISK3_recal_female$coefficients[[\"(Intercept)\"]])]\n",
    "\n",
    "masterdf_dev1_pred[sex=='Male',qrisk3_recal:=undo_func((tfunc(qrisk3) * QRISK3_recal_male$coefficients[[\"tfunc(intpred)\"]]) +\n",
    "    QRISK3_recal_male$coefficients[[\"(Intercept)\"]])]\n",
    "\n",
    "masterdf_dev1_pred[sex=='Female',qrisk3_recal:=undo_func((tfunc(qrisk3) * QRISK3_recal_female$coefficients[[\"tfunc(intpred)\"]]) +\n",
    "    QRISK3_recal_female$coefficients[[\"(Intercept)\"]])]\n",
    "\n",
    "masterdf_devho1_pred[sex=='Male',qrisk3_recal:=undo_func((tfunc(qrisk3) * QRISK3_recal_male$coefficients[[\"tfunc(intpred)\"]]) +\n",
    "    QRISK3_recal_male$coefficients[[\"(Intercept)\"]])]\n",
    "\n",
    "masterdf_devho1_pred[sex=='Female',qrisk3_recal:=undo_func((tfunc(qrisk3) * QRISK3_recal_female$coefficients[[\"tfunc(intpred)\"]]) +\n",
    "    QRISK3_recal_female$coefficients[[\"(Intercept)\"]])]"
   ]
  },
  {
   "cell_type": "code",
   "execution_count": null,
   "metadata": {},
   "outputs": [],
   "source": [
    "masterdf_ho1_pred[sex=='Male',framrisk_recal:=undo_func((tfunc(framrisk) * fram_recal_male$coefficients[[\"tfunc(intpred)\"]]) +\n",
    "    fram_recal_male$coefficients[[\"(Intercept)\"]])]\n",
    "\n",
    "masterdf_ho1_pred[sex=='Female',framrisk_recal:=undo_func((tfunc(framrisk) * fram_recal_female$coefficients[[\"tfunc(intpred)\"]]) +\n",
    "    fram_recal_female$coefficients[[\"(Intercept)\"]])]\n",
    "\n",
    "masterdf_dev1_pred[sex=='Male',framrisk_recal:=undo_func((tfunc(framrisk) * fram_recal_male$coefficients[[\"tfunc(intpred)\"]]) +\n",
    "    fram_recal_male$coefficients[[\"(Intercept)\"]])]\n",
    "\n",
    "masterdf_dev1_pred[sex=='Female',framrisk_recal:=undo_func((tfunc(framrisk) * fram_recal_female$coefficients[[\"tfunc(intpred)\"]]) +\n",
    "    fram_recal_female$coefficients[[\"(Intercept)\"]])]\n",
    "\n",
    "masterdf_devho1_pred[sex=='Male',framrisk_recal:=undo_func((tfunc(framrisk) * fram_recal_male$coefficients[[\"tfunc(intpred)\"]]) +\n",
    "    fram_recal_male$coefficients[[\"(Intercept)\"]])]\n",
    "\n",
    "masterdf_devho1_pred[sex=='Female',framrisk_recal:=undo_func((tfunc(framrisk) * fram_recal_female$coefficients[[\"tfunc(intpred)\"]]) +\n",
    "    fram_recal_female$coefficients[[\"(Intercept)\"]])]"
   ]
  },
  {
   "cell_type": "markdown",
   "metadata": {},
   "source": [
    "# Adding in predicted risk by ML4HEN-COX"
   ]
  },
  {
   "cell_type": "code",
   "execution_count": null,
   "metadata": {},
   "outputs": [],
   "source": [
    "coxnet_abs_id <- fread(\"coxnet__absolute_risk_with_ids__development_model_0_0011765691116882482__30Nov_2020.txt\")\n",
    "coxnet_abs_ho_id <- fread(\"coxnet__absolute_risk_with_ids__holdout_model_0_0011765691116882482__30Nov_2020.txt\")"
   ]
  },
  {
   "cell_type": "code",
   "execution_count": null,
   "metadata": {},
   "outputs": [],
   "source": [
    "coxnet_abs_ho_id$coxnet51risk <- coxnet_abs_ho_id$abs_risk_t10\n",
    "coxnet_abs_id$coxnet51risk <- coxnet_abs_id$abs_risk_t10"
   ]
  },
  {
   "cell_type": "code",
   "execution_count": null,
   "metadata": {},
   "outputs": [],
   "source": [
    "masterdf_ho1_pred1 <- merge(masterdf_ho1_pred,coxnet_abs_ho_id[,c('ukbid','coxnet51risk')],\n",
    "                           by.x='eid',by.y='ukbid')\n",
    "\n",
    "masterdf_dev1_pred1 <- merge(masterdf_dev1_pred,coxnet_abs_id[,c('ukbid','coxnet51risk')],\n",
    "                           by.x='eid',by.y='ukbid')"
   ]
  },
  {
   "cell_type": "markdown",
   "metadata": {},
   "source": [
    "# Adding in predicted risk by simple Cox model with 51 features and simple Cox model with top 20 features"
   ]
  },
  {
   "cell_type": "code",
   "execution_count": null,
   "metadata": {},
   "outputs": [],
   "source": [
    "simplecox_feat1 <- fread(\"coxph__feature_list_0_0011765691116882482__30Nov_2020.txt\")\n",
    "simplecox_feat1 <- simplecox_feat1[-1]"
   ]
  },
  {
   "cell_type": "code",
   "execution_count": null,
   "metadata": {},
   "outputs": [],
   "source": [
    "all.equal(simplecox_feat1$V1,names(fullfeat_dev[,-c('index')]))"
   ]
  },
  {
   "cell_type": "code",
   "execution_count": null,
   "metadata": {},
   "outputs": [],
   "source": [
    "featurenames_simplecox <- names(fullfeat_dev[,-c('index')])"
   ]
  },
  {
   "cell_type": "code",
   "execution_count": null,
   "metadata": {},
   "outputs": [],
   "source": [
    "simplecox_newlp_dev <- fullfeat_dev[,Calc := as.matrix(fullfeat_dev[,..featurenames_simplecox])%*%simplecox_feat1$V2]\n",
    "simplecox_newlp_ho <- fullfeat_ho[,Calc := as.matrix(fullfeat_ho[,..featurenames_simplecox])%*%simplecox_feat1$V2]"
   ]
  },
  {
   "cell_type": "code",
   "execution_count": null,
   "metadata": {},
   "outputs": [],
   "source": [
    "coxnet_abs_id$simplecox_newlp <- simplecox_newlp_dev$Calc\n",
    "coxnet_abs_ho_id$simplecox_newlp <- simplecox_newlp_ho$Calc"
   ]
  },
  {
   "cell_type": "code",
   "execution_count": null,
   "metadata": {},
   "outputs": [],
   "source": [
    "cph_simplecox_dev <- coxph(Surv(time,O) ~ simplecox_newlp,data=coxnet_abs_id)\n",
    "cumhaz5 <- basehaz(cph_simplecox_dev,centered = TRUE)\n",
    "basesurv10_5 <- exp(-1*cumhaz5$hazard[which.min(abs(cumhaz5$time - 3652))])\n",
    "coxnet_abs_ho_id$simpcox51risk <- 1 - basesurv10_5^exp((coxnet_abs_ho_id$simplecox_newlp - mean(coxnet_abs_id$simplecox_newlp)))\n",
    "coxnet_abs_id$simpcox51risk <- 1 - basesurv10_5^exp((coxnet_abs_id$simplecox_newlp - mean(coxnet_abs_id$simplecox_newlp)))"
   ]
  },
  {
   "cell_type": "code",
   "execution_count": null,
   "metadata": {},
   "outputs": [],
   "source": [
    "coxnet_abs_ho_id$simpcox20risk <- absolute_risk(simplecox_cph_20,data=fullfeat_ho)\n",
    "coxnet_abs_id$simpcox20risk <- absolute_risk(simplecox_cph_20,data=fullfeat_dev)"
   ]
  },
  {
   "cell_type": "code",
   "execution_count": null,
   "metadata": {},
   "outputs": [],
   "source": [
    "masterdf_ho1_pred2 <- merge(masterdf_ho1_pred1,coxnet_abs_ho_id[,c('ukbid','simpcox51risk','simpcox20risk')],\n",
    "                           by.x='eid',by.y='ukbid')\n",
    "\n",
    "masterdf_dev1_pred2 <- merge(masterdf_dev1_pred1,coxnet_abs_id[,c('ukbid','simpcox51risk','simpcox20risk')],\n",
    "                           by.x='eid',by.y='ukbid')"
   ]
  },
  {
   "cell_type": "markdown",
   "metadata": {},
   "source": [
    "## Adding in XgCox risk"
   ]
  },
  {
   "cell_type": "code",
   "execution_count": null,
   "metadata": {},
   "outputs": [],
   "source": [
    "xgcoxAbsRiskHo_clean <- xgcoxAbsRiskHo[,c('ukbid','abs_risk_t10')]\n",
    "names(xgcoxAbsRiskHo_clean)[2] <- 'xgcoxrisk'\n",
    "\n",
    "masterdf_ho1_pred2 <- merge(masterdf_ho1_pred2,xgcoxAbsRiskHo_clean,by.x='eid',by.y='ukbid')"
   ]
  },
  {
   "cell_type": "markdown",
   "metadata": {},
   "source": [
    "## Correlation plot"
   ]
  },
  {
   "cell_type": "code",
   "execution_count": null,
   "metadata": {},
   "outputs": [],
   "source": [
    "dtforcorrEFig9 <- masterdf_ho1_pred2[,c('coxnet51risk','simpcox51risk','xgcoxrisk',\n",
    "                                   'framrisk_recal','tenyearASCVD_recal','qrisk3_recal')]"
   ]
  },
  {
   "cell_type": "code",
   "execution_count": null,
   "metadata": {},
   "outputs": [],
   "source": [
    "names(dtforcorrEFig9) <- c('ML4HEN-COX','SimpleCox51','XGBoost','FRS','PCE','QRISK3')"
   ]
  },
  {
   "cell_type": "code",
   "execution_count": null,
   "metadata": {},
   "outputs": [],
   "source": [
    "M4 <- cor(dtforcorrEFig9,use = 'complete.obs')\n",
    "M4"
   ]
  },
  {
   "cell_type": "code",
   "execution_count": null,
   "metadata": {},
   "outputs": [],
   "source": [
    "# pdf(height=8,width=8,file='/medpop/esp2/sagrawal/mi_mlprediction/2020.11.30_marcus/mlpaperplots/efigure9.pdf')\n",
    "options(repr.plot.width=8,repr.plot.height=8)\n",
    "corrplot(M4,type='upper',order='original',col=brewer.pal(n=10,name='Paired'),\n",
    "         tl.col='black',cl.lim=c(0.7,1),is.corr=FALSE)\n",
    "\n",
    "# dev.off()"
   ]
  },
  {
   "cell_type": "markdown",
   "metadata": {},
   "source": [
    "# Making calibration plots"
   ]
  },
  {
   "cell_type": "code",
   "execution_count": null,
   "metadata": {},
   "outputs": [],
   "source": [
    "options(repr.plot.width=14,repr.plot.height=7)\n",
    "\n",
    "coxnet51_cal_dev <- calibration_plot(data=masterdf_dev1_pred2,\n",
    "                predictioncol='coxnet51risk',\n",
    "                eventcol='CAD_tenyearoutcome')\n",
    "\n",
    "coxnet51_cal_ho <- calibration_plot(data=masterdf_ho1_pred2,\n",
    "                predictioncol='coxnet51risk',\n",
    "                eventcol='CAD_tenyearoutcome')\n",
    "\n",
    "coxnet_cal <- coxnet51_cal_dev + coxnet51_cal_ho + plot_layout(nrow=1)\n",
    "coxnet_cal\n",
    "\n",
    "# ggsave('/medpop/esp2/sagrawal/mi_mlprediction/2020.11.30_marcus/mlpaperplots/efigure4_alt.pdf',\n",
    "#        coxnet_cal,width=14,height=7)"
   ]
  },
  {
   "cell_type": "code",
   "execution_count": null,
   "metadata": {},
   "outputs": [],
   "source": [
    "options(repr.plot.width=14,repr.plot.height=14)\n",
    "\n",
    "xgboost_cal_ho <- calibration_plot(data=masterdf_ho1_pred2,\n",
    "                predictioncol='xgcoxrisk',\n",
    "                eventcol='CAD_tenyearoutcome')\n",
    "\n",
    "simpcox51_cal_ho <- calibration_plot(data=masterdf_ho1_pred2,\n",
    "                predictioncol='simpcox51risk',\n",
    "                eventcol='CAD_tenyearoutcome')\n",
    "\n",
    "simpcox20_cal_ho <- calibration_plot(data=masterdf_ho1_pred2,\n",
    "                predictioncol='simpcox20risk',\n",
    "                eventcol='CAD_tenyearoutcome')\n",
    "\n",
    "SnAnalysis_cal <- xgboost_cal_ho + simpcox51_cal_ho + simpcox20_cal_ho + plot_layout(nrow=2,ncol=2)\n",
    "SnAnalysis_cal\n",
    "\n",
    "# ggsave('/medpop/esp2/sagrawal/mi_mlprediction/2020.11.30_marcus/mlpaperplots/efigure5_alt.pdf',\n",
    "#        SnAnalysis_cal,width=14,height=14)"
   ]
  },
  {
   "cell_type": "code",
   "execution_count": null,
   "metadata": {},
   "outputs": [],
   "source": [
    "options(repr.plot.width=14,repr.plot.height=7)\n",
    "\n",
    "pce_cal_dev <- calibration_plot(data=masterdf_dev1_pred[!is.na(tenyearASCVD)],\n",
    "                predictioncol='tenyearASCVD',\n",
    "                eventcol='CAD_tenyearoutcome',\n",
    "                manualpvalue='p-value < 0.001')\n",
    "\n",
    "pce_recal_cal_dev <- calibration_plot(data=masterdf_dev1_pred[!is.na(tenyearASCVD)],\n",
    "                predictioncol='tenyearASCVD_recal',\n",
    "                eventcol='CAD_tenyearoutcome')\n",
    "\n",
    "pce_plots_dev <- pce_cal_dev + pce_recal_cal_dev \n",
    "pce_plots_dev\n",
    "\n",
    "# ggsave('/medpop/esp2/sagrawal/mi_mlprediction/2020.11.30_marcus/mlpaperplots/pce_calplots_dev.pdf',\n",
    "#        pce_plots_dev,width=14,height=7)"
   ]
  },
  {
   "cell_type": "code",
   "execution_count": null,
   "metadata": {},
   "outputs": [],
   "source": [
    "options(repr.plot.width=14,repr.plot.height=7)\n",
    "\n",
    "pce_cal_ho <- calibration_plot(data=masterdf_ho1_pred[!is.na(tenyearASCVD)],\n",
    "                predictioncol='tenyearASCVD',\n",
    "                eventcol='CAD_tenyearoutcome',\n",
    "                manualpvalue='p-value < 0.001')\n",
    "\n",
    "pce_recal_cal_ho <- calibration_plot(data=masterdf_ho1_pred[!is.na(tenyearASCVD)],\n",
    "                predictioncol='tenyearASCVD_recal',\n",
    "                eventcol='CAD_tenyearoutcome')\n",
    "\n",
    "pce_plots_ho <- pce_cal_ho + pce_recal_cal_ho \n",
    "pce_plots_ho\n",
    "\n",
    "# ggsave('/medpop/esp2/sagrawal/mi_mlprediction/2020.11.30_marcus/mlpaperplots/pce_calplots.pdf',\n",
    "#        pce_plots,width=14,height=7)"
   ]
  },
  {
   "cell_type": "code",
   "execution_count": null,
   "metadata": {},
   "outputs": [],
   "source": [
    "options(repr.plot.width=14,repr.plot.height=7)\n",
    "\n",
    "qrisk3_cal_dev <- calibration_plot(data=masterdf_dev1_pred[!is.na(qrisk3)],\n",
    "                predictioncol='qrisk3',\n",
    "                eventcol='CAD_tenyearoutcome',\n",
    "                manualpvalue='p-value < 0.001')\n",
    "\n",
    "qrisk3_recal_cal_dev <- calibration_plot(data=masterdf_dev1_pred[!is.na(qrisk3_recal)],\n",
    "                predictioncol='qrisk3_recal',\n",
    "                eventcol='CAD_tenyearoutcome')\n",
    "\n",
    "qrisk3_plots_dev <- qrisk3_cal_dev + qrisk3_recal_cal_dev\n",
    "qrisk3_plots_dev\n",
    "\n",
    "# ggsave('/medpop/esp2/sagrawal/mi_mlprediction/2020.11.30_marcus/mlpaperplots/qrisk3_calplots_dev.pdf',\n",
    "#        qrisk3_plots_dev,width=14,height=7)"
   ]
  },
  {
   "cell_type": "code",
   "execution_count": null,
   "metadata": {},
   "outputs": [],
   "source": [
    "options(repr.plot.width=14,repr.plot.height=7)\n",
    "\n",
    "qrisk3_cal_ho <- calibration_plot(data=masterdf_ho1_pred[!is.na(qrisk3)],\n",
    "                predictioncol='qrisk3',\n",
    "                eventcol='CAD_tenyearoutcome',\n",
    "                manualpvalue='p-value < 0.001')\n",
    "\n",
    "qrisk3_recal_cal_ho <- calibration_plot(data=masterdf_ho1_pred[!is.na(qrisk3_recal)],\n",
    "                predictioncol='qrisk3_recal',\n",
    "                eventcol='CAD_tenyearoutcome')\n",
    "\n",
    "qrisk3_plots_ho <- qrisk3_cal_ho + qrisk3_recal_cal_ho\n",
    "qrisk3_plots_ho\n",
    "\n",
    "# ggsave('/medpop/esp2/sagrawal/mi_mlprediction/2020.11.30_marcus/mlpaperplots/qrisk3_calplots.pdf',\n",
    "#        qrisk3_plots,width=14,height=7)"
   ]
  },
  {
   "cell_type": "code",
   "execution_count": null,
   "metadata": {},
   "outputs": [],
   "source": [
    "options(repr.plot.width=14,repr.plot.height=7)\n",
    "\n",
    "framrisk_cal_dev <- calibration_plot(data=masterdf_dev1_pred[!is.na(framrisk)],\n",
    "                predictioncol='framrisk',\n",
    "                eventcol='CAD_tenyearoutcome',\n",
    "                manualpvalue='p-value < 0.001')\n",
    "\n",
    "framrisk_recal_cal_dev <- calibration_plot(data=masterdf_dev1_pred[!is.na(framrisk_recal)],\n",
    "                predictioncol='framrisk_recal',\n",
    "                eventcol='CAD_tenyearoutcome')\n",
    "\n",
    "fram_plots_dev <- framrisk_cal_dev + framrisk_recal_cal_dev\n",
    "fram_plots_dev\n",
    "\n",
    "# ggsave('/medpop/esp2/sagrawal/mi_mlprediction/2020.11.30_marcus/mlpaperplots/framrisk_calplots_dev.pdf',\n",
    "#        fram_plots_dev,width=14,height=7)"
   ]
  },
  {
   "cell_type": "code",
   "execution_count": null,
   "metadata": {},
   "outputs": [],
   "source": [
    "options(repr.plot.width=14,repr.plot.height=7)\n",
    "\n",
    "framrisk_cal_ho <- calibration_plot(data=masterdf_ho1_pred[!is.na(framrisk)],\n",
    "                predictioncol='framrisk',\n",
    "                eventcol='CAD_tenyearoutcome',\n",
    "                manualpvalue='p-value < 0.001')\n",
    "\n",
    "framrisk_recal_cal_ho <- calibration_plot(data=masterdf_ho1_pred[!is.na(framrisk_recal)],\n",
    "                predictioncol='framrisk_recal',\n",
    "                eventcol='CAD_tenyearoutcome')\n",
    "\n",
    "fram_plots_ho <- framrisk_cal_ho + framrisk_recal_cal_ho\n",
    "fram_plots_ho\n",
    "\n",
    "# ggsave('/medpop/esp2/sagrawal/mi_mlprediction/2020.11.30_marcus/mlpaperplots/framrisk_calplots.pdf',\n",
    "#        fram_plots,width=14,height=7)"
   ]
  },
  {
   "cell_type": "markdown",
   "metadata": {},
   "source": [
    "# Part 6: Benchmarking models with AUC and reclassification indices"
   ]
  },
  {
   "cell_type": "code",
   "execution_count": null,
   "metadata": {},
   "outputs": [],
   "source": [
    "#Purpose of this is simply to correctly calculate DeLong p-value between ML4HEN-COX and QRISK3\n",
    "masterdf_ho1_pred3 <- masterdf_ho1_pred2[!is.na(qrisk3_recal)]"
   ]
  },
  {
   "cell_type": "code",
   "execution_count": null,
   "metadata": {},
   "outputs": [],
   "source": [
    "rocobj_coxnet51 <- roc(masterdf_ho1_pred2$CAD_tenyearoutcome,masterdf_ho1_pred2$coxnet51risk)\n",
    "rocobj_coxnet51_2 <- roc(masterdf_ho1_pred3$CAD_tenyearoutcome,masterdf_ho1_pred3$coxnet51risk)\n",
    "rocobj_simpcox51risk <- roc(masterdf_ho1_pred2$CAD_tenyearoutcome,masterdf_ho1_pred2$simpcox51risk)\n",
    "rocobj_simpcox20risk <- roc(masterdf_ho1_pred2$CAD_tenyearoutcome,masterdf_ho1_pred2$simpcox20risk)\n",
    "rocobj_framrisk <- roc(masterdf_ho1_pred2[!is.na(framrisk_recal)]$CAD_tenyearoutcome,masterdf_ho1_pred2[!is.na(framrisk_recal)]$framrisk_recal)\n",
    "rocobj_tenyearASCVD <- roc(masterdf_ho1_pred2[!is.na(tenyearASCVD_recal)]$CAD_tenyearoutcome,masterdf_ho1_pred2[!is.na(tenyearASCVD_recal)]$tenyearASCVD_recal)\n",
    "rocobj_qrisk3 <- roc(masterdf_ho1_pred3$CAD_tenyearoutcome,masterdf_ho1_pred3$qrisk3_recal)\n",
    "rocobj_xgcoxrisk <- roc(masterdf_ho1_pred2$CAD_tenyearoutcome,masterdf_ho1_pred2$xgcoxrisk)"
   ]
  },
  {
   "cell_type": "code",
   "execution_count": null,
   "metadata": {},
   "outputs": [],
   "source": [
    "roc.test(rocobj_coxnet51,rocobj_framrisk,method='delong')\n",
    "roc.test(rocobj_coxnet51,rocobj_tenyearASCVD,method='delong')\n",
    "roc.test(rocobj_coxnet51_2,rocobj_qrisk3,method='delong')\n",
    "roc.test(rocobj_coxnet51,rocobj_xgcoxrisk,method='delong')\n",
    "roc.test(rocobj_coxnet51,rocobj_simpcox51risk,method='delong')\n",
    "roc.test(rocobj_coxnet51,rocobj_simpcox20risk,method='delong')"
   ]
  },
  {
   "cell_type": "markdown",
   "metadata": {},
   "source": [
    "## Representative example of computing bootstrapped 95% CI for each AUC"
   ]
  },
  {
   "cell_type": "code",
   "execution_count": null,
   "metadata": {},
   "outputs": [],
   "source": [
    "ci(rocobj_qrisk3,method='bootstrap',boot.n=1000,progress='text')"
   ]
  },
  {
   "cell_type": "code",
   "execution_count": null,
   "metadata": {},
   "outputs": [],
   "source": [
    "rocobj_coxnet51_male <- roc(masterdf_ho1_pred2[sex=='Male']$CAD_tenyearoutcome,masterdf_ho1_pred2[sex=='Male']$coxnet51risk)\n",
    "rocobj_coxnet51_male_2 <- roc(masterdf_ho1_pred3[sex=='Male']$CAD_tenyearoutcome,masterdf_ho1_pred3[sex=='Male']$coxnet51risk)\n",
    "rocobj_simpcox51risk_male <- roc(masterdf_ho1_pred2[sex=='Male']$CAD_tenyearoutcome,masterdf_ho1_pred2[sex=='Male']$simpcox51risk)\n",
    "rocobj_simpcox20risk_male <- roc(masterdf_ho1_pred2[sex=='Male']$CAD_tenyearoutcome,masterdf_ho1_pred2[sex=='Male']$simpcox20risk)\n",
    "rocobj_framrisk_male <- roc(masterdf_ho1_pred2[sex=='Male' & !is.na(framrisk_recal)]$CAD_tenyearoutcome,masterdf_ho1_pred2[sex=='Male' & !is.na(framrisk_recal)]$framrisk_recal)\n",
    "rocobj_tenyearASCVD_male <- roc(masterdf_ho1_pred2[sex=='Male' & !is.na(tenyearASCVD_recal)]$CAD_tenyearoutcome,masterdf_ho1_pred2[sex=='Male' & !is.na(tenyearASCVD_recal)]$tenyearASCVD_recal)\n",
    "rocobj_qrisk3_male <- roc(masterdf_ho1_pred3[sex=='Male']$CAD_tenyearoutcome,masterdf_ho1_pred3[sex=='Male']$qrisk3_recal)\n",
    "rocobj_xgcoxrisk_male <- roc(masterdf_ho1_pred2[sex=='Male']$CAD_tenyearoutcome,masterdf_ho1_pred2[sex=='Male']$xgcoxrisk)"
   ]
  },
  {
   "cell_type": "code",
   "execution_count": null,
   "metadata": {},
   "outputs": [],
   "source": [
    "roc.test(rocobj_coxnet51_male,rocobj_framrisk_male,method='delong')\n",
    "roc.test(rocobj_coxnet51_male,rocobj_tenyearASCVD_male,method='delong')\n",
    "roc.test(rocobj_coxnet51_male_2,rocobj_qrisk3_male,method='delong')\n",
    "roc.test(rocobj_coxnet51_male,rocobj_xgcoxrisk_male,method='delong')\n",
    "roc.test(rocobj_coxnet51_male,rocobj_simpcox51risk_male,method='delong')\n",
    "roc.test(rocobj_coxnet51_male,rocobj_simpcox20risk_male,method='delong')"
   ]
  },
  {
   "cell_type": "code",
   "execution_count": null,
   "metadata": {},
   "outputs": [],
   "source": [
    "rocobj_coxnet51_female <- roc(masterdf_ho1_pred2[sex=='Female']$CAD_tenyearoutcome,masterdf_ho1_pred2[sex=='Female']$coxnet51risk)\n",
    "rocobj_coxnet51_female_2 <- roc(masterdf_ho1_pred3[sex=='Female']$CAD_tenyearoutcome,masterdf_ho1_pred3[sex=='Female']$coxnet51risk)\n",
    "rocobj_simpcox51risk_female <- roc(masterdf_ho1_pred2[sex=='Female']$CAD_tenyearoutcome,masterdf_ho1_pred2[sex=='Female']$simpcox51risk)\n",
    "rocobj_simpcox20risk_female <- roc(masterdf_ho1_pred2[sex=='Female']$CAD_tenyearoutcome,masterdf_ho1_pred2[sex=='Female']$simpcox20risk)\n",
    "rocobj_framrisk_female <- roc(masterdf_ho1_pred2[sex=='Female' & !is.na(framrisk_recal)]$CAD_tenyearoutcome,masterdf_ho1_pred2[sex=='Female' & !is.na(framrisk_recal)]$framrisk_recal)\n",
    "rocobj_tenyearASCVD_female <- roc(masterdf_ho1_pred2[sex=='Female' & !is.na(tenyearASCVD_recal)]$CAD_tenyearoutcome,masterdf_ho1_pred2[sex=='Female' & !is.na(tenyearASCVD_recal)]$tenyearASCVD_recal)\n",
    "rocobj_qrisk3_female <- roc(masterdf_ho1_pred3[sex=='Female']$CAD_tenyearoutcome,masterdf_ho1_pred3[sex=='Female']$qrisk3_recal)\n",
    "rocobj_xgcoxrisk_female <- roc(masterdf_ho1_pred2[sex=='Female']$CAD_tenyearoutcome,masterdf_ho1_pred2[sex=='Female']$xgcoxrisk)"
   ]
  },
  {
   "cell_type": "code",
   "execution_count": null,
   "metadata": {},
   "outputs": [],
   "source": [
    "roc.test(rocobj_coxnet51_female,rocobj_framrisk_female,method='delong')\n",
    "roc.test(rocobj_coxnet51_female,rocobj_tenyearASCVD_female,method='delong')\n",
    "roc.test(rocobj_coxnet51_female_2,rocobj_qrisk3_female,method='delong')\n",
    "\n",
    "roc.test(rocobj_coxnet51_female,rocobj_xgcoxrisk_female,method='delong')\n",
    "roc.test(rocobj_coxnet51_female,rocobj_simpcox51risk_female,method='delong')\n",
    "roc.test(rocobj_coxnet51_female,rocobj_simpcox20risk_female,method='delong')"
   ]
  },
  {
   "cell_type": "code",
   "execution_count": null,
   "metadata": {},
   "outputs": [],
   "source": [
    "rocobj_coxnet51_under55 <- roc(masterdf_ho1_pred2[age<55]$CAD_tenyearoutcome,masterdf_ho1_pred2[age<55]$coxnet51risk)\n",
    "rocobj_coxnet51_under55_2 <- roc(masterdf_ho1_pred3[age<55]$CAD_tenyearoutcome,masterdf_ho1_pred3[age<55]$coxnet51risk)\n",
    "rocobj_simpcox51risk_under55 <- roc(masterdf_ho1_pred2[age<55]$CAD_tenyearoutcome,masterdf_ho1_pred2[age<55]$simpcox51risk)\n",
    "rocobj_simpcox20risk_under55 <- roc(masterdf_ho1_pred2[age<55]$CAD_tenyearoutcome,masterdf_ho1_pred2[age<55]$simpcox20risk)\n",
    "rocobj_framrisk_under55 <- roc(masterdf_ho1_pred2[age<55 & !is.na(framrisk_recal)]$CAD_tenyearoutcome,masterdf_ho1_pred2[age<55 & !is.na(framrisk_recal)]$framrisk_recal)\n",
    "rocobj_tenyearASCVD_under55 <- roc(masterdf_ho1_pred2[age<55 & !is.na(tenyearASCVD_recal)]$CAD_tenyearoutcome,masterdf_ho1_pred2[age<55 & !is.na(tenyearASCVD_recal)]$tenyearASCVD_recal)\n",
    "rocobj_qrisk3_under55 <- roc(masterdf_ho1_pred3[age<55]$CAD_tenyearoutcome,masterdf_ho1_pred3[age<55]$qrisk3_recal)\n",
    "rocobj_xgcoxrisk_under55 <- roc(masterdf_ho1_pred2[age<55]$CAD_tenyearoutcome,masterdf_ho1_pred2[age<55]$xgcoxrisk)"
   ]
  },
  {
   "cell_type": "code",
   "execution_count": null,
   "metadata": {},
   "outputs": [],
   "source": [
    "roc.test(rocobj_coxnet51_under55,rocobj_framrisk_under55,method='delong')\n",
    "roc.test(rocobj_coxnet51_under55,rocobj_tenyearASCVD_under55,method='delong')\n",
    "roc.test(rocobj_coxnet51_under55_2,rocobj_qrisk3_under55,method='delong')\n",
    "\n",
    "roc.test(rocobj_coxnet51_under55,rocobj_xgcoxrisk_under55,method='delong')\n",
    "roc.test(rocobj_coxnet51_under55,rocobj_simpcox51risk_under55,method='delong')\n",
    "roc.test(rocobj_coxnet51_under55,rocobj_simpcox20risk_under55,method='delong')"
   ]
  },
  {
   "cell_type": "code",
   "execution_count": null,
   "metadata": {},
   "outputs": [],
   "source": [
    "rocobj_coxnet51_over55 <- roc(masterdf_ho1_pred2[age>=55]$CAD_tenyearoutcome,masterdf_ho1_pred2[age>=55]$coxnet51risk)\n",
    "rocobj_coxnet51_over55_2 <- roc(masterdf_ho1_pred3[age>=55]$CAD_tenyearoutcome,masterdf_ho1_pred3[age>=55]$coxnet51risk)\n",
    "\n",
    "rocobj_simpcox51risk_over55 <- roc(masterdf_ho1_pred2[age>=55]$CAD_tenyearoutcome,masterdf_ho1_pred2[age>=55]$simpcox51risk)\n",
    "rocobj_simpcox20risk_over55 <- roc(masterdf_ho1_pred2[age>=55]$CAD_tenyearoutcome,masterdf_ho1_pred2[age>=55]$simpcox20risk)\n",
    "rocobj_framrisk_over55 <- roc(masterdf_ho1_pred2[age>=55 & !is.na(framrisk_recal)]$CAD_tenyearoutcome,masterdf_ho1_pred2[age>=55 & !is.na(framrisk_recal)]$framrisk_recal)\n",
    "rocobj_tenyearASCVD_over55 <- roc(masterdf_ho1_pred2[age>=55 & !is.na(tenyearASCVD_recal)]$CAD_tenyearoutcome,masterdf_ho1_pred2[age>=55 & !is.na(tenyearASCVD_recal)]$tenyearASCVD_recal)\n",
    "rocobj_qrisk3_over55 <- roc(masterdf_ho1_pred3[age>=55]$CAD_tenyearoutcome,masterdf_ho1_pred3[age>=55]$qrisk3_recal)\n",
    "rocobj_xgcoxrisk_over55 <- roc(masterdf_ho1_pred2[age>=55]$CAD_tenyearoutcome,masterdf_ho1_pred2[age>=55]$xgcoxrisk)"
   ]
  },
  {
   "cell_type": "code",
   "execution_count": null,
   "metadata": {},
   "outputs": [],
   "source": [
    "roc.test(rocobj_coxnet51_over55,rocobj_framrisk_over55,method='delong')\n",
    "roc.test(rocobj_coxnet51_over55,rocobj_tenyearASCVD_over55,method='delong')\n",
    "roc.test(rocobj_coxnet51_over55_2,rocobj_qrisk3_over55,method='delong')\n",
    "\n",
    "roc.test(rocobj_coxnet51_over55,rocobj_xgcoxrisk_over55,method='delong')\n",
    "roc.test(rocobj_coxnet51_over55,rocobj_simpcox51risk_over55,method='delong')\n",
    "roc.test(rocobj_coxnet51_over55,rocobj_simpcox20risk_over55,method='delong')"
   ]
  },
  {
   "cell_type": "markdown",
   "metadata": {},
   "source": [
    "# Sn: Performance of PCE and QRISK3 in CAD vs CVD"
   ]
  },
  {
   "cell_type": "code",
   "execution_count": null,
   "metadata": {},
   "outputs": [],
   "source": [
    "rocobj_tenyearASCVD_1 <- roc(masterdf_ho1_pred2[!is.na(tenyearASCVD_recal)]$CAD_tenyearoutcome,masterdf_ho1_pred2[!is.na(tenyearASCVD_recal)]$tenyearASCVD_recal)\n",
    "rocobj_qrisk3_1 <- roc(masterdf_ho1_pred2[!is.na(qrisk3_recal)]$CAD_tenyearoutcome,masterdf_ho1_pred2[!is.na(qrisk3_recal)]$qrisk3_recal)\n",
    "\n",
    "rocobj_tenyearASCVD_1\n",
    "rocobj_qrisk3_1"
   ]
  },
  {
   "cell_type": "code",
   "execution_count": null,
   "metadata": {},
   "outputs": [],
   "source": [
    "rocobj_tenyearASCVD_1 <- roc(masterdf_ho1_pred2[!is.na(tenyearASCVD)]$CAD_tenyearoutcome,masterdf_ho1_pred2[!is.na(tenyearASCVD)]$tenyearASCVD_recal)\n",
    "rocobj_qrisk3_1 <- roc(masterdf_ho1_pred2[!is.na(qrisk3)]$CAD_tenyearoutcome,masterdf_ho1_pred2[!is.na(qrisk3)]$qrisk3_recal)\n",
    "\n",
    "rocobj_tenyearASCVD_1\n",
    "rocobj_qrisk3_1"
   ]
  },
  {
   "cell_type": "code",
   "execution_count": null,
   "metadata": {},
   "outputs": [],
   "source": [
    "rocobj_tenyearASCVD_1 <- roc(masterdf_ho1_pred2[!is.na(tenyearASCVD)]$CVD_tenyearoutcome,masterdf_ho1_pred2[!is.na(tenyearASCVD)]$tenyearASCVD_recal)\n",
    "rocobj_qrisk3_1 <- roc(masterdf_ho1_pred2[!is.na(qrisk3)]$CVD_tenyearoutcome,masterdf_ho1_pred2[!is.na(qrisk3)]$qrisk3_recal)\n",
    "rocobj_coxnet51_1 <- roc(masterdf_ho1_pred2$CVD_tenyearoutcome,masterdf_ho1_pred2$coxnet51risk)\n",
    "\n",
    "rocobj_tenyearASCVD_1\n",
    "rocobj_qrisk3_1\n",
    "rocobj_coxnet51_1"
   ]
  },
  {
   "cell_type": "code",
   "execution_count": null,
   "metadata": {},
   "outputs": [],
   "source": [
    "ci(rocobj_tenyearASCVD_1,method='bootstrap',boot.n=1000,progress='text')\n",
    "ci(rocobj_qrisk3_1,method='bootstrap',boot.n=1000,progress='text')\n",
    "ci(rocobj_coxnet51_1,method='bootstrap',boot.n=1000,progress='text')"
   ]
  },
  {
   "cell_type": "markdown",
   "metadata": {},
   "source": [
    "# Start reclassification analyses"
   ]
  },
  {
   "cell_type": "code",
   "execution_count": null,
   "metadata": {},
   "outputs": [],
   "source": [
    "reclass(data=masterdf_ho1_pred2,\n",
    "                 cOutcome=\"CAD_tenyearoutcome\",\n",
    "                predrisk1=masterdf_ho1_pred2$framrisk_recal,\n",
    "                predrisk2=masterdf_ho1_pred2$coxnet51risk,\n",
    "                cutoff=c(0,0.025,1))\n",
    "\n",
    "reclass(data=masterdf_ho1_pred2,\n",
    "                 cOutcome=\"CAD_tenyearoutcome\",\n",
    "                predrisk1=masterdf_ho1_pred2$tenyearASCVD_recal,\n",
    "                predrisk2=masterdf_ho1_pred2$coxnet51risk,\n",
    "                cutoff=c(0,0.025,1))\n",
    "\n",
    "reclass(data=masterdf_ho1_pred2[!is.na(qrisk3_recal)],\n",
    "                 cOutcome=\"CAD_tenyearoutcome\",\n",
    "                predrisk1=masterdf_ho1_pred2[!is.na(qrisk3_recal)]$qrisk3_recal,\n",
    "                predrisk2=masterdf_ho1_pred2[!is.na(qrisk3_recal)]$coxnet51risk,\n",
    "                cutoff=c(0,0.025,1))\n",
    "\n",
    "\n",
    "reclass(data=masterdf_ho1_pred2,\n",
    "                 cOutcome=\"CAD_tenyearoutcome\",\n",
    "                predrisk1=masterdf_ho1_pred2$framrisk_recal,\n",
    "                predrisk2=masterdf_ho1_pred2$coxnet51risk,\n",
    "                cutoff=c(0,0.05,1))\n",
    "\n",
    "reclass(data=masterdf_ho1_pred2,\n",
    "                 cOutcome=\"CAD_tenyearoutcome\",\n",
    "                predrisk1=masterdf_ho1_pred2$tenyearASCVD_recal,\n",
    "                predrisk2=masterdf_ho1_pred2$coxnet51risk,\n",
    "                cutoff=c(0,0.05,1))\n",
    "\n",
    "reclass(data=masterdf_ho1_pred2[!is.na(qrisk3_recal)],\n",
    "                 cOutcome=\"CAD_tenyearoutcome\",\n",
    "                predrisk1=masterdf_ho1_pred2[!is.na(qrisk3_recal)]$qrisk3_recal,\n",
    "                predrisk2=masterdf_ho1_pred2[!is.na(qrisk3_recal)]$coxnet51risk,\n",
    "                cutoff=c(0,0.05,1))"
   ]
  },
  {
   "cell_type": "code",
   "execution_count": null,
   "metadata": {},
   "outputs": [],
   "source": [
    "reclass(data=masterdf_ho1_pred2,\n",
    "                 cOutcome=\"CAD_tenyearoutcome\",\n",
    "                predrisk1=masterdf_ho1_pred2$framrisk_recal,\n",
    "                predrisk2=masterdf_ho1_pred2$simpcox51risk,\n",
    "                cutoff=c(0,0.025,1))\n",
    "\n",
    "reclass(data=masterdf_ho1_pred2,\n",
    "                 cOutcome=\"CAD_tenyearoutcome\",\n",
    "                predrisk1=masterdf_ho1_pred2$tenyearASCVD_recal,\n",
    "                predrisk2=masterdf_ho1_pred2$simpcox51risk,\n",
    "                cutoff=c(0,0.025,1))\n",
    "\n",
    "reclass(data=masterdf_ho1_pred2[!is.na(qrisk3_recal)],\n",
    "                 cOutcome=\"CAD_tenyearoutcome\",\n",
    "                predrisk1=masterdf_ho1_pred2[!is.na(qrisk3_recal)]$qrisk3_recal,\n",
    "                predrisk2=masterdf_ho1_pred2[!is.na(qrisk3_recal)]$simpcox51risk,\n",
    "                cutoff=c(0,0.025,1))\n",
    "\n",
    "reclass(data=masterdf_ho1_pred2,\n",
    "                 cOutcome=\"CAD_tenyearoutcome\",\n",
    "                predrisk1=masterdf_ho1_pred2$framrisk_recal,\n",
    "                predrisk2=masterdf_ho1_pred2$simpcox51risk,\n",
    "                cutoff=c(0,0.05,1))\n",
    "\n",
    "reclass(data=masterdf_ho1_pred2,\n",
    "                 cOutcome=\"CAD_tenyearoutcome\",\n",
    "                predrisk1=masterdf_ho1_pred2$tenyearASCVD_recal,\n",
    "                predrisk2=masterdf_ho1_pred2$simpcox51risk,\n",
    "                cutoff=c(0,0.05,1))\n",
    "\n",
    "reclass(data=masterdf_ho1_pred2[!is.na(qrisk3_recal)],\n",
    "                 cOutcome=\"CAD_tenyearoutcome\",\n",
    "                predrisk1=masterdf_ho1_pred2[!is.na(qrisk3_recal)]$qrisk3_recal,\n",
    "                predrisk2=masterdf_ho1_pred2[!is.na(qrisk3_recal)]$simpcox51risk,\n",
    "                cutoff=c(0,0.05,1))"
   ]
  },
  {
   "cell_type": "code",
   "execution_count": null,
   "metadata": {},
   "outputs": [],
   "source": [
    "reclass(data=masterdf_ho1_pred2,\n",
    "                 cOutcome=\"CAD_tenyearoutcome\",\n",
    "                predrisk1=masterdf_ho1_pred2$framrisk_recal,\n",
    "                predrisk2=masterdf_ho1_pred2$simpcox20risk,\n",
    "                cutoff=c(0,0.025,1))\n",
    "\n",
    "reclass(data=masterdf_ho1_pred2,\n",
    "                 cOutcome=\"CAD_tenyearoutcome\",\n",
    "                predrisk1=masterdf_ho1_pred2$tenyearASCVD_recal,\n",
    "                predrisk2=masterdf_ho1_pred2$simpcox20risk,\n",
    "                cutoff=c(0,0.025,1))\n",
    "\n",
    "reclass(data=masterdf_ho1_pred2[!is.na(qrisk3_recal)],\n",
    "                 cOutcome=\"CAD_tenyearoutcome\",\n",
    "                predrisk1=masterdf_ho1_pred2[!is.na(qrisk3_recal)]$qrisk3_recal,\n",
    "                predrisk2=masterdf_ho1_pred2[!is.na(qrisk3_recal)]$simpcox20risk,\n",
    "                cutoff=c(0,0.025,1))\n",
    "\n",
    "reclass(data=masterdf_ho1_pred2,\n",
    "                 cOutcome=\"CAD_tenyearoutcome\",\n",
    "                predrisk1=masterdf_ho1_pred2$framrisk_recal,\n",
    "                predrisk2=masterdf_ho1_pred2$simpcox20risk,\n",
    "                cutoff=c(0,0.05,1))\n",
    "\n",
    "reclass(data=masterdf_ho1_pred2,\n",
    "                 cOutcome=\"CAD_tenyearoutcome\",\n",
    "                predrisk1=masterdf_ho1_pred2$tenyearASCVD_recal,\n",
    "                predrisk2=masterdf_ho1_pred2$simpcox20risk,\n",
    "                cutoff=c(0,0.05,1))\n",
    "\n",
    "reclass(data=masterdf_ho1_pred2[!is.na(qrisk3_recal)],\n",
    "                 cOutcome=\"CAD_tenyearoutcome\",\n",
    "                predrisk1=masterdf_ho1_pred2[!is.na(qrisk3_recal)]$qrisk3_recal,\n",
    "                predrisk2=masterdf_ho1_pred2[!is.na(qrisk3_recal)]$simpcox20risk,\n",
    "                cutoff=c(0,0.05,1))"
   ]
  },
  {
   "cell_type": "code",
   "execution_count": null,
   "metadata": {},
   "outputs": [],
   "source": [
    "reclass(data=masterdf_ho1_pred2,\n",
    "                 cOutcome=\"CAD_tenyearoutcome\",\n",
    "                predrisk1=masterdf_ho1_pred2$framrisk_recal,\n",
    "                predrisk2=masterdf_ho1_pred2$xgcoxrisk,\n",
    "                cutoff=c(0,0.025,1))\n",
    "\n",
    "reclass(data=masterdf_ho1_pred2,\n",
    "                 cOutcome=\"CAD_tenyearoutcome\",\n",
    "                predrisk1=masterdf_ho1_pred2$tenyearASCVD_recal,\n",
    "                predrisk2=masterdf_ho1_pred2$xgcoxrisk,\n",
    "                cutoff=c(0,0.025,1))\n",
    "\n",
    "reclass(data=masterdf_ho1_pred2[!is.na(qrisk3_recal)],\n",
    "                 cOutcome=\"CAD_tenyearoutcome\",\n",
    "                predrisk1=masterdf_ho1_pred2[!is.na(qrisk3_recal)]$qrisk3_recal,\n",
    "                predrisk2=masterdf_ho1_pred2[!is.na(qrisk3_recal)]$xgcoxrisk,\n",
    "                cutoff=c(0,0.025,1))\n",
    "\n",
    "reclass(data=masterdf_ho1_pred2,\n",
    "                 cOutcome=\"CAD_tenyearoutcome\",\n",
    "                predrisk1=masterdf_ho1_pred2$framrisk_recal,\n",
    "                predrisk2=masterdf_ho1_pred2$xgcoxrisk,\n",
    "                cutoff=c(0,0.05,1))\n",
    "\n",
    "reclass(data=masterdf_ho1_pred2,\n",
    "                 cOutcome=\"CAD_tenyearoutcome\",\n",
    "                predrisk1=masterdf_ho1_pred2$tenyearASCVD_recal,\n",
    "                predrisk2=masterdf_ho1_pred2$xgcoxrisk,\n",
    "                cutoff=c(0,0.05,1))\n",
    "\n",
    "reclass(data=masterdf_ho1_pred2[!is.na(qrisk3_recal)],\n",
    "                 cOutcome=\"CAD_tenyearoutcome\",\n",
    "                predrisk1=masterdf_ho1_pred2[!is.na(qrisk3_recal)]$qrisk3_recal,\n",
    "                predrisk2=masterdf_ho1_pred2[!is.na(qrisk3_recal)]$xgcoxrisk,\n",
    "                cutoff=c(0,0.05,1))"
   ]
  },
  {
   "cell_type": "markdown",
   "metadata": {},
   "source": [
    "# Making density plots"
   ]
  },
  {
   "cell_type": "code",
   "execution_count": null,
   "metadata": {},
   "outputs": [],
   "source": [
    "dtfordensityplots <- masterdf_ho1_pred2[,c('eid','coxnet51risk','simpcox51risk','xgcoxrisk',\n",
    "                                   'framrisk','tenyearASCVD','qrisk3','framrisk_recal',\n",
    "                                   'tenyearASCVD_recal','qrisk3_recal')]"
   ]
  },
  {
   "cell_type": "code",
   "execution_count": null,
   "metadata": {},
   "outputs": [],
   "source": [
    "names(dtfordensityplots) <- c('eid','ML4HEN-Cox','SimpleCox51','XgCox','FRS','PCE','QRISK3',\n",
    "                      'FRS(recal)','PCE(recal)','QRISK(recal)')"
   ]
  },
  {
   "cell_type": "code",
   "execution_count": null,
   "metadata": {},
   "outputs": [],
   "source": [
    "densityplotdt1 <- melt(dtfordensityplots,id.vars=c('eid'),measure.vars=c('ML4HEN-Cox'))"
   ]
  },
  {
   "cell_type": "code",
   "execution_count": null,
   "metadata": {},
   "outputs": [],
   "source": [
    "densityplotdt2 <- melt(dtfordensityplots,id.vars=c('eid'),measure.vars=c('ML4HEN-Cox',\n",
    "                                                       'FRS(recal)','PCE(recal)',\n",
    "                                                       'QRISK(recal)'))"
   ]
  },
  {
   "cell_type": "code",
   "execution_count": null,
   "metadata": {},
   "outputs": [],
   "source": [
    "densityplotdt3 <- melt(dtfordensityplots,id.vars=c('eid'),measure.vars=c('ML4HEN-Cox','SimpleCox51',\n",
    "                                                       'XgCox'))"
   ]
  },
  {
   "cell_type": "code",
   "execution_count": null,
   "metadata": {},
   "outputs": [],
   "source": [
    "options(repr.plot.width=12,repr.plot.height=10)\n",
    "\n",
    "g1 <- ggplot(data=densityplotdt1,aes(x=value,colour=variable)) + \n",
    "geom_density() +\n",
    "scale_x_continuous(limits=c(0,0.15)) +\n",
    "scale_y_continuous(expand=c(0,0),limits=c(0,45)) +\n",
    "theme_bw() +\n",
    "xlab('Predicted Risk') +\n",
    "labs(colour = 'Model') +\n",
    "scale_color_manual(values=c('#66C2A5'),labels=c(expression(ML4H[EN-COX]))) +\n",
    "theme(legend.text.align = 0)\n",
    "\n",
    "g2 <- ggplot(data=densityplotdt2,aes(x=value,colour=variable)) + \n",
    "geom_density() +\n",
    "theme_bw() +\n",
    "scale_x_continuous(limits=c(0,0.15)) +\n",
    "scale_y_continuous(expand=c(0,0),limits=c(0,45)) +\n",
    "xlab('Predicted Risk') +\n",
    "labs(colour = 'Model') +\n",
    "scale_color_manual(values=c('#66C2A5','#FC8D62','#8DA0CB','#E78AC3'),\n",
    "                   labels=c(expression(ML4H[EN-COX]),'FRS','PCE','QRISK3')) +\n",
    "theme(legend.text.align = 0)\n",
    "\n",
    "g3 <- ggplot(data=densityplotdt3,aes(x=value,colour=variable)) + \n",
    "geom_density() +\n",
    "theme_bw() +\n",
    "scale_x_continuous(limits=c(0,0.15)) +\n",
    "scale_y_continuous(expand=c(0,0),limits=c(0,45)) +\n",
    "xlab('Predicted Risk') +\n",
    "labs(colour = 'Model') +\n",
    "scale_color_manual(values=c('#66C2A5','#A6D854','#FFD92F'),\n",
    "                   labels=c(expression(ML4H[EN-COX]),'SimpleCox51','XGBoost')) +\n",
    "theme(legend.text.align = 0)\n",
    "\n",
    "absriskplots <- g1 + g2 + g3 + plot_layout(ncol = 1)\n",
    "absriskplots\n",
    "\n",
    "# ggsave('/medpop/esp2/sagrawal/mi_mlprediction/2020.11.30_marcus/mlpaperplots/efigure8.pdf',\n",
    "#        absriskplots,width=12,height=10)"
   ]
  },
  {
   "cell_type": "code",
   "execution_count": null,
   "metadata": {},
   "outputs": [],
   "source": [
    "options(repr.plot.width=10,repr.plot.height=10)\n",
    "densityplotdt4 <- melt(dtfordensityplots,id.vars=c('eid'),measure.vars=c('ML4HEN-Cox','XgCox'))\n",
    "\n",
    "g4 <- ggplot(data=densityplotdt4,aes(x=value,colour=variable)) + \n",
    "geom_density() +\n",
    "scale_x_continuous(limits=c(0,0.25)) +\n",
    "theme_classic() +\n",
    "xlab('Predicted Risk') +\n",
    "labs(colour = 'Model') +\n",
    "scale_color_brewer(palette='Set1',labels=c(expression(ML4H[EN-COX]),'XGBoost')) +\n",
    "theme(text = element_text(size=16),\n",
    "      legend.position=c(0.8,0.4),\n",
    "     legend.title=element_blank(),\n",
    "     legend.text.align=0)\n",
    "\n",
    "options(repr.plot.width=12,repr.plot.height=12)\n",
    "efigure11 <- xgCoxFeatPlot / (aucfig2 | g4) + plot_layout(nrow=2,heights = c(2,2))\n",
    "\n",
    "efigure11\n",
    "\n",
    "# ggsave('/medpop/esp2/sagrawal/mi_mlprediction/2020.11.30_marcus/mlpaperplots/efigure11.pdf',\n",
    "#        efigure11,width=10,height=10)"
   ]
  },
  {
   "cell_type": "markdown",
   "metadata": {},
   "source": [
    "# Part 7: Making absolute risk plots for GPS, hip, waist"
   ]
  },
  {
   "cell_type": "code",
   "execution_count": null,
   "metadata": {},
   "outputs": [],
   "source": [
    "fullfeat_dev <- fread(\"coxnet__feature_matrix__development_0_0011765691116882482__30Nov_2020.txt\")\n",
    "fullfeat_ho <- fread(\"coxnet__feature_matrix__holdout_0_0011765691116882482__30Nov_2020.txt\")\n",
    "\n",
    "fullfeat_devUnscaled <- fread('coxnet__feature_matrix_nonzero_model_0_0011765691116882482__development_unscaled__30Nov_2020.txt')\n",
    "fullfeat_hoUnscaled <- fread('coxnet__feature_matrix_nonzero_model_0_0011765691116882482__holdout_unscaled__30Nov_2020.txt')"
   ]
  },
  {
   "cell_type": "code",
   "execution_count": null,
   "metadata": {},
   "outputs": [],
   "source": [
    "prsvec <- quantile(fullfeat_devUnscaled[['d_prsadjscore']],seq(0,1,0.01),na.rm = TRUE)\n",
    "prsperc <- seq(0,100,1)\n",
    "        \n",
    "prsmean <- mean(fullfeat_devUnscaled[['d_prsadjscore']],na.rm=TRUE)\n",
    "prssd <- sd(fullfeat_devUnscaled[['d_prsadjscore']],na.rm=TRUE)\n",
    "        \n",
    "prsvec1 <- (prsvec - prsmean)/prssd\n",
    "        \n",
    "agevec <- c(45,55,65)\n",
    "agevarmean <- mean(fullfeat_devUnscaled[['d_age']],na.rm=TRUE)\n",
    "agevarsd <- sd(fullfeat_devUnscaled[['d_age']],na.rm=TRUE)\n",
    "        \n",
    "prsvec2 <- rep(prsvec1,length(agevec))\n",
    "agevecrep <- rep(agevec,each=length(prsvec1))\n",
    "agevecrep_scaled <- (agevecrep - agevarmean)/agevarsd\n",
    "        \n",
    "plotdt <- data.table(prsvec2,\n",
    "                        agevecrep_scaled,\n",
    "                        rep(prsperc,length(agevec)),\n",
    "                        agevecrep)\n",
    "names(plotdt) <- c('d_prsadjscore','d_age','unscaledvar','age_unscaled')\n",
    "mutnamvec <- names(plotdt)[1:2]\n",
    "           \n",
    "modscaleddt <- fullfeat_dev[,-c('index')]\n",
    "modscaleddtmean <- modscaleddt[,lapply(.SD,mean)]\n",
    "modscaleddtmeanrep <- modscaleddtmean[rep(seq_len(nrow(modscaleddtmean)),nrow(plotdt))]\n",
    "        \n",
    "modscaleddtmeanrep[, (mutnamvec) := plotdt[, .SD, .SDcols=mutnamvec], \n",
    "                            .SDcols = mutnamvec]\n",
    "    \n",
    "if(!all.equal(coxnet_feature_list_annot_clean$field,names(modscaleddtmeanrep))){\n",
    "    stop('fields in coefdt and column names in scaleddt not in same order')\n",
    "}\n",
    "    \n",
    "modscaleddtmeanrep[, lp := as.matrix(modscaleddtmeanrep)%*%coxnet_feature_list_annot_clean$coef]\n",
    "modscaleddtmeanrep[, absrisk := (1 - 0.9876555687885301^exp(lp))]\n",
    "finaldt <- cbind(modscaleddtmeanrep,\n",
    "                            plotdt[,.SD,.SDcols=which(names(plotdt) %in% c('unscaledvar','age_unscaled'))])\n",
    "\n",
    "prsplot <- ggplot(finaldt,aes(x=unscaledvar,y=absrisk*100,\n",
    "                              color=factor(age_unscaled,levels=c(65,55,45)))) +\n",
    "    geom_point() +\n",
    "    scale_y_continuous(limits=c(0,6)) +\n",
    "    theme_classic() +\n",
    "    xlab(expression(Adjusted~GPS[CAD]~Percentile)) +\n",
    "    ylab('Predicted 10-year risk of CAD, %') +\n",
    "    labs(color = 'Age') +\n",
    "    scale_color_brewer(palette = 'Set1') +\n",
    "    theme(text = element_text(size=16),legend.position='none')"
   ]
  },
  {
   "cell_type": "code",
   "execution_count": null,
   "metadata": {},
   "outputs": [],
   "source": [
    "hipquant <- quantile(fullfeat_devUnscaled[['d_hip']],c(0.01,0.99),na.rm = TRUE)\n",
    "hipvec <- seq(hipquant[[1]],hipquant[[2]],length.out=100)\n",
    "        \n",
    "hipmean <- mean(fullfeat_devUnscaled[['d_hip']],na.rm=TRUE)\n",
    "hipsd <- sd(fullfeat_devUnscaled[['d_hip']],na.rm=TRUE)\n",
    "        \n",
    "hipvec1 <- (hipvec - hipmean)/hipsd\n",
    "        \n",
    "agevec <- c(45,55,65)\n",
    "agevarmean <- mean(fullfeat_devUnscaled[['d_age']],na.rm=TRUE)\n",
    "agevarsd <- sd(fullfeat_devUnscaled[['d_age']],na.rm=TRUE)\n",
    "        \n",
    "hipvec2 <- rep(hipvec1,length(agevec))\n",
    "agevecrep <- rep(agevec,each=length(hipvec1))\n",
    "agevecrep_scaled <- (agevecrep - agevarmean)/agevarsd\n",
    "        \n",
    "plotdt <- data.table(hipvec2,\n",
    "                        agevecrep_scaled,\n",
    "                        rep(hipvec,length(agevec)),\n",
    "                        agevecrep)\n",
    "names(plotdt) <- c('d_hip','d_age','unscaledvar','age_unscaled')\n",
    "mutnamvec <- names(plotdt)[1:2]\n",
    "           \n",
    "modscaleddt <- fullfeat_dev[,-c('index')]\n",
    "modscaleddtmean <- modscaleddt[,lapply(.SD,mean)]\n",
    "modscaleddtmeanrep <- modscaleddtmean[rep(seq_len(nrow(modscaleddtmean)),nrow(plotdt))]\n",
    "        \n",
    "modscaleddtmeanrep[, (mutnamvec) := plotdt[, .SD, .SDcols=mutnamvec], \n",
    "                            .SDcols = mutnamvec]\n",
    "    \n",
    "if(!all.equal(coxnet_feature_list_annot_clean$field,names(modscaleddtmeanrep))){\n",
    "    stop('fields in coefdt and column names in scaleddt not in same order')\n",
    "}\n",
    "    \n",
    "modscaleddtmeanrep[, lp := as.matrix(modscaleddtmeanrep)%*%coxnet_feature_list_annot_clean$coef]\n",
    "modscaleddtmeanrep[, absrisk := (1 - 0.9876555687885301^exp(lp))]\n",
    "finaldt <- cbind(modscaleddtmeanrep,\n",
    "                            plotdt[,.SD,.SDcols=which(names(plotdt) %in% c('unscaledvar','age_unscaled'))])\n",
    "\n",
    "hipplot <- ggplot(finaldt,aes(x=unscaledvar,y=absrisk*100,\n",
    "                              color=factor(age_unscaled,levels=c(65,55,45)))) +\n",
    "    geom_point() +\n",
    "    scale_y_continuous(limits=c(0,6)) +\n",
    "    theme_classic() +\n",
    "    xlab('Hip circumference (cm)') +\n",
    "    ylab('') +\n",
    "    labs(color = 'Age') +\n",
    "    scale_color_brewer(palette = 'Set1') +\n",
    "    theme(text = element_text(size=16),legend.position='none')"
   ]
  },
  {
   "cell_type": "code",
   "execution_count": null,
   "metadata": {},
   "outputs": [],
   "source": [
    "waistquant <- quantile(fullfeat_devUnscaled[['d_waist']],c(0.01,0.99),na.rm = TRUE)\n",
    "waistvec <- seq(waistquant[[1]],waistquant[[2]],length.out=100)\n",
    "        \n",
    "waistmean <- mean(fullfeat_devUnscaled[['d_waist']],na.rm=TRUE)\n",
    "waistsd <- sd(fullfeat_devUnscaled[['d_waist']],na.rm=TRUE)\n",
    "        \n",
    "waistvec1 <- (waistvec - waistmean)/waistsd\n",
    "        \n",
    "agevec <- c(45,55,65)\n",
    "agevarmean <- mean(fullfeat_devUnscaled[['d_age']],na.rm=TRUE)\n",
    "agevarsd <- sd(fullfeat_devUnscaled[['d_age']],na.rm=TRUE)\n",
    "        \n",
    "waistvec2 <- rep(waistvec1,length(agevec))\n",
    "agevecrep <- rep(agevec,each=length(waistvec1))\n",
    "agevecrep_scaled <- (agevecrep - agevarmean)/agevarsd\n",
    "        \n",
    "plotdt <- data.table(waistvec2,\n",
    "                        agevecrep_scaled,\n",
    "                        rep(waistvec,length(agevec)),\n",
    "                        agevecrep)\n",
    "names(plotdt) <- c('d_waist','d_age','unscaledvar','age_unscaled')\n",
    "mutnamvec <- names(plotdt)[1:2]\n",
    "           \n",
    "modscaleddt <- fullfeat_dev[,-c('index')]\n",
    "modscaleddtmean <- modscaleddt[,lapply(.SD,mean)]\n",
    "modscaleddtmeanrep <- modscaleddtmean[rep(seq_len(nrow(modscaleddtmean)),nrow(plotdt))]\n",
    "        \n",
    "modscaleddtmeanrep[, (mutnamvec) := plotdt[, .SD, .SDcols=mutnamvec], \n",
    "                            .SDcols = mutnamvec]\n",
    "    \n",
    "if(!all.equal(coxnet_feature_list_annot_clean$field,names(modscaleddtmeanrep))){\n",
    "    stop('fields in coefdt and column names in scaleddt not in same order')\n",
    "}\n",
    "    \n",
    "modscaleddtmeanrep[, lp := as.matrix(modscaleddtmeanrep)%*%coxnet_feature_list_annot_clean$coef]\n",
    "modscaleddtmeanrep[, absrisk := (1 - 0.9876555687885301^exp(lp))]\n",
    "finaldt <- cbind(modscaleddtmeanrep,\n",
    "                            plotdt[,.SD,.SDcols=which(names(plotdt) %in% c('unscaledvar','age_unscaled'))])\n",
    "\n",
    "waistplot <- ggplot(finaldt,aes(x=unscaledvar,y=absrisk*100,\n",
    "                              color=factor(age_unscaled,levels=c(65,55,45)))) +\n",
    "    geom_point() +\n",
    "    scale_y_continuous(limits=c(0,6)) +\n",
    "    theme_classic() +\n",
    "    xlab('Waist circumference (cm)') +\n",
    "    ylab('') +\n",
    "    labs(color = 'Age') +\n",
    "    scale_color_brewer(palette = 'Set1') +\n",
    "    theme(text = element_text(size=16),legend.position=c(0.7,0.8))"
   ]
  },
  {
   "cell_type": "code",
   "execution_count": null,
   "metadata": {},
   "outputs": [],
   "source": [
    "options(repr.plot.width=12,repr.plot.height=12)\n",
    "figure3 <- featplot / (prsplot | hipplot | waistplot) + plot_layout(nrow=2)\n",
    "figure3\n",
    "\n",
    "# ggsave('/medpop/esp2/sagrawal/mi_mlprediction/2020.11.30_marcus/mlpaperplots/figure3.pdf',\n",
    "#         figure3,width=12,height=12)"
   ]
  },
  {
   "cell_type": "markdown",
   "metadata": {},
   "source": [
    "# Revision sensitivity analysis: situation where GPSCAD is not known so the mean is assumed"
   ]
  },
  {
   "cell_type": "code",
   "execution_count": null,
   "metadata": {},
   "outputs": [],
   "source": [
    "# names(plotdt) <- c('d_waist','d_age','unscaledvar','age_unscaled')\n",
    "# mutnamvec <- names(plotdt)[1:2]\n",
    "           \n",
    "modscaleddt <- copy(fullfeat_ho)\n",
    "modscaleddt[,d_prsadjscore:=0]\n",
    "    \n",
    "modscaleddt[, lp := as.matrix(modscaleddt[,-c('index')])%*%coxnet_feature_list_annot_clean$coef]\n",
    "modscaleddt[, coxnetNoPrsRisk := (1 - 0.9876555687885301^exp(lp))]"
   ]
  },
  {
   "cell_type": "code",
   "execution_count": null,
   "metadata": {},
   "outputs": [],
   "source": [
    "masterdf_ho1_pred2 <- merge(masterdf_ho1_pred2,modscaleddt[,c('index','coxnetNoPrsRisk')],by.x='eid',by.y='index')"
   ]
  },
  {
   "cell_type": "code",
   "execution_count": null,
   "metadata": {},
   "outputs": [],
   "source": [
    "dim(masterdf_ho1_pred2)\n",
    "head(masterdf_ho1_pred2)"
   ]
  },
  {
   "cell_type": "code",
   "execution_count": null,
   "metadata": {},
   "outputs": [],
   "source": [
    "rocobj_coxnetNoPrs <- roc(masterdf_ho1_pred2$CAD_tenyearoutcome,masterdf_ho1_pred2$coxnetNoPrsRisk)\n",
    "rocobj_coxnetNoPrs"
   ]
  },
  {
   "cell_type": "code",
   "execution_count": null,
   "metadata": {},
   "outputs": [],
   "source": [
    "ci(rocobj_coxnetNoPrs,method='bootstrap',boot.n=1000,progress='text')"
   ]
  },
  {
   "cell_type": "code",
   "execution_count": null,
   "metadata": {},
   "outputs": [],
   "source": [
    "reclass(data=masterdf_ho1_pred2,\n",
    "                 cOutcome=\"CAD_tenyearoutcome\",\n",
    "                predrisk1=masterdf_ho1_pred2$framrisk_recal,\n",
    "                predrisk2=masterdf_ho1_pred2$coxnetNoPrsRisk,\n",
    "                cutoff=c(0,0.025,1))\n",
    "\n",
    "reclass(data=masterdf_ho1_pred2,\n",
    "                 cOutcome=\"CAD_tenyearoutcome\",\n",
    "                predrisk1=masterdf_ho1_pred2$tenyearASCVD_recal,\n",
    "                predrisk2=masterdf_ho1_pred2$coxnetNoPrsRisk,\n",
    "                cutoff=c(0,0.025,1))\n",
    "\n",
    "reclass(data=masterdf_ho1_pred2[!is.na(qrisk3_recal)],\n",
    "                 cOutcome=\"CAD_tenyearoutcome\",\n",
    "                predrisk1=masterdf_ho1_pred2[!is.na(qrisk3_recal)]$qrisk3_recal,\n",
    "                predrisk2=masterdf_ho1_pred2[!is.na(qrisk3_recal)]$coxnetNoPrsRisk,\n",
    "                cutoff=c(0,0.025,1))\n",
    "\n",
    "reclass(data=masterdf_ho1_pred2,\n",
    "                 cOutcome=\"CAD_tenyearoutcome\",\n",
    "                predrisk1=masterdf_ho1_pred2$framrisk_recal,\n",
    "                predrisk2=masterdf_ho1_pred2$coxnetNoPrsRisk,\n",
    "                cutoff=c(0,0.05,1))\n",
    "\n",
    "reclass(data=masterdf_ho1_pred2,\n",
    "                 cOutcome=\"CAD_tenyearoutcome\",\n",
    "                predrisk1=masterdf_ho1_pred2$tenyearASCVD_recal,\n",
    "                predrisk2=masterdf_ho1_pred2$coxnetNoPrsRisk,\n",
    "                cutoff=c(0,0.05,1))\n",
    "\n",
    "reclass(data=masterdf_ho1_pred2[!is.na(qrisk3_recal)],\n",
    "                 cOutcome=\"CAD_tenyearoutcome\",\n",
    "                predrisk1=masterdf_ho1_pred2[!is.na(qrisk3_recal)]$qrisk3_recal,\n",
    "                predrisk2=masterdf_ho1_pred2[!is.na(qrisk3_recal)]$coxnetNoPrsRisk,\n",
    "                cutoff=c(0,0.05,1))"
   ]
  },
  {
   "cell_type": "markdown",
   "metadata": {},
   "source": [
    "## Making gradient plots to put in Figure 4"
   ]
  },
  {
   "cell_type": "code",
   "execution_count": null,
   "metadata": {},
   "outputs": [],
   "source": [
    "names(masterdf_ho1_pred2)"
   ]
  },
  {
   "cell_type": "code",
   "execution_count": null,
   "metadata": {},
   "outputs": [],
   "source": [
    "masterdf_ho1_pred2[,coxnet51riskQuintiles := quantcut(coxnet51risk,5,labels=paste0('Q',1:5),ordered=TRUE)]\n",
    "masterdf_ho1_pred2[,coxnet51riskDeciles := quantcut(coxnet51risk,4,labels=paste0('Q',1:4),ordered=TRUE)]\n",
    "\n",
    "masterdf_ho1_pred2[,simpcox51riskQuintiles := quantcut(simpcox51risk,5,labels=paste0('Q',1:5),ordered=TRUE)]\n",
    "masterdf_ho1_pred2[,simpcox51riskDeciles := quantcut(simpcox51risk,4,labels=paste0('Q',1:4),ordered=TRUE)]\n",
    "\n",
    "masterdf_ho1_pred2[,framrisk_recalQuintiles := quantcut(framrisk_recal,5,labels=paste0('Q',1:5),ordered=TRUE)]\n",
    "masterdf_ho1_pred2[,framrisk_recalDeciles := quantcut(framrisk_recal,4,labels=paste0('Q',1:4),ordered=TRUE)]\n",
    "\n",
    "masterdf_ho1_pred2[,tenyearASCVD_recalQuintiles := quantcut(tenyearASCVD_recal,5,labels=paste0('Q',1:5),ordered=TRUE)]\n",
    "masterdf_ho1_pred2[,tenyearASCVD_recalDeciles := quantcut(tenyearASCVD_recal,4,labels=paste0('Q',1:4),ordered=TRUE)]\n",
    "\n",
    "masterdf_ho1_pred2[,qrisk3_recalQuintiles := quantcut(qrisk3_recal,5,labels=paste0('Q',1:5),ordered=TRUE)]\n",
    "masterdf_ho1_pred2[,qrisk3_recalDeciles := quantcut(qrisk3_recal,4,labels=paste0('Q',1:4),ordered=TRUE)]\n",
    "\n",
    "masterdf_ho1_pred2[,framriskQuintiles := quantcut(framrisk,5,labels=paste0('Q',1:5),ordered=TRUE)]\n",
    "masterdf_ho1_pred2[,framriskDeciles := quantcut(framrisk,4,labels=paste0('Q',1:4),ordered=TRUE)]\n",
    "\n",
    "masterdf_ho1_pred2[,tenyearASCVDQuintiles := quantcut(tenyearASCVD,5,labels=paste0('Q',1:5),ordered=TRUE)]\n",
    "masterdf_ho1_pred2[,tenyearASCVDDeciles := quantcut(tenyearASCVD,4,labels=paste0('Q',1:4),ordered=TRUE)]\n",
    "\n",
    "masterdf_ho1_pred2[,qrisk3Quintiles := quantcut(qrisk3,5,labels=paste0('Q',1:5),ordered=TRUE)]\n",
    "masterdf_ho1_pred2[,qrisk3Deciles := quantcut(qrisk3,4,labels=paste0('Q',1:4),ordered=TRUE)]"
   ]
  },
  {
   "cell_type": "code",
   "execution_count": null,
   "metadata": {},
   "outputs": [],
   "source": [
    "coxnet51riskQuintilesCalc <- \n",
    "masterdf_ho1_pred2[order(coxnet51riskQuintiles),\n",
    "                   lapply(.SD,mean),.SDcols='CAD_tenyearoutcome',\n",
    "                   by='coxnet51riskQuintiles']\n",
    "names(coxnet51riskQuintilesCalc) <- c('quant','coxnet51Q20')\n",
    "\n",
    "coxnet51riskDecilesCalc <- \n",
    "masterdf_ho1_pred2[order(coxnet51riskDeciles),\n",
    "                   lapply(.SD,mean),.SDcols='CAD_tenyearoutcome',\n",
    "                   by='coxnet51riskDeciles']\n",
    "names(coxnet51riskDecilesCalc) <- c('quant','coxnet51Q10')\n",
    "\n",
    "\n",
    "\n",
    "simpcox51riskQuintilesCalc <- \n",
    "masterdf_ho1_pred2[order(simpcox51riskQuintiles),\n",
    "                   lapply(.SD,mean),.SDcols='CAD_tenyearoutcome',\n",
    "                   by='simpcox51riskQuintiles']\n",
    "names(simpcox51riskQuintilesCalc) <- c('quant','simpcox51Q20')\n",
    "\n",
    "simpcox51riskDecilesCalc <- \n",
    "masterdf_ho1_pred2[order(simpcox51riskDeciles),\n",
    "                   lapply(.SD,mean),.SDcols='CAD_tenyearoutcome',\n",
    "                   by='simpcox51riskDeciles']\n",
    "names(simpcox51riskDecilesCalc) <- c('quant','simpcox51Q10')\n",
    "\n",
    "\n",
    "\n",
    "\n",
    "framrisk_recalQuintilesCalc <- \n",
    "masterdf_ho1_pred2[order(framrisk_recalQuintiles),\n",
    "                   lapply(.SD,mean),.SDcols='CAD_tenyearoutcome',\n",
    "                   by='framrisk_recalQuintiles']\n",
    "names(framrisk_recalQuintilesCalc) <- c('quant','framriskQ20')\n",
    "\n",
    "framrisk_recalDecilesCalc <- \n",
    "masterdf_ho1_pred2[order(framrisk_recalDeciles),\n",
    "                   lapply(.SD,mean),.SDcols='CAD_tenyearoutcome',\n",
    "                   by='framrisk_recalDeciles']\n",
    "names(framrisk_recalDecilesCalc) <- c('quant','framriskQ10')\n",
    "\n",
    "\n",
    "\n",
    "tenyearASCVD_recalQuintilesCalc <- \n",
    "masterdf_ho1_pred2[order(tenyearASCVD_recalQuintiles),\n",
    "                   lapply(.SD,mean),.SDcols='CAD_tenyearoutcome',\n",
    "                   by='tenyearASCVD_recalQuintiles']\n",
    "names(tenyearASCVD_recalQuintilesCalc) <- c('quant','PCEQ20')\n",
    "\n",
    "tenyearASCVD_recalDecilesCalc <- \n",
    "masterdf_ho1_pred2[order(tenyearASCVD_recalDeciles),\n",
    "                   lapply(.SD,mean),.SDcols='CAD_tenyearoutcome',\n",
    "                   by='tenyearASCVD_recalDeciles']\n",
    "names(tenyearASCVD_recalDecilesCalc) <- c('quant','PCEQ10')\n",
    "\n",
    "\n",
    "\n",
    "qrisk3_recalQuintilesCalc <- \n",
    "masterdf_ho1_pred2[order(qrisk3_recalQuintiles),\n",
    "                   lapply(.SD,mean),.SDcols='CAD_tenyearoutcome',\n",
    "                   by='qrisk3_recalQuintiles']\n",
    "names(qrisk3_recalQuintilesCalc) <- c('quant','qrisk3Q20')\n",
    "qrisk3_recalQuintilesCalc <- qrisk3_recalQuintilesCalc[!is.na(quant)]\n",
    "\n",
    "qrisk3_recalDecilesCalc <- \n",
    "masterdf_ho1_pred2[order(qrisk3_recalDeciles),\n",
    "                   lapply(.SD,mean),.SDcols='CAD_tenyearoutcome',\n",
    "                   by='qrisk3_recalDeciles']\n",
    "names(qrisk3_recalDecilesCalc) <- c('quant','qrisk3Q10')\n",
    "qrisk3_recalDecilesCalc <- qrisk3_recalDecilesCalc[!is.na(quant)]\n",
    "\n",
    "\n",
    "framriskQuintilesCalc <- \n",
    "masterdf_ho1_pred2[order(framriskQuintiles),\n",
    "                   lapply(.SD,mean),.SDcols='CAD_tenyearoutcome',\n",
    "                   by='framriskQuintiles']\n",
    "names(framriskQuintilesCalc) <- c('quant','framriskRawQ20')\n",
    "\n",
    "framriskDecilesCalc <- \n",
    "masterdf_ho1_pred2[order(framriskDeciles),\n",
    "                   lapply(.SD,mean),.SDcols='CAD_tenyearoutcome',\n",
    "                   by='framriskDeciles']\n",
    "names(framriskDecilesCalc) <- c('quant','framriskRawQ10')\n",
    "\n",
    "\n",
    "\n",
    "tenyearASCVDQuintilesCalc <- \n",
    "masterdf_ho1_pred2[order(tenyearASCVDQuintiles),\n",
    "                   lapply(.SD,mean),.SDcols='CAD_tenyearoutcome',\n",
    "                   by='tenyearASCVDQuintiles']\n",
    "names(tenyearASCVDQuintilesCalc) <- c('quant','PCERawQ20')\n",
    "\n",
    "tenyearASCVDDecilesCalc <- \n",
    "masterdf_ho1_pred2[order(tenyearASCVDDeciles),\n",
    "                   lapply(.SD,mean),.SDcols='CAD_tenyearoutcome',\n",
    "                   by='tenyearASCVDDeciles']\n",
    "names(tenyearASCVDDecilesCalc) <- c('quant','PCERawQ10')\n",
    "\n",
    "\n",
    "\n",
    "qrisk3QuintilesCalc <- \n",
    "masterdf_ho1_pred2[order(qrisk3Quintiles),\n",
    "                   lapply(.SD,mean),.SDcols='CAD_tenyearoutcome',\n",
    "                   by='qrisk3Quintiles']\n",
    "names(qrisk3QuintilesCalc) <- c('quant','qrisk3RawQ20')\n",
    "qrisk3QuintilesCalc <- qrisk3QuintilesCalc[!is.na(quant)]\n",
    "\n",
    "qrisk3DecilesCalc <- \n",
    "masterdf_ho1_pred2[order(qrisk3Deciles),\n",
    "                   lapply(.SD,mean),.SDcols='CAD_tenyearoutcome',\n",
    "                   by='qrisk3Deciles']\n",
    "names(qrisk3DecilesCalc) <- c('quant','qrisk3RawQ10')\n",
    "qrisk3DecilesCalc <- qrisk3DecilesCalc[!is.na(quant)]"
   ]
  },
  {
   "cell_type": "code",
   "execution_count": null,
   "metadata": {},
   "outputs": [],
   "source": [
    "Quintilesdt <- merge(coxnet51riskQuintilesCalc,simpcox51riskQuintilesCalc,by='quant')\n",
    "Quintilesdt <- merge(Quintilesdt,framrisk_recalQuintilesCalc,by='quant')\n",
    "Quintilesdt <- merge(Quintilesdt,tenyearASCVD_recalQuintilesCalc,by='quant')\n",
    "Quintilesdt <- merge(Quintilesdt,qrisk3_recalQuintilesCalc,by='quant')\n",
    "Quintilesdt <- merge(Quintilesdt,framriskQuintilesCalc,by='quant')\n",
    "Quintilesdt <- merge(Quintilesdt,tenyearASCVDQuintilesCalc,by='quant')\n",
    "Quintilesdt <- merge(Quintilesdt,qrisk3QuintilesCalc,by='quant')"
   ]
  },
  {
   "cell_type": "code",
   "execution_count": null,
   "metadata": {},
   "outputs": [],
   "source": [
    "Quintilesdtmelted <- melt(Quintilesdt,id.vars=c('quant'),\n",
    "                        measure.vars=c('coxnet51Q20','simpcox51Q20',\n",
    "                                      'framriskQ20','PCEQ20','qrisk3Q20',\n",
    "                                      'framriskRawQ20','PCERawQ20','qrisk3RawQ20'))"
   ]
  },
  {
   "cell_type": "code",
   "execution_count": null,
   "metadata": {},
   "outputs": [],
   "source": [
    "Quintilesdtmelted$variable <- factor(Quintilesdtmelted$variable,\n",
    "                                  levels=c('coxnet51Q20','simpcox51Q20',\n",
    "                                      'framriskQ20','PCEQ20','qrisk3Q20',\n",
    "                                          'framriskRawQ20','PCERawQ20','qrisk3RawQ20'),\n",
    "                                  ordered=TRUE,labels=c('ML4HEN-Cox','SimpleCox51',\n",
    "                                                       'FRS(recal)','PCE(recal)',\n",
    "                                                       'QRISK(recal)','FRS(raw)',\n",
    "                                                       'PCE(raw)','QRISK(raw)'))"
   ]
  },
  {
   "cell_type": "code",
   "execution_count": null,
   "metadata": {},
   "outputs": [],
   "source": [
    "QuintilesdtmeltedFig4 <- melt(Quintilesdt,id.vars=c('quant'),\n",
    "                        measure.vars=c('coxnet51Q20',\n",
    "                                      'framriskQ20','PCEQ20','qrisk3Q20'))\n",
    "\n",
    "QuintilesdtmeltedFig4$variable <- factor(QuintilesdtmeltedFig4$variable,\n",
    "                                  levels=c('coxnet51Q20',\n",
    "                                      'framriskQ20','PCEQ20','qrisk3Q20'),\n",
    "                                  ordered=TRUE,labels=c('ML4HEN-Cox',\n",
    "                                                       'FRS','PCE',\n",
    "                                                       'QRISK3'))"
   ]
  },
  {
   "cell_type": "code",
   "execution_count": null,
   "metadata": {},
   "outputs": [],
   "source": [
    "options(repr.plot.width=8,repr.plot.height=8)\n",
    "QuintilesgradFig4 <- ggplot(QuintilesdtmeltedFig4,aes(x=quant,y=value*100,\n",
    "                              fill=variable)) +\n",
    "    geom_bar(stat='identity',width=0.8,position='dodge') +\n",
    "    scale_y_continuous(limits=c(0,10.5),expand=c(0,0)) +\n",
    "    theme_classic() +\n",
    "    xlab('Quintiles of Predicted Risk') +\n",
    "    ylab('Observed 10-year risk of CAD, %') +\n",
    "    labs(fill = 'Model') +\n",
    "    scale_fill_brewer(palette = 'Set2',labels=c(expression(ML4H[EN-COX]),'FRS','PCE','QRISK3')) +\n",
    "    theme(axis.title.y = element_text(size=18),\n",
    "          axis.text.y = element_text(size=16,color='black'),\n",
    "          axis.ticks.y = element_blank(),\n",
    "          axis.title.x = element_text(size=18),\n",
    "          axis.text.x = element_text(size=16,color='black'),\n",
    "          axis.ticks.x = element_blank(),\n",
    "          legend.position=c(0.2,0.8),\n",
    "          legend.text.align=0,\n",
    "         legend.key.size=unit(1,'cm'),\n",
    "         legend.title = element_text(size=16),\n",
    "         legend.text = element_text(size=16))\n",
    "\n",
    "QuintilesgradFig4\n",
    "\n",
    "# ggsave('/medpop/esp2/sagrawal/mi_mlprediction/2020.11.30_marcus/mlpaperplots/figure4_gradient.pdf',\n",
    "#         QuintilesgradFig4,width=8,height=8)"
   ]
  }
 ],
 "metadata": {
  "kernelspec": {
   "display_name": "R",
   "language": "R",
   "name": "ir"
  },
  "language_info": {
   "codemirror_mode": "r",
   "file_extension": ".r",
   "mimetype": "text/x-r-source",
   "name": "R",
   "pygments_lexer": "r",
   "version": "3.6.0"
  }
 },
 "nbformat": 4,
 "nbformat_minor": 4
}
