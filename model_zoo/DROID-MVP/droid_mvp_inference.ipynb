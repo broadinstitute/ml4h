{
 "cells": [
  {
   "cell_type": "code",
   "execution_count": 1,
   "metadata": {},
   "outputs": [],
   "source": [
    "import numpy as np\n",
    "import tensorflow as tf\n",
    "from droid_mvp_model_description import create_movinet_classifier, create_regressor_classifier\n",
    "import logging \n",
    "tf.get_logger().setLevel(logging.ERROR)\n",
    "\n",
    "pretrained_chkp_dir = \"/work/data/alalusim/echo_mvp/mvp_trained_models/202407111151_PLAX_A4C_A3C_A2C_mvp_label_1_1_MV_Prolapse_16frames_all/model/chkp\"\n",
    "movinet_chkp_dir = '/work/data/movinet_a2_base/'"
   ]
  },
  {
   "cell_type": "code",
   "execution_count": 2,
   "metadata": {},
   "outputs": [],
   "source": [
    "movinet_model, backbone = create_movinet_classifier(\n",
    "    n_input_frames=16,\n",
    "    batch_size=16,\n",
    "    num_classes=600,\n",
    "    checkpoint_dir=movinet_chkp_dir,\n",
    ")\n",
    "\n",
    "backbone_output = backbone.layers[-1].output[0]\n",
    "flatten = tf.keras.layers.Flatten()(backbone_output)\n",
    "encoder = tf.keras.Model(inputs=[backbone.input], outputs=[flatten])\n",
    "\n",
    "func_args = {\n",
    "    'input_shape': (16, 224, 224, 3),\n",
    "    'n_output_features': 0, # number of regression features\n",
    "    'categories': {\"mvp_status_binary\":2, \"mvp_status_detailed\":6},\n",
    "    'category_order': [\"mvp_status_binary\", \"mvp_status_detailed\"],\n",
    "}\n",
    "\n",
    "model_plus_head = create_regressor_classifier(encoder, **func_args)"
   ]
  },
  {
   "cell_type": "code",
   "execution_count": 3,
   "metadata": {},
   "outputs": [
    {
     "data": {
      "text/plain": [
       "<tensorflow.python.training.tracking.util.CheckpointLoadStatus at 0x7fa8785a7908>"
      ]
     },
     "execution_count": 3,
     "metadata": {},
     "output_type": "execute_result"
    }
   ],
   "source": [
    "model_plus_head.load_weights(pretrained_chkp_dir)"
   ]
  },
  {
   "cell_type": "code",
   "execution_count": 4,
   "metadata": {},
   "outputs": [
    {
     "data": {
      "text/plain": [
       "[<tf.Tensor: shape=(1, 2), dtype=float32, numpy=array([[1., 0.]], dtype=float32)>,\n",
       " <tf.Tensor: shape=(1, 6), dtype=float32, numpy=array([[0., 0., 0., 0., 0., 1.]], dtype=float32)>]"
      ]
     },
     "execution_count": 4,
     "metadata": {},
     "output_type": "execute_result"
    }
   ],
   "source": [
    "random_video = np.random.random((1, 16, 224, 224, 3))\n",
    "model_plus_head(random_video)"
   ]
  },
  {
   "cell_type": "code",
   "execution_count": null,
   "metadata": {},
   "outputs": [],
   "source": []
  }
 ],
 "metadata": {
  "kernelspec": {
   "display_name": "Python 3",
   "language": "python",
   "name": "python3"
  },
  "language_info": {
   "codemirror_mode": {
    "name": "ipython",
    "version": 3
   },
   "file_extension": ".py",
   "mimetype": "text/x-python",
   "name": "python",
   "nbconvert_exporter": "python",
   "pygments_lexer": "ipython3",
   "version": "3.6.9"
  }
 },
 "nbformat": 4,
 "nbformat_minor": 4
}
