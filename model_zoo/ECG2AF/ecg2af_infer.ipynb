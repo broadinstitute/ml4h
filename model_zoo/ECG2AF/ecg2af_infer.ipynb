{
 "cells": [
  {
   "cell_type": "code",
   "execution_count": 7,
   "id": "987044ef-389c-4d67-aed1-ae420a92f35f",
   "metadata": {},
   "outputs": [],
   "source": [
    "import numpy as np\n",
    "from collections import defaultdict\n",
    "from tensorflow.keras.models import load_model\n",
    "\n",
    "from ml4h.models.model_factory import get_custom_objects\n",
    "from ml4h.tensormap.ukb.ecg import ecg_rest_mgb\n",
    "from ml4h.tensormap.ukb.survival import mgb_afib_wrt_instance2\n",
    "from ml4h.tensormap.ukb.demographics import age_2_wide, af_dummy, sex_dummy3"
   ]
  },
  {
   "cell_type": "code",
   "execution_count": 25,
   "id": "c9df38ff-fc32-493d-be19-b382569f9f29",
   "metadata": {},
   "outputs": [],
   "source": [
    "output_tensormaps = {tm.output_name(): tm for tm in [mgb_afib_wrt_instance2, age_2_wide, af_dummy, sex_dummy3]}\n",
    "custom_dict = get_custom_objects([mgb_afib_wrt_instance2, age_2_wide, af_dummy, sex_dummy3])\n",
    "model = load_model('./ecg_5000_survival_curve_af_quadruple_task_mgh_v2021_05_21.h5', custom_objects=custom_dict)"
   ]
  },
  {
   "cell_type": "code",
   "execution_count": 35,
   "id": "abbbac4b-5b97-4e6d-a5ab-0f39df9e41b1",
   "metadata": {},
   "outputs": [],
   "source": [
    "ecg = np.random.random((1, 5000, 12))\n",
    "prediction = model(ecg)"
   ]
  },
  {
   "cell_type": "code",
   "execution_count": 36,
   "id": "1998e754-4f5f-4bb3-b611-ce06ad8fee36",
   "metadata": {},
   "outputs": [
    {
     "name": "stdout",
     "output_type": "stream",
     "text": [
      "Predicted survival 0.3415265679359436\n",
      "sex_from_wide prediction is [[0.92005503 0.07994502]]\n",
      "age_from_wide_csv prediction is [[-0.1849324]]\n",
      "af_in_read prediction is [[0.9397894 0.0602106]]\n"
     ]
    }
   ],
   "source": [
    "for name, pred in zip(model.output_names, prediction):\n",
    "    otm = output_tensormaps[name]\n",
    "\n",
    "    if otm.is_survival_curve():\n",
    "        intervals = otm.shape[-1] // 2\n",
    "        days_per_bin = 1 + otm.days_window // intervals\n",
    "        predicted_survivals = np.cumprod(pred[:, :intervals], axis=1)\n",
    "        print(f'Predicted survival {str(1 - predicted_survivals[0, -1])}')\n",
    "    else:\n",
    "        print(f'{otm.name} prediction is {pred}')\n",
    "        "
   ]
  },
  {
   "cell_type": "code",
   "execution_count": 37,
   "id": "48b3e9d0-a386-4c79-bab3-3a7f1bd32558",
   "metadata": {},
   "outputs": [
    {
     "name": "stdout",
     "output_type": "stream",
     "text": [
      "Lead I inference:\n",
      "Predicted survival 0.1239469051361084\n",
      "sex_from_wide prediction is [[0.92011654 0.0798834 ]]\n",
      "age_from_wide_csv prediction is [[0.2401576]]\n",
      "af_in_read prediction is [[0.9965096  0.00349043]]\n"
     ]
    }
   ],
   "source": [
    "lead_I_model = load_model('./strip_I_survival_curve_af_v2021_06_15.h5', custom_objects=custom_dict)\n",
    "ecg = np.random.random((1, 5000, 1))\n",
    "prediction = lead_I_model(ecg)\n",
    "print('Lead I inference:')\n",
    "for name, pred in zip(model.output_names, prediction):\n",
    "    otm = output_tensormaps[name]\n",
    "\n",
    "    if otm.is_survival_curve():\n",
    "        intervals = otm.shape[-1] // 2\n",
    "        days_per_bin = 1 + otm.days_window // intervals\n",
    "        predicted_survivals = np.cumprod(pred[:, :intervals], axis=1)\n",
    "        print(f'Predicted survival {str(1 - predicted_survivals[0, -1])}')\n",
    "    else:\n",
    "        print(f'{otm.name} prediction is {pred}')"
   ]
  }
 ],
 "metadata": {
  "kernelspec": {
   "display_name": "Python 3 (ipykernel)",
   "language": "python",
   "name": "python3"
  },
  "language_info": {
   "codemirror_mode": {
    "name": "ipython",
    "version": 3
   },
   "file_extension": ".py",
   "mimetype": "text/x-python",
   "name": "python",
   "nbconvert_exporter": "python",
   "pygments_lexer": "ipython3",
   "version": "3.8.10"
  }
 },
 "nbformat": 4,
 "nbformat_minor": 5
}
