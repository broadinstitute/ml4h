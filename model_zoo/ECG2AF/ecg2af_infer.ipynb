{
 "cells": [
  {
   "cell_type": "code",
   "execution_count": null,
   "id": "987044ef-389c-4d67-aed1-ae420a92f35f",
   "metadata": {},
   "outputs": [],
   "source": [
    "import numpy as np\n",
    "from tensorflow.keras.models import load_model\n",
    "from ml4h.models.model_factory import get_custom_objects\n",
    "from ml4h.tensormap.ukb.demographics import age_in_days, af_dummy2, sex_dummy1\n",
    "from ml4h.tensormap.ukb.survival import mgb_afib_wrt_instance2, mgb_death_wrt_instance2"
   ]
  },
  {
   "cell_type": "code",
   "execution_count": null,
   "id": "abbbac4b-5b97-4e6d-a5ab-0f39df9e41b1",
   "metadata": {},
   "outputs": [],
   "source": [
    "output_tensormaps = {tm.output_name(): tm for tm in [mgb_afib_wrt_instance2, mgb_death_wrt_instance2, age_in_days, af_dummy2, sex_dummy1]}\n",
    "model = load_model('./ecg2af_quintuplet_v2024_01_13.keras')\n",
    "ecg = np.random.random((1, 5000, 12))\n",
    "prediction = model(ecg)"
   ]
  },
  {
   "cell_type": "code",
   "execution_count": null,
   "id": "1998e754-4f5f-4bb3-b611-ce06ad8fee36",
   "metadata": {},
   "outputs": [],
   "source": [
    "for name, pred in zip(model.output_names, prediction):\n",
    "    otm = output_tensormaps[name]\n",
    "    if otm.is_survival_curve():\n",
    "        intervals = otm.shape[-1] // 2\n",
    "        days_per_bin = 1 + otm.days_window // intervals\n",
    "        predicted_survivals = np.cumprod(pred[:, :intervals], axis=1)\n",
    "        print(f'AF Risk {otm} prediction is: {str(1 - predicted_survivals[0, -1])}')\n",
    "    else:\n",
    "        print(f'{otm} prediction is {pred}')\n",
    "        "
   ]
  }
 ],
 "metadata": {
  "kernelspec": {
   "display_name": "Python 3 (ipykernel)",
   "language": "python",
   "name": "python3"
  },
  "language_info": {
   "codemirror_mode": {
    "name": "ipython",
    "version": 3
   },
   "file_extension": ".py",
   "mimetype": "text/x-python",
   "name": "python",
   "nbconvert_exporter": "python",
   "pygments_lexer": "ipython3",
   "version": "3.11.12"
  }
 },
 "nbformat": 4,
 "nbformat_minor": 5
}
